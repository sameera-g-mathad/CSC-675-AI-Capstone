{
 "cells": [
  {
   "cell_type": "code",
   "execution_count": null,
   "id": "57f70069",
   "metadata": {},
   "outputs": [
    {
     "name": "stderr",
     "output_type": "stream",
     "text": [
      "/Library/Frameworks/Python.framework/Versions/3.12/lib/python3.12/site-packages/tqdm/auto.py:21: TqdmWarning: IProgress not found. Please update jupyter and ipywidgets. See https://ipywidgets.readthedocs.io/en/stable/user_install.html\n",
      "  from .autonotebook import tqdm as notebook_tqdm\n"
     ]
    }
   ],
   "source": [
    "import pandas as pd\n",
    "from llm.processing import InstructionStyle, InstructionLoader, Tokenizer, Model\n",
    "from llm.gpt2_model import GPT2\n",
    "import torch\n",
    "import numpy as np"
   ]
  },
  {
   "cell_type": "code",
   "execution_count": 2,
   "id": "53a6585f",
   "metadata": {},
   "outputs": [],
   "source": [
    "chat_df = pd.read_json(\"hf://datasets/ogrnz/chat-titles/dataset.jsonl\", lines=True)"
   ]
  },
  {
   "cell_type": "code",
   "execution_count": 3,
   "id": "c45ca732",
   "metadata": {},
   "outputs": [
    {
     "data": {
      "text/html": [
       "<div>\n",
       "<style scoped>\n",
       "    .dataframe tbody tr th:only-of-type {\n",
       "        vertical-align: middle;\n",
       "    }\n",
       "\n",
       "    .dataframe tbody tr th {\n",
       "        vertical-align: top;\n",
       "    }\n",
       "\n",
       "    .dataframe thead th {\n",
       "        text-align: right;\n",
       "    }\n",
       "</style>\n",
       "<table border=\"1\" class=\"dataframe\">\n",
       "  <thead>\n",
       "    <tr style=\"text-align: right;\">\n",
       "      <th></th>\n",
       "      <th>message</th>\n",
       "      <th>title</th>\n",
       "    </tr>\n",
       "  </thead>\n",
       "  <tbody>\n",
       "    <tr>\n",
       "      <th>0</th>\n",
       "      <td>Develop a method for clustering astronomical d...</td>\n",
       "      <td>Astronomical Data Clustering Method</td>\n",
       "    </tr>\n",
       "    <tr>\n",
       "      <th>1</th>\n",
       "      <td>What is the role of dopamine in the brain as a...</td>\n",
       "      <td>Dopamine as a Neurotransmitter</td>\n",
       "    </tr>\n",
       "    <tr>\n",
       "      <th>2</th>\n",
       "      <td>Replace the \\\"XXX\\\" in the following sentence ...</td>\n",
       "      <td>Company Sustainability Objective</td>\n",
       "    </tr>\n",
       "    <tr>\n",
       "      <th>3</th>\n",
       "      <td>Identify the sentence type (declarative, inter...</td>\n",
       "      <td>Sentence Type Identification</td>\n",
       "    </tr>\n",
       "    <tr>\n",
       "      <th>4</th>\n",
       "      <td>Suggest a book title for a fantasy novel about...</td>\n",
       "      <td>Outlaws in Enchanted Realms</td>\n",
       "    </tr>\n",
       "    <tr>\n",
       "      <th>...</th>\n",
       "      <td>...</td>\n",
       "      <td>...</td>\n",
       "    </tr>\n",
       "    <tr>\n",
       "      <th>9995</th>\n",
       "      <td>From the given passage, identify the main idea...</td>\n",
       "      <td>Exploring the Night Sky</td>\n",
       "    </tr>\n",
       "    <tr>\n",
       "      <th>9996</th>\n",
       "      <td>Analyze an effect that the text could have on ...</td>\n",
       "      <td>Impact on Audience Analysis</td>\n",
       "    </tr>\n",
       "    <tr>\n",
       "      <th>9997</th>\n",
       "      <td>What is the average number of hours of sleep a...</td>\n",
       "      <td>Recommended Sleep Duration</td>\n",
       "    </tr>\n",
       "    <tr>\n",
       "      <th>9998</th>\n",
       "      <td>Classify the following statement as either a D...</td>\n",
       "      <td>Statement Classification Query</td>\n",
       "    </tr>\n",
       "    <tr>\n",
       "      <th>9999</th>\n",
       "      <td>Rewrite the following paragraph in the active ...</td>\n",
       "      <td>Rephrasing Passive Voice Statement</td>\n",
       "    </tr>\n",
       "  </tbody>\n",
       "</table>\n",
       "<p>10000 rows × 2 columns</p>\n",
       "</div>"
      ],
      "text/plain": [
       "                                                message  \\\n",
       "0     Develop a method for clustering astronomical d...   \n",
       "1     What is the role of dopamine in the brain as a...   \n",
       "2     Replace the \\\"XXX\\\" in the following sentence ...   \n",
       "3     Identify the sentence type (declarative, inter...   \n",
       "4     Suggest a book title for a fantasy novel about...   \n",
       "...                                                 ...   \n",
       "9995  From the given passage, identify the main idea...   \n",
       "9996  Analyze an effect that the text could have on ...   \n",
       "9997  What is the average number of hours of sleep a...   \n",
       "9998  Classify the following statement as either a D...   \n",
       "9999  Rewrite the following paragraph in the active ...   \n",
       "\n",
       "                                    title  \n",
       "0     Astronomical Data Clustering Method  \n",
       "1          Dopamine as a Neurotransmitter  \n",
       "2        Company Sustainability Objective  \n",
       "3            Sentence Type Identification  \n",
       "4             Outlaws in Enchanted Realms  \n",
       "...                                   ...  \n",
       "9995              Exploring the Night Sky  \n",
       "9996          Impact on Audience Analysis  \n",
       "9997           Recommended Sleep Duration  \n",
       "9998       Statement Classification Query  \n",
       "9999   Rephrasing Passive Voice Statement  \n",
       "\n",
       "[10000 rows x 2 columns]"
      ]
     },
     "execution_count": 3,
     "metadata": {},
     "output_type": "execute_result"
    }
   ],
   "source": [
    "chat_df"
   ]
  },
  {
   "cell_type": "code",
   "execution_count": 4,
   "id": "1ee53404",
   "metadata": {},
   "outputs": [],
   "source": [
    "train_df = chat_df.iloc[:9500, :]\n",
    "test_df = chat_df.iloc[9500:, :]"
   ]
  },
  {
   "cell_type": "code",
   "execution_count": 5,
   "id": "849de42c",
   "metadata": {},
   "outputs": [],
   "source": [
    "instruct_train = InstructionStyle(train_df, 'message', 'title')"
   ]
  },
  {
   "cell_type": "code",
   "execution_count": 6,
   "id": "835ca931",
   "metadata": {},
   "outputs": [],
   "source": [
    "df = instruct_train.convert('phi3', input_query='<input>\\n', response_query='<response>\\n')"
   ]
  },
  {
   "cell_type": "code",
   "execution_count": 7,
   "id": "451a3930",
   "metadata": {},
   "outputs": [
    {
     "name": "stdout",
     "output_type": "stream",
     "text": [
      "<input>\n",
      "Develop a method for clustering astronomical data.\n",
      "<response>\n",
      "Astronomical Data Clustering Method\n"
     ]
    }
   ],
   "source": [
    "print(df.iloc[0, :].values[0])"
   ]
  },
  {
   "cell_type": "code",
   "execution_count": 25,
   "id": "69293e3e",
   "metadata": {},
   "outputs": [
    {
     "data": {
      "text/html": [
       "<div>\n",
       "<style scoped>\n",
       "    .dataframe tbody tr th:only-of-type {\n",
       "        vertical-align: middle;\n",
       "    }\n",
       "\n",
       "    .dataframe tbody tr th {\n",
       "        vertical-align: top;\n",
       "    }\n",
       "\n",
       "    .dataframe thead th {\n",
       "        text-align: right;\n",
       "    }\n",
       "</style>\n",
       "<table border=\"1\" class=\"dataframe\">\n",
       "  <thead>\n",
       "    <tr style=\"text-align: right;\">\n",
       "      <th></th>\n",
       "      <th>instruct_data</th>\n",
       "    </tr>\n",
       "  </thead>\n",
       "  <tbody>\n",
       "    <tr>\n",
       "      <th>0</th>\n",
       "      <td>&lt;input&gt;\\nDevelop a method for clustering astro...</td>\n",
       "    </tr>\n",
       "    <tr>\n",
       "      <th>1</th>\n",
       "      <td>&lt;input&gt;\\nWhat is the role of dopamine in the b...</td>\n",
       "    </tr>\n",
       "    <tr>\n",
       "      <th>2</th>\n",
       "      <td>&lt;input&gt;\\nReplace the \\\"XXX\\\" in the following ...</td>\n",
       "    </tr>\n",
       "    <tr>\n",
       "      <th>3</th>\n",
       "      <td>&lt;input&gt;\\nIdentify the sentence type (declarati...</td>\n",
       "    </tr>\n",
       "    <tr>\n",
       "      <th>4</th>\n",
       "      <td>&lt;input&gt;\\nSuggest a book title for a fantasy no...</td>\n",
       "    </tr>\n",
       "    <tr>\n",
       "      <th>5</th>\n",
       "      <td>&lt;input&gt;\\nName three endangered animal species....</td>\n",
       "    </tr>\n",
       "    <tr>\n",
       "      <th>6</th>\n",
       "      <td>&lt;input&gt;\\nCompose an email to the marketing tea...</td>\n",
       "    </tr>\n",
       "    <tr>\n",
       "      <th>7</th>\n",
       "      <td>&lt;input&gt;\\nGiven a list of words, group them int...</td>\n",
       "    </tr>\n",
       "    <tr>\n",
       "      <th>8</th>\n",
       "      <td>&lt;input&gt;\\nExplain the pros and cons of using a ...</td>\n",
       "    </tr>\n",
       "    <tr>\n",
       "      <th>9</th>\n",
       "      <td>&lt;input&gt;\\nHow does the positioning of body part...</td>\n",
       "    </tr>\n",
       "  </tbody>\n",
       "</table>\n",
       "</div>"
      ],
      "text/plain": [
       "                                       instruct_data\n",
       "0  <input>\\nDevelop a method for clustering astro...\n",
       "1  <input>\\nWhat is the role of dopamine in the b...\n",
       "2  <input>\\nReplace the \\\"XXX\\\" in the following ...\n",
       "3  <input>\\nIdentify the sentence type (declarati...\n",
       "4  <input>\\nSuggest a book title for a fantasy no...\n",
       "5  <input>\\nName three endangered animal species....\n",
       "6  <input>\\nCompose an email to the marketing tea...\n",
       "7  <input>\\nGiven a list of words, group them int...\n",
       "8  <input>\\nExplain the pros and cons of using a ...\n",
       "9  <input>\\nHow does the positioning of body part..."
      ]
     },
     "execution_count": 25,
     "metadata": {},
     "output_type": "execute_result"
    }
   ],
   "source": [
    "df.head(10)"
   ]
  },
  {
   "cell_type": "code",
   "execution_count": 9,
   "id": "8501adf3",
   "metadata": {},
   "outputs": [],
   "source": [
    "tokenizer = Tokenizer()"
   ]
  },
  {
   "cell_type": "code",
   "execution_count": 10,
   "id": "4ee378de",
   "metadata": {},
   "outputs": [],
   "source": [
    "instruct_loader = InstructionLoader(df, tokenizer)"
   ]
  },
  {
   "cell_type": "code",
   "execution_count": 11,
   "id": "7f79fdb9",
   "metadata": {},
   "outputs": [],
   "source": [
    "train, val = instruct_loader.load(0.1, 8)"
   ]
  },
  {
   "cell_type": "code",
   "execution_count": 12,
   "id": "5f8adf6d",
   "metadata": {},
   "outputs": [],
   "source": [
    "data_iter = iter(train)"
   ]
  },
  {
   "cell_type": "code",
   "execution_count": 13,
   "id": "6f4535bf",
   "metadata": {},
   "outputs": [],
   "source": [
    "first_batch = next(data_iter)\n"
   ]
  },
  {
   "cell_type": "code",
   "execution_count": 14,
   "id": "c7686546",
   "metadata": {},
   "outputs": [
    {
     "data": {
      "text/plain": [
       "array([   27, 15414,    29,   198, 14832,   428,  7072,   290,  1577,\n",
       "         257,  7955,   503,   286,   642,  5788,    25,   314,  8672,\n",
       "        1717,  9892,   338, 49967,   702, 34814,   938,  1755,   290,\n",
       "         550,   257,  9623,  9799,    13,   198,    27, 26209,    29,\n",
       "         198, 19452,  2899,   415,  6602, 19390, 50256, 50256, 50256,\n",
       "       50256, 50256, 50256, 50256, 50256, 50256, 50256, 50256, 50256,\n",
       "       50256, 50256, 50256, 50256, 50256, 50256, 50256, 50256, 50256,\n",
       "       50256])"
      ]
     },
     "execution_count": 14,
     "metadata": {},
     "output_type": "execute_result"
    }
   ],
   "source": [
    "first_batch[0][3].numpy()"
   ]
  },
  {
   "cell_type": "code",
   "execution_count": 15,
   "id": "911b5741",
   "metadata": {},
   "outputs": [
    {
     "data": {
      "text/plain": [
       "array([15414,    29,   198, 14832,   428,  7072,   290,  1577,   257,\n",
       "        7955,   503,   286,   642,  5788,    25,   314,  8672,  1717,\n",
       "        9892,   338, 49967,   702, 34814,   938,  1755,   290,   550,\n",
       "         257,  9623,  9799,    13,   198,    27, 26209,    29,   198,\n",
       "       19452,  2899,   415,  6602, 19390, 50256,  -100,  -100,  -100,\n",
       "        -100,  -100,  -100,  -100,  -100,  -100,  -100,  -100,  -100,\n",
       "        -100,  -100,  -100,  -100,  -100,  -100,  -100,  -100,  -100,\n",
       "        -100])"
      ]
     },
     "execution_count": 15,
     "metadata": {},
     "output_type": "execute_result"
    }
   ],
   "source": [
    "first_batch[1][3].numpy()"
   ]
  },
  {
   "cell_type": "code",
   "execution_count": 26,
   "id": "dda8fa31",
   "metadata": {},
   "outputs": [
    {
     "name": "stdout",
     "output_type": "stream",
     "text": [
      "<input>\n",
      "Re-write the following speech inorder to make it more persuasive: Climate change is an issue that can no longer be ignored. We must take action to limit the damage on our planet.\n",
      "<response>\n",
      "Persuasive Climate Change Message<|endoftext|><|endoftext|><|endoftext|><|endoftext|><|endoftext|><|endoftext|><|endoftext|><|endoftext|><|endoftext|><|endoftext|><|endoftext|>\n"
     ]
    }
   ],
   "source": [
    "print(tokenizer.decode_ids(first_batch[0][2].numpy()))"
   ]
  },
  {
   "cell_type": "code",
   "execution_count": 17,
   "id": "8e017aa7",
   "metadata": {},
   "outputs": [],
   "source": [
    "gpt2 = GPT2()"
   ]
  },
  {
   "cell_type": "code",
   "execution_count": 18,
   "id": "a8da8114",
   "metadata": {},
   "outputs": [
    {
     "name": "stdout",
     "output_type": "stream",
     "text": [
      "Loading weights\n"
     ]
    }
   ],
   "source": [
    "gpt2.load_weights()"
   ]
  },
  {
   "cell_type": "code",
   "execution_count": 19,
   "id": "402230cf",
   "metadata": {},
   "outputs": [],
   "source": [
    "model = Model('cuda' if torch.cuda.is_available() else 'cpu')"
   ]
  },
  {
   "cell_type": "code",
   "execution_count": 20,
   "id": "9846faff",
   "metadata": {},
   "outputs": [],
   "source": [
    "optimizer = torch.optim.AdamW(gpt2.parameters(), lr=0.0004, weight_decay=0.1)"
   ]
  },
  {
   "cell_type": "code",
   "execution_count": 21,
   "id": "53a6d998",
   "metadata": {},
   "outputs": [],
   "source": [
    "# model, train_loss, val_loss = model.train(gpt2, train, val, 1, optimizer)"
   ]
  },
  {
   "cell_type": "code",
   "execution_count": 23,
   "id": "af25b857",
   "metadata": {},
   "outputs": [],
   "source": [
    "out = model.generate(gpt2, torch.tensor(tokenizer.encode_text('Artificial Intelligence is')).unsqueeze(dim=0), max_new_tokens=25, temperature=1.2, top_k=5)"
   ]
  },
  {
   "cell_type": "code",
   "execution_count": 24,
   "id": "26550e90",
   "metadata": {},
   "outputs": [
    {
     "data": {
      "text/plain": [
       "'Artificial Intelligence is the next great frontier in the world of technology.\\n\\nThis is because artificial intelligence can help in many areas, like the'"
      ]
     },
     "execution_count": 24,
     "metadata": {},
     "output_type": "execute_result"
    }
   ],
   "source": [
    "tokenizer.decode_ids(*out.numpy())"
   ]
  }
 ],
 "metadata": {
  "kernelspec": {
   "display_name": "Python 3",
   "language": "python",
   "name": "python3"
  },
  "language_info": {
   "codemirror_mode": {
    "name": "ipython",
    "version": 3
   },
   "file_extension": ".py",
   "mimetype": "text/x-python",
   "name": "python",
   "nbconvert_exporter": "python",
   "pygments_lexer": "ipython3",
   "version": "3.12.0"
  }
 },
 "nbformat": 4,
 "nbformat_minor": 5
}
