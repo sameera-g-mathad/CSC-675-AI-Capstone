{
 "cells": [
  {
   "cell_type": "code",
   "execution_count": 1,
   "id": "ab36bf0a",
   "metadata": {},
   "outputs": [],
   "source": [
    "from sculpgen import NSTModel"
   ]
  },
  {
   "cell_type": "code",
   "execution_count": null,
   "id": "4dbfd4c8",
   "metadata": {},
   "outputs": [
    {
     "name": "stderr",
     "output_type": "stream",
     "text": [
      "2025-05-19 18:22:48,399 | INFO | YAML file read successfully.\n",
      "2025-05-19 18:22:48,472 | INFO | Using device: cuda.\n",
      "2025-05-19 18:22:48,474 | INFO | Loading VGG19 model.\n",
      "2025-05-19 18:22:50,390 | INFO | VGG19 model loaded successfully.\n",
      "2025-05-19 18:22:50,391 | INFO | Loading dataset from Hugging Face.\n",
      "2025-05-19 18:22:50,392 | INFO | Dataset loaded successfully.\n",
      "2025-05-19 18:22:50,392 | INFO | Creating save path for generated images.\n",
      "2025-05-19 18:22:50,392 | INFO | Save path: /home/smathad/ai_capstone/sculpgen/data/nst\n",
      "2025-05-19 18:22:50,394 | INFO | Initializing transforms for images.\n"
     ]
    }
   ],
   "source": [
    "model = NSTModel(\"/home/smathad/ai_capstone/sculpgen/yaml/train_nst.yaml\")"
   ]
  },
  {
   "cell_type": "code",
   "execution_count": 3,
   "id": "f8612058",
   "metadata": {},
   "outputs": [
    {
     "name": "stderr",
     "output_type": "stream",
     "text": [
      "  0%|\u001b[33m          \u001b[0m| 0/50 [00:00<?, ?it/s]2025-05-19 18:22:50,426 | INFO | Processing content image 1\n",
      "100%|\u001b[31m██████████\u001b[0m| 150/150 [00:08<00:00, 17.15it/s]\n",
      "100%|\u001b[31m██████████\u001b[0m| 150/150 [00:08<00:00, 18.09it/s]\n",
      "100%|\u001b[31m██████████\u001b[0m| 150/150 [00:08<00:00, 18.09it/s]\n",
      "  2%|\u001b[33m▏         \u001b[0m| 1/50 [00:27<22:07, 27.08s/it]2025-05-19 18:23:17,509 | INFO | Processing content image 2\n",
      "100%|\u001b[31m██████████\u001b[0m| 150/150 [00:08<00:00, 18.07it/s]\n",
      "100%|\u001b[31m██████████\u001b[0m| 150/150 [00:08<00:00, 18.07it/s]\n",
      "100%|\u001b[31m██████████\u001b[0m| 150/150 [00:08<00:00, 18.06it/s]\n",
      "  4%|\u001b[33m▍         \u001b[0m| 2/50 [00:53<21:13, 26.53s/it]2025-05-19 18:23:43,659 | INFO | Processing content image 3\n",
      "100%|\u001b[31m██████████\u001b[0m| 150/150 [00:08<00:00, 18.08it/s]\n",
      "100%|\u001b[31m██████████\u001b[0m| 150/150 [00:08<00:00, 18.12it/s]\n",
      "100%|\u001b[31m██████████\u001b[0m| 150/150 [00:08<00:00, 18.10it/s]\n",
      "  6%|\u001b[33m▌         \u001b[0m| 3/50 [01:19<20:39, 26.37s/it]2025-05-19 18:24:09,841 | INFO | Processing content image 4\n",
      "100%|\u001b[31m██████████\u001b[0m| 150/150 [00:08<00:00, 18.07it/s]\n",
      "100%|\u001b[31m██████████\u001b[0m| 150/150 [00:08<00:00, 18.08it/s]\n",
      "100%|\u001b[31m██████████\u001b[0m| 150/150 [00:08<00:00, 18.07it/s]\n",
      "  8%|\u001b[33m▊         \u001b[0m| 4/50 [01:45<20:09, 26.29s/it]2025-05-19 18:24:35,994 | INFO | Processing content image 5\n",
      "100%|\u001b[31m██████████\u001b[0m| 150/150 [00:08<00:00, 18.09it/s]\n",
      "100%|\u001b[31m██████████\u001b[0m| 150/150 [00:08<00:00, 18.06it/s]\n",
      "100%|\u001b[31m██████████\u001b[0m| 150/150 [00:08<00:00, 18.12it/s]\n",
      " 10%|\u001b[33m█         \u001b[0m| 5/50 [02:11<19:37, 26.17s/it]2025-05-19 18:25:01,950 | INFO | Processing content image 6\n",
      "100%|\u001b[31m██████████\u001b[0m| 150/150 [00:08<00:00, 18.07it/s]\n",
      "100%|\u001b[31m██████████\u001b[0m| 150/150 [00:08<00:00, 18.06it/s]\n",
      "100%|\u001b[31m██████████\u001b[0m| 150/150 [00:08<00:00, 18.05it/s]\n",
      " 12%|\u001b[33m█▏        \u001b[0m| 6/50 [02:37<19:12, 26.19s/it]2025-05-19 18:25:28,194 | INFO | Processing content image 7\n",
      "100%|\u001b[31m██████████\u001b[0m| 150/150 [00:08<00:00, 18.06it/s]\n",
      "100%|\u001b[31m██████████\u001b[0m| 150/150 [00:08<00:00, 18.07it/s]\n",
      "100%|\u001b[31m██████████\u001b[0m| 150/150 [00:08<00:00, 18.10it/s]\n",
      " 14%|\u001b[33m█▍        \u001b[0m| 7/50 [03:04<18:50, 26.29s/it]2025-05-19 18:25:54,676 | INFO | Processing content image 8\n",
      "100%|\u001b[31m██████████\u001b[0m| 150/150 [00:08<00:00, 18.13it/s]\n",
      "100%|\u001b[31m██████████\u001b[0m| 150/150 [00:08<00:00, 18.10it/s]\n",
      "100%|\u001b[31m██████████\u001b[0m| 150/150 [00:08<00:00, 18.06it/s]\n",
      " 16%|\u001b[33m█▌        \u001b[0m| 8/50 [03:31<18:31, 26.47s/it]2025-05-19 18:26:21,527 | INFO | Processing content image 9\n",
      "100%|\u001b[31m██████████\u001b[0m| 150/150 [00:08<00:00, 18.07it/s]\n",
      "100%|\u001b[31m██████████\u001b[0m| 150/150 [00:08<00:00, 18.06it/s]\n",
      "100%|\u001b[31m██████████\u001b[0m| 150/150 [00:08<00:00, 18.02it/s]\n",
      " 18%|\u001b[33m█▊        \u001b[0m| 9/50 [03:57<18:02, 26.41s/it]2025-05-19 18:26:47,799 | INFO | Processing content image 10\n",
      "100%|\u001b[31m██████████\u001b[0m| 150/150 [00:08<00:00, 18.08it/s]\n",
      "100%|\u001b[31m██████████\u001b[0m| 150/150 [00:08<00:00, 18.09it/s]\n",
      "100%|\u001b[31m██████████\u001b[0m| 150/150 [00:08<00:00, 18.08it/s]\n",
      " 20%|\u001b[33m██        \u001b[0m| 10/50 [04:23<17:30, 26.26s/it]2025-05-19 18:27:13,735 | INFO | Processing content image 11\n",
      "100%|\u001b[31m██████████\u001b[0m| 150/150 [00:08<00:00, 18.06it/s]\n",
      "100%|\u001b[31m██████████\u001b[0m| 150/150 [00:08<00:00, 18.07it/s]\n",
      "100%|\u001b[31m██████████\u001b[0m| 150/150 [00:08<00:00, 18.10it/s]\n",
      " 22%|\u001b[33m██▏       \u001b[0m| 11/50 [04:49<17:01, 26.20s/it]2025-05-19 18:27:39,812 | INFO | Processing content image 12\n",
      "100%|\u001b[31m██████████\u001b[0m| 150/150 [00:08<00:00, 18.05it/s]\n",
      "100%|\u001b[31m██████████\u001b[0m| 150/150 [00:09<00:00, 16.09it/s]\n",
      "100%|\u001b[31m██████████\u001b[0m| 150/150 [00:10<00:00, 14.59it/s]\n",
      " 24%|\u001b[33m██▍       \u001b[0m| 12/50 [05:18<17:10, 27.11s/it]2025-05-19 18:28:09,006 | INFO | Processing content image 13\n",
      "100%|\u001b[31m██████████\u001b[0m| 150/150 [00:10<00:00, 14.57it/s]\n",
      "100%|\u001b[31m██████████\u001b[0m| 150/150 [00:10<00:00, 14.56it/s]\n",
      "100%|\u001b[31m██████████\u001b[0m| 150/150 [00:10<00:00, 14.57it/s]\n",
      " 26%|\u001b[33m██▌       \u001b[0m| 13/50 [05:51<17:44, 28.77s/it]2025-05-19 18:28:41,586 | INFO | Processing content image 14\n",
      "100%|\u001b[31m██████████\u001b[0m| 150/150 [00:10<00:00, 14.61it/s]\n",
      "100%|\u001b[31m██████████\u001b[0m| 150/150 [00:10<00:00, 14.58it/s]\n",
      "100%|\u001b[31m██████████\u001b[0m| 150/150 [00:10<00:00, 14.58it/s]\n",
      " 28%|\u001b[33m██▊       \u001b[0m| 14/50 [06:23<17:52, 29.78s/it]2025-05-19 18:29:13,708 | INFO | Processing content image 15\n",
      "100%|\u001b[31m██████████\u001b[0m| 150/150 [00:10<00:00, 14.57it/s]\n",
      "100%|\u001b[31m██████████\u001b[0m| 150/150 [00:10<00:00, 14.56it/s]\n",
      "100%|\u001b[31m██████████\u001b[0m| 150/150 [00:10<00:00, 14.57it/s]\n",
      " 30%|\u001b[33m███       \u001b[0m| 15/50 [06:55<17:49, 30.56s/it]2025-05-19 18:29:46,058 | INFO | Processing content image 16\n",
      "100%|\u001b[31m██████████\u001b[0m| 150/150 [00:10<00:00, 14.58it/s]\n",
      "100%|\u001b[31m██████████\u001b[0m| 150/150 [00:10<00:00, 14.59it/s]\n",
      "100%|\u001b[31m██████████\u001b[0m| 150/150 [00:10<00:00, 14.55it/s]\n",
      " 32%|\u001b[33m███▏      \u001b[0m| 16/50 [07:27<17:36, 31.08s/it]2025-05-19 18:30:18,347 | INFO | Processing content image 17\n",
      "100%|\u001b[31m██████████\u001b[0m| 150/150 [00:10<00:00, 14.55it/s]\n",
      "100%|\u001b[31m██████████\u001b[0m| 150/150 [00:10<00:00, 14.56it/s]\n",
      "100%|\u001b[31m██████████\u001b[0m| 150/150 [00:10<00:00, 14.55it/s]\n",
      " 34%|\u001b[33m███▍      \u001b[0m| 17/50 [08:00<17:19, 31.51s/it]2025-05-19 18:30:50,851 | INFO | Processing content image 18\n",
      "100%|\u001b[31m██████████\u001b[0m| 150/150 [00:10<00:00, 14.57it/s]\n",
      "100%|\u001b[31m██████████\u001b[0m| 150/150 [00:10<00:00, 14.55it/s]\n",
      "100%|\u001b[31m██████████\u001b[0m| 150/150 [00:08<00:00, 17.04it/s]\n",
      " 36%|\u001b[33m███▌      \u001b[0m| 18/50 [08:31<16:40, 31.25s/it]2025-05-19 18:31:21,515 | INFO | Processing content image 19\n",
      "100%|\u001b[31m██████████\u001b[0m| 150/150 [00:08<00:00, 18.08it/s]\n",
      "100%|\u001b[31m██████████\u001b[0m| 150/150 [00:08<00:00, 18.10it/s]\n",
      "100%|\u001b[31m██████████\u001b[0m| 150/150 [00:08<00:00, 18.07it/s]\n",
      " 38%|\u001b[33m███▊      \u001b[0m| 19/50 [08:57<15:24, 29.83s/it]2025-05-19 18:31:48,030 | INFO | Processing content image 20\n",
      "100%|\u001b[31m██████████\u001b[0m| 150/150 [00:08<00:00, 18.10it/s]\n",
      "100%|\u001b[31m██████████\u001b[0m| 150/150 [00:08<00:00, 18.14it/s]\n",
      "100%|\u001b[31m██████████\u001b[0m| 150/150 [00:08<00:00, 18.12it/s]\n",
      " 40%|\u001b[33m████      \u001b[0m| 20/50 [09:23<14:19, 28.64s/it]2025-05-19 18:32:13,896 | INFO | Processing content image 21\n",
      "100%|\u001b[31m██████████\u001b[0m| 150/150 [00:08<00:00, 18.11it/s]\n",
      "100%|\u001b[31m██████████\u001b[0m| 150/150 [00:08<00:00, 18.12it/s]\n",
      "100%|\u001b[31m██████████\u001b[0m| 150/150 [00:08<00:00, 18.08it/s]\n",
      " 42%|\u001b[33m████▏     \u001b[0m| 21/50 [09:49<13:29, 27.92s/it]2025-05-19 18:32:40,146 | INFO | Processing content image 22\n",
      "100%|\u001b[31m██████████\u001b[0m| 150/150 [00:08<00:00, 18.08it/s]\n",
      "100%|\u001b[31m██████████\u001b[0m| 150/150 [00:08<00:00, 18.09it/s]\n",
      "100%|\u001b[31m██████████\u001b[0m| 150/150 [00:08<00:00, 18.11it/s]\n",
      " 44%|\u001b[33m████▍     \u001b[0m| 22/50 [10:16<12:49, 27.48s/it]2025-05-19 18:33:06,581 | INFO | Processing content image 23\n",
      "100%|\u001b[31m██████████\u001b[0m| 150/150 [00:08<00:00, 18.12it/s]\n",
      "100%|\u001b[31m██████████\u001b[0m| 150/150 [00:08<00:00, 18.07it/s]\n",
      "100%|\u001b[31m██████████\u001b[0m| 150/150 [00:08<00:00, 18.12it/s]\n",
      " 46%|\u001b[33m████▌     \u001b[0m| 23/50 [10:42<12:13, 27.15s/it]2025-05-19 18:33:32,967 | INFO | Processing content image 24\n",
      "100%|\u001b[31m██████████\u001b[0m| 150/150 [00:08<00:00, 18.03it/s]\n",
      "100%|\u001b[31m██████████\u001b[0m| 150/150 [00:08<00:00, 18.09it/s]\n",
      "100%|\u001b[31m██████████\u001b[0m| 150/150 [00:08<00:00, 18.10it/s]\n",
      " 48%|\u001b[33m████▊     \u001b[0m| 24/50 [11:08<11:35, 26.77s/it]2025-05-19 18:33:58,843 | INFO | Processing content image 25\n",
      "100%|\u001b[31m██████████\u001b[0m| 150/150 [00:08<00:00, 18.10it/s]\n",
      "100%|\u001b[31m██████████\u001b[0m| 150/150 [00:08<00:00, 18.13it/s]\n",
      "100%|\u001b[31m██████████\u001b[0m| 150/150 [00:08<00:00, 18.11it/s]\n",
      " 50%|\u001b[33m█████     \u001b[0m| 25/50 [11:34<11:03, 26.53s/it]2025-05-19 18:34:24,809 | INFO | Processing content image 26\n",
      "100%|\u001b[31m██████████\u001b[0m| 150/150 [00:08<00:00, 18.08it/s]\n",
      "100%|\u001b[31m██████████\u001b[0m| 150/150 [00:08<00:00, 18.11it/s]\n",
      "100%|\u001b[31m██████████\u001b[0m| 150/150 [00:08<00:00, 18.10it/s]\n",
      " 52%|\u001b[33m█████▏    \u001b[0m| 26/50 [12:00<10:32, 26.37s/it]2025-05-19 18:34:50,825 | INFO | Processing content image 27\n",
      "100%|\u001b[31m██████████\u001b[0m| 150/150 [00:08<00:00, 18.10it/s]\n",
      "100%|\u001b[31m██████████\u001b[0m| 150/150 [00:08<00:00, 18.12it/s]\n",
      "100%|\u001b[31m██████████\u001b[0m| 150/150 [00:08<00:00, 18.12it/s]\n",
      " 54%|\u001b[33m█████▍    \u001b[0m| 27/50 [12:26<10:04, 26.30s/it]2025-05-19 18:35:16,961 | INFO | Processing content image 28\n",
      " 90%|\u001b[31m█████████ \u001b[0m| 135/150 [00:07<00:00, 18.04it/s]\n",
      " 54%|\u001b[33m█████▍    \u001b[0m| 27/50 [12:34<10:42, 27.95s/it]\n"
     ]
    },
    {
     "ename": "KeyboardInterrupt",
     "evalue": "",
     "output_type": "error",
     "traceback": [
      "\u001b[0;31m---------------------------------------------------------------------------\u001b[0m",
      "\u001b[0;31mKeyboardInterrupt\u001b[0m                         Traceback (most recent call last)",
      "Cell \u001b[0;32mIn[3], line 1\u001b[0m\n\u001b[0;32m----> 1\u001b[0m \u001b[43mmodel\u001b[49m\u001b[38;5;241;43m.\u001b[39;49m\u001b[43mconvert_nst\u001b[49m\u001b[43m(\u001b[49m\u001b[43m)\u001b[49m\n",
      "File \u001b[0;32m~/ai_capstone/sculpgen/venv/lib/python3.12/site-packages/sculpgen/nst_model.py:271\u001b[0m, in \u001b[0;36mNSTModel.convert_nst\u001b[0;34m(self)\u001b[0m\n\u001b[1;32m    268\u001b[0m target_image \u001b[38;5;241m=\u001b[39m content_image\u001b[38;5;241m.\u001b[39mclone()\u001b[38;5;241m.\u001b[39mdetach()\n\u001b[1;32m    270\u001b[0m \u001b[38;5;66;03m# Train the model to generate a stylized image.\u001b[39;00m\n\u001b[0;32m--> 271\u001b[0m target_image \u001b[38;5;241m=\u001b[39m \u001b[38;5;28;43mself\u001b[39;49m\u001b[38;5;241;43m.\u001b[39;49m\u001b[43m_train\u001b[49m\u001b[43m(\u001b[49m\n\u001b[1;32m    272\u001b[0m \u001b[43m    \u001b[49m\u001b[43mcontent_image\u001b[49m\u001b[43m,\u001b[49m\n\u001b[1;32m    273\u001b[0m \u001b[43m    \u001b[49m\u001b[43mstyle_image\u001b[49m\u001b[43m,\u001b[49m\n\u001b[1;32m    274\u001b[0m \u001b[43m    \u001b[49m\u001b[43mtarget_image\u001b[49m\u001b[43m,\u001b[49m\n\u001b[1;32m    275\u001b[0m \u001b[43m\u001b[49m\u001b[43m)\u001b[49m\n\u001b[1;32m    277\u001b[0m \u001b[38;5;66;03m# Denormalize the target image and save it to the specified save path\u001b[39;00m\n\u001b[1;32m    278\u001b[0m target_image \u001b[38;5;241m=\u001b[39m \u001b[38;5;28mself\u001b[39m\u001b[38;5;241m.\u001b[39m_denormalize(target_image)\n",
      "File \u001b[0;32m~/ai_capstone/sculpgen/venv/lib/python3.12/site-packages/sculpgen/nst_model.py:209\u001b[0m, in \u001b[0;36mNSTModel._train\u001b[0;34m(self, content_image, style_image, target_image)\u001b[0m\n\u001b[1;32m    203\u001b[0m loss: torch\u001b[38;5;241m.\u001b[39mTensor \u001b[38;5;241m=\u001b[39m (\n\u001b[1;32m    204\u001b[0m     \u001b[38;5;28mself\u001b[39m\u001b[38;5;241m.\u001b[39m_config[\u001b[38;5;124m\"\u001b[39m\u001b[38;5;124mtrain\u001b[39m\u001b[38;5;124m\"\u001b[39m][\u001b[38;5;124m\"\u001b[39m\u001b[38;5;124malpha\u001b[39m\u001b[38;5;124m\"\u001b[39m] \u001b[38;5;241m*\u001b[39m content_loss\n\u001b[1;32m    205\u001b[0m     \u001b[38;5;241m+\u001b[39m \u001b[38;5;28mself\u001b[39m\u001b[38;5;241m.\u001b[39m_config[\u001b[38;5;124m\"\u001b[39m\u001b[38;5;124mtrain\u001b[39m\u001b[38;5;124m\"\u001b[39m][\u001b[38;5;124m\"\u001b[39m\u001b[38;5;124mbeta\u001b[39m\u001b[38;5;124m\"\u001b[39m] \u001b[38;5;241m*\u001b[39m style_loss\n\u001b[1;32m    206\u001b[0m )\n\u001b[1;32m    208\u001b[0m \u001b[38;5;66;03m# Backpropagate the loss to update the target image\u001b[39;00m\n\u001b[0;32m--> 209\u001b[0m \u001b[43mloss\u001b[49m\u001b[38;5;241;43m.\u001b[39;49m\u001b[43mbackward\u001b[49m\u001b[43m(\u001b[49m\u001b[43m)\u001b[49m\n\u001b[1;32m    210\u001b[0m \u001b[38;5;66;03m# Update the target image using the optimizer.\u001b[39;00m\n\u001b[1;32m    211\u001b[0m optimizer\u001b[38;5;241m.\u001b[39mstep()\n",
      "File \u001b[0;32m~/ai_capstone/sculpgen/venv/lib/python3.12/site-packages/torch/_tensor.py:592\u001b[0m, in \u001b[0;36mTensor.backward\u001b[0;34m(self, gradient, retain_graph, create_graph, inputs)\u001b[0m\n\u001b[1;32m    589\u001b[0m     \u001b[38;5;66;03m# All strings are unicode in Python 3.\u001b[39;00m\n\u001b[1;32m    590\u001b[0m     \u001b[38;5;28;01mreturn\u001b[39;00m torch\u001b[38;5;241m.\u001b[39m_tensor_str\u001b[38;5;241m.\u001b[39m_str(\u001b[38;5;28mself\u001b[39m, tensor_contents\u001b[38;5;241m=\u001b[39mtensor_contents)\n\u001b[0;32m--> 592\u001b[0m \u001b[38;5;28;01mdef\u001b[39;00m\u001b[38;5;250m \u001b[39m\u001b[38;5;21mbackward\u001b[39m(\n\u001b[1;32m    593\u001b[0m     \u001b[38;5;28mself\u001b[39m, gradient\u001b[38;5;241m=\u001b[39m\u001b[38;5;28;01mNone\u001b[39;00m, retain_graph\u001b[38;5;241m=\u001b[39m\u001b[38;5;28;01mNone\u001b[39;00m, create_graph\u001b[38;5;241m=\u001b[39m\u001b[38;5;28;01mFalse\u001b[39;00m, inputs\u001b[38;5;241m=\u001b[39m\u001b[38;5;28;01mNone\u001b[39;00m\n\u001b[1;32m    594\u001b[0m ):\n\u001b[1;32m    595\u001b[0m \u001b[38;5;250m    \u001b[39m\u001b[38;5;124mr\u001b[39m\u001b[38;5;124;03m\"\"\"Computes the gradient of current tensor wrt graph leaves.\u001b[39;00m\n\u001b[1;32m    596\u001b[0m \n\u001b[1;32m    597\u001b[0m \u001b[38;5;124;03m    The graph is differentiated using the chain rule. If the tensor is\u001b[39;00m\n\u001b[0;32m   (...)\u001b[0m\n\u001b[1;32m    636\u001b[0m \u001b[38;5;124;03m            used to compute the :attr:`tensors`.\u001b[39;00m\n\u001b[1;32m    637\u001b[0m \u001b[38;5;124;03m    \"\"\"\u001b[39;00m\n\u001b[1;32m    638\u001b[0m     \u001b[38;5;28;01mif\u001b[39;00m has_torch_function_unary(\u001b[38;5;28mself\u001b[39m):\n",
      "\u001b[0;31mKeyboardInterrupt\u001b[0m: "
     ]
    }
   ],
   "source": [
    "model.convert_nst()"
   ]
  }
 ],
 "metadata": {
  "kernelspec": {
   "display_name": "venv",
   "language": "python",
   "name": "python3"
  },
  "language_info": {
   "codemirror_mode": {
    "name": "ipython",
    "version": 3
   },
   "file_extension": ".py",
   "mimetype": "text/x-python",
   "name": "python",
   "nbconvert_exporter": "python",
   "pygments_lexer": "ipython3",
   "version": "3.12.3"
  }
 },
 "nbformat": 4,
 "nbformat_minor": 5
}
