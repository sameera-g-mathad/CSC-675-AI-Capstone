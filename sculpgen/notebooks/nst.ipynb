{
 "cells": [
  {
   "cell_type": "code",
   "execution_count": 1,
   "id": "ab36bf0a",
   "metadata": {},
   "outputs": [],
   "source": [
    "from sculpgen import NSTModel"
   ]
  },
  {
   "cell_type": "code",
   "execution_count": 2,
   "id": "4dbfd4c8",
   "metadata": {},
   "outputs": [
    {
     "name": "stderr",
     "output_type": "stream",
     "text": [
      "2025-05-19 13:41:55,415 | INFO | YAML file read successfully.\n",
      "2025-05-19 13:41:55,498 | INFO | Using device: cuda.\n",
      "2025-05-19 13:41:55,500 | INFO | Loading VGG19 model.\n",
      "2025-05-19 13:41:57,350 | INFO | VGG19 model loaded successfully.\n",
      "2025-05-19 13:41:57,352 | INFO | Loading dataset from Hugging Face.\n",
      "2025-05-19 13:41:57,353 | INFO | Hugging Face repo: Durgas/Indian_sculptures\n"
     ]
    },
    {
     "data": {
      "application/vnd.jupyter.widget-view+json": {
       "model_id": "297af69df71e448082b46b5978ad17ec",
       "version_major": 2,
       "version_minor": 0
      },
      "text/plain": [
       "Resolving data files:   0%|          | 0/400 [00:00<?, ?it/s]"
      ]
     },
     "metadata": {},
     "output_type": "display_data"
    },
    {
     "name": "stderr",
     "output_type": "stream",
     "text": [
      "2025-05-19 13:41:58,652 | INFO | Dataset loaded successfully.\n",
      "2025-05-19 13:41:58,652 | INFO | Creating save path for generated images.\n",
      "2025-05-19 13:41:58,653 | INFO | Save path: /home/smathad/ai_capstone/sculpgen/data/nst\n",
      "2025-05-19 13:41:58,655 | INFO | Initializing transforms for images.\n"
     ]
    }
   ],
   "source": [
    "model = NSTModel(\"/home/smathad/ai_capstone/sculpgen/yaml/train_nst.yaml\")"
   ]
  },
  {
   "cell_type": "code",
   "execution_count": 3,
   "id": "fde5fad7",
   "metadata": {},
   "outputs": [
    {
     "name": "stderr",
     "output_type": "stream",
     "text": [
      "100%|\u001b[31m██████████\u001b[0m| 150/150 [00:06<00:00, 21.92it/s]\n",
      "100%|\u001b[31m██████████\u001b[0m| 150/150 [00:06<00:00, 22.96it/s]\n",
      "100%|\u001b[33m██████████\u001b[0m| 1/1 [00:14<00:00, 14.28s/it]\n"
     ]
    }
   ],
   "source": [
    "model.convert_nst()"
   ]
  }
 ],
 "metadata": {
  "kernelspec": {
   "display_name": "venv",
   "language": "python",
   "name": "python3"
  },
  "language_info": {
   "codemirror_mode": {
    "name": "ipython",
    "version": 3
   },
   "file_extension": ".py",
   "mimetype": "text/x-python",
   "name": "python",
   "nbconvert_exporter": "python",
   "pygments_lexer": "ipython3",
   "version": "3.12.3"
  }
 },
 "nbformat": 4,
 "nbformat_minor": 5
}
