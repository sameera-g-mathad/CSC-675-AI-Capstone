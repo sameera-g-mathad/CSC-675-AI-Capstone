{
 "cells": [
  {
   "cell_type": "code",
   "execution_count": 1,
   "id": "ab36bf0a",
   "metadata": {},
   "outputs": [],
   "source": [
    "from sculpgen import NSTModel"
   ]
  },
  {
   "cell_type": "code",
   "execution_count": 2,
   "id": "4dbfd4c8",
   "metadata": {},
   "outputs": [
    {
     "name": "stderr",
     "output_type": "stream",
     "text": [
      "2025-05-19 14:10:13,016 | INFO | YAML file read successfully.\n",
      "2025-05-19 14:10:13,101 | INFO | Using device: cuda.\n",
      "2025-05-19 14:10:13,103 | INFO | Loading VGG19 model.\n",
      "2025-05-19 14:10:14,874 | INFO | VGG19 model loaded successfully.\n",
      "2025-05-19 14:10:14,875 | INFO | Loading dataset from Hugging Face.\n",
      "2025-05-19 14:10:14,875 | INFO | Hugging Face repo: Durgas/Indian_sculptures\n"
     ]
    },
    {
     "data": {
      "application/vnd.jupyter.widget-view+json": {
       "model_id": "c8bf7c30a04a4316af94917a23f1d5f9",
       "version_major": 2,
       "version_minor": 0
      },
      "text/plain": [
       "Resolving data files:   0%|          | 0/400 [00:00<?, ?it/s]"
      ]
     },
     "metadata": {},
     "output_type": "display_data"
    },
    {
     "name": "stderr",
     "output_type": "stream",
     "text": [
      "2025-05-19 14:10:16,674 | INFO | Dataset loaded successfully.\n",
      "2025-05-19 14:10:16,675 | INFO | Creating save path for generated images.\n",
      "2025-05-19 14:10:16,675 | INFO | Save path: /home/smathad/ai_capstone/sculpgen/data/nst\n",
      "2025-05-19 14:10:16,677 | INFO | Initializing transforms for images.\n"
     ]
    }
   ],
   "source": [
    "model = NSTModel(\"/home/smathad/ai_capstone/sculpgen/yaml/train_nst.yaml\")"
   ]
  },
  {
   "cell_type": "code",
   "execution_count": null,
   "id": "f8612058",
   "metadata": {},
   "outputs": [],
   "source": [
    "model.convert_nst()"
   ]
  }
 ],
 "metadata": {
  "kernelspec": {
   "display_name": "venv",
   "language": "python",
   "name": "python3"
  },
  "language_info": {
   "codemirror_mode": {
    "name": "ipython",
    "version": 3
   },
   "file_extension": ".py",
   "mimetype": "text/x-python",
   "name": "python",
   "nbconvert_exporter": "python",
   "pygments_lexer": "ipython3",
   "version": "3.12.3"
  }
 },
 "nbformat": 4,
 "nbformat_minor": 5
}
