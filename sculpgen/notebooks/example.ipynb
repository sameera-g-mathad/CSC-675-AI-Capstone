{
 "cells": [
  {
   "cell_type": "code",
   "execution_count": 1,
   "id": "9bd48103",
   "metadata": {},
   "outputs": [],
   "source": [
    "from sculpgen.data import Data"
   ]
  },
  {
   "cell_type": "code",
   "execution_count": 2,
   "id": "26c4464e",
   "metadata": {},
   "outputs": [],
   "source": [
    "data = Data(yaml_file_path=\"/home/smathad/ai_capstone/sculpgen/yaml/rename.yaml\")"
   ]
  },
  {
   "cell_type": "code",
   "execution_count": 3,
   "id": "189f153f",
   "metadata": {},
   "outputs": [
    {
     "name": "stderr",
     "output_type": "stream",
     "text": [
      "2025-05-18 12:55:14,737 | INFO | Reading files from /home/smathad/ai_capstone/sculpgen/data/abstract\n",
      "2025-05-18 12:55:14,760 | INFO | Successfully renamed all files!!!\n"
     ]
    }
   ],
   "source": [
    "data.rename()"
   ]
  },
  {
   "cell_type": "code",
   "execution_count": null,
   "id": "3b7209ce",
   "metadata": {},
   "outputs": [],
   "source": []
  }
 ],
 "metadata": {
  "kernelspec": {
   "display_name": "venv",
   "language": "python",
   "name": "python3"
  },
  "language_info": {
   "codemirror_mode": {
    "name": "ipython",
    "version": 3
   },
   "file_extension": ".py",
   "mimetype": "text/x-python",
   "name": "python",
   "nbconvert_exporter": "python",
   "pygments_lexer": "ipython3",
   "version": "3.12.3"
  }
 },
 "nbformat": 4,
 "nbformat_minor": 5
}
