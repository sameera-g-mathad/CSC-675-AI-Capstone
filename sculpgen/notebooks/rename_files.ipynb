{
 "cells": [
  {
   "cell_type": "code",
   "execution_count": 1,
   "id": "9bd48103",
   "metadata": {},
   "outputs": [],
   "source": [
    "from sculpgen.data import Data"
   ]
  },
  {
   "cell_type": "code",
   "execution_count": 2,
   "id": "26c4464e",
   "metadata": {},
   "outputs": [],
   "source": [
    "data = Data(yaml_file_path=\"/home/smathad/ai_capstone/sculpgen/yaml/data.yaml\")"
   ]
  },
  {
   "cell_type": "code",
   "execution_count": 3,
   "id": "189f153f",
   "metadata": {},
   "outputs": [
    {
     "name": "stderr",
     "output_type": "stream",
     "text": [
      "2025-05-19 18:18:19,837 | INFO | Reading files from /home/smathad/ai_capstone/sculpgen/data/sculptures\n",
      "2025-05-19 18:18:19,839 | INFO | Successfully renamed testing_13.jpg to sculpture_1.jpg\n",
      "2025-05-19 18:18:19,841 | INFO | Successfully renamed testing_40.jpg to sculpture_2.jpg\n",
      "2025-05-19 18:18:19,842 | INFO | Successfully renamed testing_34.jpg to sculpture_3.jpg\n",
      "2025-05-19 18:18:19,843 | INFO | Successfully renamed testing_15.jpg to sculpture_4.jpg\n",
      "2025-05-19 18:18:19,844 | INFO | Successfully renamed testing_47.jpg to sculpture_5.jpg\n",
      "2025-05-19 18:18:19,845 | INFO | Successfully renamed testing_10.jpg to sculpture_6.jpg\n",
      "2025-05-19 18:18:19,846 | INFO | Successfully renamed testing_44.jpg to sculpture_7.jpg\n",
      "2025-05-19 18:18:19,847 | INFO | Successfully renamed testing_49.jpg to sculpture_8.jpg\n",
      "2025-05-19 18:18:19,848 | INFO | Successfully renamed testing_24.jpg to sculpture_9.jpg\n",
      "2025-05-19 18:18:19,849 | INFO | Successfully renamed testing_7.jpg to sculpture_10.jpg\n",
      "2025-05-19 18:18:19,850 | INFO | Successfully renamed testing_39.jpg to sculpture_11.jpg\n",
      "2025-05-19 18:18:19,852 | INFO | Successfully renamed testing_28.jpg to sculpture_12.jpg\n",
      "2025-05-19 18:18:19,852 | INFO | Successfully renamed testing_2.jpg to sculpture_13.jpg\n",
      "2025-05-19 18:18:19,853 | INFO | Successfully renamed testing_14.jpg to sculpture_14.jpg\n",
      "2025-05-19 18:18:19,854 | INFO | Successfully renamed testing_6.jpg to sculpture_15.jpg\n",
      "2025-05-19 18:18:19,855 | INFO | Successfully renamed testing_31.jpg to sculpture_16.jpg\n",
      "2025-05-19 18:18:19,856 | INFO | Successfully renamed testing_46.jpg to sculpture_17.jpg\n",
      "2025-05-19 18:18:19,858 | INFO | Successfully renamed testing_36.jpg to sculpture_18.jpg\n",
      "2025-05-19 18:18:19,859 | INFO | Successfully renamed testing_19.jpg to sculpture_19.jpg\n",
      "2025-05-19 18:18:19,859 | INFO | Successfully renamed testing_42.jpg to sculpture_20.jpg\n",
      "2025-05-19 18:18:19,861 | INFO | Successfully renamed testing_50.jpg to sculpture_21.jpg\n",
      "2025-05-19 18:18:19,862 | INFO | Successfully renamed testing_33.jpg to sculpture_22.jpg\n",
      "2025-05-19 18:18:19,862 | INFO | Successfully renamed testing_35.jpg to sculpture_23.jpg\n",
      "2025-05-19 18:18:19,864 | INFO | Successfully renamed testing_1.jpg to sculpture_24.jpg\n",
      "2025-05-19 18:18:19,865 | INFO | Successfully renamed testing_22.jpg to sculpture_25.jpg\n",
      "2025-05-19 18:18:19,866 | INFO | Successfully renamed testing_51.jpg to sculpture_26.jpg\n",
      "2025-05-19 18:18:19,866 | INFO | Successfully renamed testing_41.jpg to sculpture_27.jpg\n",
      "2025-05-19 18:18:19,868 | INFO | Successfully renamed testing_23.jpg to sculpture_28.jpg\n",
      "2025-05-19 18:18:19,869 | INFO | Successfully renamed testing_12.jpg to sculpture_29.jpg\n",
      "2025-05-19 18:18:19,870 | INFO | Successfully renamed testing_30.jpg to sculpture_30.jpg\n",
      "2025-05-19 18:18:19,871 | INFO | Successfully renamed testing_17.jpg to sculpture_31.jpg\n",
      "2025-05-19 18:18:19,872 | INFO | Successfully renamed testing_37.jpg to sculpture_32.jpg\n",
      "2025-05-19 18:18:19,873 | INFO | Successfully renamed testing_25.jpg to sculpture_33.jpg\n",
      "2025-05-19 18:18:19,874 | INFO | Successfully renamed testing_16.jpg to sculpture_34.jpg\n",
      "2025-05-19 18:18:19,875 | INFO | Successfully renamed testing_11.jpg to sculpture_35.jpg\n",
      "2025-05-19 18:18:19,876 | INFO | Successfully renamed testing_9.jpg to sculpture_36.jpg\n",
      "2025-05-19 18:18:19,877 | INFO | Successfully renamed testing_4.jpg to sculpture_37.jpg\n",
      "2025-05-19 18:18:19,878 | INFO | Successfully renamed testing_3.jpg to sculpture_38.jpg\n",
      "2025-05-19 18:18:19,879 | INFO | Successfully renamed testing_45.jpg to sculpture_39.jpg\n",
      "2025-05-19 18:18:19,880 | INFO | Successfully renamed testing_20.jpg to sculpture_40.jpg\n",
      "2025-05-19 18:18:19,881 | INFO | Successfully renamed testing_38.jpg to sculpture_41.jpg\n",
      "2025-05-19 18:18:19,882 | INFO | Successfully renamed testing_29.jpg to sculpture_42.jpg\n",
      "2025-05-19 18:18:19,883 | INFO | Successfully renamed testing_5.jpg to sculpture_43.jpg\n",
      "2025-05-19 18:18:19,884 | INFO | Successfully renamed testing_21.jpg to sculpture_44.jpg\n",
      "2025-05-19 18:18:19,885 | INFO | Successfully renamed testing_8.jpg to sculpture_45.jpg\n",
      "2025-05-19 18:18:19,886 | INFO | Successfully renamed testing_48.jpg to sculpture_46.jpg\n",
      "2025-05-19 18:18:19,887 | INFO | Successfully renamed testing_18.jpg to sculpture_47.jpg\n",
      "2025-05-19 18:18:19,888 | INFO | Successfully renamed testing_26.jpg to sculpture_48.jpg\n",
      "2025-05-19 18:18:19,889 | INFO | Successfully renamed testing_32.jpg to sculpture_49.jpg\n",
      "2025-05-19 18:18:19,890 | INFO | Successfully renamed testing_43.jpg to sculpture_50.jpg\n",
      "2025-05-19 18:18:19,891 | INFO | Successfully renamed testing_27.jpg to sculpture_51.jpg\n"
     ]
    }
   ],
   "source": [
    "data.rename()"
   ]
  }
 ],
 "metadata": {
  "kernelspec": {
   "display_name": "venv",
   "language": "python",
   "name": "python3"
  },
  "language_info": {
   "codemirror_mode": {
    "name": "ipython",
    "version": 3
   },
   "file_extension": ".py",
   "mimetype": "text/x-python",
   "name": "python",
   "nbconvert_exporter": "python",
   "pygments_lexer": "ipython3",
   "version": "3.12.3"
  }
 },
 "nbformat": 4,
 "nbformat_minor": 5
}
