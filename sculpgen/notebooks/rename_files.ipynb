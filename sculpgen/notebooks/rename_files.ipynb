{
 "cells": [
  {
   "cell_type": "code",
   "execution_count": 1,
   "id": "9bd48103",
   "metadata": {},
   "outputs": [],
   "source": [
    "from sculpgen.data import Data"
   ]
  },
  {
   "cell_type": "code",
   "execution_count": 2,
   "id": "26c4464e",
   "metadata": {},
   "outputs": [],
   "source": [
    "data = Data(yaml_file_path=\"/home/smathad/ai_capstone/sculpgen/yaml/data.yaml\")"
   ]
  },
  {
   "cell_type": "code",
   "execution_count": 3,
   "id": "189f153f",
   "metadata": {},
   "outputs": [
    {
     "name": "stderr",
     "output_type": "stream",
     "text": [
      "2025-05-19 15:20:43,489 | INFO | Reading files from /home/smathad/ai_capstone/sculpgen/data/abstract\n",
      "2025-05-19 15:20:43,491 | INFO | Successfully renamed testing_80.jpg to abstract_1.jpg\n",
      "2025-05-19 15:20:43,493 | INFO | Successfully renamed testing_13.jpg to abstract_2.jpg\n",
      "2025-05-19 15:20:43,494 | INFO | Successfully renamed testing_81.jpg to abstract_3.jpg\n",
      "2025-05-19 15:20:43,495 | INFO | Successfully renamed testing_40.jpg to abstract_4.jpg\n",
      "2025-05-19 15:20:43,496 | INFO | Successfully renamed testing_53.jpg to abstract_5.jpg\n",
      "2025-05-19 15:20:43,497 | INFO | Successfully renamed testing_34.jpg to abstract_6.jpg\n",
      "2025-05-19 15:20:43,499 | INFO | Successfully renamed testing_15.jpg to abstract_7.jpg\n",
      "2025-05-19 15:20:43,500 | INFO | Successfully renamed testing_47.jpg to abstract_8.jpg\n",
      "2025-05-19 15:20:43,501 | INFO | Successfully renamed testing_10.jpg to abstract_9.jpg\n",
      "2025-05-19 15:20:43,502 | INFO | Successfully renamed testing_55.jpg to abstract_10.jpg\n",
      "2025-05-19 15:20:43,503 | INFO | Successfully renamed testing_44.jpg to abstract_11.jpg\n",
      "2025-05-19 15:20:43,504 | INFO | Successfully renamed testing_54.jpg to abstract_12.jpg\n",
      "2025-05-19 15:20:43,505 | INFO | Successfully renamed testing_49.jpg to abstract_13.jpg\n",
      "2025-05-19 15:20:43,506 | INFO | Successfully renamed testing_64.jpg to abstract_14.jpg\n",
      "2025-05-19 15:20:43,507 | INFO | Successfully renamed testing_24.jpg to abstract_15.jpg\n",
      "2025-05-19 15:20:43,508 | INFO | Successfully renamed testing_7.jpg to abstract_16.jpg\n",
      "2025-05-19 15:20:43,509 | INFO | Successfully renamed testing_78.jpg to abstract_17.jpg\n",
      "2025-05-19 15:20:43,511 | INFO | Successfully renamed testing_76.jpg to abstract_18.jpg\n",
      "2025-05-19 15:20:43,512 | INFO | Successfully renamed testing_61.jpg to abstract_19.jpg\n",
      "2025-05-19 15:20:43,513 | INFO | Successfully renamed testing_39.jpg to abstract_20.jpg\n",
      "2025-05-19 15:20:43,514 | INFO | Successfully renamed testing_28.jpg to abstract_21.jpg\n",
      "2025-05-19 15:20:43,515 | INFO | Successfully renamed testing_2.jpg to abstract_22.jpg\n",
      "2025-05-19 15:20:43,516 | INFO | Successfully renamed testing_72.jpg to abstract_23.jpg\n",
      "2025-05-19 15:20:43,518 | INFO | Successfully renamed testing_85.jpg to abstract_24.jpg\n",
      "2025-05-19 15:20:43,519 | INFO | Successfully renamed testing_75.jpg to abstract_25.jpg\n",
      "2025-05-19 15:20:43,520 | INFO | Successfully renamed testing_14.jpg to abstract_26.jpg\n",
      "2025-05-19 15:20:43,521 | INFO | Successfully renamed testing_77.jpg to abstract_27.jpg\n",
      "2025-05-19 15:20:43,522 | INFO | Successfully renamed testing_56.jpg to abstract_28.jpg\n",
      "2025-05-19 15:20:43,523 | INFO | Successfully renamed testing_67.jpg to abstract_29.jpg\n",
      "2025-05-19 15:20:43,524 | INFO | Successfully renamed testing_6.jpg to abstract_30.jpg\n",
      "2025-05-19 15:20:43,525 | INFO | Successfully renamed testing_31.jpg to abstract_31.jpg\n",
      "2025-05-19 15:20:43,526 | INFO | Successfully renamed testing_46.jpg to abstract_32.jpg\n",
      "2025-05-19 15:20:43,527 | INFO | Successfully renamed testing_36.jpg to abstract_33.jpg\n",
      "2025-05-19 15:20:43,528 | INFO | Successfully renamed testing_19.jpg to abstract_34.jpg\n",
      "2025-05-19 15:20:43,529 | INFO | Successfully renamed testing_42.jpg to abstract_35.jpg\n",
      "2025-05-19 15:20:43,531 | INFO | Successfully renamed testing_50.jpg to abstract_36.jpg\n",
      "2025-05-19 15:20:43,532 | INFO | Successfully renamed testing_69.jpg to abstract_37.jpg\n",
      "2025-05-19 15:20:43,533 | INFO | Successfully renamed testing_68.jpg to abstract_38.jpg\n",
      "2025-05-19 15:20:43,534 | INFO | Successfully renamed testing_83.jpg to abstract_39.jpg\n",
      "2025-05-19 15:20:43,535 | INFO | Successfully renamed testing_33.jpg to abstract_40.jpg\n",
      "2025-05-19 15:20:43,536 | INFO | Successfully renamed testing_35.jpg to abstract_41.jpg\n",
      "2025-05-19 15:20:43,537 | INFO | Successfully renamed testing_1.jpg to abstract_42.jpg\n",
      "2025-05-19 15:20:43,538 | INFO | Successfully renamed testing_22.jpg to abstract_43.jpg\n",
      "2025-05-19 15:20:43,539 | INFO | Successfully renamed testing_51.jpg to abstract_44.jpg\n",
      "2025-05-19 15:20:43,540 | INFO | Successfully renamed testing_87.jpg to abstract_45.jpg\n",
      "2025-05-19 15:20:43,541 | INFO | Successfully renamed testing_41.jpg to abstract_46.jpg\n",
      "2025-05-19 15:20:43,543 | INFO | Successfully renamed testing_23.jpg to abstract_47.jpg\n",
      "2025-05-19 15:20:43,544 | INFO | Successfully renamed testing_74.jpg to abstract_48.jpg\n",
      "2025-05-19 15:20:43,545 | INFO | Successfully renamed testing_84.jpg to abstract_49.jpg\n",
      "2025-05-19 15:20:43,546 | INFO | Successfully renamed testing_12.jpg to abstract_50.jpg\n",
      "2025-05-19 15:20:43,547 | INFO | Successfully renamed testing_30.jpg to abstract_51.jpg\n",
      "2025-05-19 15:20:43,549 | INFO | Successfully renamed testing_52.jpg to abstract_52.jpg\n",
      "2025-05-19 15:20:43,550 | INFO | Successfully renamed testing_62.jpg to abstract_53.jpg\n",
      "2025-05-19 15:20:43,551 | INFO | Successfully renamed testing_17.jpg to abstract_54.jpg\n",
      "2025-05-19 15:20:43,552 | INFO | Successfully renamed testing_89.jpg to abstract_55.jpg\n",
      "2025-05-19 15:20:43,553 | INFO | Successfully renamed testing_90.jpg to abstract_56.jpg\n",
      "2025-05-19 15:20:43,555 | INFO | Successfully renamed testing_37.jpg to abstract_57.jpg\n",
      "2025-05-19 15:20:43,556 | INFO | Successfully renamed testing_65.jpg to abstract_58.jpg\n",
      "2025-05-19 15:20:43,557 | INFO | Successfully renamed testing_25.jpg to abstract_59.jpg\n",
      "2025-05-19 15:20:43,558 | INFO | Successfully renamed testing_16.jpg to abstract_60.jpg\n",
      "2025-05-19 15:20:43,559 | INFO | Successfully renamed testing_11.jpg to abstract_61.jpg\n",
      "2025-05-19 15:20:43,561 | INFO | Successfully renamed testing_9.jpg to abstract_62.jpg\n",
      "2025-05-19 15:20:43,562 | INFO | Successfully renamed testing_4.jpg to abstract_63.jpg\n",
      "2025-05-19 15:20:43,563 | INFO | Successfully renamed testing_3.jpg to abstract_64.jpg\n",
      "2025-05-19 15:20:43,564 | INFO | Successfully renamed testing_63.jpg to abstract_65.jpg\n",
      "2025-05-19 15:20:43,565 | INFO | Successfully renamed testing_86.jpg to abstract_66.jpg\n",
      "2025-05-19 15:20:43,566 | INFO | Successfully renamed testing_59.jpg to abstract_67.jpg\n",
      "2025-05-19 15:20:43,567 | INFO | Successfully renamed testing_45.jpg to abstract_68.jpg\n",
      "2025-05-19 15:20:43,568 | INFO | Successfully renamed testing_20.jpg to abstract_69.jpg\n",
      "2025-05-19 15:20:43,569 | INFO | Successfully renamed testing_38.jpg to abstract_70.jpg\n",
      "2025-05-19 15:20:43,570 | INFO | Successfully renamed testing_29.jpg to abstract_71.jpg\n",
      "2025-05-19 15:20:43,571 | INFO | Successfully renamed testing_70.jpg to abstract_72.jpg\n",
      "2025-05-19 15:20:43,572 | INFO | Successfully renamed testing_5.jpg to abstract_73.jpg\n",
      "2025-05-19 15:20:43,574 | INFO | Successfully renamed testing_21.jpg to abstract_74.jpg\n",
      "2025-05-19 15:20:43,575 | INFO | Successfully renamed testing_60.jpg to abstract_75.jpg\n",
      "2025-05-19 15:20:43,576 | INFO | Successfully renamed testing_8.jpg to abstract_76.jpg\n",
      "2025-05-19 15:20:43,577 | INFO | Successfully renamed testing_73.jpg to abstract_77.jpg\n",
      "2025-05-19 15:20:43,578 | INFO | Successfully renamed testing_48.jpg to abstract_78.jpg\n",
      "2025-05-19 15:20:43,579 | INFO | Successfully renamed testing_82.jpg to abstract_79.jpg\n",
      "2025-05-19 15:20:43,580 | INFO | Successfully renamed testing_79.jpg to abstract_80.jpg\n",
      "2025-05-19 15:20:43,581 | INFO | Successfully renamed testing_57.jpg to abstract_81.jpg\n",
      "2025-05-19 15:20:43,582 | INFO | Successfully renamed testing_18.jpg to abstract_82.jpg\n",
      "2025-05-19 15:20:43,583 | INFO | Successfully renamed testing_58.jpg to abstract_83.jpg\n",
      "2025-05-19 15:20:43,584 | INFO | Successfully renamed testing_88.jpg to abstract_84.jpg\n",
      "2025-05-19 15:20:43,585 | INFO | Successfully renamed testing_26.jpg to abstract_85.jpg\n",
      "2025-05-19 15:20:43,587 | INFO | Successfully renamed testing_32.jpg to abstract_86.jpg\n",
      "2025-05-19 15:20:43,588 | INFO | Successfully renamed testing_71.jpg to abstract_87.jpg\n",
      "2025-05-19 15:20:43,589 | INFO | Successfully renamed testing_66.jpg to abstract_88.jpg\n",
      "2025-05-19 15:20:43,590 | INFO | Successfully renamed testing_43.jpg to abstract_89.jpg\n",
      "2025-05-19 15:20:43,591 | INFO | Successfully renamed testing_27.jpg to abstract_90.jpg\n"
     ]
    }
   ],
   "source": [
    "data.rename()"
   ]
  }
 ],
 "metadata": {
  "kernelspec": {
   "display_name": "venv",
   "language": "python",
   "name": "python3"
  },
  "language_info": {
   "codemirror_mode": {
    "name": "ipython",
    "version": 3
   },
   "file_extension": ".py",
   "mimetype": "text/x-python",
   "name": "python",
   "nbconvert_exporter": "python",
   "pygments_lexer": "ipython3",
   "version": "3.12.3"
  }
 },
 "nbformat": 4,
 "nbformat_minor": 5
}
