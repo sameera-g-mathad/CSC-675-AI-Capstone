{
 "cells": [
  {
   "cell_type": "code",
   "execution_count": 1,
   "id": "9bd48103",
   "metadata": {},
   "outputs": [],
   "source": [
    "from sculpgen.data import Data"
   ]
  },
  {
   "cell_type": "code",
   "execution_count": 2,
   "id": "26c4464e",
   "metadata": {},
   "outputs": [],
   "source": [
    "data = Data(yaml_file_path=\"/home/smathad/ai_capstone/sculpgen/yaml/data.yaml\")"
   ]
  },
  {
   "cell_type": "code",
   "execution_count": 3,
   "id": "189f153f",
   "metadata": {},
   "outputs": [
    {
     "name": "stderr",
     "output_type": "stream",
     "text": [
      "2025-05-19 17:54:36,891 | INFO | Reading files from /home/smathad/ai_capstone/sculpgen/data/abstract\n",
      "2025-05-19 17:54:36,893 | INFO | Successfully renamed testing_13.jpg to abstract_1.jpg\n",
      "2025-05-19 17:54:36,894 | INFO | Successfully renamed testing_40.jpg to abstract_2.jpg\n",
      "2025-05-19 17:54:36,895 | INFO | Successfully renamed testing_53.jpg to abstract_3.jpg\n",
      "2025-05-19 17:54:36,897 | INFO | Successfully renamed testing_34.jpg to abstract_4.jpg\n",
      "2025-05-19 17:54:36,898 | INFO | Successfully renamed testing_15.jpg to abstract_5.jpg\n",
      "2025-05-19 17:54:36,899 | INFO | Successfully renamed testing_47.jpg to abstract_6.jpg\n",
      "2025-05-19 17:54:36,900 | INFO | Successfully renamed testing_10.jpg to abstract_7.jpg\n",
      "2025-05-19 17:54:36,901 | INFO | Successfully renamed testing_55.jpg to abstract_8.jpg\n",
      "2025-05-19 17:54:36,902 | INFO | Successfully renamed testing_44.jpg to abstract_9.jpg\n",
      "2025-05-19 17:54:36,903 | INFO | Successfully renamed testing_54.jpg to abstract_10.jpg\n",
      "2025-05-19 17:54:36,904 | INFO | Successfully renamed testing_49.jpg to abstract_11.jpg\n",
      "2025-05-19 17:54:36,905 | INFO | Successfully renamed testing_24.jpg to abstract_12.jpg\n",
      "2025-05-19 17:54:36,906 | INFO | Successfully renamed testing_7.jpg to abstract_13.jpg\n",
      "2025-05-19 17:54:36,907 | INFO | Successfully renamed testing_39.jpg to abstract_14.jpg\n",
      "2025-05-19 17:54:36,908 | INFO | Successfully renamed testing_28.jpg to abstract_15.jpg\n",
      "2025-05-19 17:54:36,909 | INFO | Successfully renamed testing_2.jpg to abstract_16.jpg\n",
      "2025-05-19 17:54:36,910 | INFO | Successfully renamed testing_14.jpg to abstract_17.jpg\n",
      "2025-05-19 17:54:36,911 | INFO | Successfully renamed testing_56.jpg to abstract_18.jpg\n",
      "2025-05-19 17:54:36,912 | INFO | Successfully renamed testing_6.jpg to abstract_19.jpg\n",
      "2025-05-19 17:54:36,913 | INFO | Successfully renamed testing_31.jpg to abstract_20.jpg\n",
      "2025-05-19 17:54:36,914 | INFO | Successfully renamed testing_46.jpg to abstract_21.jpg\n",
      "2025-05-19 17:54:36,915 | INFO | Successfully renamed testing_36.jpg to abstract_22.jpg\n",
      "2025-05-19 17:54:36,916 | INFO | Successfully renamed testing_19.jpg to abstract_23.jpg\n",
      "2025-05-19 17:54:36,917 | INFO | Successfully renamed testing_42.jpg to abstract_24.jpg\n",
      "2025-05-19 17:54:36,918 | INFO | Successfully renamed testing_50.jpg to abstract_25.jpg\n",
      "2025-05-19 17:54:36,919 | INFO | Successfully renamed testing_33.jpg to abstract_26.jpg\n",
      "2025-05-19 17:54:36,920 | INFO | Successfully renamed testing_35.jpg to abstract_27.jpg\n",
      "2025-05-19 17:54:36,921 | INFO | Successfully renamed testing_1.jpg to abstract_28.jpg\n",
      "2025-05-19 17:54:36,922 | INFO | Successfully renamed testing_22.jpg to abstract_29.jpg\n",
      "2025-05-19 17:54:36,923 | INFO | Successfully renamed testing_51.jpg to abstract_30.jpg\n",
      "2025-05-19 17:54:36,924 | INFO | Successfully renamed testing_41.jpg to abstract_31.jpg\n",
      "2025-05-19 17:54:36,925 | INFO | Successfully renamed testing_23.jpg to abstract_32.jpg\n",
      "2025-05-19 17:54:36,925 | INFO | Successfully renamed testing_12.jpg to abstract_33.jpg\n",
      "2025-05-19 17:54:36,926 | INFO | Successfully renamed testing_30.jpg to abstract_34.jpg\n",
      "2025-05-19 17:54:36,927 | INFO | Successfully renamed testing_52.jpg to abstract_35.jpg\n",
      "2025-05-19 17:54:36,929 | INFO | Successfully renamed testing_17.jpg to abstract_36.jpg\n",
      "2025-05-19 17:54:36,929 | INFO | Successfully renamed testing_37.jpg to abstract_37.jpg\n",
      "2025-05-19 17:54:36,931 | INFO | Successfully renamed testing_25.jpg to abstract_38.jpg\n",
      "2025-05-19 17:54:36,932 | INFO | Successfully renamed testing_16.jpg to abstract_39.jpg\n",
      "2025-05-19 17:54:36,933 | INFO | Successfully renamed testing_11.jpg to abstract_40.jpg\n",
      "2025-05-19 17:54:36,934 | INFO | Successfully renamed testing_9.jpg to abstract_41.jpg\n",
      "2025-05-19 17:54:36,935 | INFO | Successfully renamed testing_4.jpg to abstract_42.jpg\n",
      "2025-05-19 17:54:36,936 | INFO | Successfully renamed testing_3.jpg to abstract_43.jpg\n",
      "2025-05-19 17:54:36,937 | INFO | Successfully renamed testing_45.jpg to abstract_44.jpg\n",
      "2025-05-19 17:54:36,938 | INFO | Successfully renamed testing_20.jpg to abstract_45.jpg\n",
      "2025-05-19 17:54:36,939 | INFO | Successfully renamed testing_38.jpg to abstract_46.jpg\n",
      "2025-05-19 17:54:36,940 | INFO | Successfully renamed testing_29.jpg to abstract_47.jpg\n",
      "2025-05-19 17:54:36,941 | INFO | Successfully renamed testing_5.jpg to abstract_48.jpg\n",
      "2025-05-19 17:54:36,942 | INFO | Successfully renamed testing_21.jpg to abstract_49.jpg\n",
      "2025-05-19 17:54:36,943 | INFO | Successfully renamed testing_8.jpg to abstract_50.jpg\n",
      "2025-05-19 17:54:36,944 | INFO | Successfully renamed testing_48.jpg to abstract_51.jpg\n",
      "2025-05-19 17:54:36,945 | INFO | Successfully renamed testing_57.jpg to abstract_52.jpg\n",
      "2025-05-19 17:54:36,947 | INFO | Successfully renamed testing_18.jpg to abstract_53.jpg\n",
      "2025-05-19 17:54:36,948 | INFO | Successfully renamed testing_26.jpg to abstract_54.jpg\n",
      "2025-05-19 17:54:36,949 | INFO | Successfully renamed testing_32.jpg to abstract_55.jpg\n",
      "2025-05-19 17:54:36,950 | INFO | Successfully renamed testing_43.jpg to abstract_56.jpg\n",
      "2025-05-19 17:54:36,952 | INFO | Successfully renamed testing_27.jpg to abstract_57.jpg\n"
     ]
    }
   ],
   "source": [
    "data.rename()"
   ]
  }
 ],
 "metadata": {
  "kernelspec": {
   "display_name": "venv",
   "language": "python",
   "name": "python3"
  },
  "language_info": {
   "codemirror_mode": {
    "name": "ipython",
    "version": 3
   },
   "file_extension": ".py",
   "mimetype": "text/x-python",
   "name": "python",
   "nbconvert_exporter": "python",
   "pygments_lexer": "ipython3",
   "version": "3.12.3"
  }
 },
 "nbformat": 4,
 "nbformat_minor": 5
}
