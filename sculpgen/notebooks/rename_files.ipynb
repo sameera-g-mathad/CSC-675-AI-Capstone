{
 "cells": [
  {
   "cell_type": "code",
   "execution_count": 1,
   "id": "9bd48103",
   "metadata": {},
   "outputs": [],
   "source": [
    "from sculpgen.data import Data"
   ]
  },
  {
   "cell_type": "code",
   "execution_count": 2,
   "id": "26c4464e",
   "metadata": {},
   "outputs": [],
   "source": [
    "data = Data(yaml_file_path=\"/home/smathad/ai_capstone/sculpgen/yaml/rename.yaml\")"
   ]
  },
  {
   "cell_type": "code",
   "execution_count": 3,
   "id": "189f153f",
   "metadata": {},
   "outputs": [
    {
     "name": "stderr",
     "output_type": "stream",
     "text": [
      "2025-05-18 13:20:10,602 | INFO | Reading files from /home/smathad/ai_capstone/sculpgen/data/abstract\n",
      "2025-05-18 13:20:10,604 | INFO | Successfully renamed test_22.jpg to abstract_1.jpg\n",
      "2025-05-18 13:20:10,605 | INFO | Successfully renamed test_2.jpg to abstract_2.jpg\n",
      "2025-05-18 13:20:10,607 | INFO | Successfully renamed test_30.jpg to abstract_3.jpg\n",
      "2025-05-18 13:20:10,608 | INFO | Successfully renamed test_38.jpg to abstract_4.jpg\n",
      "2025-05-18 13:20:10,609 | INFO | Successfully renamed test_74.jpg to abstract_5.jpg\n",
      "2025-05-18 13:20:10,610 | INFO | Successfully renamed test_20.jpg to abstract_6.jpg\n",
      "2025-05-18 13:20:10,611 | INFO | Successfully renamed test_64.jpg to abstract_7.jpg\n",
      "2025-05-18 13:20:10,612 | INFO | Successfully renamed test_1.jpg to abstract_8.jpg\n",
      "2025-05-18 13:20:10,613 | INFO | Successfully renamed test_40.jpg to abstract_9.jpg\n",
      "2025-05-18 13:20:10,614 | INFO | Successfully renamed test_50.jpg to abstract_10.jpg\n",
      "2025-05-18 13:20:10,615 | INFO | Successfully renamed test_19.jpg to abstract_11.jpg\n",
      "2025-05-18 13:20:10,616 | INFO | Successfully renamed test_71.jpg to abstract_12.jpg\n",
      "2025-05-18 13:20:10,617 | INFO | Successfully renamed test_37.jpg to abstract_13.jpg\n",
      "2025-05-18 13:20:10,618 | INFO | Successfully renamed test_61.jpg to abstract_14.jpg\n",
      "2025-05-18 13:20:10,619 | INFO | Successfully renamed test_29.jpg to abstract_15.jpg\n",
      "2025-05-18 13:20:10,620 | INFO | Successfully renamed test_80.jpg to abstract_16.jpg\n",
      "2025-05-18 13:20:10,621 | INFO | Successfully renamed test_26.jpg to abstract_17.jpg\n",
      "2025-05-18 13:20:10,622 | INFO | Successfully renamed test_17.jpg to abstract_18.jpg\n",
      "2025-05-18 13:20:10,623 | INFO | Successfully renamed test_23.jpg to abstract_19.jpg\n",
      "2025-05-18 13:20:10,624 | INFO | Successfully renamed test_81.jpg to abstract_20.jpg\n",
      "2025-05-18 13:20:10,625 | INFO | Successfully renamed test_12.jpg to abstract_21.jpg\n",
      "2025-05-18 13:20:10,626 | INFO | Successfully renamed test_11.jpg to abstract_22.jpg\n",
      "2025-05-18 13:20:10,627 | INFO | Successfully renamed test_46.jpg to abstract_23.jpg\n",
      "2025-05-18 13:20:10,628 | INFO | Successfully renamed test_68.jpg to abstract_24.jpg\n",
      "2025-05-18 13:20:10,629 | INFO | Successfully renamed test_33.jpg to abstract_25.jpg\n",
      "2025-05-18 13:20:10,630 | INFO | Successfully renamed test_8.jpg to abstract_26.jpg\n",
      "2025-05-18 13:20:10,631 | INFO | Successfully renamed test_90.jpg to abstract_27.jpg\n",
      "2025-05-18 13:20:10,632 | INFO | Successfully renamed test_18.jpg to abstract_28.jpg\n",
      "2025-05-18 13:20:10,633 | INFO | Successfully renamed test_7.jpg to abstract_29.jpg\n",
      "2025-05-18 13:20:10,634 | INFO | Successfully renamed test_10.jpg to abstract_30.jpg\n",
      "2025-05-18 13:20:10,635 | INFO | Successfully renamed test_5.jpg to abstract_31.jpg\n",
      "2025-05-18 13:20:10,636 | INFO | Successfully renamed test_48.jpg to abstract_32.jpg\n",
      "2025-05-18 13:20:10,637 | INFO | Successfully renamed test_47.jpg to abstract_33.jpg\n",
      "2025-05-18 13:20:10,638 | INFO | Successfully renamed test_43.jpg to abstract_34.jpg\n",
      "2025-05-18 13:20:10,639 | INFO | Successfully renamed test_66.jpg to abstract_35.jpg\n",
      "2025-05-18 13:20:10,640 | INFO | Successfully renamed test_3.jpg to abstract_36.jpg\n",
      "2025-05-18 13:20:10,641 | INFO | Successfully renamed test_35.jpg to abstract_37.jpg\n",
      "2025-05-18 13:20:10,642 | INFO | Successfully renamed test_42.jpg to abstract_38.jpg\n",
      "2025-05-18 13:20:10,643 | INFO | Successfully renamed test_58.jpg to abstract_39.jpg\n",
      "2025-05-18 13:20:10,644 | INFO | Successfully renamed test_86.jpg to abstract_40.jpg\n",
      "2025-05-18 13:20:10,645 | INFO | Successfully renamed test_56.jpg to abstract_41.jpg\n",
      "2025-05-18 13:20:10,646 | INFO | Successfully renamed test_57.jpg to abstract_42.jpg\n",
      "2025-05-18 13:20:10,647 | INFO | Successfully renamed test_4.jpg to abstract_43.jpg\n",
      "2025-05-18 13:20:10,648 | INFO | Successfully renamed test_39.jpg to abstract_44.jpg\n",
      "2025-05-18 13:20:10,649 | INFO | Successfully renamed test_36.jpg to abstract_45.jpg\n",
      "2025-05-18 13:20:10,650 | INFO | Successfully renamed test_15.jpg to abstract_46.jpg\n",
      "2025-05-18 13:20:10,651 | INFO | Successfully renamed test_14.jpg to abstract_47.jpg\n",
      "2025-05-18 13:20:10,652 | INFO | Successfully renamed test_65.jpg to abstract_48.jpg\n",
      "2025-05-18 13:20:10,653 | INFO | Successfully renamed test_9.jpg to abstract_49.jpg\n",
      "2025-05-18 13:20:10,654 | INFO | Successfully renamed test_75.jpg to abstract_50.jpg\n",
      "2025-05-18 13:20:10,655 | INFO | Successfully renamed test_63.jpg to abstract_51.jpg\n",
      "2025-05-18 13:20:10,657 | INFO | Successfully renamed test_53.jpg to abstract_52.jpg\n",
      "2025-05-18 13:20:10,658 | INFO | Successfully renamed test_87.jpg to abstract_53.jpg\n",
      "2025-05-18 13:20:10,659 | INFO | Successfully renamed test_32.jpg to abstract_54.jpg\n",
      "2025-05-18 13:20:10,660 | INFO | Successfully renamed test_76.jpg to abstract_55.jpg\n",
      "2025-05-18 13:20:10,661 | INFO | Successfully renamed test_82.jpg to abstract_56.jpg\n",
      "2025-05-18 13:20:10,662 | INFO | Successfully renamed test_31.jpg to abstract_57.jpg\n",
      "2025-05-18 13:20:10,664 | INFO | Successfully renamed test_6.jpg to abstract_58.jpg\n",
      "2025-05-18 13:20:10,665 | INFO | Successfully renamed test_69.jpg to abstract_59.jpg\n",
      "2025-05-18 13:20:10,666 | INFO | Successfully renamed test_59.jpg to abstract_60.jpg\n",
      "2025-05-18 13:20:10,667 | INFO | Successfully renamed test_72.jpg to abstract_61.jpg\n",
      "2025-05-18 13:20:10,668 | INFO | Successfully renamed test_41.jpg to abstract_62.jpg\n",
      "2025-05-18 13:20:10,670 | INFO | Successfully renamed test_45.jpg to abstract_63.jpg\n",
      "2025-05-18 13:20:10,671 | INFO | Successfully renamed test_27.jpg to abstract_64.jpg\n",
      "2025-05-18 13:20:10,672 | INFO | Successfully renamed test_28.jpg to abstract_65.jpg\n",
      "2025-05-18 13:20:10,673 | INFO | Successfully renamed test_62.jpg to abstract_66.jpg\n",
      "2025-05-18 13:20:10,674 | INFO | Successfully renamed test_16.jpg to abstract_67.jpg\n",
      "2025-05-18 13:20:10,675 | INFO | Successfully renamed test_54.jpg to abstract_68.jpg\n",
      "2025-05-18 13:20:10,677 | INFO | Successfully renamed test_84.jpg to abstract_69.jpg\n",
      "2025-05-18 13:20:10,678 | INFO | Successfully renamed test_13.jpg to abstract_70.jpg\n",
      "2025-05-18 13:20:10,679 | INFO | Successfully renamed test_60.jpg to abstract_71.jpg\n",
      "2025-05-18 13:20:10,680 | INFO | Successfully renamed test_67.jpg to abstract_72.jpg\n",
      "2025-05-18 13:20:10,682 | INFO | Successfully renamed test_52.jpg to abstract_73.jpg\n",
      "2025-05-18 13:20:10,683 | INFO | Successfully renamed test_89.jpg to abstract_74.jpg\n",
      "2025-05-18 13:20:10,684 | INFO | Successfully renamed test_51.jpg to abstract_75.jpg\n",
      "2025-05-18 13:20:10,685 | INFO | Successfully renamed test_79.jpg to abstract_76.jpg\n",
      "2025-05-18 13:20:10,687 | INFO | Successfully renamed test_44.jpg to abstract_77.jpg\n",
      "2025-05-18 13:20:10,688 | INFO | Successfully renamed test_49.jpg to abstract_78.jpg\n",
      "2025-05-18 13:20:10,689 | INFO | Successfully renamed test_24.jpg to abstract_79.jpg\n",
      "2025-05-18 13:20:10,690 | INFO | Successfully renamed test_25.jpg to abstract_80.jpg\n",
      "2025-05-18 13:20:10,691 | INFO | Successfully renamed test_85.jpg to abstract_81.jpg\n",
      "2025-05-18 13:20:10,692 | INFO | Successfully renamed test_21.jpg to abstract_82.jpg\n",
      "2025-05-18 13:20:10,694 | INFO | Successfully renamed test_70.jpg to abstract_83.jpg\n",
      "2025-05-18 13:20:10,695 | INFO | Successfully renamed test_77.jpg to abstract_84.jpg\n",
      "2025-05-18 13:20:10,696 | INFO | Successfully renamed test_83.jpg to abstract_85.jpg\n",
      "2025-05-18 13:20:10,697 | INFO | Successfully renamed test_55.jpg to abstract_86.jpg\n",
      "2025-05-18 13:20:10,698 | INFO | Successfully renamed test_88.jpg to abstract_87.jpg\n",
      "2025-05-18 13:20:10,699 | INFO | Successfully renamed test_78.jpg to abstract_88.jpg\n",
      "2025-05-18 13:20:10,700 | INFO | Successfully renamed test_34.jpg to abstract_89.jpg\n",
      "2025-05-18 13:20:10,702 | INFO | Successfully renamed test_73.jpg to abstract_90.jpg\n"
     ]
    }
   ],
   "source": [
    "data.rename()"
   ]
  },
  {
   "cell_type": "code",
   "execution_count": null,
   "id": "3b7209ce",
   "metadata": {},
   "outputs": [],
   "source": []
  }
 ],
 "metadata": {
  "kernelspec": {
   "display_name": "venv",
   "language": "python",
   "name": "python3"
  },
  "language_info": {
   "codemirror_mode": {
    "name": "ipython",
    "version": 3
   },
   "file_extension": ".py",
   "mimetype": "text/x-python",
   "name": "python",
   "nbconvert_exporter": "python",
   "pygments_lexer": "ipython3",
   "version": "3.12.3"
  }
 },
 "nbformat": 4,
 "nbformat_minor": 5
}
