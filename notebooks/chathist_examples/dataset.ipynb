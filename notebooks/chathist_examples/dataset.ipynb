{
 "cells": [
  {
   "cell_type": "code",
   "execution_count": 1,
   "id": "fe55c6b9",
   "metadata": {},
   "outputs": [],
   "source": [
    "import chathist\n",
    "from chathist import Tokenizer, InstructionDataLoader,InstructionDataset, InstructionStyle\n",
    "import pandas as pd\n",
    "import torch"
   ]
  },
  {
   "cell_type": "markdown",
   "id": "8ac88812",
   "metadata": {},
   "source": [
    "### Trying the same of chat dataset."
   ]
  },
  {
   "cell_type": "code",
   "execution_count": 2,
   "id": "9f24bb64",
   "metadata": {},
   "outputs": [
    {
     "name": "stderr",
     "output_type": "stream",
     "text": [
      "/Library/Frameworks/Python.framework/Versions/3.12/lib/python3.12/site-packages/tqdm/auto.py:21: TqdmWarning: IProgress not found. Please update jupyter and ipywidgets. See https://ipywidgets.readthedocs.io/en/stable/user_install.html\n",
      "  from .autonotebook import tqdm as notebook_tqdm\n"
     ]
    }
   ],
   "source": [
    "chat_df = pd.read_json(\"hf://datasets/ogrnz/chat-titles/dataset.jsonl\", lines=True)"
   ]
  },
  {
   "cell_type": "code",
   "execution_count": 3,
   "id": "c61ca5a0",
   "metadata": {},
   "outputs": [
    {
     "data": {
      "text/plain": [
       "Index(['message', 'title'], dtype='object')"
      ]
     },
     "execution_count": 3,
     "metadata": {},
     "output_type": "execute_result"
    }
   ],
   "source": [
    "chat_df.columns"
   ]
  },
  {
   "cell_type": "code",
   "execution_count": 4,
   "id": "a6828bec",
   "metadata": {},
   "outputs": [
    {
     "data": {
      "text/html": [
       "<div>\n",
       "<style scoped>\n",
       "    .dataframe tbody tr th:only-of-type {\n",
       "        vertical-align: middle;\n",
       "    }\n",
       "\n",
       "    .dataframe tbody tr th {\n",
       "        vertical-align: top;\n",
       "    }\n",
       "\n",
       "    .dataframe thead th {\n",
       "        text-align: right;\n",
       "    }\n",
       "</style>\n",
       "<table border=\"1\" class=\"dataframe\">\n",
       "  <thead>\n",
       "    <tr style=\"text-align: right;\">\n",
       "      <th></th>\n",
       "      <th>message</th>\n",
       "      <th>title</th>\n",
       "    </tr>\n",
       "  </thead>\n",
       "  <tbody>\n",
       "    <tr>\n",
       "      <th>0</th>\n",
       "      <td>Develop a method for clustering astronomical d...</td>\n",
       "      <td>Astronomical Data Clustering Method</td>\n",
       "    </tr>\n",
       "    <tr>\n",
       "      <th>1</th>\n",
       "      <td>What is the role of dopamine in the brain as a...</td>\n",
       "      <td>Dopamine as a Neurotransmitter</td>\n",
       "    </tr>\n",
       "    <tr>\n",
       "      <th>2</th>\n",
       "      <td>Replace the \\\"XXX\\\" in the following sentence ...</td>\n",
       "      <td>Company Sustainability Objective</td>\n",
       "    </tr>\n",
       "    <tr>\n",
       "      <th>3</th>\n",
       "      <td>Identify the sentence type (declarative, inter...</td>\n",
       "      <td>Sentence Type Identification</td>\n",
       "    </tr>\n",
       "    <tr>\n",
       "      <th>4</th>\n",
       "      <td>Suggest a book title for a fantasy novel about...</td>\n",
       "      <td>Outlaws in Enchanted Realms</td>\n",
       "    </tr>\n",
       "  </tbody>\n",
       "</table>\n",
       "</div>"
      ],
      "text/plain": [
       "                                             message  \\\n",
       "0  Develop a method for clustering astronomical d...   \n",
       "1  What is the role of dopamine in the brain as a...   \n",
       "2  Replace the \\\"XXX\\\" in the following sentence ...   \n",
       "3  Identify the sentence type (declarative, inter...   \n",
       "4  Suggest a book title for a fantasy novel about...   \n",
       "\n",
       "                                 title  \n",
       "0  Astronomical Data Clustering Method  \n",
       "1       Dopamine as a Neurotransmitter  \n",
       "2     Company Sustainability Objective  \n",
       "3         Sentence Type Identification  \n",
       "4          Outlaws in Enchanted Realms  "
      ]
     },
     "execution_count": 4,
     "metadata": {},
     "output_type": "execute_result"
    }
   ],
   "source": [
    "chat_df.head()"
   ]
  },
  {
   "cell_type": "markdown",
   "id": "68e7da8d",
   "metadata": {},
   "source": [
    "### Setting tokenizer"
   ]
  },
  {
   "cell_type": "code",
   "execution_count": 5,
   "id": "5b10128a",
   "metadata": {},
   "outputs": [],
   "source": [
    "tokenizer = Tokenizer()"
   ]
  },
  {
   "cell_type": "markdown",
   "id": "499fa76b",
   "metadata": {},
   "source": [
    "### Setting the config for tokenizer"
   ]
  },
  {
   "cell_type": "code",
   "execution_count": 6,
   "id": "06d3e1b5",
   "metadata": {},
   "outputs": [],
   "source": [
    "chathist.config.set_tokenizer(tokenizer=tokenizer)\n",
    "chathist.config.set_dtype(torch.int32)"
   ]
  },
  {
   "cell_type": "markdown",
   "id": "28719cae",
   "metadata": {},
   "source": [
    "### Creating a dataset using phi3"
   ]
  },
  {
   "cell_type": "code",
   "execution_count": 7,
   "id": "d6453eda",
   "metadata": {},
   "outputs": [],
   "source": [
    "style = InstructionStyle.load(style='phi3', input_query=\"<|user|>\\n\", response_query=\"\\n<|llm|>\\n\")"
   ]
  },
  {
   "cell_type": "code",
   "execution_count": 8,
   "id": "23ffb6a3",
   "metadata": {},
   "outputs": [],
   "source": [
    "df = style.convert_train(chat_df, input_col='message', response_col= 'title', output_col='instruct', new_df=True)"
   ]
  },
  {
   "cell_type": "code",
   "execution_count": 9,
   "id": "86c42fc1",
   "metadata": {},
   "outputs": [
    {
     "data": {
      "text/html": [
       "<div>\n",
       "<style scoped>\n",
       "    .dataframe tbody tr th:only-of-type {\n",
       "        vertical-align: middle;\n",
       "    }\n",
       "\n",
       "    .dataframe tbody tr th {\n",
       "        vertical-align: top;\n",
       "    }\n",
       "\n",
       "    .dataframe thead th {\n",
       "        text-align: right;\n",
       "    }\n",
       "</style>\n",
       "<table border=\"1\" class=\"dataframe\">\n",
       "  <thead>\n",
       "    <tr style=\"text-align: right;\">\n",
       "      <th></th>\n",
       "      <th>instruct</th>\n",
       "    </tr>\n",
       "  </thead>\n",
       "  <tbody>\n",
       "    <tr>\n",
       "      <th>0</th>\n",
       "      <td>&lt;|user|&gt;\\nDevelop a method for clustering astr...</td>\n",
       "    </tr>\n",
       "    <tr>\n",
       "      <th>1</th>\n",
       "      <td>&lt;|user|&gt;\\nWhat is the role of dopamine in the ...</td>\n",
       "    </tr>\n",
       "    <tr>\n",
       "      <th>2</th>\n",
       "      <td>&lt;|user|&gt;\\nReplace the \\\"XXX\\\" in the following...</td>\n",
       "    </tr>\n",
       "    <tr>\n",
       "      <th>3</th>\n",
       "      <td>&lt;|user|&gt;\\nIdentify the sentence type (declarat...</td>\n",
       "    </tr>\n",
       "    <tr>\n",
       "      <th>4</th>\n",
       "      <td>&lt;|user|&gt;\\nSuggest a book title for a fantasy n...</td>\n",
       "    </tr>\n",
       "  </tbody>\n",
       "</table>\n",
       "</div>"
      ],
      "text/plain": [
       "                                            instruct\n",
       "0  <|user|>\\nDevelop a method for clustering astr...\n",
       "1  <|user|>\\nWhat is the role of dopamine in the ...\n",
       "2  <|user|>\\nReplace the \\\"XXX\\\" in the following...\n",
       "3  <|user|>\\nIdentify the sentence type (declarat...\n",
       "4  <|user|>\\nSuggest a book title for a fantasy n..."
      ]
     },
     "execution_count": 9,
     "metadata": {},
     "output_type": "execute_result"
    }
   ],
   "source": [
    "df.head()"
   ]
  },
  {
   "cell_type": "markdown",
   "id": "9fb3a802",
   "metadata": {},
   "source": [
    "### Using InstructionDataset"
   ]
  },
  {
   "cell_type": "code",
   "execution_count": 10,
   "id": "acd103ee",
   "metadata": {},
   "outputs": [],
   "source": [
    "dataset = InstructionDataset(df['instruct'].tolist())"
   ]
  },
  {
   "cell_type": "code",
   "execution_count": 11,
   "id": "5ba197c3",
   "metadata": {},
   "outputs": [],
   "source": [
    "loader = InstructionDataLoader()"
   ]
  },
  {
   "cell_type": "markdown",
   "id": "a99a53e4",
   "metadata": {},
   "source": [
    "### Using InstructionLoader without masking inputs (Phi3)"
   ]
  },
  {
   "cell_type": "code",
   "execution_count": 12,
   "id": "319c77ed",
   "metadata": {},
   "outputs": [],
   "source": [
    "dataloader = loader.load(dataset=dataset, batch_size=8, shuffle=True, drop_last=True, mask_input=False)"
   ]
  },
  {
   "cell_type": "code",
   "execution_count": 13,
   "id": "ca4d4d7c",
   "metadata": {},
   "outputs": [],
   "source": [
    "data = iter(dataloader)"
   ]
  },
  {
   "cell_type": "code",
   "execution_count": 14,
   "id": "f22dd260",
   "metadata": {},
   "outputs": [],
   "source": [
    "first_batch = next(data)"
   ]
  },
  {
   "cell_type": "code",
   "execution_count": 15,
   "id": "dfbc6765",
   "metadata": {},
   "outputs": [],
   "source": [
    "sample_input = first_batch[0][2]"
   ]
  },
  {
   "cell_type": "code",
   "execution_count": 16,
   "id": "c5edd4bf",
   "metadata": {},
   "outputs": [
    {
     "name": "stdout",
     "output_type": "stream",
     "text": [
      "<|user|>\n",
      "Name three popular authors from the 20th century.\n",
      "<|llm|>\n",
      "Popular 20th Century Authors<|endoftext|><|endoftext|><|endoftext|><|endoftext|><|endoftext|><|endoftext|><|endoftext|><|endoftext|><|endoftext|><|endoftext|><|endoftext|><|endoftext|><|endoftext|><|endoftext|><|endoftext|><|endoftext|><|endoftext|><|endoftext|><|endoftext|><|endoftext|><|endoftext|><|endoftext|><|endoftext|><|endoftext|><|endoftext|><|endoftext|><|endoftext|><|endoftext|><|endoftext|><|endoftext|><|endoftext|><|endoftext|><|endoftext|><|endoftext|><|endoftext|><|endoftext|><|endoftext|><|endoftext|><|endoftext|><|endoftext|><|endoftext|><|endoftext|><|endoftext|><|endoftext|><|endoftext|><|endoftext|><|endoftext|><|endoftext|><|endoftext|><|endoftext|><|endoftext|><|endoftext|><|endoftext|><|endoftext|><|endoftext|><|endoftext|><|endoftext|><|endoftext|><|endoftext|><|endoftext|><|endoftext|><|endoftext|><|endoftext|><|endoftext|><|endoftext|><|endoftext|><|endoftext|><|endoftext|><|endoftext|><|endoftext|><|endoftext|><|endoftext|><|endoftext|><|endoftext|><|endoftext|><|endoftext|><|endoftext|><|endoftext|><|endoftext|><|endoftext|><|endoftext|><|endoftext|><|endoftext|><|endoftext|><|endoftext|><|endoftext|><|endoftext|><|endoftext|><|endoftext|><|endoftext|><|endoftext|><|endoftext|><|endoftext|><|endoftext|><|endoftext|><|endoftext|><|endoftext|><|endoftext|><|endoftext|><|endoftext|><|endoftext|><|endoftext|><|endoftext|><|endoftext|><|endoftext|><|endoftext|><|endoftext|><|endoftext|><|endoftext|><|endoftext|><|endoftext|><|endoftext|><|endoftext|><|endoftext|><|endoftext|><|endoftext|><|endoftext|><|endoftext|><|endoftext|><|endoftext|><|endoftext|><|endoftext|><|endoftext|><|endoftext|><|endoftext|><|endoftext|><|endoftext|><|endoftext|><|endoftext|><|endoftext|><|endoftext|><|endoftext|><|endoftext|><|endoftext|>\n"
     ]
    }
   ],
   "source": [
    "print(tokenizer.decode_ids(sample_input))"
   ]
  },
  {
   "cell_type": "code",
   "execution_count": 17,
   "id": "8f8e26bf",
   "metadata": {},
   "outputs": [],
   "source": [
    "sample_response = first_batch[1][2]"
   ]
  },
  {
   "cell_type": "code",
   "execution_count": 18,
   "id": "e0936849",
   "metadata": {},
   "outputs": [
    {
     "name": "stdout",
     "output_type": "stream",
     "text": [
      "|user|>\n",
      "Name three popular authors from the 20th century.\n",
      "<|llm|>\n",
      "Popular 20th Century Authors<|endoftext|>\n"
     ]
    }
   ],
   "source": [
    "print(tokenizer.decode_ids(sample_response))"
   ]
  },
  {
   "cell_type": "markdown",
   "id": "b5720739",
   "metadata": {},
   "source": [
    "### Creating a dataset using alpaca"
   ]
  },
  {
   "cell_type": "code",
   "execution_count": 38,
   "id": "74d957ed",
   "metadata": {},
   "outputs": [],
   "source": [
    "prompt = \"###You are a very smart llm and given the input query your job is to predict the title of the input.\\n\""
   ]
  },
  {
   "cell_type": "code",
   "execution_count": 39,
   "id": "856811aa",
   "metadata": {},
   "outputs": [],
   "source": [
    "style = InstructionStyle.load(style='alpaca', prompt= prompt, input_query=\"### Input:\\n\", response_query=\"\\n### Response:\\n\")"
   ]
  },
  {
   "cell_type": "code",
   "execution_count": 40,
   "id": "59be1bdf",
   "metadata": {},
   "outputs": [],
   "source": [
    "df = style.convert_train(chat_df, input_col='message', response_col= 'title', output_col='instruct', new_df=True)"
   ]
  },
  {
   "cell_type": "code",
   "execution_count": 41,
   "id": "92a8d5e7",
   "metadata": {},
   "outputs": [
    {
     "data": {
      "text/html": [
       "<div>\n",
       "<style scoped>\n",
       "    .dataframe tbody tr th:only-of-type {\n",
       "        vertical-align: middle;\n",
       "    }\n",
       "\n",
       "    .dataframe tbody tr th {\n",
       "        vertical-align: top;\n",
       "    }\n",
       "\n",
       "    .dataframe thead th {\n",
       "        text-align: right;\n",
       "    }\n",
       "</style>\n",
       "<table border=\"1\" class=\"dataframe\">\n",
       "  <thead>\n",
       "    <tr style=\"text-align: right;\">\n",
       "      <th></th>\n",
       "      <th>instruct</th>\n",
       "    </tr>\n",
       "  </thead>\n",
       "  <tbody>\n",
       "    <tr>\n",
       "      <th>0</th>\n",
       "      <td>###You are a very smart llm and given the inpu...</td>\n",
       "    </tr>\n",
       "    <tr>\n",
       "      <th>1</th>\n",
       "      <td>###You are a very smart llm and given the inpu...</td>\n",
       "    </tr>\n",
       "    <tr>\n",
       "      <th>2</th>\n",
       "      <td>###You are a very smart llm and given the inpu...</td>\n",
       "    </tr>\n",
       "    <tr>\n",
       "      <th>3</th>\n",
       "      <td>###You are a very smart llm and given the inpu...</td>\n",
       "    </tr>\n",
       "    <tr>\n",
       "      <th>4</th>\n",
       "      <td>###You are a very smart llm and given the inpu...</td>\n",
       "    </tr>\n",
       "  </tbody>\n",
       "</table>\n",
       "</div>"
      ],
      "text/plain": [
       "                                            instruct\n",
       "0  ###You are a very smart llm and given the inpu...\n",
       "1  ###You are a very smart llm and given the inpu...\n",
       "2  ###You are a very smart llm and given the inpu...\n",
       "3  ###You are a very smart llm and given the inpu...\n",
       "4  ###You are a very smart llm and given the inpu..."
      ]
     },
     "execution_count": 41,
     "metadata": {},
     "output_type": "execute_result"
    }
   ],
   "source": [
    "df.head()"
   ]
  },
  {
   "cell_type": "markdown",
   "id": "4a02a8e9",
   "metadata": {},
   "source": [
    "### Using InstructionDataset"
   ]
  },
  {
   "cell_type": "code",
   "execution_count": 42,
   "id": "a4f82a96",
   "metadata": {},
   "outputs": [],
   "source": [
    "dataset = InstructionDataset(df['instruct'].tolist())"
   ]
  },
  {
   "cell_type": "code",
   "execution_count": 43,
   "id": "9a9a1ee1",
   "metadata": {},
   "outputs": [],
   "source": [
    "loader = InstructionDataLoader()"
   ]
  },
  {
   "cell_type": "markdown",
   "id": "f64c238f",
   "metadata": {},
   "source": [
    "### Using InstructionLoader without masking inputs (alpaca)"
   ]
  },
  {
   "cell_type": "code",
   "execution_count": 44,
   "id": "029422f5",
   "metadata": {},
   "outputs": [],
   "source": [
    "dataloader = loader.load(dataset=dataset, batch_size=8, shuffle=True, drop_last=True, mask_input=False)"
   ]
  },
  {
   "cell_type": "code",
   "execution_count": 45,
   "id": "36d75418",
   "metadata": {},
   "outputs": [],
   "source": [
    "data = iter(dataloader)"
   ]
  },
  {
   "cell_type": "code",
   "execution_count": 46,
   "id": "8a94ac15",
   "metadata": {},
   "outputs": [],
   "source": [
    "first_batch = next(data)"
   ]
  },
  {
   "cell_type": "code",
   "execution_count": 47,
   "id": "08734545",
   "metadata": {},
   "outputs": [],
   "source": [
    "sample_input = first_batch[0][2]"
   ]
  },
  {
   "cell_type": "code",
   "execution_count": 48,
   "id": "fbd4a1d8",
   "metadata": {},
   "outputs": [
    {
     "name": "stdout",
     "output_type": "stream",
     "text": [
      "###You are a very smart llm and given the input query your job is to predict the title of the input.\n",
      "### Input:\n",
      "What are good voice-to-text software that works locally (no internet/Cloud) ?\n",
      "### Response:\n",
      "Local Voice-to-Text Software<|endoftext|><|endoftext|><|endoftext|><|endoftext|><|endoftext|><|endoftext|><|endoftext|><|endoftext|><|endoftext|><|endoftext|><|endoftext|><|endoftext|><|endoftext|><|endoftext|><|endoftext|><|endoftext|><|endoftext|><|endoftext|><|endoftext|><|endoftext|><|endoftext|><|endoftext|><|endoftext|><|endoftext|><|endoftext|><|endoftext|><|endoftext|><|endoftext|><|endoftext|><|endoftext|><|endoftext|><|endoftext|><|endoftext|><|endoftext|><|endoftext|><|endoftext|><|endoftext|><|endoftext|>\n"
     ]
    }
   ],
   "source": [
    "print(tokenizer.decode_ids(sample_input))"
   ]
  },
  {
   "cell_type": "code",
   "execution_count": 49,
   "id": "73d88edc",
   "metadata": {},
   "outputs": [],
   "source": [
    "sample_response = first_batch[1][2]"
   ]
  },
  {
   "cell_type": "code",
   "execution_count": 50,
   "id": "8434fd28",
   "metadata": {},
   "outputs": [
    {
     "name": "stdout",
     "output_type": "stream",
     "text": [
      "You are a very smart llm and given the input query your job is to predict the title of the input.\n",
      "### Input:\n",
      "What are good voice-to-text software that works locally (no internet/Cloud) ?\n",
      "### Response:\n",
      "Local Voice-to-Text Software<|endoftext|>\n"
     ]
    }
   ],
   "source": [
    "print(tokenizer.decode_ids(sample_response))"
   ]
  },
  {
   "cell_type": "markdown",
   "id": "b86b9f13",
   "metadata": {},
   "source": [
    "### Using InstructionDataLoader with input masking.(Should Implement)"
   ]
  },
  {
   "cell_type": "code",
   "execution_count": null,
   "id": "6e4b385a",
   "metadata": {},
   "outputs": [],
   "source": []
  }
 ],
 "metadata": {
  "kernelspec": {
   "display_name": "Python 3",
   "language": "python",
   "name": "python3"
  },
  "language_info": {
   "codemirror_mode": {
    "name": "ipython",
    "version": 3
   },
   "file_extension": ".py",
   "mimetype": "text/x-python",
   "name": "python",
   "nbconvert_exporter": "python",
   "pygments_lexer": "ipython3",
   "version": "3.12.0"
  }
 },
 "nbformat": 4,
 "nbformat_minor": 5
}
