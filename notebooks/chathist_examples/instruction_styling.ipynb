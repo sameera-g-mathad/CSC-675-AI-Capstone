{
 "cells": [
  {
   "cell_type": "code",
   "execution_count": 29,
   "id": "3282a762",
   "metadata": {},
   "outputs": [],
   "source": [
    "from chathist import InstructionStyle\n",
    "import pandas as pd"
   ]
  },
  {
   "cell_type": "markdown",
   "id": "0425bba6",
   "metadata": {},
   "source": [
    "### Trying the same of chat dataset."
   ]
  },
  {
   "cell_type": "code",
   "execution_count": 30,
   "id": "4d3ba225",
   "metadata": {},
   "outputs": [],
   "source": [
    "chat_df = pd.read_json(\"hf://datasets/ogrnz/chat-titles/dataset.jsonl\", lines=True)"
   ]
  },
  {
   "cell_type": "code",
   "execution_count": 31,
   "id": "adf274cf",
   "metadata": {},
   "outputs": [
    {
     "data": {
      "text/plain": [
       "Index(['message', 'title'], dtype='object')"
      ]
     },
     "execution_count": 31,
     "metadata": {},
     "output_type": "execute_result"
    }
   ],
   "source": [
    "chat_df.columns"
   ]
  },
  {
   "cell_type": "code",
   "execution_count": 32,
   "id": "1f7ca0d7",
   "metadata": {},
   "outputs": [
    {
     "data": {
      "text/html": [
       "<div>\n",
       "<style scoped>\n",
       "    .dataframe tbody tr th:only-of-type {\n",
       "        vertical-align: middle;\n",
       "    }\n",
       "\n",
       "    .dataframe tbody tr th {\n",
       "        vertical-align: top;\n",
       "    }\n",
       "\n",
       "    .dataframe thead th {\n",
       "        text-align: right;\n",
       "    }\n",
       "</style>\n",
       "<table border=\"1\" class=\"dataframe\">\n",
       "  <thead>\n",
       "    <tr style=\"text-align: right;\">\n",
       "      <th></th>\n",
       "      <th>message</th>\n",
       "      <th>title</th>\n",
       "    </tr>\n",
       "  </thead>\n",
       "  <tbody>\n",
       "    <tr>\n",
       "      <th>0</th>\n",
       "      <td>Develop a method for clustering astronomical d...</td>\n",
       "      <td>Astronomical Data Clustering Method</td>\n",
       "    </tr>\n",
       "    <tr>\n",
       "      <th>1</th>\n",
       "      <td>What is the role of dopamine in the brain as a...</td>\n",
       "      <td>Dopamine as a Neurotransmitter</td>\n",
       "    </tr>\n",
       "    <tr>\n",
       "      <th>2</th>\n",
       "      <td>Replace the \\\"XXX\\\" in the following sentence ...</td>\n",
       "      <td>Company Sustainability Objective</td>\n",
       "    </tr>\n",
       "    <tr>\n",
       "      <th>3</th>\n",
       "      <td>Identify the sentence type (declarative, inter...</td>\n",
       "      <td>Sentence Type Identification</td>\n",
       "    </tr>\n",
       "    <tr>\n",
       "      <th>4</th>\n",
       "      <td>Suggest a book title for a fantasy novel about...</td>\n",
       "      <td>Outlaws in Enchanted Realms</td>\n",
       "    </tr>\n",
       "  </tbody>\n",
       "</table>\n",
       "</div>"
      ],
      "text/plain": [
       "                                             message  \\\n",
       "0  Develop a method for clustering astronomical d...   \n",
       "1  What is the role of dopamine in the brain as a...   \n",
       "2  Replace the \\\"XXX\\\" in the following sentence ...   \n",
       "3  Identify the sentence type (declarative, inter...   \n",
       "4  Suggest a book title for a fantasy novel about...   \n",
       "\n",
       "                                 title  \n",
       "0  Astronomical Data Clustering Method  \n",
       "1       Dopamine as a Neurotransmitter  \n",
       "2     Company Sustainability Objective  \n",
       "3         Sentence Type Identification  \n",
       "4          Outlaws in Enchanted Realms  "
      ]
     },
     "execution_count": 32,
     "metadata": {},
     "output_type": "execute_result"
    }
   ],
   "source": [
    "chat_df.head()"
   ]
  },
  {
   "cell_type": "markdown",
   "id": "241d2754",
   "metadata": {},
   "source": [
    "### Alpaca"
   ]
  },
  {
   "cell_type": "code",
   "execution_count": 33,
   "id": "2bbee686",
   "metadata": {},
   "outputs": [],
   "source": [
    "prompt = \"###You are a very smart llm and given the input query your job is to predict the title of the input.\\n\""
   ]
  },
  {
   "cell_type": "markdown",
   "id": "4355ed12",
   "metadata": {},
   "source": [
    "Using InstructionStyle.load() as .load() is a static method."
   ]
  },
  {
   "cell_type": "code",
   "execution_count": 34,
   "id": "977dea1c",
   "metadata": {},
   "outputs": [],
   "source": [
    "style = InstructionStyle.load(style='alpaca',prompt= prompt,  input_query=\"### Input: \\n\", response_query=\"\\n### Response: \\n\")"
   ]
  },
  {
   "cell_type": "code",
   "execution_count": 35,
   "id": "59e17ed8",
   "metadata": {},
   "outputs": [
    {
     "name": "stdout",
     "output_type": "stream",
     "text": [
      "###You are a very smart llm and given the input query your job is to predict the title of the input.\n",
      "### Input: \n",
      "Hi, what is the meaning of AI\n",
      "### Response: \n",
      "\n"
     ]
    }
   ],
   "source": [
    "print(style.format(_input = 'Hi, what is the meaning of AI'))"
   ]
  },
  {
   "cell_type": "markdown",
   "id": "2b74e1c4",
   "metadata": {},
   "source": [
    "#### New Df using convert_train(). Can use convert_test() as well with new df and it works fine."
   ]
  },
  {
   "cell_type": "code",
   "execution_count": 36,
   "id": "31f73212",
   "metadata": {},
   "outputs": [],
   "source": [
    "df = style.convert_train(chat_df, input_col='message', response_col= 'title', output_col='instruct', new_df=True)"
   ]
  },
  {
   "cell_type": "code",
   "execution_count": 37,
   "id": "4dbcf4af",
   "metadata": {},
   "outputs": [
    {
     "data": {
      "text/html": [
       "<div>\n",
       "<style scoped>\n",
       "    .dataframe tbody tr th:only-of-type {\n",
       "        vertical-align: middle;\n",
       "    }\n",
       "\n",
       "    .dataframe tbody tr th {\n",
       "        vertical-align: top;\n",
       "    }\n",
       "\n",
       "    .dataframe thead th {\n",
       "        text-align: right;\n",
       "    }\n",
       "</style>\n",
       "<table border=\"1\" class=\"dataframe\">\n",
       "  <thead>\n",
       "    <tr style=\"text-align: right;\">\n",
       "      <th></th>\n",
       "      <th>instruct</th>\n",
       "    </tr>\n",
       "  </thead>\n",
       "  <tbody>\n",
       "    <tr>\n",
       "      <th>0</th>\n",
       "      <td>###You are a very smart llm and given the inpu...</td>\n",
       "    </tr>\n",
       "    <tr>\n",
       "      <th>1</th>\n",
       "      <td>###You are a very smart llm and given the inpu...</td>\n",
       "    </tr>\n",
       "    <tr>\n",
       "      <th>2</th>\n",
       "      <td>###You are a very smart llm and given the inpu...</td>\n",
       "    </tr>\n",
       "    <tr>\n",
       "      <th>3</th>\n",
       "      <td>###You are a very smart llm and given the inpu...</td>\n",
       "    </tr>\n",
       "    <tr>\n",
       "      <th>4</th>\n",
       "      <td>###You are a very smart llm and given the inpu...</td>\n",
       "    </tr>\n",
       "  </tbody>\n",
       "</table>\n",
       "</div>"
      ],
      "text/plain": [
       "                                            instruct\n",
       "0  ###You are a very smart llm and given the inpu...\n",
       "1  ###You are a very smart llm and given the inpu...\n",
       "2  ###You are a very smart llm and given the inpu...\n",
       "3  ###You are a very smart llm and given the inpu...\n",
       "4  ###You are a very smart llm and given the inpu..."
      ]
     },
     "execution_count": 37,
     "metadata": {},
     "output_type": "execute_result"
    }
   ],
   "source": [
    "df.head()"
   ]
  },
  {
   "cell_type": "code",
   "execution_count": 38,
   "id": "25c9fb68",
   "metadata": {},
   "outputs": [
    {
     "name": "stdout",
     "output_type": "stream",
     "text": [
      "###You are a very smart llm and given the input query your job is to predict the title of the input.\n",
      "### Input: \n",
      "Develop a method for clustering astronomical data.\n",
      "### Response: \n",
      "Astronomical Data Clustering Method\n"
     ]
    }
   ],
   "source": [
    "print(df['instruct'].values[0])"
   ]
  },
  {
   "cell_type": "markdown",
   "id": "a1f25ed7",
   "metadata": {},
   "source": [
    "##### Existing Dataframe with convert_test(). Can use convert_train() with existing dataframe as well and it works fine."
   ]
  },
  {
   "cell_type": "code",
   "execution_count": 39,
   "id": "247efd6d",
   "metadata": {},
   "outputs": [],
   "source": [
    "df = style.convert_test(chat_df, input_col='message', output_col='instruct', new_df=False)"
   ]
  },
  {
   "cell_type": "code",
   "execution_count": 40,
   "id": "aefd5084",
   "metadata": {},
   "outputs": [
    {
     "data": {
      "text/html": [
       "<div>\n",
       "<style scoped>\n",
       "    .dataframe tbody tr th:only-of-type {\n",
       "        vertical-align: middle;\n",
       "    }\n",
       "\n",
       "    .dataframe tbody tr th {\n",
       "        vertical-align: top;\n",
       "    }\n",
       "\n",
       "    .dataframe thead th {\n",
       "        text-align: right;\n",
       "    }\n",
       "</style>\n",
       "<table border=\"1\" class=\"dataframe\">\n",
       "  <thead>\n",
       "    <tr style=\"text-align: right;\">\n",
       "      <th></th>\n",
       "      <th>message</th>\n",
       "      <th>title</th>\n",
       "      <th>instruct</th>\n",
       "    </tr>\n",
       "  </thead>\n",
       "  <tbody>\n",
       "    <tr>\n",
       "      <th>0</th>\n",
       "      <td>Develop a method for clustering astronomical d...</td>\n",
       "      <td>Astronomical Data Clustering Method</td>\n",
       "      <td>###You are a very smart llm and given the inpu...</td>\n",
       "    </tr>\n",
       "    <tr>\n",
       "      <th>1</th>\n",
       "      <td>What is the role of dopamine in the brain as a...</td>\n",
       "      <td>Dopamine as a Neurotransmitter</td>\n",
       "      <td>###You are a very smart llm and given the inpu...</td>\n",
       "    </tr>\n",
       "    <tr>\n",
       "      <th>2</th>\n",
       "      <td>Replace the \\\"XXX\\\" in the following sentence ...</td>\n",
       "      <td>Company Sustainability Objective</td>\n",
       "      <td>###You are a very smart llm and given the inpu...</td>\n",
       "    </tr>\n",
       "    <tr>\n",
       "      <th>3</th>\n",
       "      <td>Identify the sentence type (declarative, inter...</td>\n",
       "      <td>Sentence Type Identification</td>\n",
       "      <td>###You are a very smart llm and given the inpu...</td>\n",
       "    </tr>\n",
       "    <tr>\n",
       "      <th>4</th>\n",
       "      <td>Suggest a book title for a fantasy novel about...</td>\n",
       "      <td>Outlaws in Enchanted Realms</td>\n",
       "      <td>###You are a very smart llm and given the inpu...</td>\n",
       "    </tr>\n",
       "  </tbody>\n",
       "</table>\n",
       "</div>"
      ],
      "text/plain": [
       "                                             message  \\\n",
       "0  Develop a method for clustering astronomical d...   \n",
       "1  What is the role of dopamine in the brain as a...   \n",
       "2  Replace the \\\"XXX\\\" in the following sentence ...   \n",
       "3  Identify the sentence type (declarative, inter...   \n",
       "4  Suggest a book title for a fantasy novel about...   \n",
       "\n",
       "                                 title  \\\n",
       "0  Astronomical Data Clustering Method   \n",
       "1       Dopamine as a Neurotransmitter   \n",
       "2     Company Sustainability Objective   \n",
       "3         Sentence Type Identification   \n",
       "4          Outlaws in Enchanted Realms   \n",
       "\n",
       "                                            instruct  \n",
       "0  ###You are a very smart llm and given the inpu...  \n",
       "1  ###You are a very smart llm and given the inpu...  \n",
       "2  ###You are a very smart llm and given the inpu...  \n",
       "3  ###You are a very smart llm and given the inpu...  \n",
       "4  ###You are a very smart llm and given the inpu...  "
      ]
     },
     "execution_count": 40,
     "metadata": {},
     "output_type": "execute_result"
    }
   ],
   "source": [
    "df.head()"
   ]
  },
  {
   "cell_type": "code",
   "execution_count": 41,
   "id": "340f0193",
   "metadata": {},
   "outputs": [
    {
     "name": "stdout",
     "output_type": "stream",
     "text": [
      "###You are a very smart llm and given the input query your job is to predict the title of the input.\n",
      "### Input: \n",
      "Develop a method for clustering astronomical data.\n",
      "### Response: \n",
      "\n"
     ]
    }
   ],
   "source": [
    "print(df['instruct'].values[0])"
   ]
  },
  {
   "cell_type": "markdown",
   "id": "0cb5574a",
   "metadata": {},
   "source": [
    "### Phi3"
   ]
  },
  {
   "cell_type": "code",
   "execution_count": 42,
   "id": "49580c08",
   "metadata": {},
   "outputs": [],
   "source": [
    "style = InstructionStyle.load(style='phi3', input_query=\"<|user|>\\n\", response_query=\"\\n<|llm|>\\n\")"
   ]
  },
  {
   "cell_type": "code",
   "execution_count": 43,
   "id": "ff6c445d",
   "metadata": {},
   "outputs": [
    {
     "name": "stdout",
     "output_type": "stream",
     "text": [
      "<|user|>\n",
      "Hi, what is the meaning of AI\n",
      "<|llm|>\n",
      "\n"
     ]
    }
   ],
   "source": [
    "print(style.format(_input = 'Hi, what is the meaning of AI'))"
   ]
  },
  {
   "cell_type": "markdown",
   "id": "68732bbc",
   "metadata": {},
   "source": [
    "#### New Df using convert_train(). Can use convert_test() as well and it works fine."
   ]
  },
  {
   "cell_type": "code",
   "execution_count": 44,
   "id": "2fddb2d7",
   "metadata": {},
   "outputs": [],
   "source": [
    "df = style.convert_train(chat_df, input_col='message', response_col= 'title', output_col='instruct', new_df=True)"
   ]
  },
  {
   "cell_type": "code",
   "execution_count": 45,
   "id": "3023fcd1",
   "metadata": {},
   "outputs": [
    {
     "data": {
      "text/html": [
       "<div>\n",
       "<style scoped>\n",
       "    .dataframe tbody tr th:only-of-type {\n",
       "        vertical-align: middle;\n",
       "    }\n",
       "\n",
       "    .dataframe tbody tr th {\n",
       "        vertical-align: top;\n",
       "    }\n",
       "\n",
       "    .dataframe thead th {\n",
       "        text-align: right;\n",
       "    }\n",
       "</style>\n",
       "<table border=\"1\" class=\"dataframe\">\n",
       "  <thead>\n",
       "    <tr style=\"text-align: right;\">\n",
       "      <th></th>\n",
       "      <th>instruct</th>\n",
       "    </tr>\n",
       "  </thead>\n",
       "  <tbody>\n",
       "    <tr>\n",
       "      <th>0</th>\n",
       "      <td>&lt;|user|&gt;\\nDevelop a method for clustering astr...</td>\n",
       "    </tr>\n",
       "    <tr>\n",
       "      <th>1</th>\n",
       "      <td>&lt;|user|&gt;\\nWhat is the role of dopamine in the ...</td>\n",
       "    </tr>\n",
       "    <tr>\n",
       "      <th>2</th>\n",
       "      <td>&lt;|user|&gt;\\nReplace the \\\"XXX\\\" in the following...</td>\n",
       "    </tr>\n",
       "    <tr>\n",
       "      <th>3</th>\n",
       "      <td>&lt;|user|&gt;\\nIdentify the sentence type (declarat...</td>\n",
       "    </tr>\n",
       "    <tr>\n",
       "      <th>4</th>\n",
       "      <td>&lt;|user|&gt;\\nSuggest a book title for a fantasy n...</td>\n",
       "    </tr>\n",
       "  </tbody>\n",
       "</table>\n",
       "</div>"
      ],
      "text/plain": [
       "                                            instruct\n",
       "0  <|user|>\\nDevelop a method for clustering astr...\n",
       "1  <|user|>\\nWhat is the role of dopamine in the ...\n",
       "2  <|user|>\\nReplace the \\\"XXX\\\" in the following...\n",
       "3  <|user|>\\nIdentify the sentence type (declarat...\n",
       "4  <|user|>\\nSuggest a book title for a fantasy n..."
      ]
     },
     "execution_count": 45,
     "metadata": {},
     "output_type": "execute_result"
    }
   ],
   "source": [
    "df.head()"
   ]
  },
  {
   "cell_type": "code",
   "execution_count": 46,
   "id": "40ba4725",
   "metadata": {},
   "outputs": [
    {
     "name": "stdout",
     "output_type": "stream",
     "text": [
      "<|user|>\n",
      "Develop a method for clustering astronomical data.\n",
      "<|llm|>\n",
      "Astronomical Data Clustering Method\n"
     ]
    }
   ],
   "source": [
    "print(df['instruct'].values[0])"
   ]
  },
  {
   "cell_type": "markdown",
   "id": "dfda9d37",
   "metadata": {},
   "source": [
    "##### Existing Dataframe with convert_test(). Can use convert_train() with existing dataframe as well and it works fine."
   ]
  },
  {
   "cell_type": "code",
   "execution_count": 47,
   "id": "15f352f0",
   "metadata": {},
   "outputs": [],
   "source": [
    "df = style.convert_test(chat_df, input_col='message', output_col='instruct', new_df=False)"
   ]
  },
  {
   "cell_type": "code",
   "execution_count": 48,
   "id": "ca757024",
   "metadata": {},
   "outputs": [
    {
     "data": {
      "text/html": [
       "<div>\n",
       "<style scoped>\n",
       "    .dataframe tbody tr th:only-of-type {\n",
       "        vertical-align: middle;\n",
       "    }\n",
       "\n",
       "    .dataframe tbody tr th {\n",
       "        vertical-align: top;\n",
       "    }\n",
       "\n",
       "    .dataframe thead th {\n",
       "        text-align: right;\n",
       "    }\n",
       "</style>\n",
       "<table border=\"1\" class=\"dataframe\">\n",
       "  <thead>\n",
       "    <tr style=\"text-align: right;\">\n",
       "      <th></th>\n",
       "      <th>message</th>\n",
       "      <th>title</th>\n",
       "      <th>instruct</th>\n",
       "    </tr>\n",
       "  </thead>\n",
       "  <tbody>\n",
       "    <tr>\n",
       "      <th>0</th>\n",
       "      <td>Develop a method for clustering astronomical d...</td>\n",
       "      <td>Astronomical Data Clustering Method</td>\n",
       "      <td>&lt;|user|&gt;\\nDevelop a method for clustering astr...</td>\n",
       "    </tr>\n",
       "    <tr>\n",
       "      <th>1</th>\n",
       "      <td>What is the role of dopamine in the brain as a...</td>\n",
       "      <td>Dopamine as a Neurotransmitter</td>\n",
       "      <td>&lt;|user|&gt;\\nWhat is the role of dopamine in the ...</td>\n",
       "    </tr>\n",
       "    <tr>\n",
       "      <th>2</th>\n",
       "      <td>Replace the \\\"XXX\\\" in the following sentence ...</td>\n",
       "      <td>Company Sustainability Objective</td>\n",
       "      <td>&lt;|user|&gt;\\nReplace the \\\"XXX\\\" in the following...</td>\n",
       "    </tr>\n",
       "    <tr>\n",
       "      <th>3</th>\n",
       "      <td>Identify the sentence type (declarative, inter...</td>\n",
       "      <td>Sentence Type Identification</td>\n",
       "      <td>&lt;|user|&gt;\\nIdentify the sentence type (declarat...</td>\n",
       "    </tr>\n",
       "    <tr>\n",
       "      <th>4</th>\n",
       "      <td>Suggest a book title for a fantasy novel about...</td>\n",
       "      <td>Outlaws in Enchanted Realms</td>\n",
       "      <td>&lt;|user|&gt;\\nSuggest a book title for a fantasy n...</td>\n",
       "    </tr>\n",
       "  </tbody>\n",
       "</table>\n",
       "</div>"
      ],
      "text/plain": [
       "                                             message  \\\n",
       "0  Develop a method for clustering astronomical d...   \n",
       "1  What is the role of dopamine in the brain as a...   \n",
       "2  Replace the \\\"XXX\\\" in the following sentence ...   \n",
       "3  Identify the sentence type (declarative, inter...   \n",
       "4  Suggest a book title for a fantasy novel about...   \n",
       "\n",
       "                                 title  \\\n",
       "0  Astronomical Data Clustering Method   \n",
       "1       Dopamine as a Neurotransmitter   \n",
       "2     Company Sustainability Objective   \n",
       "3         Sentence Type Identification   \n",
       "4          Outlaws in Enchanted Realms   \n",
       "\n",
       "                                            instruct  \n",
       "0  <|user|>\\nDevelop a method for clustering astr...  \n",
       "1  <|user|>\\nWhat is the role of dopamine in the ...  \n",
       "2  <|user|>\\nReplace the \\\"XXX\\\" in the following...  \n",
       "3  <|user|>\\nIdentify the sentence type (declarat...  \n",
       "4  <|user|>\\nSuggest a book title for a fantasy n...  "
      ]
     },
     "execution_count": 48,
     "metadata": {},
     "output_type": "execute_result"
    }
   ],
   "source": [
    "df.head()"
   ]
  },
  {
   "cell_type": "code",
   "execution_count": 49,
   "id": "5a03bb33",
   "metadata": {},
   "outputs": [
    {
     "name": "stdout",
     "output_type": "stream",
     "text": [
      "<|user|>\n",
      "Develop a method for clustering astronomical data.\n",
      "<|llm|>\n",
      "\n"
     ]
    }
   ],
   "source": [
    "print(df['instruct'].values[0])"
   ]
  },
  {
   "cell_type": "code",
   "execution_count": null,
   "id": "b2b0a025",
   "metadata": {},
   "outputs": [],
   "source": []
  }
 ],
 "metadata": {
  "kernelspec": {
   "display_name": "Python 3",
   "language": "python",
   "name": "python3"
  },
  "language_info": {
   "codemirror_mode": {
    "name": "ipython",
    "version": 3
   },
   "file_extension": ".py",
   "mimetype": "text/x-python",
   "name": "python",
   "nbconvert_exporter": "python",
   "pygments_lexer": "ipython3",
   "version": "3.12.0"
  }
 },
 "nbformat": 4,
 "nbformat_minor": 5
}
