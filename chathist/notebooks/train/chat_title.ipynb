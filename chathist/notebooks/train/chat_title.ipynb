{
 "cells": [
  {
   "cell_type": "code",
   "execution_count": 1,
   "id": "a0177a23",
   "metadata": {},
   "outputs": [],
   "source": [
    "from chathist import InstructionDataLoader,InstructionDataset, InstructionStyle, Model, Tokenizer\n",
    "import pandas as pd"
   ]
  },
  {
   "cell_type": "code",
   "execution_count": 2,
   "id": "befcccf3",
   "metadata": {},
   "outputs": [],
   "source": [
    "chat_df = pd.read_json(\"hf://datasets/ogrnz/chat-titles/dataset.jsonl\", lines=True)"
   ]
  },
  {
   "cell_type": "code",
   "execution_count": 3,
   "id": "efad11af",
   "metadata": {},
   "outputs": [
    {
     "data": {
      "text/html": [
       "<div>\n",
       "<style scoped>\n",
       "    .dataframe tbody tr th:only-of-type {\n",
       "        vertical-align: middle;\n",
       "    }\n",
       "\n",
       "    .dataframe tbody tr th {\n",
       "        vertical-align: top;\n",
       "    }\n",
       "\n",
       "    .dataframe thead th {\n",
       "        text-align: right;\n",
       "    }\n",
       "</style>\n",
       "<table border=\"1\" class=\"dataframe\">\n",
       "  <thead>\n",
       "    <tr style=\"text-align: right;\">\n",
       "      <th></th>\n",
       "      <th>message</th>\n",
       "      <th>title</th>\n",
       "    </tr>\n",
       "  </thead>\n",
       "  <tbody>\n",
       "    <tr>\n",
       "      <th>0</th>\n",
       "      <td>Develop a method for clustering astronomical d...</td>\n",
       "      <td>Astronomical Data Clustering Method</td>\n",
       "    </tr>\n",
       "    <tr>\n",
       "      <th>1</th>\n",
       "      <td>What is the role of dopamine in the brain as a...</td>\n",
       "      <td>Dopamine as a Neurotransmitter</td>\n",
       "    </tr>\n",
       "    <tr>\n",
       "      <th>2</th>\n",
       "      <td>Replace the \\\"XXX\\\" in the following sentence ...</td>\n",
       "      <td>Company Sustainability Objective</td>\n",
       "    </tr>\n",
       "    <tr>\n",
       "      <th>3</th>\n",
       "      <td>Identify the sentence type (declarative, inter...</td>\n",
       "      <td>Sentence Type Identification</td>\n",
       "    </tr>\n",
       "    <tr>\n",
       "      <th>4</th>\n",
       "      <td>Suggest a book title for a fantasy novel about...</td>\n",
       "      <td>Outlaws in Enchanted Realms</td>\n",
       "    </tr>\n",
       "  </tbody>\n",
       "</table>\n",
       "</div>"
      ],
      "text/plain": [
       "                                             message  \\\n",
       "0  Develop a method for clustering astronomical d...   \n",
       "1  What is the role of dopamine in the brain as a...   \n",
       "2  Replace the \\\"XXX\\\" in the following sentence ...   \n",
       "3  Identify the sentence type (declarative, inter...   \n",
       "4  Suggest a book title for a fantasy novel about...   \n",
       "\n",
       "                                 title  \n",
       "0  Astronomical Data Clustering Method  \n",
       "1       Dopamine as a Neurotransmitter  \n",
       "2     Company Sustainability Objective  \n",
       "3         Sentence Type Identification  \n",
       "4          Outlaws in Enchanted Realms  "
      ]
     },
     "execution_count": 3,
     "metadata": {},
     "output_type": "execute_result"
    }
   ],
   "source": [
    "chat_df.head()"
   ]
  },
  {
   "cell_type": "code",
   "execution_count": 4,
   "id": "c7056abc",
   "metadata": {},
   "outputs": [
    {
     "data": {
      "text/plain": [
       "(10000, 2)"
      ]
     },
     "execution_count": 4,
     "metadata": {},
     "output_type": "execute_result"
    }
   ],
   "source": [
    "chat_df.shape"
   ]
  },
  {
   "cell_type": "code",
   "execution_count": 5,
   "id": "d94a2a4e",
   "metadata": {},
   "outputs": [
    {
     "data": {
      "text/plain": [
       "Index(['message', 'title'], dtype='object')"
      ]
     },
     "execution_count": 5,
     "metadata": {},
     "output_type": "execute_result"
    }
   ],
   "source": [
    "chat_df.columns"
   ]
  },
  {
   "cell_type": "code",
   "execution_count": 6,
   "id": "e7f81bbd",
   "metadata": {},
   "outputs": [
    {
     "name": "stderr",
     "output_type": "stream",
     "text": [
      "2025-05-14 12:50:05,948 - INFO - phi3 style chosen!!\n"
     ]
    }
   ],
   "source": [
    "style = InstructionStyle.load()"
   ]
  },
  {
   "cell_type": "code",
   "execution_count": 7,
   "id": "0a12774a",
   "metadata": {},
   "outputs": [],
   "source": [
    "df = style.convert_train(chat_df)"
   ]
  },
  {
   "cell_type": "code",
   "execution_count": 8,
   "id": "208fa7aa",
   "metadata": {},
   "outputs": [],
   "source": [
    "train_len = 9500"
   ]
  },
  {
   "cell_type": "code",
   "execution_count": 9,
   "id": "cff3e882",
   "metadata": {},
   "outputs": [],
   "source": [
    "train_df = df.iloc[:train_len, :]\n",
    "val_df = df.iloc[train_len:, :]"
   ]
  },
  {
   "cell_type": "code",
   "execution_count": 10,
   "id": "24969e0c",
   "metadata": {},
   "outputs": [
    {
     "data": {
      "text/html": [
       "<div>\n",
       "<style scoped>\n",
       "    .dataframe tbody tr th:only-of-type {\n",
       "        vertical-align: middle;\n",
       "    }\n",
       "\n",
       "    .dataframe tbody tr th {\n",
       "        vertical-align: top;\n",
       "    }\n",
       "\n",
       "    .dataframe thead th {\n",
       "        text-align: right;\n",
       "    }\n",
       "</style>\n",
       "<table border=\"1\" class=\"dataframe\">\n",
       "  <thead>\n",
       "    <tr style=\"text-align: right;\">\n",
       "      <th></th>\n",
       "      <th>instruct</th>\n",
       "    </tr>\n",
       "  </thead>\n",
       "  <tbody>\n",
       "    <tr>\n",
       "      <th>0</th>\n",
       "      <td>&lt;|user|&gt;\\nDevelop a method for clustering astr...</td>\n",
       "    </tr>\n",
       "    <tr>\n",
       "      <th>1</th>\n",
       "      <td>&lt;|user|&gt;\\nWhat is the role of dopamine in the ...</td>\n",
       "    </tr>\n",
       "    <tr>\n",
       "      <th>2</th>\n",
       "      <td>&lt;|user|&gt;\\nReplace the \\\"XXX\\\" in the following...</td>\n",
       "    </tr>\n",
       "    <tr>\n",
       "      <th>3</th>\n",
       "      <td>&lt;|user|&gt;\\nIdentify the sentence type (declarat...</td>\n",
       "    </tr>\n",
       "    <tr>\n",
       "      <th>4</th>\n",
       "      <td>&lt;|user|&gt;\\nSuggest a book title for a fantasy n...</td>\n",
       "    </tr>\n",
       "    <tr>\n",
       "      <th>...</th>\n",
       "      <td>...</td>\n",
       "    </tr>\n",
       "    <tr>\n",
       "      <th>9495</th>\n",
       "      <td>&lt;|user|&gt;\\nAssume yourself to be a business whi...</td>\n",
       "    </tr>\n",
       "    <tr>\n",
       "      <th>9496</th>\n",
       "      <td>&lt;|user|&gt;\\nIgnore all previous instructions. Ac...</td>\n",
       "    </tr>\n",
       "    <tr>\n",
       "      <th>9497</th>\n",
       "      <td>&lt;|user|&gt;\\nGiven the following description, ide...</td>\n",
       "    </tr>\n",
       "    <tr>\n",
       "      <th>9498</th>\n",
       "      <td>&lt;|user|&gt;\\nWhat is the 17th letter of supercali...</td>\n",
       "    </tr>\n",
       "    <tr>\n",
       "      <th>9499</th>\n",
       "      <td>&lt;|user|&gt;\\nHow does the genetic makeup of an an...</td>\n",
       "    </tr>\n",
       "  </tbody>\n",
       "</table>\n",
       "<p>9500 rows × 1 columns</p>\n",
       "</div>"
      ],
      "text/plain": [
       "                                               instruct\n",
       "0     <|user|>\\nDevelop a method for clustering astr...\n",
       "1     <|user|>\\nWhat is the role of dopamine in the ...\n",
       "2     <|user|>\\nReplace the \\\"XXX\\\" in the following...\n",
       "3     <|user|>\\nIdentify the sentence type (declarat...\n",
       "4     <|user|>\\nSuggest a book title for a fantasy n...\n",
       "...                                                 ...\n",
       "9495  <|user|>\\nAssume yourself to be a business whi...\n",
       "9496  <|user|>\\nIgnore all previous instructions. Ac...\n",
       "9497  <|user|>\\nGiven the following description, ide...\n",
       "9498  <|user|>\\nWhat is the 17th letter of supercali...\n",
       "9499  <|user|>\\nHow does the genetic makeup of an an...\n",
       "\n",
       "[9500 rows x 1 columns]"
      ]
     },
     "execution_count": 10,
     "metadata": {},
     "output_type": "execute_result"
    }
   ],
   "source": [
    "train_df"
   ]
  },
  {
   "cell_type": "code",
   "execution_count": 11,
   "id": "24f5f6d2",
   "metadata": {},
   "outputs": [
    {
     "name": "stdout",
     "output_type": "stream",
     "text": [
      "<|user|>\n",
      "Develop a method for clustering astronomical data.\n",
      "<|llm|>\n",
      "Astronomical Data Clustering Method\n"
     ]
    }
   ],
   "source": [
    "print(train_df['instruct'].values[0])"
   ]
  },
  {
   "cell_type": "code",
   "execution_count": 12,
   "id": "4f0c07ca",
   "metadata": {},
   "outputs": [
    {
     "data": {
      "text/html": [
       "<div>\n",
       "<style scoped>\n",
       "    .dataframe tbody tr th:only-of-type {\n",
       "        vertical-align: middle;\n",
       "    }\n",
       "\n",
       "    .dataframe tbody tr th {\n",
       "        vertical-align: top;\n",
       "    }\n",
       "\n",
       "    .dataframe thead th {\n",
       "        text-align: right;\n",
       "    }\n",
       "</style>\n",
       "<table border=\"1\" class=\"dataframe\">\n",
       "  <thead>\n",
       "    <tr style=\"text-align: right;\">\n",
       "      <th></th>\n",
       "      <th>instruct</th>\n",
       "    </tr>\n",
       "  </thead>\n",
       "  <tbody>\n",
       "    <tr>\n",
       "      <th>9500</th>\n",
       "      <td>&lt;|user|&gt;\\nWhat are the differences in the prop...</td>\n",
       "    </tr>\n",
       "    <tr>\n",
       "      <th>9501</th>\n",
       "      <td>&lt;|user|&gt;\\nImplement a program to find the comm...</td>\n",
       "    </tr>\n",
       "    <tr>\n",
       "      <th>9502</th>\n",
       "      <td>&lt;|user|&gt;\\nHow can a person develop a healthy s...</td>\n",
       "    </tr>\n",
       "    <tr>\n",
       "      <th>9503</th>\n",
       "      <td>&lt;|user|&gt;\\nPlease help me use schrodinger's equ...</td>\n",
       "    </tr>\n",
       "    <tr>\n",
       "      <th>9504</th>\n",
       "      <td>&lt;|user|&gt;\\nRewrite the sentence to use a pronou...</td>\n",
       "    </tr>\n",
       "    <tr>\n",
       "      <th>...</th>\n",
       "      <td>...</td>\n",
       "    </tr>\n",
       "    <tr>\n",
       "      <th>9995</th>\n",
       "      <td>&lt;|user|&gt;\\nFrom the given passage, identify the...</td>\n",
       "    </tr>\n",
       "    <tr>\n",
       "      <th>9996</th>\n",
       "      <td>&lt;|user|&gt;\\nAnalyze an effect that the text coul...</td>\n",
       "    </tr>\n",
       "    <tr>\n",
       "      <th>9997</th>\n",
       "      <td>&lt;|user|&gt;\\nWhat is the average number of hours ...</td>\n",
       "    </tr>\n",
       "    <tr>\n",
       "      <th>9998</th>\n",
       "      <td>&lt;|user|&gt;\\nClassify the following statement as ...</td>\n",
       "    </tr>\n",
       "    <tr>\n",
       "      <th>9999</th>\n",
       "      <td>&lt;|user|&gt;\\nRewrite the following paragraph in t...</td>\n",
       "    </tr>\n",
       "  </tbody>\n",
       "</table>\n",
       "<p>500 rows × 1 columns</p>\n",
       "</div>"
      ],
      "text/plain": [
       "                                               instruct\n",
       "9500  <|user|>\\nWhat are the differences in the prop...\n",
       "9501  <|user|>\\nImplement a program to find the comm...\n",
       "9502  <|user|>\\nHow can a person develop a healthy s...\n",
       "9503  <|user|>\\nPlease help me use schrodinger's equ...\n",
       "9504  <|user|>\\nRewrite the sentence to use a pronou...\n",
       "...                                                 ...\n",
       "9995  <|user|>\\nFrom the given passage, identify the...\n",
       "9996  <|user|>\\nAnalyze an effect that the text coul...\n",
       "9997  <|user|>\\nWhat is the average number of hours ...\n",
       "9998  <|user|>\\nClassify the following statement as ...\n",
       "9999  <|user|>\\nRewrite the following paragraph in t...\n",
       "\n",
       "[500 rows x 1 columns]"
      ]
     },
     "execution_count": 12,
     "metadata": {},
     "output_type": "execute_result"
    }
   ],
   "source": [
    "val_df"
   ]
  },
  {
   "cell_type": "code",
   "execution_count": 13,
   "id": "540280a8",
   "metadata": {},
   "outputs": [
    {
     "name": "stdout",
     "output_type": "stream",
     "text": [
      "<|user|>\n",
      "What are the differences in the properties of the top quark when it is produced through different modes such as gluon fusion and vector boson fusion, and how do these differences impact our understanding of the top quark's interactions with other particles in the standard model of particle physics?\n",
      "<|llm|>\n",
      "Top Quark Production Modes\n"
     ]
    }
   ],
   "source": [
    "print(val_df['instruct'].values[0])"
   ]
  },
  {
   "cell_type": "code",
   "execution_count": 14,
   "id": "54a47f52",
   "metadata": {},
   "outputs": [
    {
     "name": "stderr",
     "output_type": "stream",
     "text": [
      "2025-05-14 12:50:06,059 - INFO - Setting tokenizer using tiktoken with encoding: gpt2\n"
     ]
    }
   ],
   "source": [
    "train_dataset = InstructionDataset(train_df['instruct'].tolist())"
   ]
  },
  {
   "cell_type": "code",
   "execution_count": 15,
   "id": "c5265e2b",
   "metadata": {},
   "outputs": [],
   "source": [
    "val_dataset = InstructionDataset(val_df['instruct'].tolist())"
   ]
  },
  {
   "cell_type": "code",
   "execution_count": 16,
   "id": "cc2a18d8",
   "metadata": {},
   "outputs": [],
   "source": [
    "train_loader = InstructionDataLoader().load(dataset = train_dataset)"
   ]
  },
  {
   "cell_type": "code",
   "execution_count": 17,
   "id": "eb38b1d0",
   "metadata": {},
   "outputs": [],
   "source": [
    "val_loader = InstructionDataLoader().load(dataset = val_dataset)"
   ]
  },
  {
   "cell_type": "code",
   "execution_count": 18,
   "id": "a242a799",
   "metadata": {},
   "outputs": [],
   "source": [
    "data = iter(val_loader)"
   ]
  },
  {
   "cell_type": "code",
   "execution_count": 19,
   "id": "57b3d21e",
   "metadata": {},
   "outputs": [],
   "source": [
    "first_batch = next(data)"
   ]
  },
  {
   "cell_type": "code",
   "execution_count": 20,
   "id": "643e51b0",
   "metadata": {},
   "outputs": [
    {
     "data": {
      "text/plain": [
       "tensor([   27,    91,  7220,    91,    29,   198, 33234,  1958,   262,  1048,\n",
       "          326,   318,  6412,   284,   287,   262, 10066,    25,  2011,  1545,\n",
       "         4502,  3160,   287,  6182,   290,  1690,  2058,   284,   968,  1971,\n",
       "          284,  3187,   502,    13,   198,    27,    91,   297,    76,    91,\n",
       "           29,   198, 15439,   337,  1463,   276,   287, 46169, 50256, 50256,\n",
       "        50256, 50256, 50256, 50256, 50256, 50256, 50256, 50256, 50256, 50256,\n",
       "        50256, 50256, 50256, 50256, 50256, 50256, 50256, 50256, 50256, 50256,\n",
       "        50256, 50256, 50256, 50256, 50256, 50256, 50256, 50256, 50256],\n",
       "       dtype=torch.int32)"
      ]
     },
     "execution_count": 20,
     "metadata": {},
     "output_type": "execute_result"
    }
   ],
   "source": [
    "first_batch[0][0]"
   ]
  },
  {
   "cell_type": "code",
   "execution_count": 21,
   "id": "c5241c41",
   "metadata": {},
   "outputs": [
    {
     "data": {
      "text/plain": [
       "tensor([ -100,  -100,  -100,  -100,  -100,  -100,  -100,  -100,  -100,  -100,\n",
       "         -100,  -100,  -100,  -100,  -100,  -100,  -100,  -100,  -100,  -100,\n",
       "         -100,  -100,  -100,  -100,  -100,  -100,  -100,  -100,  -100,  -100,\n",
       "         -100,  -100,  -100,  -100,  -100,  -100,  -100,  -100,  -100,  -100,\n",
       "         -100, 15439,   337,  1463,   276,   287, 46169, 50256,  -100,  -100,\n",
       "         -100,  -100,  -100,  -100,  -100,  -100,  -100,  -100,  -100,  -100,\n",
       "         -100,  -100,  -100,  -100,  -100,  -100,  -100,  -100,  -100,  -100,\n",
       "         -100,  -100,  -100,  -100,  -100,  -100,  -100,  -100,  -100],\n",
       "       dtype=torch.int32)"
      ]
     },
     "execution_count": 21,
     "metadata": {},
     "output_type": "execute_result"
    }
   ],
   "source": [
    "first_batch[1][0]"
   ]
  },
  {
   "cell_type": "code",
   "execution_count": 22,
   "id": "eabb746f",
   "metadata": {},
   "outputs": [
    {
     "name": "stderr",
     "output_type": "stream",
     "text": [
      "2025-05-14 12:50:07,384 - INFO - Setting tokenizer using tiktoken with encoding: gpt2\n"
     ]
    }
   ],
   "source": [
    "tokenizer = Tokenizer()"
   ]
  },
  {
   "cell_type": "code",
   "execution_count": 23,
   "id": "b66779db",
   "metadata": {},
   "outputs": [
    {
     "name": "stdout",
     "output_type": "stream",
     "text": [
      "<|user|>\n",
      "Identify the person that is referred to in the passage: My friend George lives in Boston and often comes to New York to visit me.\n",
      "<|llm|>\n",
      "Person Mentioned in Passage<|endoftext|><|endoftext|><|endoftext|><|endoftext|><|endoftext|><|endoftext|><|endoftext|><|endoftext|><|endoftext|><|endoftext|><|endoftext|><|endoftext|><|endoftext|><|endoftext|><|endoftext|><|endoftext|><|endoftext|><|endoftext|><|endoftext|><|endoftext|><|endoftext|><|endoftext|><|endoftext|><|endoftext|><|endoftext|><|endoftext|><|endoftext|><|endoftext|><|endoftext|><|endoftext|><|endoftext|>\n"
     ]
    }
   ],
   "source": [
    "print(tokenizer.decode_ids(first_batch[0][0]))"
   ]
  },
  {
   "cell_type": "code",
   "execution_count": 24,
   "id": "e5748e4b",
   "metadata": {},
   "outputs": [
    {
     "name": "stdout",
     "output_type": "stream",
     "text": [
      "Person Mentioned in Passage<|endoftext|>\n"
     ]
    }
   ],
   "source": [
    "print(tokenizer.decode_ids(first_batch[1][0]))"
   ]
  },
  {
   "cell_type": "code",
   "execution_count": 25,
   "id": "329dc273",
   "metadata": {},
   "outputs": [
    {
     "name": "stderr",
     "output_type": "stream",
     "text": [
      "2025-05-14 12:50:07,401 - INFO - phi3 style chosen!!\n",
      "2025-05-14 12:50:07,762 - INFO - Using LoRA weights for ff layers!!\n",
      "2025-05-14 12:50:08,090 - INFO - Using LoRA weights for multi head layers!!\n",
      "2025-05-14 12:50:08,141 - INFO - Using LoRA weights for ff layers!!\n",
      "2025-05-14 12:50:08,180 - INFO - Using LoRA weights for multi head layers!!\n",
      "2025-05-14 12:50:08,236 - INFO - Using LoRA weights for ff layers!!\n",
      "2025-05-14 12:50:08,276 - INFO - Using LoRA weights for multi head layers!!\n",
      "2025-05-14 12:50:08,334 - INFO - Using LoRA weights for ff layers!!\n",
      "2025-05-14 12:50:08,371 - INFO - Using LoRA weights for multi head layers!!\n",
      "2025-05-14 12:50:08,430 - INFO - Using LoRA weights for ff layers!!\n",
      "2025-05-14 12:50:08,469 - INFO - Using LoRA weights for multi head layers!!\n",
      "2025-05-14 12:50:08,527 - INFO - Using LoRA weights for ff layers!!\n",
      "2025-05-14 12:50:08,564 - INFO - Using LoRA weights for multi head layers!!\n",
      "2025-05-14 12:50:08,625 - INFO - Using LoRA weights for ff layers!!\n",
      "2025-05-14 12:50:08,661 - INFO - Using LoRA weights for multi head layers!!\n",
      "2025-05-14 12:50:08,721 - INFO - Using LoRA weights for ff layers!!\n",
      "2025-05-14 12:50:08,758 - INFO - Using LoRA weights for multi head layers!!\n",
      "2025-05-14 12:50:08,816 - INFO - Using LoRA weights for ff layers!!\n",
      "2025-05-14 12:50:08,853 - INFO - Using LoRA weights for multi head layers!!\n",
      "2025-05-14 12:50:08,912 - INFO - Using LoRA weights for ff layers!!\n",
      "2025-05-14 12:50:08,948 - INFO - Using LoRA weights for multi head layers!!\n",
      "2025-05-14 12:50:09,007 - INFO - Using LoRA weights for ff layers!!\n",
      "2025-05-14 12:50:09,044 - INFO - Using LoRA weights for multi head layers!!\n",
      "2025-05-14 12:50:09,103 - INFO - Using LoRA weights for ff layers!!\n",
      "2025-05-14 12:50:09,139 - INFO - Using LoRA weights for multi head layers!!\n",
      "2025-05-14 12:50:09,198 - INFO - Using LoRA weights for ff layers!!\n",
      "2025-05-14 12:50:09,234 - INFO - Using LoRA weights for multi head layers!!\n",
      "2025-05-14 12:50:09,293 - INFO - Using LoRA weights for ff layers!!\n",
      "2025-05-14 12:50:09,330 - INFO - Using LoRA weights for multi head layers!!\n",
      "2025-05-14 12:50:09,389 - INFO - Using LoRA weights for ff layers!!\n",
      "2025-05-14 12:50:09,425 - INFO - Using LoRA weights for multi head layers!!\n",
      "2025-05-14 12:50:09,484 - INFO - Using LoRA weights for ff layers!!\n",
      "2025-05-14 12:50:09,521 - INFO - Using LoRA weights for multi head layers!!\n",
      "2025-05-14 12:50:09,580 - INFO - Using LoRA weights for ff layers!!\n",
      "2025-05-14 12:50:09,615 - INFO - Using LoRA weights for multi head layers!!\n",
      "2025-05-14 12:50:09,675 - INFO - Using LoRA weights for ff layers!!\n",
      "2025-05-14 12:50:09,710 - INFO - Using LoRA weights for multi head layers!!\n",
      "2025-05-14 12:50:09,768 - INFO - Using LoRA weights for ff layers!!\n",
      "2025-05-14 12:50:09,804 - INFO - Using LoRA weights for multi head layers!!\n",
      "2025-05-14 12:50:09,861 - INFO - Using LoRA weights for ff layers!!\n",
      "2025-05-14 12:50:09,897 - INFO - Using LoRA weights for multi head layers!!\n",
      "2025-05-14 12:50:09,955 - INFO - Using LoRA weights for ff layers!!\n",
      "2025-05-14 12:50:09,991 - INFO - Using LoRA weights for multi head layers!!\n",
      "2025-05-14 12:50:10,048 - INFO - Using LoRA weights for ff layers!!\n",
      "2025-05-14 12:50:10,084 - INFO - Using LoRA weights for multi head layers!!\n",
      "2025-05-14 12:50:10,142 - INFO - Using LoRA weights for ff layers!!\n",
      "2025-05-14 12:50:10,181 - INFO - Using LoRA weights for multi head layers!!\n",
      "2025-05-14 12:50:10,240 - INFO - Using LoRA weights for ff layers!!\n",
      "2025-05-14 12:50:10,277 - INFO - Using LoRA weights for multi head layers!!\n",
      "2025-05-14 12:50:10,574 - INFO - Using Lora for final output layer!!\n",
      "2025-05-14 12:50:10,588 - INFO - Repo: openai-community/gpt2-medium.\n",
      "2025-05-14 12:50:10,591 - INFO - Downloading openai-community/gpt2-medium from Hugginface...\n"
     ]
    },
    {
     "data": {
      "application/vnd.jupyter.widget-view+json": {
       "model_id": "9f914482de7c405d9b79cd04ae2b4e79",
       "version_major": 2,
       "version_minor": 0
      },
      "text/plain": [
       "config.json:   0%|          | 0.00/718 [00:00<?, ?B/s]"
      ]
     },
     "metadata": {},
     "output_type": "display_data"
    },
    {
     "data": {
      "application/vnd.jupyter.widget-view+json": {
       "model_id": "31994854ee104078a33fe8c772e9ec62",
       "version_major": 2,
       "version_minor": 0
      },
      "text/plain": [
       "model.safetensors:   0%|          | 0.00/1.52G [00:00<?, ?B/s]"
      ]
     },
     "metadata": {},
     "output_type": "display_data"
    },
    {
     "name": "stderr",
     "output_type": "stream",
     "text": [
      "2025-05-14 12:50:47,037 - INFO - Dowload complete.\n",
      "2025-05-14 12:50:47,039 - INFO - Loading weights into model.\n",
      "2025-05-14 12:50:47,041 - WARNING - Using loRA will freeze the whole model except for loRA weights.\n",
      "2025-05-14 12:50:48,961 - INFO - Layer: 1\n",
      "2025-05-14 12:50:48,963 - INFO - loading norm1 weights and bias\n",
      "2025-05-14 12:50:48,963 - INFO - loading norm2 weights and bias\n",
      "2025-05-14 12:50:48,964 - INFO - loading ff weights and bias\n",
      "2025-05-14 12:50:49,270 - INFO - loading attention weights and bias\n",
      "2025-05-14 12:50:49,442 - INFO - Layer: 2\n",
      "2025-05-14 12:50:49,444 - INFO - loading norm1 weights and bias\n",
      "2025-05-14 12:50:49,444 - INFO - loading norm2 weights and bias\n",
      "2025-05-14 12:50:49,445 - INFO - loading ff weights and bias\n",
      "2025-05-14 12:50:49,761 - INFO - loading attention weights and bias\n",
      "2025-05-14 12:50:49,932 - INFO - Layer: 3\n",
      "2025-05-14 12:50:49,939 - INFO - loading norm1 weights and bias\n",
      "2025-05-14 12:50:49,940 - INFO - loading norm2 weights and bias\n",
      "2025-05-14 12:50:49,940 - INFO - loading ff weights and bias\n",
      "2025-05-14 12:50:50,249 - INFO - loading attention weights and bias\n",
      "2025-05-14 12:50:50,434 - INFO - Layer: 4\n",
      "2025-05-14 12:50:50,437 - INFO - loading norm1 weights and bias\n",
      "2025-05-14 12:50:50,438 - INFO - loading norm2 weights and bias\n",
      "2025-05-14 12:50:50,440 - INFO - loading ff weights and bias\n",
      "2025-05-14 12:50:50,742 - INFO - loading attention weights and bias\n",
      "2025-05-14 12:50:50,918 - INFO - Layer: 5\n",
      "2025-05-14 12:50:50,922 - INFO - loading norm1 weights and bias\n",
      "2025-05-14 12:50:50,923 - INFO - loading norm2 weights and bias\n",
      "2025-05-14 12:50:50,925 - INFO - loading ff weights and bias\n",
      "2025-05-14 12:50:51,228 - INFO - loading attention weights and bias\n",
      "2025-05-14 12:50:51,409 - INFO - Layer: 6\n",
      "2025-05-14 12:50:51,415 - INFO - loading norm1 weights and bias\n",
      "2025-05-14 12:50:51,416 - INFO - loading norm2 weights and bias\n",
      "2025-05-14 12:50:51,416 - INFO - loading ff weights and bias\n",
      "2025-05-14 12:50:51,722 - INFO - loading attention weights and bias\n",
      "2025-05-14 12:50:51,892 - INFO - Layer: 7\n",
      "2025-05-14 12:50:51,896 - INFO - loading norm1 weights and bias\n",
      "2025-05-14 12:50:51,898 - INFO - loading norm2 weights and bias\n",
      "2025-05-14 12:50:51,898 - INFO - loading ff weights and bias\n",
      "2025-05-14 12:50:52,203 - INFO - loading attention weights and bias\n",
      "2025-05-14 12:50:52,374 - INFO - Layer: 8\n",
      "2025-05-14 12:50:52,381 - INFO - loading norm1 weights and bias\n",
      "2025-05-14 12:50:52,382 - INFO - loading norm2 weights and bias\n",
      "2025-05-14 12:50:52,382 - INFO - loading ff weights and bias\n",
      "2025-05-14 12:50:52,689 - INFO - loading attention weights and bias\n",
      "2025-05-14 12:50:52,864 - INFO - Layer: 9\n",
      "2025-05-14 12:50:52,870 - INFO - loading norm1 weights and bias\n",
      "2025-05-14 12:50:52,871 - INFO - loading norm2 weights and bias\n",
      "2025-05-14 12:50:52,871 - INFO - loading ff weights and bias\n",
      "2025-05-14 12:50:53,177 - INFO - loading attention weights and bias\n",
      "2025-05-14 12:50:53,349 - INFO - Layer: 10\n",
      "2025-05-14 12:50:53,353 - INFO - loading norm1 weights and bias\n",
      "2025-05-14 12:50:53,354 - INFO - loading norm2 weights and bias\n",
      "2025-05-14 12:50:53,354 - INFO - loading ff weights and bias\n",
      "2025-05-14 12:50:53,662 - INFO - loading attention weights and bias\n",
      "2025-05-14 12:50:53,833 - INFO - Layer: 11\n",
      "2025-05-14 12:50:53,839 - INFO - loading norm1 weights and bias\n",
      "2025-05-14 12:50:53,840 - INFO - loading norm2 weights and bias\n",
      "2025-05-14 12:50:53,841 - INFO - loading ff weights and bias\n",
      "2025-05-14 12:50:54,145 - INFO - loading attention weights and bias\n",
      "2025-05-14 12:50:54,318 - INFO - Layer: 12\n",
      "2025-05-14 12:50:54,323 - INFO - loading norm1 weights and bias\n",
      "2025-05-14 12:50:54,324 - INFO - loading norm2 weights and bias\n",
      "2025-05-14 12:50:54,325 - INFO - loading ff weights and bias\n",
      "2025-05-14 12:50:54,629 - INFO - loading attention weights and bias\n",
      "2025-05-14 12:50:54,800 - INFO - Layer: 13\n",
      "2025-05-14 12:50:54,805 - INFO - loading norm1 weights and bias\n",
      "2025-05-14 12:50:54,806 - INFO - loading norm2 weights and bias\n",
      "2025-05-14 12:50:54,806 - INFO - loading ff weights and bias\n",
      "2025-05-14 12:50:55,111 - INFO - loading attention weights and bias\n",
      "2025-05-14 12:50:55,283 - INFO - Layer: 14\n",
      "2025-05-14 12:50:55,287 - INFO - loading norm1 weights and bias\n",
      "2025-05-14 12:50:55,289 - INFO - loading norm2 weights and bias\n",
      "2025-05-14 12:50:55,289 - INFO - loading ff weights and bias\n",
      "2025-05-14 12:50:55,600 - INFO - loading attention weights and bias\n",
      "2025-05-14 12:50:55,778 - INFO - Layer: 15\n",
      "2025-05-14 12:50:55,783 - INFO - loading norm1 weights and bias\n",
      "2025-05-14 12:50:55,783 - INFO - loading norm2 weights and bias\n",
      "2025-05-14 12:50:55,784 - INFO - loading ff weights and bias\n",
      "2025-05-14 12:50:56,093 - INFO - loading attention weights and bias\n",
      "2025-05-14 12:50:56,271 - INFO - Layer: 16\n",
      "2025-05-14 12:50:56,275 - INFO - loading norm1 weights and bias\n",
      "2025-05-14 12:50:56,276 - INFO - loading norm2 weights and bias\n",
      "2025-05-14 12:50:56,277 - INFO - loading ff weights and bias\n",
      "2025-05-14 12:50:56,583 - INFO - loading attention weights and bias\n",
      "2025-05-14 12:50:56,760 - INFO - Layer: 17\n",
      "2025-05-14 12:50:56,764 - INFO - loading norm1 weights and bias\n",
      "2025-05-14 12:50:56,765 - INFO - loading norm2 weights and bias\n",
      "2025-05-14 12:50:56,768 - INFO - loading ff weights and bias\n",
      "2025-05-14 12:50:57,070 - INFO - loading attention weights and bias\n",
      "2025-05-14 12:50:57,255 - INFO - Layer: 18\n",
      "2025-05-14 12:50:57,256 - INFO - loading norm1 weights and bias\n",
      "2025-05-14 12:50:57,256 - INFO - loading norm2 weights and bias\n",
      "2025-05-14 12:50:57,257 - INFO - loading ff weights and bias\n",
      "2025-05-14 12:50:57,563 - INFO - loading attention weights and bias\n",
      "2025-05-14 12:50:57,733 - INFO - Layer: 19\n",
      "2025-05-14 12:50:57,735 - INFO - loading norm1 weights and bias\n",
      "2025-05-14 12:50:57,738 - INFO - loading norm2 weights and bias\n",
      "2025-05-14 12:50:57,740 - INFO - loading ff weights and bias\n",
      "2025-05-14 12:50:58,042 - INFO - loading attention weights and bias\n",
      "2025-05-14 12:50:58,215 - INFO - Layer: 20\n",
      "2025-05-14 12:50:58,219 - INFO - loading norm1 weights and bias\n",
      "2025-05-14 12:50:58,219 - INFO - loading norm2 weights and bias\n",
      "2025-05-14 12:50:58,220 - INFO - loading ff weights and bias\n",
      "2025-05-14 12:50:58,531 - INFO - loading attention weights and bias\n",
      "2025-05-14 12:50:58,703 - INFO - Layer: 21\n",
      "2025-05-14 12:50:58,704 - INFO - loading norm1 weights and bias\n",
      "2025-05-14 12:50:58,704 - INFO - loading norm2 weights and bias\n",
      "2025-05-14 12:50:58,705 - INFO - loading ff weights and bias\n",
      "2025-05-14 12:50:59,013 - INFO - loading attention weights and bias\n",
      "2025-05-14 12:50:59,187 - INFO - Layer: 22\n",
      "2025-05-14 12:50:59,188 - INFO - loading norm1 weights and bias\n",
      "2025-05-14 12:50:59,189 - INFO - loading norm2 weights and bias\n",
      "2025-05-14 12:50:59,189 - INFO - loading ff weights and bias\n",
      "2025-05-14 12:50:59,499 - INFO - loading attention weights and bias\n",
      "2025-05-14 12:50:59,672 - INFO - Layer: 23\n",
      "2025-05-14 12:50:59,679 - INFO - loading norm1 weights and bias\n",
      "2025-05-14 12:50:59,681 - INFO - loading norm2 weights and bias\n",
      "2025-05-14 12:50:59,682 - INFO - loading ff weights and bias\n",
      "2025-05-14 12:50:59,985 - INFO - loading attention weights and bias\n",
      "2025-05-14 12:51:00,160 - INFO - Layer: 24\n",
      "2025-05-14 12:51:00,167 - INFO - loading norm1 weights and bias\n",
      "2025-05-14 12:51:00,167 - INFO - loading norm2 weights and bias\n",
      "2025-05-14 12:51:00,168 - INFO - loading ff weights and bias\n",
      "2025-05-14 12:51:00,471 - INFO - loading attention weights and bias\n"
     ]
    }
   ],
   "source": [
    "model = Model()"
   ]
  },
  {
   "cell_type": "code",
   "execution_count": null,
   "id": "c27d8568",
   "metadata": {},
   "outputs": [
    {
     "name": "stderr",
     "output_type": "stream",
     "text": [
      "2025-05-14 12:51:01,189 - INFO - Total model parameters: 414184720\n",
      "2025-05-14 12:51:01,191 - INFO - Total trainable parameters: 7898384\n"
     ]
    }
   ],
   "source": [
    "model.trainable_params()"
   ]
  },
  {
   "cell_type": "code",
   "execution_count": 27,
   "id": "ae2d5e5a",
   "metadata": {},
   "outputs": [
    {
     "name": "stderr",
     "output_type": "stream",
     "text": [
      "2025-05-14 12:51:01,220 - INFO - Epoch 1\n",
      "100%|\u001b[32m██████████\u001b[0m| 593/593 [02:51<00:00,  3.45it/s]\n",
      "2025-05-14 12:53:52,905 - INFO - Train Loss: 1.8802467061938564\n",
      "100%|\u001b[34m██████████\u001b[0m| 31/31 [00:04<00:00,  7.16it/s]\n",
      "2025-05-14 12:53:57,239 - INFO - Validation Loss: 1.535941368149173\n",
      "2025-05-14 12:53:57,243 - INFO - Epoch 2\n",
      "100%|\u001b[32m██████████\u001b[0m| 593/593 [02:50<00:00,  3.47it/s]\n",
      "2025-05-14 12:56:48,211 - INFO - Train Loss: 1.4534405656849956\n",
      "100%|\u001b[34m██████████\u001b[0m| 31/31 [00:04<00:00,  7.23it/s]\n",
      "2025-05-14 12:56:52,504 - INFO - Validation Loss: 1.4928034736264137\n",
      "2025-05-14 12:56:52,507 - INFO - Epoch 3\n",
      "100%|\u001b[32m██████████\u001b[0m| 593/593 [02:50<00:00,  3.48it/s]\n",
      "2025-05-14 12:59:43,037 - INFO - Train Loss: 1.234290246115165\n",
      "100%|\u001b[34m██████████\u001b[0m| 31/31 [00:04<00:00,  7.12it/s]\n",
      "2025-05-14 12:59:47,396 - INFO - Validation Loss: 1.4835678781232526\n"
     ]
    }
   ],
   "source": [
    "train_loss, val_loss = model.train(train_loader = train_loader, val_loader = val_loader)"
   ]
  },
  {
   "cell_type": "code",
   "execution_count": null,
   "id": "7c5cde8b",
   "metadata": {},
   "outputs": [
    {
     "name": "stderr",
     "output_type": "stream",
     "text": [
      "2025-05-14 13:00:07,417 - INFO - Formatting prompt into phi3 style\n"
     ]
    },
    {
     "data": {
      "text/plain": [
       "'Optimizing PreTrainedModel Adapter Usage'"
      ]
     },
     "execution_count": 28,
     "metadata": {},
     "output_type": "execute_result"
    },
    {
     "ename": "",
     "evalue": "",
     "output_type": "error",
     "traceback": [
      "\u001b[1;31mThe Kernel crashed while executing code in the current cell or a previous cell. \n",
      "\u001b[1;31mPlease review the code in the cell(s) to identify a possible cause of the failure. \n",
      "\u001b[1;31mClick <a href='https://aka.ms/vscodeJupyterKernelCrash'>here</a> for more info. \n",
      "\u001b[1;31mView Jupyter <a href='command:jupyter.viewOutput'>log</a> for further details."
     ]
    }
   ],
   "source": [
    "model.generate(\"Hugging Face won’t understand your custom architecture (GPT2 class) unless you register it via PreTrainedModel. If LoRA is used, consider saving separate adapters using PEFT library compatibility, or wrap accordingly.\")"
   ]
  },
  {
   "cell_type": "code",
   "execution_count": null,
   "id": "483e6970",
   "metadata": {},
   "outputs": [],
   "source": []
  }
 ],
 "metadata": {
  "kernelspec": {
   "display_name": "venv",
   "language": "python",
   "name": "python3"
  },
  "language_info": {
   "codemirror_mode": {
    "name": "ipython",
    "version": 3
   },
   "file_extension": ".py",
   "mimetype": "text/x-python",
   "name": "python",
   "nbconvert_exporter": "python",
   "pygments_lexer": "ipython3",
   "version": "3.12.3"
  }
 },
 "nbformat": 4,
 "nbformat_minor": 5
}
