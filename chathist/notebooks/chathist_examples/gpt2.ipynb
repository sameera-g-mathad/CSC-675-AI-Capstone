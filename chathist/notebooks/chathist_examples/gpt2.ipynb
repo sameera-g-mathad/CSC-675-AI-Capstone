{
 "cells": [
  {
   "cell_type": "code",
   "execution_count": 1,
   "id": "8de45921",
   "metadata": {},
   "outputs": [],
   "source": [
    "from chathist import Model\n",
    "# import chathist\n",
    "# import torch"
   ]
  },
  {
   "cell_type": "code",
   "execution_count": 2,
   "id": "f85922a1",
   "metadata": {},
   "outputs": [
    {
     "name": "stderr",
     "output_type": "stream",
     "text": [
      "2025-05-14 15:01:03,226 - INFO - Setting tokenizer using tiktoken with encoding: gpt2\n",
      "2025-05-14 15:01:04,249 - INFO - phi3 style chosen!!\n",
      "2025-05-14 15:01:04,604 - INFO - Using LoRA weights for ff layers!!\n",
      "2025-05-14 15:01:04,894 - INFO - Using LoRA weights for multi head layers!!\n",
      "2025-05-14 15:01:04,947 - INFO - Using LoRA weights for ff layers!!\n",
      "2025-05-14 15:01:04,985 - INFO - Using LoRA weights for multi head layers!!\n",
      "2025-05-14 15:01:05,044 - INFO - Using LoRA weights for ff layers!!\n",
      "2025-05-14 15:01:05,081 - INFO - Using LoRA weights for multi head layers!!\n",
      "2025-05-14 15:01:05,135 - INFO - Using LoRA weights for ff layers!!\n",
      "2025-05-14 15:01:05,171 - INFO - Using LoRA weights for multi head layers!!\n",
      "2025-05-14 15:01:05,227 - INFO - Using LoRA weights for ff layers!!\n",
      "2025-05-14 15:01:05,264 - INFO - Using LoRA weights for multi head layers!!\n",
      "2025-05-14 15:01:05,321 - INFO - Using LoRA weights for ff layers!!\n",
      "2025-05-14 15:01:05,358 - INFO - Using LoRA weights for multi head layers!!\n",
      "2025-05-14 15:01:05,416 - INFO - Using LoRA weights for ff layers!!\n",
      "2025-05-14 15:01:05,452 - INFO - Using LoRA weights for multi head layers!!\n",
      "2025-05-14 15:01:05,520 - INFO - Using LoRA weights for ff layers!!\n",
      "2025-05-14 15:01:05,560 - INFO - Using LoRA weights for multi head layers!!\n",
      "2025-05-14 15:01:05,619 - INFO - Using LoRA weights for ff layers!!\n",
      "2025-05-14 15:01:05,656 - INFO - Using LoRA weights for multi head layers!!\n",
      "2025-05-14 15:01:05,714 - INFO - Using LoRA weights for ff layers!!\n",
      "2025-05-14 15:01:05,751 - INFO - Using LoRA weights for multi head layers!!\n",
      "2025-05-14 15:01:05,810 - INFO - Using LoRA weights for ff layers!!\n",
      "2025-05-14 15:01:05,846 - INFO - Using LoRA weights for multi head layers!!\n",
      "2025-05-14 15:01:05,906 - INFO - Using LoRA weights for ff layers!!\n",
      "2025-05-14 15:01:05,943 - INFO - Using LoRA weights for multi head layers!!\n",
      "2025-05-14 15:01:06,002 - INFO - Using LoRA weights for ff layers!!\n",
      "2025-05-14 15:01:06,039 - INFO - Using LoRA weights for multi head layers!!\n",
      "2025-05-14 15:01:06,097 - INFO - Using LoRA weights for ff layers!!\n",
      "2025-05-14 15:01:06,134 - INFO - Using LoRA weights for multi head layers!!\n",
      "2025-05-14 15:01:06,194 - INFO - Using LoRA weights for ff layers!!\n",
      "2025-05-14 15:01:06,230 - INFO - Using LoRA weights for multi head layers!!\n",
      "2025-05-14 15:01:06,289 - INFO - Using LoRA weights for ff layers!!\n",
      "2025-05-14 15:01:06,326 - INFO - Using LoRA weights for multi head layers!!\n",
      "2025-05-14 15:01:06,385 - INFO - Using LoRA weights for ff layers!!\n",
      "2025-05-14 15:01:06,422 - INFO - Using LoRA weights for multi head layers!!\n",
      "2025-05-14 15:01:06,483 - INFO - Using LoRA weights for ff layers!!\n",
      "2025-05-14 15:01:06,519 - INFO - Using LoRA weights for multi head layers!!\n",
      "2025-05-14 15:01:06,578 - INFO - Using LoRA weights for ff layers!!\n",
      "2025-05-14 15:01:06,615 - INFO - Using LoRA weights for multi head layers!!\n",
      "2025-05-14 15:01:06,674 - INFO - Using LoRA weights for ff layers!!\n",
      "2025-05-14 15:01:06,710 - INFO - Using LoRA weights for multi head layers!!\n",
      "2025-05-14 15:01:06,769 - INFO - Using LoRA weights for ff layers!!\n",
      "2025-05-14 15:01:06,806 - INFO - Using LoRA weights for multi head layers!!\n",
      "2025-05-14 15:01:06,864 - INFO - Using LoRA weights for ff layers!!\n",
      "2025-05-14 15:01:06,901 - INFO - Using LoRA weights for multi head layers!!\n",
      "2025-05-14 15:01:06,960 - INFO - Using LoRA weights for ff layers!!\n",
      "2025-05-14 15:01:06,996 - INFO - Using LoRA weights for multi head layers!!\n",
      "2025-05-14 15:01:07,055 - INFO - Using LoRA weights for ff layers!!\n",
      "2025-05-14 15:01:07,093 - INFO - Using LoRA weights for multi head layers!!\n",
      "2025-05-14 15:01:07,387 - INFO - Using Lora for final output layer!!\n",
      "2025-05-14 15:01:07,403 - INFO - Trained model exists on saved path /home/smathad/ai_capstone/chathist/models/finetuned/gpt2-medium_chat_title_finetuned\n",
      "\n"
     ]
    }
   ],
   "source": [
    "model = Model()"
   ]
  },
  {
   "cell_type": "code",
   "execution_count": 3,
   "id": "8832634a",
   "metadata": {},
   "outputs": [
    {
     "name": "stderr",
     "output_type": "stream",
     "text": [
      "2025-05-14 15:01:08,878 - INFO - Formatting prompt into phi3 style\n"
     ]
    },
    {
     "data": {
      "text/plain": [
       "'Understanding AI'"
      ]
     },
     "execution_count": 3,
     "metadata": {},
     "output_type": "execute_result"
    }
   ],
   "source": [
    "model.generate(\"What is AI?\")"
   ]
  }
 ],
 "metadata": {
  "kernelspec": {
   "display_name": "venv",
   "language": "python",
   "name": "python3"
  },
  "language_info": {
   "codemirror_mode": {
    "name": "ipython",
    "version": 3
   },
   "file_extension": ".py",
   "mimetype": "text/x-python",
   "name": "python",
   "nbconvert_exporter": "python",
   "pygments_lexer": "ipython3",
   "version": "3.12.3"
  }
 },
 "nbformat": 4,
 "nbformat_minor": 5
}
