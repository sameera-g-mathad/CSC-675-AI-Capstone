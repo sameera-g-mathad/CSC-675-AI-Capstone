{
 "cells": [
  {
   "cell_type": "code",
   "execution_count": null,
   "id": "8de45921",
   "metadata": {},
   "outputs": [],
   "source": [
    "from chathist import Model\n",
    "# import chathist\n",
    "# import torch"
   ]
  },
  {
   "cell_type": "code",
   "execution_count": null,
   "id": "f85922a1",
   "metadata": {},
   "outputs": [],
   "source": [
    "model = Model()"
   ]
  },
  {
   "cell_type": "code",
   "execution_count": null,
   "id": "6335b61d",
   "metadata": {},
   "outputs": [],
   "source": [
    "model._model.get_model_params()"
   ]
  },
  {
   "cell_type": "code",
   "execution_count": null,
   "id": "8832634a",
   "metadata": {},
   "outputs": [],
   "source": [
    "model.generate(\"What is AI?\")"
   ]
  },
  {
   "cell_type": "code",
   "execution_count": null,
   "id": "ebccb54f",
   "metadata": {},
   "outputs": [],
   "source": []
  }
 ],
 "metadata": {
  "kernelspec": {
   "display_name": "venv",
   "language": "python",
   "name": "python3"
  },
  "language_info": {
   "codemirror_mode": {
    "name": "ipython",
    "version": 3
   },
   "file_extension": ".py",
   "mimetype": "text/x-python",
   "name": "python",
   "nbconvert_exporter": "python",
   "pygments_lexer": "ipython3",
   "version": "3.12.0"
  }
 },
 "nbformat": 4,
 "nbformat_minor": 5
}
