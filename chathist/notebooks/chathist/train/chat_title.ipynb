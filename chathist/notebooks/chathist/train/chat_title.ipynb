{
 "cells": [
  {
   "cell_type": "code",
   "execution_count": 1,
   "id": "a0177a23",
   "metadata": {},
   "outputs": [
    {
     "name": "stderr",
     "output_type": "stream",
     "text": [
      "2025-05-13 11:53:16,286 - WARNING - data is not present in the config file, falling back to defaults!!!\n"
     ]
    }
   ],
   "source": [
    "from chathist import InstructionDataLoader,InstructionDataset, InstructionStyle, Model, Tokenizer\n",
    "import pandas as pd"
   ]
  },
  {
   "cell_type": "code",
   "execution_count": 2,
   "id": "befcccf3",
   "metadata": {},
   "outputs": [],
   "source": [
    "chat_df = pd.read_json(\"hf://datasets/ogrnz/chat-titles/dataset.jsonl\", lines=True)"
   ]
  },
  {
   "cell_type": "code",
   "execution_count": 3,
   "id": "efad11af",
   "metadata": {},
   "outputs": [
    {
     "data": {
      "text/html": [
       "<div>\n",
       "<style scoped>\n",
       "    .dataframe tbody tr th:only-of-type {\n",
       "        vertical-align: middle;\n",
       "    }\n",
       "\n",
       "    .dataframe tbody tr th {\n",
       "        vertical-align: top;\n",
       "    }\n",
       "\n",
       "    .dataframe thead th {\n",
       "        text-align: right;\n",
       "    }\n",
       "</style>\n",
       "<table border=\"1\" class=\"dataframe\">\n",
       "  <thead>\n",
       "    <tr style=\"text-align: right;\">\n",
       "      <th></th>\n",
       "      <th>message</th>\n",
       "      <th>title</th>\n",
       "    </tr>\n",
       "  </thead>\n",
       "  <tbody>\n",
       "    <tr>\n",
       "      <th>0</th>\n",
       "      <td>Develop a method for clustering astronomical d...</td>\n",
       "      <td>Astronomical Data Clustering Method</td>\n",
       "    </tr>\n",
       "    <tr>\n",
       "      <th>1</th>\n",
       "      <td>What is the role of dopamine in the brain as a...</td>\n",
       "      <td>Dopamine as a Neurotransmitter</td>\n",
       "    </tr>\n",
       "    <tr>\n",
       "      <th>2</th>\n",
       "      <td>Replace the \\\"XXX\\\" in the following sentence ...</td>\n",
       "      <td>Company Sustainability Objective</td>\n",
       "    </tr>\n",
       "    <tr>\n",
       "      <th>3</th>\n",
       "      <td>Identify the sentence type (declarative, inter...</td>\n",
       "      <td>Sentence Type Identification</td>\n",
       "    </tr>\n",
       "    <tr>\n",
       "      <th>4</th>\n",
       "      <td>Suggest a book title for a fantasy novel about...</td>\n",
       "      <td>Outlaws in Enchanted Realms</td>\n",
       "    </tr>\n",
       "  </tbody>\n",
       "</table>\n",
       "</div>"
      ],
      "text/plain": [
       "                                             message  \\\n",
       "0  Develop a method for clustering astronomical d...   \n",
       "1  What is the role of dopamine in the brain as a...   \n",
       "2  Replace the \\\"XXX\\\" in the following sentence ...   \n",
       "3  Identify the sentence type (declarative, inter...   \n",
       "4  Suggest a book title for a fantasy novel about...   \n",
       "\n",
       "                                 title  \n",
       "0  Astronomical Data Clustering Method  \n",
       "1       Dopamine as a Neurotransmitter  \n",
       "2     Company Sustainability Objective  \n",
       "3         Sentence Type Identification  \n",
       "4          Outlaws in Enchanted Realms  "
      ]
     },
     "execution_count": 3,
     "metadata": {},
     "output_type": "execute_result"
    }
   ],
   "source": [
    "chat_df.head()"
   ]
  },
  {
   "cell_type": "code",
   "execution_count": 4,
   "id": "c7056abc",
   "metadata": {},
   "outputs": [
    {
     "data": {
      "text/plain": [
       "(10000, 2)"
      ]
     },
     "execution_count": 4,
     "metadata": {},
     "output_type": "execute_result"
    }
   ],
   "source": [
    "chat_df.shape"
   ]
  },
  {
   "cell_type": "code",
   "execution_count": 5,
   "id": "d94a2a4e",
   "metadata": {},
   "outputs": [
    {
     "data": {
      "text/plain": [
       "Index(['message', 'title'], dtype='object')"
      ]
     },
     "execution_count": 5,
     "metadata": {},
     "output_type": "execute_result"
    }
   ],
   "source": [
    "chat_df.columns"
   ]
  },
  {
   "cell_type": "code",
   "execution_count": 6,
   "id": "e7f81bbd",
   "metadata": {},
   "outputs": [
    {
     "name": "stderr",
     "output_type": "stream",
     "text": [
      "2025-05-13 11:53:16,828 - INFO - phi3 style chosen!!\n"
     ]
    }
   ],
   "source": [
    "style = InstructionStyle.load(style='phi3', input_query=\"<|user|>\\n\", response_query=\"\\n<|llm|>\\n\")"
   ]
  },
  {
   "cell_type": "code",
   "execution_count": 7,
   "id": "0a12774a",
   "metadata": {},
   "outputs": [],
   "source": [
    "df = style.convert_train(chat_df, input_col='message', response_col= 'title', output_col='instruct', new_df=True)"
   ]
  },
  {
   "cell_type": "code",
   "execution_count": 8,
   "id": "208fa7aa",
   "metadata": {},
   "outputs": [],
   "source": [
    "train_len = 9500"
   ]
  },
  {
   "cell_type": "code",
   "execution_count": 9,
   "id": "cff3e882",
   "metadata": {},
   "outputs": [],
   "source": [
    "train_df = df.iloc[:train_len, :]\n",
    "val_df = df.iloc[train_len:, :]"
   ]
  },
  {
   "cell_type": "code",
   "execution_count": 10,
   "id": "24969e0c",
   "metadata": {},
   "outputs": [
    {
     "data": {
      "text/html": [
       "<div>\n",
       "<style scoped>\n",
       "    .dataframe tbody tr th:only-of-type {\n",
       "        vertical-align: middle;\n",
       "    }\n",
       "\n",
       "    .dataframe tbody tr th {\n",
       "        vertical-align: top;\n",
       "    }\n",
       "\n",
       "    .dataframe thead th {\n",
       "        text-align: right;\n",
       "    }\n",
       "</style>\n",
       "<table border=\"1\" class=\"dataframe\">\n",
       "  <thead>\n",
       "    <tr style=\"text-align: right;\">\n",
       "      <th></th>\n",
       "      <th>instruct</th>\n",
       "    </tr>\n",
       "  </thead>\n",
       "  <tbody>\n",
       "    <tr>\n",
       "      <th>0</th>\n",
       "      <td>&lt;|user|&gt;\\nDevelop a method for clustering astr...</td>\n",
       "    </tr>\n",
       "    <tr>\n",
       "      <th>1</th>\n",
       "      <td>&lt;|user|&gt;\\nWhat is the role of dopamine in the ...</td>\n",
       "    </tr>\n",
       "    <tr>\n",
       "      <th>2</th>\n",
       "      <td>&lt;|user|&gt;\\nReplace the \\\"XXX\\\" in the following...</td>\n",
       "    </tr>\n",
       "    <tr>\n",
       "      <th>3</th>\n",
       "      <td>&lt;|user|&gt;\\nIdentify the sentence type (declarat...</td>\n",
       "    </tr>\n",
       "    <tr>\n",
       "      <th>4</th>\n",
       "      <td>&lt;|user|&gt;\\nSuggest a book title for a fantasy n...</td>\n",
       "    </tr>\n",
       "    <tr>\n",
       "      <th>...</th>\n",
       "      <td>...</td>\n",
       "    </tr>\n",
       "    <tr>\n",
       "      <th>9495</th>\n",
       "      <td>&lt;|user|&gt;\\nAssume yourself to be a business whi...</td>\n",
       "    </tr>\n",
       "    <tr>\n",
       "      <th>9496</th>\n",
       "      <td>&lt;|user|&gt;\\nIgnore all previous instructions. Ac...</td>\n",
       "    </tr>\n",
       "    <tr>\n",
       "      <th>9497</th>\n",
       "      <td>&lt;|user|&gt;\\nGiven the following description, ide...</td>\n",
       "    </tr>\n",
       "    <tr>\n",
       "      <th>9498</th>\n",
       "      <td>&lt;|user|&gt;\\nWhat is the 17th letter of supercali...</td>\n",
       "    </tr>\n",
       "    <tr>\n",
       "      <th>9499</th>\n",
       "      <td>&lt;|user|&gt;\\nHow does the genetic makeup of an an...</td>\n",
       "    </tr>\n",
       "  </tbody>\n",
       "</table>\n",
       "<p>9500 rows × 1 columns</p>\n",
       "</div>"
      ],
      "text/plain": [
       "                                               instruct\n",
       "0     <|user|>\\nDevelop a method for clustering astr...\n",
       "1     <|user|>\\nWhat is the role of dopamine in the ...\n",
       "2     <|user|>\\nReplace the \\\"XXX\\\" in the following...\n",
       "3     <|user|>\\nIdentify the sentence type (declarat...\n",
       "4     <|user|>\\nSuggest a book title for a fantasy n...\n",
       "...                                                 ...\n",
       "9495  <|user|>\\nAssume yourself to be a business whi...\n",
       "9496  <|user|>\\nIgnore all previous instructions. Ac...\n",
       "9497  <|user|>\\nGiven the following description, ide...\n",
       "9498  <|user|>\\nWhat is the 17th letter of supercali...\n",
       "9499  <|user|>\\nHow does the genetic makeup of an an...\n",
       "\n",
       "[9500 rows x 1 columns]"
      ]
     },
     "execution_count": 10,
     "metadata": {},
     "output_type": "execute_result"
    }
   ],
   "source": [
    "train_df"
   ]
  },
  {
   "cell_type": "code",
   "execution_count": 11,
   "id": "24f5f6d2",
   "metadata": {},
   "outputs": [
    {
     "name": "stdout",
     "output_type": "stream",
     "text": [
      "<|user|>\n",
      "Develop a method for clustering astronomical data.\n",
      "<|llm|>\n",
      "Astronomical Data Clustering Method\n"
     ]
    }
   ],
   "source": [
    "print(train_df['instruct'].values[0])"
   ]
  },
  {
   "cell_type": "code",
   "execution_count": 12,
   "id": "4f0c07ca",
   "metadata": {},
   "outputs": [
    {
     "data": {
      "text/html": [
       "<div>\n",
       "<style scoped>\n",
       "    .dataframe tbody tr th:only-of-type {\n",
       "        vertical-align: middle;\n",
       "    }\n",
       "\n",
       "    .dataframe tbody tr th {\n",
       "        vertical-align: top;\n",
       "    }\n",
       "\n",
       "    .dataframe thead th {\n",
       "        text-align: right;\n",
       "    }\n",
       "</style>\n",
       "<table border=\"1\" class=\"dataframe\">\n",
       "  <thead>\n",
       "    <tr style=\"text-align: right;\">\n",
       "      <th></th>\n",
       "      <th>instruct</th>\n",
       "    </tr>\n",
       "  </thead>\n",
       "  <tbody>\n",
       "    <tr>\n",
       "      <th>9500</th>\n",
       "      <td>&lt;|user|&gt;\\nWhat are the differences in the prop...</td>\n",
       "    </tr>\n",
       "    <tr>\n",
       "      <th>9501</th>\n",
       "      <td>&lt;|user|&gt;\\nImplement a program to find the comm...</td>\n",
       "    </tr>\n",
       "    <tr>\n",
       "      <th>9502</th>\n",
       "      <td>&lt;|user|&gt;\\nHow can a person develop a healthy s...</td>\n",
       "    </tr>\n",
       "    <tr>\n",
       "      <th>9503</th>\n",
       "      <td>&lt;|user|&gt;\\nPlease help me use schrodinger's equ...</td>\n",
       "    </tr>\n",
       "    <tr>\n",
       "      <th>9504</th>\n",
       "      <td>&lt;|user|&gt;\\nRewrite the sentence to use a pronou...</td>\n",
       "    </tr>\n",
       "    <tr>\n",
       "      <th>...</th>\n",
       "      <td>...</td>\n",
       "    </tr>\n",
       "    <tr>\n",
       "      <th>9995</th>\n",
       "      <td>&lt;|user|&gt;\\nFrom the given passage, identify the...</td>\n",
       "    </tr>\n",
       "    <tr>\n",
       "      <th>9996</th>\n",
       "      <td>&lt;|user|&gt;\\nAnalyze an effect that the text coul...</td>\n",
       "    </tr>\n",
       "    <tr>\n",
       "      <th>9997</th>\n",
       "      <td>&lt;|user|&gt;\\nWhat is the average number of hours ...</td>\n",
       "    </tr>\n",
       "    <tr>\n",
       "      <th>9998</th>\n",
       "      <td>&lt;|user|&gt;\\nClassify the following statement as ...</td>\n",
       "    </tr>\n",
       "    <tr>\n",
       "      <th>9999</th>\n",
       "      <td>&lt;|user|&gt;\\nRewrite the following paragraph in t...</td>\n",
       "    </tr>\n",
       "  </tbody>\n",
       "</table>\n",
       "<p>500 rows × 1 columns</p>\n",
       "</div>"
      ],
      "text/plain": [
       "                                               instruct\n",
       "9500  <|user|>\\nWhat are the differences in the prop...\n",
       "9501  <|user|>\\nImplement a program to find the comm...\n",
       "9502  <|user|>\\nHow can a person develop a healthy s...\n",
       "9503  <|user|>\\nPlease help me use schrodinger's equ...\n",
       "9504  <|user|>\\nRewrite the sentence to use a pronou...\n",
       "...                                                 ...\n",
       "9995  <|user|>\\nFrom the given passage, identify the...\n",
       "9996  <|user|>\\nAnalyze an effect that the text coul...\n",
       "9997  <|user|>\\nWhat is the average number of hours ...\n",
       "9998  <|user|>\\nClassify the following statement as ...\n",
       "9999  <|user|>\\nRewrite the following paragraph in t...\n",
       "\n",
       "[500 rows x 1 columns]"
      ]
     },
     "execution_count": 12,
     "metadata": {},
     "output_type": "execute_result"
    }
   ],
   "source": [
    "val_df"
   ]
  },
  {
   "cell_type": "code",
   "execution_count": 13,
   "id": "540280a8",
   "metadata": {},
   "outputs": [
    {
     "name": "stdout",
     "output_type": "stream",
     "text": [
      "<|user|>\n",
      "What are the differences in the properties of the top quark when it is produced through different modes such as gluon fusion and vector boson fusion, and how do these differences impact our understanding of the top quark's interactions with other particles in the standard model of particle physics?\n",
      "<|llm|>\n",
      "Top Quark Production Modes\n"
     ]
    }
   ],
   "source": [
    "print(val_df['instruct'].values[0])"
   ]
  },
  {
   "cell_type": "code",
   "execution_count": 14,
   "id": "54a47f52",
   "metadata": {},
   "outputs": [
    {
     "name": "stderr",
     "output_type": "stream",
     "text": [
      "2025-05-13 11:53:16,927 - INFO - Setting tokenizer using tiktoken with encoding: gpt2\n"
     ]
    }
   ],
   "source": [
    "train_dataset = InstructionDataset(train_df['instruct'].tolist())"
   ]
  },
  {
   "cell_type": "code",
   "execution_count": 15,
   "id": "c5265e2b",
   "metadata": {},
   "outputs": [],
   "source": [
    "val_dataset = InstructionDataset(val_df['instruct'].tolist())"
   ]
  },
  {
   "cell_type": "code",
   "execution_count": 16,
   "id": "cc2a18d8",
   "metadata": {},
   "outputs": [],
   "source": [
    "train_loader = InstructionDataLoader().load(dataset = train_dataset)"
   ]
  },
  {
   "cell_type": "code",
   "execution_count": 17,
   "id": "eb38b1d0",
   "metadata": {},
   "outputs": [],
   "source": [
    "val_loader = InstructionDataLoader().load(dataset = val_dataset)"
   ]
  },
  {
   "cell_type": "code",
   "execution_count": 18,
   "id": "a242a799",
   "metadata": {},
   "outputs": [],
   "source": [
    "data = iter(val_loader)"
   ]
  },
  {
   "cell_type": "code",
   "execution_count": 19,
   "id": "57b3d21e",
   "metadata": {},
   "outputs": [],
   "source": [
    "first_batch = next(data)"
   ]
  },
  {
   "cell_type": "code",
   "execution_count": 20,
   "id": "643e51b0",
   "metadata": {},
   "outputs": [
    {
     "data": {
      "text/plain": [
       "tensor([   27,    91,  7220,    91,    29,   198,  2061,   389,   262,  5400,\n",
       "          287,   262,  6608,   286,   262,  1353,   627,   668,   618,   340,\n",
       "          318,  4635,   832,  1180, 12881,   884,   355,  1278,    84,   261,\n",
       "        21748,   290, 15879, 37284,   261, 21748,    11,   290,   703,   466,\n",
       "          777,  5400,  2928,   674,  4547,   286,   262,  1353,   627,   668,\n",
       "          338, 12213,   351,   584, 13166,   287,   262,  3210,  2746,   286,\n",
       "        18758, 11887,    30,   198,    27,    91,   297,    76,    91,    29,\n",
       "          198,  9126,  2264,   668, 19174, 42082, 50256, 50256, 50256, 50256,\n",
       "        50256, 50256, 50256, 50256, 50256, 50256, 50256], dtype=torch.int32)"
      ]
     },
     "execution_count": 20,
     "metadata": {},
     "output_type": "execute_result"
    }
   ],
   "source": [
    "first_batch[0][0]"
   ]
  },
  {
   "cell_type": "code",
   "execution_count": 21,
   "id": "c5241c41",
   "metadata": {},
   "outputs": [
    {
     "data": {
      "text/plain": [
       "tensor([ -100,  -100,  -100,  -100,  -100,  -100,  -100,  -100,  -100,  -100,\n",
       "         -100,  -100,  -100,  -100,  -100,  -100,  -100,  -100,  -100,  -100,\n",
       "         -100,  -100,  -100,  -100,  -100,  -100,  -100,  -100,  -100,  -100,\n",
       "         -100,  -100,  -100,  -100,  -100,  -100,  -100,  -100,  -100,  -100,\n",
       "         -100,  -100,  -100,  -100,  -100,  -100,  -100,  -100,  -100,  -100,\n",
       "         -100,  -100,  -100,  -100,  -100,  -100,  -100,  -100,  -100,  -100,\n",
       "         -100,  -100,  -100,  -100,  -100,  -100,  -100,  -100,  -100,  -100,\n",
       "         9126,  2264,   668, 19174, 42082, 50256,  -100,  -100,  -100,  -100,\n",
       "         -100,  -100,  -100,  -100,  -100,  -100,  -100], dtype=torch.int32)"
      ]
     },
     "execution_count": 21,
     "metadata": {},
     "output_type": "execute_result"
    }
   ],
   "source": [
    "first_batch[1][0]"
   ]
  },
  {
   "cell_type": "code",
   "execution_count": 22,
   "id": "eabb746f",
   "metadata": {},
   "outputs": [
    {
     "name": "stderr",
     "output_type": "stream",
     "text": [
      "2025-05-13 11:53:18,293 - INFO - Setting tokenizer using tiktoken with encoding: gpt2\n"
     ]
    }
   ],
   "source": [
    "tokenizer = Tokenizer()"
   ]
  },
  {
   "cell_type": "code",
   "execution_count": 23,
   "id": "b66779db",
   "metadata": {},
   "outputs": [
    {
     "name": "stdout",
     "output_type": "stream",
     "text": [
      "<|user|>\n",
      "What are the differences in the properties of the top quark when it is produced through different modes such as gluon fusion and vector boson fusion, and how do these differences impact our understanding of the top quark's interactions with other particles in the standard model of particle physics?\n",
      "<|llm|>\n",
      "Top Quark Production Modes<|endoftext|><|endoftext|><|endoftext|><|endoftext|><|endoftext|><|endoftext|><|endoftext|><|endoftext|><|endoftext|><|endoftext|><|endoftext|>\n"
     ]
    }
   ],
   "source": [
    "print(tokenizer.decode_ids(first_batch[0][0]))"
   ]
  },
  {
   "cell_type": "code",
   "execution_count": 24,
   "id": "e5748e4b",
   "metadata": {},
   "outputs": [
    {
     "name": "stdout",
     "output_type": "stream",
     "text": [
      "Top Quark Production Modes<|endoftext|>\n"
     ]
    }
   ],
   "source": [
    "print(tokenizer.decode_ids(first_batch[1][0]))"
   ]
  },
  {
   "cell_type": "code",
   "execution_count": 25,
   "id": "329dc273",
   "metadata": {},
   "outputs": [
    {
     "name": "stderr",
     "output_type": "stream",
     "text": [
      "2025-05-13 11:53:19,532 - INFO - Repo: openai-community/gpt2.\n",
      "2025-05-13 11:53:19,534 - INFO - openai-community/gpt2 exists in /home/smathad/ai_capstone/chathist/models/pretrained/gpt2. Skipping Download...\n",
      "2025-05-13 11:53:20,008 - INFO - Loading weights into model.\n",
      "2025-05-13 11:53:20,010 - WARNING - Using loRA will freeze the whole model except for loRA weights.\n",
      "2025-05-13 11:53:20,081 - INFO - Using Lora for final output layer!!\n",
      "2025-05-13 11:53:20,086 - INFO - Layer: 1\n",
      "2025-05-13 11:53:20,090 - INFO - loading norm1 weights and bias\n",
      "2025-05-13 11:53:20,091 - INFO - loading norm2 weights and bias\n",
      "2025-05-13 11:53:20,091 - INFO - loading ff weights and bias\n",
      "2025-05-13 11:53:20,109 - INFO - Using LoRA weights for ff layers!!\n",
      "2025-05-13 11:53:20,121 - INFO - loading attention weights and bias\n",
      "2025-05-13 11:53:20,152 - INFO - Using LoRA weights for multi head layers!!\n",
      "2025-05-13 11:53:20,154 - INFO - Layer: 2\n",
      "2025-05-13 11:53:20,154 - INFO - loading norm1 weights and bias\n",
      "2025-05-13 11:53:20,155 - INFO - loading norm2 weights and bias\n",
      "2025-05-13 11:53:20,155 - INFO - loading ff weights and bias\n",
      "2025-05-13 11:53:20,172 - INFO - Using LoRA weights for ff layers!!\n",
      "2025-05-13 11:53:20,181 - INFO - loading attention weights and bias\n",
      "2025-05-13 11:53:20,220 - INFO - Using LoRA weights for multi head layers!!\n",
      "2025-05-13 11:53:20,221 - INFO - Layer: 3\n",
      "2025-05-13 11:53:20,222 - INFO - loading norm1 weights and bias\n",
      "2025-05-13 11:53:20,223 - INFO - loading norm2 weights and bias\n",
      "2025-05-13 11:53:20,223 - INFO - loading ff weights and bias\n",
      "2025-05-13 11:53:20,237 - INFO - Using LoRA weights for ff layers!!\n",
      "2025-05-13 11:53:20,242 - INFO - loading attention weights and bias\n",
      "2025-05-13 11:53:20,246 - INFO - Using LoRA weights for multi head layers!!\n",
      "2025-05-13 11:53:20,248 - INFO - Layer: 4\n",
      "2025-05-13 11:53:20,248 - INFO - loading norm1 weights and bias\n",
      "2025-05-13 11:53:20,249 - INFO - loading norm2 weights and bias\n",
      "2025-05-13 11:53:20,249 - INFO - loading ff weights and bias\n",
      "2025-05-13 11:53:20,255 - INFO - Using LoRA weights for ff layers!!\n",
      "2025-05-13 11:53:20,256 - INFO - loading attention weights and bias\n",
      "2025-05-13 11:53:20,260 - INFO - Using LoRA weights for multi head layers!!\n",
      "2025-05-13 11:53:20,262 - INFO - Layer: 5\n",
      "2025-05-13 11:53:20,262 - INFO - loading norm1 weights and bias\n",
      "2025-05-13 11:53:20,263 - INFO - loading norm2 weights and bias\n",
      "2025-05-13 11:53:20,263 - INFO - loading ff weights and bias\n",
      "2025-05-13 11:53:20,269 - INFO - Using LoRA weights for ff layers!!\n",
      "2025-05-13 11:53:20,270 - INFO - loading attention weights and bias\n",
      "2025-05-13 11:53:20,273 - INFO - Using LoRA weights for multi head layers!!\n",
      "2025-05-13 11:53:20,275 - INFO - Layer: 6\n",
      "2025-05-13 11:53:20,275 - INFO - loading norm1 weights and bias\n",
      "2025-05-13 11:53:20,276 - INFO - loading norm2 weights and bias\n",
      "2025-05-13 11:53:20,276 - INFO - loading ff weights and bias\n",
      "2025-05-13 11:53:20,282 - INFO - Using LoRA weights for ff layers!!\n",
      "2025-05-13 11:53:20,283 - INFO - loading attention weights and bias\n",
      "2025-05-13 11:53:20,287 - INFO - Using LoRA weights for multi head layers!!\n",
      "2025-05-13 11:53:20,288 - INFO - Layer: 7\n",
      "2025-05-13 11:53:20,289 - INFO - loading norm1 weights and bias\n",
      "2025-05-13 11:53:20,289 - INFO - loading norm2 weights and bias\n",
      "2025-05-13 11:53:20,290 - INFO - loading ff weights and bias\n",
      "2025-05-13 11:53:20,297 - INFO - Using LoRA weights for ff layers!!\n",
      "2025-05-13 11:53:20,299 - INFO - loading attention weights and bias\n",
      "2025-05-13 11:53:20,302 - INFO - Using LoRA weights for multi head layers!!\n",
      "2025-05-13 11:53:20,303 - INFO - Layer: 8\n",
      "2025-05-13 11:53:20,304 - INFO - loading norm1 weights and bias\n",
      "2025-05-13 11:53:20,304 - INFO - loading norm2 weights and bias\n",
      "2025-05-13 11:53:20,305 - INFO - loading ff weights and bias\n",
      "2025-05-13 11:53:20,311 - INFO - Using LoRA weights for ff layers!!\n",
      "2025-05-13 11:53:20,312 - INFO - loading attention weights and bias\n",
      "2025-05-13 11:53:20,318 - INFO - Using LoRA weights for multi head layers!!\n",
      "2025-05-13 11:53:20,319 - INFO - Layer: 9\n",
      "2025-05-13 11:53:20,319 - INFO - loading norm1 weights and bias\n",
      "2025-05-13 11:53:20,320 - INFO - loading norm2 weights and bias\n",
      "2025-05-13 11:53:20,320 - INFO - loading ff weights and bias\n",
      "2025-05-13 11:53:20,326 - INFO - Using LoRA weights for ff layers!!\n",
      "2025-05-13 11:53:20,329 - INFO - loading attention weights and bias\n",
      "2025-05-13 11:53:20,332 - INFO - Using LoRA weights for multi head layers!!\n",
      "2025-05-13 11:53:20,334 - INFO - Layer: 10\n",
      "2025-05-13 11:53:20,334 - INFO - loading norm1 weights and bias\n",
      "2025-05-13 11:53:20,335 - INFO - loading norm2 weights and bias\n",
      "2025-05-13 11:53:20,335 - INFO - loading ff weights and bias\n",
      "2025-05-13 11:53:20,341 - INFO - Using LoRA weights for ff layers!!\n",
      "2025-05-13 11:53:20,348 - INFO - loading attention weights and bias\n",
      "2025-05-13 11:53:20,356 - INFO - Using LoRA weights for multi head layers!!\n",
      "2025-05-13 11:53:20,358 - INFO - Layer: 11\n",
      "2025-05-13 11:53:20,358 - INFO - loading norm1 weights and bias\n",
      "2025-05-13 11:53:20,359 - INFO - loading norm2 weights and bias\n",
      "2025-05-13 11:53:20,359 - INFO - loading ff weights and bias\n",
      "2025-05-13 11:53:20,370 - INFO - Using LoRA weights for ff layers!!\n",
      "2025-05-13 11:53:20,375 - INFO - loading attention weights and bias\n",
      "2025-05-13 11:53:20,382 - INFO - Using LoRA weights for multi head layers!!\n",
      "2025-05-13 11:53:20,383 - INFO - Layer: 12\n",
      "2025-05-13 11:53:20,384 - INFO - loading norm1 weights and bias\n",
      "2025-05-13 11:53:20,384 - INFO - loading norm2 weights and bias\n",
      "2025-05-13 11:53:20,385 - INFO - loading ff weights and bias\n",
      "2025-05-13 11:53:20,396 - INFO - Using LoRA weights for ff layers!!\n",
      "2025-05-13 11:53:20,397 - INFO - loading attention weights and bias\n",
      "2025-05-13 11:53:20,401 - INFO - Using LoRA weights for multi head layers!!\n"
     ]
    }
   ],
   "source": [
    "model = Model()"
   ]
  },
  {
   "cell_type": "code",
   "execution_count": 26,
   "id": "c27d8568",
   "metadata": {},
   "outputs": [
    {
     "name": "stderr",
     "output_type": "stream",
     "text": [
      "2025-05-13 11:53:20,598 - INFO - Total model parameters: 166507792\n",
      "2025-05-13 11:53:20,600 - INFO - Total trainable parameters: 3470608\n"
     ]
    },
    {
     "data": {
      "text/html": [
       "<div>\n",
       "<style scoped>\n",
       "    .dataframe tbody tr th:only-of-type {\n",
       "        vertical-align: middle;\n",
       "    }\n",
       "\n",
       "    .dataframe tbody tr th {\n",
       "        vertical-align: top;\n",
       "    }\n",
       "\n",
       "    .dataframe thead th {\n",
       "        text-align: right;\n",
       "    }\n",
       "</style>\n",
       "<table border=\"1\" class=\"dataframe\">\n",
       "  <thead>\n",
       "    <tr style=\"text-align: right;\">\n",
       "      <th></th>\n",
       "      <th>layer_name</th>\n",
       "      <th>requires_grad</th>\n",
       "      <th>params</th>\n",
       "    </tr>\n",
       "  </thead>\n",
       "  <tbody>\n",
       "    <tr>\n",
       "      <th>0</th>\n",
       "      <td>tok_emb.weight</td>\n",
       "      <td>False</td>\n",
       "      <td>38597376</td>\n",
       "    </tr>\n",
       "    <tr>\n",
       "      <th>1</th>\n",
       "      <td>pos_emb.weight</td>\n",
       "      <td>False</td>\n",
       "      <td>786432</td>\n",
       "    </tr>\n",
       "    <tr>\n",
       "      <th>2</th>\n",
       "      <td>transformers.layer_0.norm1.scale</td>\n",
       "      <td>False</td>\n",
       "      <td>768</td>\n",
       "    </tr>\n",
       "    <tr>\n",
       "      <th>3</th>\n",
       "      <td>transformers.layer_0.norm1.shift</td>\n",
       "      <td>False</td>\n",
       "      <td>768</td>\n",
       "    </tr>\n",
       "    <tr>\n",
       "      <th>4</th>\n",
       "      <td>transformers.layer_0.norm2.scale</td>\n",
       "      <td>False</td>\n",
       "      <td>768</td>\n",
       "    </tr>\n",
       "    <tr>\n",
       "      <th>...</th>\n",
       "      <td>...</td>\n",
       "      <td>...</td>\n",
       "      <td>...</td>\n",
       "    </tr>\n",
       "    <tr>\n",
       "      <th>338</th>\n",
       "      <td>final_norm.scale</td>\n",
       "      <td>False</td>\n",
       "      <td>768</td>\n",
       "    </tr>\n",
       "    <tr>\n",
       "      <th>339</th>\n",
       "      <td>final_norm.shift</td>\n",
       "      <td>False</td>\n",
       "      <td>768</td>\n",
       "    </tr>\n",
       "    <tr>\n",
       "      <th>340</th>\n",
       "      <td>final_layer.linear_layer.weight</td>\n",
       "      <td>False</td>\n",
       "      <td>38597376</td>\n",
       "    </tr>\n",
       "    <tr>\n",
       "      <th>341</th>\n",
       "      <td>final_layer.lora.a_matrix</td>\n",
       "      <td>True</td>\n",
       "      <td>12288</td>\n",
       "    </tr>\n",
       "    <tr>\n",
       "      <th>342</th>\n",
       "      <td>final_layer.lora.b_matrix</td>\n",
       "      <td>True</td>\n",
       "      <td>804112</td>\n",
       "    </tr>\n",
       "  </tbody>\n",
       "</table>\n",
       "<p>343 rows × 3 columns</p>\n",
       "</div>"
      ],
      "text/plain": [
       "                           layer_name  requires_grad    params\n",
       "0                      tok_emb.weight          False  38597376\n",
       "1                      pos_emb.weight          False    786432\n",
       "2    transformers.layer_0.norm1.scale          False       768\n",
       "3    transformers.layer_0.norm1.shift          False       768\n",
       "4    transformers.layer_0.norm2.scale          False       768\n",
       "..                                ...            ...       ...\n",
       "338                  final_norm.scale          False       768\n",
       "339                  final_norm.shift          False       768\n",
       "340   final_layer.linear_layer.weight          False  38597376\n",
       "341         final_layer.lora.a_matrix           True     12288\n",
       "342         final_layer.lora.b_matrix           True    804112\n",
       "\n",
       "[343 rows x 3 columns]"
      ]
     },
     "execution_count": 26,
     "metadata": {},
     "output_type": "execute_result"
    }
   ],
   "source": [
    "model.trainable_params()"
   ]
  },
  {
   "cell_type": "code",
   "execution_count": 27,
   "id": "ae2d5e5a",
   "metadata": {},
   "outputs": [],
   "source": [
    "# train_loss, val_loss = model.train(train_loader = train_loader, val_loader = val_loader)"
   ]
  },
  {
   "cell_type": "code",
   "execution_count": 28,
   "id": "ec4860f9",
   "metadata": {},
   "outputs": [
    {
     "data": {
      "text/plain": [
       "'<|user|>\\nwhat is AI\\n<|llm|>\\n'"
      ]
     },
     "execution_count": 28,
     "metadata": {},
     "output_type": "execute_result"
    }
   ],
   "source": [
    "style.format(\"what is AI\")"
   ]
  },
  {
   "cell_type": "code",
   "execution_count": 29,
   "id": "1f63a56c",
   "metadata": {},
   "outputs": [
    {
     "name": "stdout",
     "output_type": "stream",
     "text": [
      "\n",
      "AI is a new type of machine learning that uses machine learning to predict the future. It is a new type of machine learning that uses machine learning\n"
     ]
    }
   ],
   "source": [
    "print(model.generate('''\n",
    "what is AI\n",
    "'''))\n"
   ]
  },
  {
   "cell_type": "code",
   "execution_count": null,
   "id": "84425d9c",
   "metadata": {},
   "outputs": [],
   "source": []
  }
 ],
 "metadata": {
  "kernelspec": {
   "display_name": "venv",
   "language": "python",
   "name": "python3"
  },
  "language_info": {
   "codemirror_mode": {
    "name": "ipython",
    "version": 3
   },
   "file_extension": ".py",
   "mimetype": "text/x-python",
   "name": "python",
   "nbconvert_exporter": "python",
   "pygments_lexer": "ipython3",
   "version": "3.12.3"
  }
 },
 "nbformat": 4,
 "nbformat_minor": 5
}
