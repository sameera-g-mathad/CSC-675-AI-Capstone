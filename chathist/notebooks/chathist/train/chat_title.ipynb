{
 "cells": [
  {
   "cell_type": "code",
   "execution_count": 1,
   "id": "a0177a23",
   "metadata": {},
   "outputs": [
    {
     "name": "stderr",
     "output_type": "stream",
     "text": [
      "2025-05-11 14:34:23,403 - WARNING - train is not present in the config file, falling back to defaults!!!\n"
     ]
    }
   ],
   "source": [
    "from chathist import InstructionDataLoader,InstructionDataset, InstructionStyle, Model\n",
    "import pandas as pd"
   ]
  },
  {
   "cell_type": "code",
   "execution_count": 2,
   "id": "befcccf3",
   "metadata": {},
   "outputs": [],
   "source": [
    "chat_df = pd.read_json(\"hf://datasets/ogrnz/chat-titles/dataset.jsonl\", lines=True)"
   ]
  },
  {
   "cell_type": "code",
   "execution_count": 3,
   "id": "efad11af",
   "metadata": {},
   "outputs": [
    {
     "data": {
      "text/html": [
       "<div>\n",
       "<style scoped>\n",
       "    .dataframe tbody tr th:only-of-type {\n",
       "        vertical-align: middle;\n",
       "    }\n",
       "\n",
       "    .dataframe tbody tr th {\n",
       "        vertical-align: top;\n",
       "    }\n",
       "\n",
       "    .dataframe thead th {\n",
       "        text-align: right;\n",
       "    }\n",
       "</style>\n",
       "<table border=\"1\" class=\"dataframe\">\n",
       "  <thead>\n",
       "    <tr style=\"text-align: right;\">\n",
       "      <th></th>\n",
       "      <th>message</th>\n",
       "      <th>title</th>\n",
       "    </tr>\n",
       "  </thead>\n",
       "  <tbody>\n",
       "    <tr>\n",
       "      <th>0</th>\n",
       "      <td>Develop a method for clustering astronomical d...</td>\n",
       "      <td>Astronomical Data Clustering Method</td>\n",
       "    </tr>\n",
       "    <tr>\n",
       "      <th>1</th>\n",
       "      <td>What is the role of dopamine in the brain as a...</td>\n",
       "      <td>Dopamine as a Neurotransmitter</td>\n",
       "    </tr>\n",
       "    <tr>\n",
       "      <th>2</th>\n",
       "      <td>Replace the \\\"XXX\\\" in the following sentence ...</td>\n",
       "      <td>Company Sustainability Objective</td>\n",
       "    </tr>\n",
       "    <tr>\n",
       "      <th>3</th>\n",
       "      <td>Identify the sentence type (declarative, inter...</td>\n",
       "      <td>Sentence Type Identification</td>\n",
       "    </tr>\n",
       "    <tr>\n",
       "      <th>4</th>\n",
       "      <td>Suggest a book title for a fantasy novel about...</td>\n",
       "      <td>Outlaws in Enchanted Realms</td>\n",
       "    </tr>\n",
       "  </tbody>\n",
       "</table>\n",
       "</div>"
      ],
      "text/plain": [
       "                                             message  \\\n",
       "0  Develop a method for clustering astronomical d...   \n",
       "1  What is the role of dopamine in the brain as a...   \n",
       "2  Replace the \\\"XXX\\\" in the following sentence ...   \n",
       "3  Identify the sentence type (declarative, inter...   \n",
       "4  Suggest a book title for a fantasy novel about...   \n",
       "\n",
       "                                 title  \n",
       "0  Astronomical Data Clustering Method  \n",
       "1       Dopamine as a Neurotransmitter  \n",
       "2     Company Sustainability Objective  \n",
       "3         Sentence Type Identification  \n",
       "4          Outlaws in Enchanted Realms  "
      ]
     },
     "execution_count": 3,
     "metadata": {},
     "output_type": "execute_result"
    }
   ],
   "source": [
    "chat_df.head()"
   ]
  },
  {
   "cell_type": "code",
   "execution_count": 4,
   "id": "c7056abc",
   "metadata": {},
   "outputs": [
    {
     "data": {
      "text/plain": [
       "(10000, 2)"
      ]
     },
     "execution_count": 4,
     "metadata": {},
     "output_type": "execute_result"
    }
   ],
   "source": [
    "chat_df.shape"
   ]
  },
  {
   "cell_type": "code",
   "execution_count": 5,
   "id": "d94a2a4e",
   "metadata": {},
   "outputs": [
    {
     "data": {
      "text/plain": [
       "Index(['message', 'title'], dtype='object')"
      ]
     },
     "execution_count": 5,
     "metadata": {},
     "output_type": "execute_result"
    }
   ],
   "source": [
    "chat_df.columns"
   ]
  },
  {
   "cell_type": "code",
   "execution_count": 6,
   "id": "e7f81bbd",
   "metadata": {},
   "outputs": [
    {
     "name": "stderr",
     "output_type": "stream",
     "text": [
      "2025-05-11 14:34:23,879 - INFO - phi3 style chosen!!\n"
     ]
    }
   ],
   "source": [
    "style = InstructionStyle.load(style='phi3', input_query=\"<|user|>\\n\", response_query=\"\\n<|llm|>\\n\")"
   ]
  },
  {
   "cell_type": "code",
   "execution_count": 7,
   "id": "0a12774a",
   "metadata": {},
   "outputs": [],
   "source": [
    "df = style.convert_train(chat_df, input_col='message', response_col= 'title', output_col='instruct', new_df=True)"
   ]
  },
  {
   "cell_type": "code",
   "execution_count": 8,
   "id": "208fa7aa",
   "metadata": {},
   "outputs": [],
   "source": [
    "train_len = 9500"
   ]
  },
  {
   "cell_type": "code",
   "execution_count": 9,
   "id": "cff3e882",
   "metadata": {},
   "outputs": [],
   "source": [
    "train_df = df.iloc[:train_len, :]\n",
    "val_df = df.iloc[train_len:, :]"
   ]
  },
  {
   "cell_type": "code",
   "execution_count": 10,
   "id": "24969e0c",
   "metadata": {},
   "outputs": [
    {
     "data": {
      "text/html": [
       "<div>\n",
       "<style scoped>\n",
       "    .dataframe tbody tr th:only-of-type {\n",
       "        vertical-align: middle;\n",
       "    }\n",
       "\n",
       "    .dataframe tbody tr th {\n",
       "        vertical-align: top;\n",
       "    }\n",
       "\n",
       "    .dataframe thead th {\n",
       "        text-align: right;\n",
       "    }\n",
       "</style>\n",
       "<table border=\"1\" class=\"dataframe\">\n",
       "  <thead>\n",
       "    <tr style=\"text-align: right;\">\n",
       "      <th></th>\n",
       "      <th>instruct</th>\n",
       "    </tr>\n",
       "  </thead>\n",
       "  <tbody>\n",
       "    <tr>\n",
       "      <th>0</th>\n",
       "      <td>&lt;|user|&gt;\\nDevelop a method for clustering astr...</td>\n",
       "    </tr>\n",
       "    <tr>\n",
       "      <th>1</th>\n",
       "      <td>&lt;|user|&gt;\\nWhat is the role of dopamine in the ...</td>\n",
       "    </tr>\n",
       "    <tr>\n",
       "      <th>2</th>\n",
       "      <td>&lt;|user|&gt;\\nReplace the \\\"XXX\\\" in the following...</td>\n",
       "    </tr>\n",
       "    <tr>\n",
       "      <th>3</th>\n",
       "      <td>&lt;|user|&gt;\\nIdentify the sentence type (declarat...</td>\n",
       "    </tr>\n",
       "    <tr>\n",
       "      <th>4</th>\n",
       "      <td>&lt;|user|&gt;\\nSuggest a book title for a fantasy n...</td>\n",
       "    </tr>\n",
       "    <tr>\n",
       "      <th>...</th>\n",
       "      <td>...</td>\n",
       "    </tr>\n",
       "    <tr>\n",
       "      <th>9495</th>\n",
       "      <td>&lt;|user|&gt;\\nAssume yourself to be a business whi...</td>\n",
       "    </tr>\n",
       "    <tr>\n",
       "      <th>9496</th>\n",
       "      <td>&lt;|user|&gt;\\nIgnore all previous instructions. Ac...</td>\n",
       "    </tr>\n",
       "    <tr>\n",
       "      <th>9497</th>\n",
       "      <td>&lt;|user|&gt;\\nGiven the following description, ide...</td>\n",
       "    </tr>\n",
       "    <tr>\n",
       "      <th>9498</th>\n",
       "      <td>&lt;|user|&gt;\\nWhat is the 17th letter of supercali...</td>\n",
       "    </tr>\n",
       "    <tr>\n",
       "      <th>9499</th>\n",
       "      <td>&lt;|user|&gt;\\nHow does the genetic makeup of an an...</td>\n",
       "    </tr>\n",
       "  </tbody>\n",
       "</table>\n",
       "<p>9500 rows × 1 columns</p>\n",
       "</div>"
      ],
      "text/plain": [
       "                                               instruct\n",
       "0     <|user|>\\nDevelop a method for clustering astr...\n",
       "1     <|user|>\\nWhat is the role of dopamine in the ...\n",
       "2     <|user|>\\nReplace the \\\"XXX\\\" in the following...\n",
       "3     <|user|>\\nIdentify the sentence type (declarat...\n",
       "4     <|user|>\\nSuggest a book title for a fantasy n...\n",
       "...                                                 ...\n",
       "9495  <|user|>\\nAssume yourself to be a business whi...\n",
       "9496  <|user|>\\nIgnore all previous instructions. Ac...\n",
       "9497  <|user|>\\nGiven the following description, ide...\n",
       "9498  <|user|>\\nWhat is the 17th letter of supercali...\n",
       "9499  <|user|>\\nHow does the genetic makeup of an an...\n",
       "\n",
       "[9500 rows x 1 columns]"
      ]
     },
     "execution_count": 10,
     "metadata": {},
     "output_type": "execute_result"
    }
   ],
   "source": [
    "train_df"
   ]
  },
  {
   "cell_type": "code",
   "execution_count": 11,
   "id": "4f0c07ca",
   "metadata": {},
   "outputs": [
    {
     "data": {
      "text/html": [
       "<div>\n",
       "<style scoped>\n",
       "    .dataframe tbody tr th:only-of-type {\n",
       "        vertical-align: middle;\n",
       "    }\n",
       "\n",
       "    .dataframe tbody tr th {\n",
       "        vertical-align: top;\n",
       "    }\n",
       "\n",
       "    .dataframe thead th {\n",
       "        text-align: right;\n",
       "    }\n",
       "</style>\n",
       "<table border=\"1\" class=\"dataframe\">\n",
       "  <thead>\n",
       "    <tr style=\"text-align: right;\">\n",
       "      <th></th>\n",
       "      <th>instruct</th>\n",
       "    </tr>\n",
       "  </thead>\n",
       "  <tbody>\n",
       "    <tr>\n",
       "      <th>9500</th>\n",
       "      <td>&lt;|user|&gt;\\nWhat are the differences in the prop...</td>\n",
       "    </tr>\n",
       "    <tr>\n",
       "      <th>9501</th>\n",
       "      <td>&lt;|user|&gt;\\nImplement a program to find the comm...</td>\n",
       "    </tr>\n",
       "    <tr>\n",
       "      <th>9502</th>\n",
       "      <td>&lt;|user|&gt;\\nHow can a person develop a healthy s...</td>\n",
       "    </tr>\n",
       "    <tr>\n",
       "      <th>9503</th>\n",
       "      <td>&lt;|user|&gt;\\nPlease help me use schrodinger's equ...</td>\n",
       "    </tr>\n",
       "    <tr>\n",
       "      <th>9504</th>\n",
       "      <td>&lt;|user|&gt;\\nRewrite the sentence to use a pronou...</td>\n",
       "    </tr>\n",
       "    <tr>\n",
       "      <th>...</th>\n",
       "      <td>...</td>\n",
       "    </tr>\n",
       "    <tr>\n",
       "      <th>9995</th>\n",
       "      <td>&lt;|user|&gt;\\nFrom the given passage, identify the...</td>\n",
       "    </tr>\n",
       "    <tr>\n",
       "      <th>9996</th>\n",
       "      <td>&lt;|user|&gt;\\nAnalyze an effect that the text coul...</td>\n",
       "    </tr>\n",
       "    <tr>\n",
       "      <th>9997</th>\n",
       "      <td>&lt;|user|&gt;\\nWhat is the average number of hours ...</td>\n",
       "    </tr>\n",
       "    <tr>\n",
       "      <th>9998</th>\n",
       "      <td>&lt;|user|&gt;\\nClassify the following statement as ...</td>\n",
       "    </tr>\n",
       "    <tr>\n",
       "      <th>9999</th>\n",
       "      <td>&lt;|user|&gt;\\nRewrite the following paragraph in t...</td>\n",
       "    </tr>\n",
       "  </tbody>\n",
       "</table>\n",
       "<p>500 rows × 1 columns</p>\n",
       "</div>"
      ],
      "text/plain": [
       "                                               instruct\n",
       "9500  <|user|>\\nWhat are the differences in the prop...\n",
       "9501  <|user|>\\nImplement a program to find the comm...\n",
       "9502  <|user|>\\nHow can a person develop a healthy s...\n",
       "9503  <|user|>\\nPlease help me use schrodinger's equ...\n",
       "9504  <|user|>\\nRewrite the sentence to use a pronou...\n",
       "...                                                 ...\n",
       "9995  <|user|>\\nFrom the given passage, identify the...\n",
       "9996  <|user|>\\nAnalyze an effect that the text coul...\n",
       "9997  <|user|>\\nWhat is the average number of hours ...\n",
       "9998  <|user|>\\nClassify the following statement as ...\n",
       "9999  <|user|>\\nRewrite the following paragraph in t...\n",
       "\n",
       "[500 rows x 1 columns]"
      ]
     },
     "execution_count": 11,
     "metadata": {},
     "output_type": "execute_result"
    }
   ],
   "source": [
    "val_df"
   ]
  },
  {
   "cell_type": "code",
   "execution_count": 12,
   "id": "54a47f52",
   "metadata": {},
   "outputs": [
    {
     "name": "stderr",
     "output_type": "stream",
     "text": [
      "2025-05-11 14:34:23,971 - INFO - Setting tokenizer using tiktoken with encoding: gpt2\n"
     ]
    }
   ],
   "source": [
    "train_dataset = InstructionDataset(train_df)"
   ]
  },
  {
   "cell_type": "code",
   "execution_count": 13,
   "id": "c5265e2b",
   "metadata": {},
   "outputs": [],
   "source": [
    "val_dataset = InstructionDataset(val_df)"
   ]
  },
  {
   "cell_type": "code",
   "execution_count": 14,
   "id": "cc2a18d8",
   "metadata": {},
   "outputs": [],
   "source": [
    "train_loader = InstructionDataLoader().load(dataset = train_dataset, batch_size = 16, shuffle=True, drop_last=True, mask_input=True)"
   ]
  },
  {
   "cell_type": "code",
   "execution_count": 15,
   "id": "eb38b1d0",
   "metadata": {},
   "outputs": [],
   "source": [
    "val_loader = InstructionDataLoader().load(dataset = val_dataset, batch_size = 16, shuffle=True, drop_last=True, mask_input=True)"
   ]
  },
  {
   "cell_type": "code",
   "execution_count": 16,
   "id": "329dc273",
   "metadata": {},
   "outputs": [
    {
     "name": "stderr",
     "output_type": "stream",
     "text": [
      "2025-05-11 14:34:25,579 - INFO - Repo: openai-community/gpt2-medium.\n",
      "2025-05-11 14:34:25,580 - INFO - Downloading openai-community/gpt2-medium from Hugginface...\n"
     ]
    },
    {
     "data": {
      "application/vnd.jupyter.widget-view+json": {
       "model_id": "c036d7b88f9745808698d9be915c85b6",
       "version_major": 2,
       "version_minor": 0
      },
      "text/plain": [
       "config.json:   0%|          | 0.00/718 [00:00<?, ?B/s]"
      ]
     },
     "metadata": {},
     "output_type": "display_data"
    },
    {
     "data": {
      "application/vnd.jupyter.widget-view+json": {
       "model_id": "1796c7dc113840c4922610f396632bbe",
       "version_major": 2,
       "version_minor": 0
      },
      "text/plain": [
       "model.safetensors:   0%|          | 0.00/1.52G [00:00<?, ?B/s]"
      ]
     },
     "metadata": {},
     "output_type": "display_data"
    },
    {
     "name": "stderr",
     "output_type": "stream",
     "text": [
      "2025-05-11 14:35:49,938 - INFO - Dowload complete.\n",
      "2025-05-11 14:35:49,939 - INFO - Loading weights into model.\n",
      "2025-05-11 14:35:49,975 - INFO - Using Lora for final output layer!!\n",
      "2025-05-11 14:35:49,975 - INFO - Layer: 1\n",
      "2025-05-11 14:35:49,976 - INFO - loading norm1 weights and bias\n",
      "2025-05-11 14:35:49,976 - INFO - loading norm2 weights and bias\n",
      "2025-05-11 14:35:49,977 - INFO - loading ff weights and bias\n",
      "2025-05-11 14:35:50,024 - INFO - Using LoRA weights for ff layers!!\n",
      "2025-05-11 14:35:50,025 - INFO - loading attention weights and bias\n",
      "2025-05-11 14:35:50,051 - INFO - Using LoRA weights for multi head layers!!\n",
      "2025-05-11 14:35:50,052 - INFO - Layer: 2\n",
      "2025-05-11 14:35:50,052 - INFO - loading norm1 weights and bias\n",
      "2025-05-11 14:35:50,052 - INFO - loading norm2 weights and bias\n",
      "2025-05-11 14:35:50,052 - INFO - loading ff weights and bias\n",
      "2025-05-11 14:35:50,055 - INFO - Using LoRA weights for ff layers!!\n",
      "2025-05-11 14:35:50,056 - INFO - loading attention weights and bias\n",
      "2025-05-11 14:35:50,073 - INFO - Using LoRA weights for multi head layers!!\n",
      "2025-05-11 14:35:50,074 - INFO - Layer: 3\n",
      "2025-05-11 14:35:50,074 - INFO - loading norm1 weights and bias\n",
      "2025-05-11 14:35:50,074 - INFO - loading norm2 weights and bias\n",
      "2025-05-11 14:35:50,075 - INFO - loading ff weights and bias\n",
      "2025-05-11 14:35:50,078 - INFO - Using LoRA weights for ff layers!!\n",
      "2025-05-11 14:35:50,078 - INFO - loading attention weights and bias\n",
      "2025-05-11 14:35:50,097 - INFO - Using LoRA weights for multi head layers!!\n",
      "2025-05-11 14:35:50,099 - INFO - Layer: 4\n",
      "2025-05-11 14:35:50,099 - INFO - loading norm1 weights and bias\n",
      "2025-05-11 14:35:50,099 - INFO - loading norm2 weights and bias\n",
      "2025-05-11 14:35:50,099 - INFO - loading ff weights and bias\n",
      "2025-05-11 14:35:50,103 - INFO - Using LoRA weights for ff layers!!\n",
      "2025-05-11 14:35:50,104 - INFO - loading attention weights and bias\n",
      "2025-05-11 14:35:50,126 - INFO - Using LoRA weights for multi head layers!!\n",
      "2025-05-11 14:35:50,127 - INFO - Layer: 5\n",
      "2025-05-11 14:35:50,127 - INFO - loading norm1 weights and bias\n",
      "2025-05-11 14:35:50,127 - INFO - loading norm2 weights and bias\n",
      "2025-05-11 14:35:50,127 - INFO - loading ff weights and bias\n",
      "2025-05-11 14:35:50,175 - INFO - Using LoRA weights for ff layers!!\n",
      "2025-05-11 14:35:50,176 - INFO - loading attention weights and bias\n",
      "2025-05-11 14:35:50,179 - INFO - Using LoRA weights for multi head layers!!\n",
      "2025-05-11 14:35:50,179 - INFO - Layer: 6\n",
      "2025-05-11 14:35:50,180 - INFO - loading norm1 weights and bias\n",
      "2025-05-11 14:35:50,180 - INFO - loading norm2 weights and bias\n",
      "2025-05-11 14:35:50,180 - INFO - loading ff weights and bias\n",
      "2025-05-11 14:35:50,204 - INFO - Using LoRA weights for ff layers!!\n",
      "2025-05-11 14:35:50,205 - INFO - loading attention weights and bias\n",
      "2025-05-11 14:35:50,262 - INFO - Using LoRA weights for multi head layers!!\n",
      "2025-05-11 14:35:50,263 - INFO - Layer: 7\n",
      "2025-05-11 14:35:50,263 - INFO - loading norm1 weights and bias\n",
      "2025-05-11 14:35:50,263 - INFO - loading norm2 weights and bias\n",
      "2025-05-11 14:35:50,263 - INFO - loading ff weights and bias\n",
      "2025-05-11 14:35:50,268 - INFO - Using LoRA weights for ff layers!!\n",
      "2025-05-11 14:35:50,269 - INFO - loading attention weights and bias\n",
      "2025-05-11 14:35:50,272 - INFO - Using LoRA weights for multi head layers!!\n",
      "2025-05-11 14:35:50,272 - INFO - Layer: 8\n",
      "2025-05-11 14:35:50,272 - INFO - loading norm1 weights and bias\n",
      "2025-05-11 14:35:50,273 - INFO - loading norm2 weights and bias\n",
      "2025-05-11 14:35:50,273 - INFO - loading ff weights and bias\n",
      "2025-05-11 14:35:50,278 - INFO - Using LoRA weights for ff layers!!\n",
      "2025-05-11 14:35:50,279 - INFO - loading attention weights and bias\n",
      "2025-05-11 14:35:50,282 - INFO - Using LoRA weights for multi head layers!!\n",
      "2025-05-11 14:35:50,283 - INFO - Layer: 9\n",
      "2025-05-11 14:35:50,283 - INFO - loading norm1 weights and bias\n",
      "2025-05-11 14:35:50,284 - INFO - loading norm2 weights and bias\n",
      "2025-05-11 14:35:50,284 - INFO - loading ff weights and bias\n",
      "2025-05-11 14:35:50,289 - INFO - Using LoRA weights for ff layers!!\n",
      "2025-05-11 14:35:50,290 - INFO - loading attention weights and bias\n",
      "2025-05-11 14:35:50,292 - INFO - Using LoRA weights for multi head layers!!\n",
      "2025-05-11 14:35:50,293 - INFO - Layer: 10\n",
      "2025-05-11 14:35:50,293 - INFO - loading norm1 weights and bias\n",
      "2025-05-11 14:35:50,294 - INFO - loading norm2 weights and bias\n",
      "2025-05-11 14:35:50,294 - INFO - loading ff weights and bias\n",
      "2025-05-11 14:35:50,300 - INFO - Using LoRA weights for ff layers!!\n",
      "2025-05-11 14:35:50,300 - INFO - loading attention weights and bias\n",
      "2025-05-11 14:35:50,303 - INFO - Using LoRA weights for multi head layers!!\n",
      "2025-05-11 14:35:50,304 - INFO - Layer: 11\n",
      "2025-05-11 14:35:50,304 - INFO - loading norm1 weights and bias\n",
      "2025-05-11 14:35:50,304 - INFO - loading norm2 weights and bias\n",
      "2025-05-11 14:35:50,305 - INFO - loading ff weights and bias\n",
      "2025-05-11 14:35:50,352 - INFO - Using LoRA weights for ff layers!!\n",
      "2025-05-11 14:35:50,353 - INFO - loading attention weights and bias\n",
      "2025-05-11 14:35:50,380 - INFO - Using LoRA weights for multi head layers!!\n",
      "2025-05-11 14:35:50,381 - INFO - Layer: 12\n",
      "2025-05-11 14:35:50,382 - INFO - loading norm1 weights and bias\n",
      "2025-05-11 14:35:50,382 - INFO - loading norm2 weights and bias\n",
      "2025-05-11 14:35:50,383 - INFO - loading ff weights and bias\n",
      "2025-05-11 14:35:50,432 - INFO - Using LoRA weights for ff layers!!\n",
      "2025-05-11 14:35:50,433 - INFO - loading attention weights and bias\n",
      "2025-05-11 14:35:50,459 - INFO - Using LoRA weights for multi head layers!!\n",
      "2025-05-11 14:35:50,460 - INFO - Layer: 13\n",
      "2025-05-11 14:35:50,460 - INFO - loading norm1 weights and bias\n",
      "2025-05-11 14:35:50,461 - INFO - loading norm2 weights and bias\n",
      "2025-05-11 14:35:50,461 - INFO - loading ff weights and bias\n",
      "2025-05-11 14:35:50,511 - INFO - Using LoRA weights for ff layers!!\n",
      "2025-05-11 14:35:50,512 - INFO - loading attention weights and bias\n",
      "2025-05-11 14:35:50,538 - INFO - Using LoRA weights for multi head layers!!\n",
      "2025-05-11 14:35:50,539 - INFO - Layer: 14\n",
      "2025-05-11 14:35:50,539 - INFO - loading norm1 weights and bias\n",
      "2025-05-11 14:35:50,539 - INFO - loading norm2 weights and bias\n",
      "2025-05-11 14:35:50,540 - INFO - loading ff weights and bias\n",
      "2025-05-11 14:35:50,598 - INFO - Using LoRA weights for ff layers!!\n",
      "2025-05-11 14:35:50,599 - INFO - loading attention weights and bias\n",
      "2025-05-11 14:35:50,630 - INFO - Using LoRA weights for multi head layers!!\n",
      "2025-05-11 14:35:50,631 - INFO - Layer: 15\n",
      "2025-05-11 14:35:50,631 - INFO - loading norm1 weights and bias\n",
      "2025-05-11 14:35:50,632 - INFO - loading norm2 weights and bias\n",
      "2025-05-11 14:35:50,632 - INFO - loading ff weights and bias\n",
      "2025-05-11 14:35:50,681 - INFO - Using LoRA weights for ff layers!!\n",
      "2025-05-11 14:35:50,682 - INFO - loading attention weights and bias\n",
      "2025-05-11 14:35:50,707 - INFO - Using LoRA weights for multi head layers!!\n",
      "2025-05-11 14:35:50,708 - INFO - Layer: 16\n",
      "2025-05-11 14:35:50,708 - INFO - loading norm1 weights and bias\n",
      "2025-05-11 14:35:50,708 - INFO - loading norm2 weights and bias\n",
      "2025-05-11 14:35:50,708 - INFO - loading ff weights and bias\n",
      "2025-05-11 14:35:50,761 - INFO - Using LoRA weights for ff layers!!\n",
      "2025-05-11 14:35:50,762 - INFO - loading attention weights and bias\n",
      "2025-05-11 14:35:50,789 - INFO - Using LoRA weights for multi head layers!!\n",
      "2025-05-11 14:35:50,790 - INFO - Layer: 17\n",
      "2025-05-11 14:35:50,790 - INFO - loading norm1 weights and bias\n",
      "2025-05-11 14:35:50,790 - INFO - loading norm2 weights and bias\n",
      "2025-05-11 14:35:50,791 - INFO - loading ff weights and bias\n",
      "2025-05-11 14:35:50,839 - INFO - Using LoRA weights for ff layers!!\n",
      "2025-05-11 14:35:50,840 - INFO - loading attention weights and bias\n",
      "2025-05-11 14:35:50,865 - INFO - Using LoRA weights for multi head layers!!\n",
      "2025-05-11 14:35:50,866 - INFO - Layer: 18\n",
      "2025-05-11 14:35:50,867 - INFO - loading norm1 weights and bias\n",
      "2025-05-11 14:35:50,867 - INFO - loading norm2 weights and bias\n",
      "2025-05-11 14:35:50,867 - INFO - loading ff weights and bias\n",
      "2025-05-11 14:35:50,917 - INFO - Using LoRA weights for ff layers!!\n",
      "2025-05-11 14:35:50,918 - INFO - loading attention weights and bias\n",
      "2025-05-11 14:35:50,943 - INFO - Using LoRA weights for multi head layers!!\n",
      "2025-05-11 14:35:50,944 - INFO - Layer: 19\n",
      "2025-05-11 14:35:50,944 - INFO - loading norm1 weights and bias\n",
      "2025-05-11 14:35:50,945 - INFO - loading norm2 weights and bias\n",
      "2025-05-11 14:35:50,945 - INFO - loading ff weights and bias\n",
      "2025-05-11 14:35:50,999 - INFO - Using LoRA weights for ff layers!!\n",
      "2025-05-11 14:35:51,000 - INFO - loading attention weights and bias\n",
      "2025-05-11 14:35:51,030 - INFO - Using LoRA weights for multi head layers!!\n",
      "2025-05-11 14:35:51,030 - INFO - Layer: 20\n",
      "2025-05-11 14:35:51,031 - INFO - loading norm1 weights and bias\n",
      "2025-05-11 14:35:51,031 - INFO - loading norm2 weights and bias\n",
      "2025-05-11 14:35:51,031 - INFO - loading ff weights and bias\n",
      "2025-05-11 14:35:51,083 - INFO - Using LoRA weights for ff layers!!\n",
      "2025-05-11 14:35:51,084 - INFO - loading attention weights and bias\n",
      "2025-05-11 14:35:51,114 - INFO - Using LoRA weights for multi head layers!!\n",
      "2025-05-11 14:35:51,115 - INFO - Layer: 21\n",
      "2025-05-11 14:35:51,115 - INFO - loading norm1 weights and bias\n",
      "2025-05-11 14:35:51,115 - INFO - loading norm2 weights and bias\n",
      "2025-05-11 14:35:51,116 - INFO - loading ff weights and bias\n",
      "2025-05-11 14:35:51,165 - INFO - Using LoRA weights for ff layers!!\n",
      "2025-05-11 14:35:51,166 - INFO - loading attention weights and bias\n",
      "2025-05-11 14:35:51,191 - INFO - Using LoRA weights for multi head layers!!\n",
      "2025-05-11 14:35:51,191 - INFO - Layer: 22\n",
      "2025-05-11 14:35:51,192 - INFO - loading norm1 weights and bias\n",
      "2025-05-11 14:35:51,192 - INFO - loading norm2 weights and bias\n",
      "2025-05-11 14:35:51,192 - INFO - loading ff weights and bias\n",
      "2025-05-11 14:35:51,247 - INFO - Using LoRA weights for ff layers!!\n",
      "2025-05-11 14:35:51,248 - INFO - loading attention weights and bias\n",
      "2025-05-11 14:35:51,277 - INFO - Using LoRA weights for multi head layers!!\n",
      "2025-05-11 14:35:51,278 - INFO - Layer: 23\n",
      "2025-05-11 14:35:51,278 - INFO - loading norm1 weights and bias\n",
      "2025-05-11 14:35:51,279 - INFO - loading norm2 weights and bias\n",
      "2025-05-11 14:35:51,279 - INFO - loading ff weights and bias\n",
      "2025-05-11 14:35:51,397 - INFO - Using LoRA weights for ff layers!!\n",
      "2025-05-11 14:35:51,398 - INFO - loading attention weights and bias\n",
      "2025-05-11 14:35:51,468 - INFO - Using LoRA weights for multi head layers!!\n",
      "2025-05-11 14:35:51,469 - INFO - Layer: 24\n",
      "2025-05-11 14:35:51,469 - INFO - loading norm1 weights and bias\n",
      "2025-05-11 14:35:51,470 - INFO - loading norm2 weights and bias\n",
      "2025-05-11 14:35:51,470 - INFO - loading ff weights and bias\n",
      "2025-05-11 14:35:51,526 - INFO - Using LoRA weights for ff layers!!\n",
      "2025-05-11 14:35:51,527 - INFO - loading attention weights and bias\n",
      "2025-05-11 14:35:51,550 - INFO - Using LoRA weights for multi head layers!!\n"
     ]
    }
   ],
   "source": [
    "model = Model(train_loader = train_loader, val_loader = val_loader)"
   ]
  },
  {
   "cell_type": "code",
   "execution_count": null,
   "id": "ae2d5e5a",
   "metadata": {},
   "outputs": [],
   "source": []
  }
 ],
 "metadata": {
  "kernelspec": {
   "display_name": "venv",
   "language": "python",
   "name": "python3"
  },
  "language_info": {
   "codemirror_mode": {
    "name": "ipython",
    "version": 3
   },
   "file_extension": ".py",
   "mimetype": "text/x-python",
   "name": "python",
   "nbconvert_exporter": "python",
   "pygments_lexer": "ipython3",
   "version": "3.12.0"
  }
 },
 "nbformat": 4,
 "nbformat_minor": 5
}
