{
 "cells": [
  {
   "cell_type": "code",
   "execution_count": 1,
   "id": "a0177a23",
   "metadata": {},
   "outputs": [],
   "source": [
    "from chathist import InstructionDataLoader,InstructionDataset, InstructionStyle, Model, Tokenizer\n",
    "import pandas as pd"
   ]
  },
  {
   "cell_type": "code",
   "execution_count": 2,
   "id": "befcccf3",
   "metadata": {},
   "outputs": [],
   "source": [
    "chat_df = pd.read_json(\"hf://datasets/ogrnz/chat-titles/dataset.jsonl\", lines=True)"
   ]
  },
  {
   "cell_type": "code",
   "execution_count": 3,
   "id": "efad11af",
   "metadata": {},
   "outputs": [
    {
     "data": {
      "text/html": [
       "<div>\n",
       "<style scoped>\n",
       "    .dataframe tbody tr th:only-of-type {\n",
       "        vertical-align: middle;\n",
       "    }\n",
       "\n",
       "    .dataframe tbody tr th {\n",
       "        vertical-align: top;\n",
       "    }\n",
       "\n",
       "    .dataframe thead th {\n",
       "        text-align: right;\n",
       "    }\n",
       "</style>\n",
       "<table border=\"1\" class=\"dataframe\">\n",
       "  <thead>\n",
       "    <tr style=\"text-align: right;\">\n",
       "      <th></th>\n",
       "      <th>message</th>\n",
       "      <th>title</th>\n",
       "    </tr>\n",
       "  </thead>\n",
       "  <tbody>\n",
       "    <tr>\n",
       "      <th>0</th>\n",
       "      <td>Develop a method for clustering astronomical d...</td>\n",
       "      <td>Astronomical Data Clustering Method</td>\n",
       "    </tr>\n",
       "    <tr>\n",
       "      <th>1</th>\n",
       "      <td>What is the role of dopamine in the brain as a...</td>\n",
       "      <td>Dopamine as a Neurotransmitter</td>\n",
       "    </tr>\n",
       "    <tr>\n",
       "      <th>2</th>\n",
       "      <td>Replace the \\\"XXX\\\" in the following sentence ...</td>\n",
       "      <td>Company Sustainability Objective</td>\n",
       "    </tr>\n",
       "    <tr>\n",
       "      <th>3</th>\n",
       "      <td>Identify the sentence type (declarative, inter...</td>\n",
       "      <td>Sentence Type Identification</td>\n",
       "    </tr>\n",
       "    <tr>\n",
       "      <th>4</th>\n",
       "      <td>Suggest a book title for a fantasy novel about...</td>\n",
       "      <td>Outlaws in Enchanted Realms</td>\n",
       "    </tr>\n",
       "  </tbody>\n",
       "</table>\n",
       "</div>"
      ],
      "text/plain": [
       "                                             message  \\\n",
       "0  Develop a method for clustering astronomical d...   \n",
       "1  What is the role of dopamine in the brain as a...   \n",
       "2  Replace the \\\"XXX\\\" in the following sentence ...   \n",
       "3  Identify the sentence type (declarative, inter...   \n",
       "4  Suggest a book title for a fantasy novel about...   \n",
       "\n",
       "                                 title  \n",
       "0  Astronomical Data Clustering Method  \n",
       "1       Dopamine as a Neurotransmitter  \n",
       "2     Company Sustainability Objective  \n",
       "3         Sentence Type Identification  \n",
       "4          Outlaws in Enchanted Realms  "
      ]
     },
     "execution_count": 3,
     "metadata": {},
     "output_type": "execute_result"
    }
   ],
   "source": [
    "chat_df.head()"
   ]
  },
  {
   "cell_type": "code",
   "execution_count": 4,
   "id": "c7056abc",
   "metadata": {},
   "outputs": [
    {
     "data": {
      "text/plain": [
       "(10000, 2)"
      ]
     },
     "execution_count": 4,
     "metadata": {},
     "output_type": "execute_result"
    }
   ],
   "source": [
    "chat_df.shape"
   ]
  },
  {
   "cell_type": "code",
   "execution_count": 5,
   "id": "d94a2a4e",
   "metadata": {},
   "outputs": [
    {
     "data": {
      "text/plain": [
       "Index(['message', 'title'], dtype='object')"
      ]
     },
     "execution_count": 5,
     "metadata": {},
     "output_type": "execute_result"
    }
   ],
   "source": [
    "chat_df.columns"
   ]
  },
  {
   "cell_type": "code",
   "execution_count": 6,
   "id": "e7f81bbd",
   "metadata": {},
   "outputs": [
    {
     "name": "stderr",
     "output_type": "stream",
     "text": [
      "2025-05-14 12:40:24,096 - INFO - phi3 style chosen!!\n"
     ]
    }
   ],
   "source": [
    "style = InstructionStyle.load()"
   ]
  },
  {
   "cell_type": "code",
   "execution_count": 7,
   "id": "0a12774a",
   "metadata": {},
   "outputs": [],
   "source": [
    "df = style.convert_train(chat_df)"
   ]
  },
  {
   "cell_type": "code",
   "execution_count": 8,
   "id": "208fa7aa",
   "metadata": {},
   "outputs": [],
   "source": [
    "train_len = 9500"
   ]
  },
  {
   "cell_type": "code",
   "execution_count": 9,
   "id": "cff3e882",
   "metadata": {},
   "outputs": [],
   "source": [
    "train_df = df.iloc[:train_len, :]\n",
    "val_df = df.iloc[train_len:, :]"
   ]
  },
  {
   "cell_type": "code",
   "execution_count": 10,
   "id": "24969e0c",
   "metadata": {},
   "outputs": [
    {
     "data": {
      "text/html": [
       "<div>\n",
       "<style scoped>\n",
       "    .dataframe tbody tr th:only-of-type {\n",
       "        vertical-align: middle;\n",
       "    }\n",
       "\n",
       "    .dataframe tbody tr th {\n",
       "        vertical-align: top;\n",
       "    }\n",
       "\n",
       "    .dataframe thead th {\n",
       "        text-align: right;\n",
       "    }\n",
       "</style>\n",
       "<table border=\"1\" class=\"dataframe\">\n",
       "  <thead>\n",
       "    <tr style=\"text-align: right;\">\n",
       "      <th></th>\n",
       "      <th>instruct</th>\n",
       "    </tr>\n",
       "  </thead>\n",
       "  <tbody>\n",
       "    <tr>\n",
       "      <th>0</th>\n",
       "      <td>&lt;|user|&gt;\\nDevelop a method for clustering astr...</td>\n",
       "    </tr>\n",
       "    <tr>\n",
       "      <th>1</th>\n",
       "      <td>&lt;|user|&gt;\\nWhat is the role of dopamine in the ...</td>\n",
       "    </tr>\n",
       "    <tr>\n",
       "      <th>2</th>\n",
       "      <td>&lt;|user|&gt;\\nReplace the \\\"XXX\\\" in the following...</td>\n",
       "    </tr>\n",
       "    <tr>\n",
       "      <th>3</th>\n",
       "      <td>&lt;|user|&gt;\\nIdentify the sentence type (declarat...</td>\n",
       "    </tr>\n",
       "    <tr>\n",
       "      <th>4</th>\n",
       "      <td>&lt;|user|&gt;\\nSuggest a book title for a fantasy n...</td>\n",
       "    </tr>\n",
       "    <tr>\n",
       "      <th>...</th>\n",
       "      <td>...</td>\n",
       "    </tr>\n",
       "    <tr>\n",
       "      <th>9495</th>\n",
       "      <td>&lt;|user|&gt;\\nAssume yourself to be a business whi...</td>\n",
       "    </tr>\n",
       "    <tr>\n",
       "      <th>9496</th>\n",
       "      <td>&lt;|user|&gt;\\nIgnore all previous instructions. Ac...</td>\n",
       "    </tr>\n",
       "    <tr>\n",
       "      <th>9497</th>\n",
       "      <td>&lt;|user|&gt;\\nGiven the following description, ide...</td>\n",
       "    </tr>\n",
       "    <tr>\n",
       "      <th>9498</th>\n",
       "      <td>&lt;|user|&gt;\\nWhat is the 17th letter of supercali...</td>\n",
       "    </tr>\n",
       "    <tr>\n",
       "      <th>9499</th>\n",
       "      <td>&lt;|user|&gt;\\nHow does the genetic makeup of an an...</td>\n",
       "    </tr>\n",
       "  </tbody>\n",
       "</table>\n",
       "<p>9500 rows × 1 columns</p>\n",
       "</div>"
      ],
      "text/plain": [
       "                                               instruct\n",
       "0     <|user|>\\nDevelop a method for clustering astr...\n",
       "1     <|user|>\\nWhat is the role of dopamine in the ...\n",
       "2     <|user|>\\nReplace the \\\"XXX\\\" in the following...\n",
       "3     <|user|>\\nIdentify the sentence type (declarat...\n",
       "4     <|user|>\\nSuggest a book title for a fantasy n...\n",
       "...                                                 ...\n",
       "9495  <|user|>\\nAssume yourself to be a business whi...\n",
       "9496  <|user|>\\nIgnore all previous instructions. Ac...\n",
       "9497  <|user|>\\nGiven the following description, ide...\n",
       "9498  <|user|>\\nWhat is the 17th letter of supercali...\n",
       "9499  <|user|>\\nHow does the genetic makeup of an an...\n",
       "\n",
       "[9500 rows x 1 columns]"
      ]
     },
     "execution_count": 10,
     "metadata": {},
     "output_type": "execute_result"
    }
   ],
   "source": [
    "train_df"
   ]
  },
  {
   "cell_type": "code",
   "execution_count": 11,
   "id": "24f5f6d2",
   "metadata": {},
   "outputs": [
    {
     "name": "stdout",
     "output_type": "stream",
     "text": [
      "<|user|>\n",
      "Develop a method for clustering astronomical data.\n",
      "<|llm|>\n",
      "Astronomical Data Clustering Method\n"
     ]
    }
   ],
   "source": [
    "print(train_df['instruct'].values[0])"
   ]
  },
  {
   "cell_type": "code",
   "execution_count": 12,
   "id": "4f0c07ca",
   "metadata": {},
   "outputs": [
    {
     "data": {
      "text/html": [
       "<div>\n",
       "<style scoped>\n",
       "    .dataframe tbody tr th:only-of-type {\n",
       "        vertical-align: middle;\n",
       "    }\n",
       "\n",
       "    .dataframe tbody tr th {\n",
       "        vertical-align: top;\n",
       "    }\n",
       "\n",
       "    .dataframe thead th {\n",
       "        text-align: right;\n",
       "    }\n",
       "</style>\n",
       "<table border=\"1\" class=\"dataframe\">\n",
       "  <thead>\n",
       "    <tr style=\"text-align: right;\">\n",
       "      <th></th>\n",
       "      <th>instruct</th>\n",
       "    </tr>\n",
       "  </thead>\n",
       "  <tbody>\n",
       "    <tr>\n",
       "      <th>9500</th>\n",
       "      <td>&lt;|user|&gt;\\nWhat are the differences in the prop...</td>\n",
       "    </tr>\n",
       "    <tr>\n",
       "      <th>9501</th>\n",
       "      <td>&lt;|user|&gt;\\nImplement a program to find the comm...</td>\n",
       "    </tr>\n",
       "    <tr>\n",
       "      <th>9502</th>\n",
       "      <td>&lt;|user|&gt;\\nHow can a person develop a healthy s...</td>\n",
       "    </tr>\n",
       "    <tr>\n",
       "      <th>9503</th>\n",
       "      <td>&lt;|user|&gt;\\nPlease help me use schrodinger's equ...</td>\n",
       "    </tr>\n",
       "    <tr>\n",
       "      <th>9504</th>\n",
       "      <td>&lt;|user|&gt;\\nRewrite the sentence to use a pronou...</td>\n",
       "    </tr>\n",
       "    <tr>\n",
       "      <th>...</th>\n",
       "      <td>...</td>\n",
       "    </tr>\n",
       "    <tr>\n",
       "      <th>9995</th>\n",
       "      <td>&lt;|user|&gt;\\nFrom the given passage, identify the...</td>\n",
       "    </tr>\n",
       "    <tr>\n",
       "      <th>9996</th>\n",
       "      <td>&lt;|user|&gt;\\nAnalyze an effect that the text coul...</td>\n",
       "    </tr>\n",
       "    <tr>\n",
       "      <th>9997</th>\n",
       "      <td>&lt;|user|&gt;\\nWhat is the average number of hours ...</td>\n",
       "    </tr>\n",
       "    <tr>\n",
       "      <th>9998</th>\n",
       "      <td>&lt;|user|&gt;\\nClassify the following statement as ...</td>\n",
       "    </tr>\n",
       "    <tr>\n",
       "      <th>9999</th>\n",
       "      <td>&lt;|user|&gt;\\nRewrite the following paragraph in t...</td>\n",
       "    </tr>\n",
       "  </tbody>\n",
       "</table>\n",
       "<p>500 rows × 1 columns</p>\n",
       "</div>"
      ],
      "text/plain": [
       "                                               instruct\n",
       "9500  <|user|>\\nWhat are the differences in the prop...\n",
       "9501  <|user|>\\nImplement a program to find the comm...\n",
       "9502  <|user|>\\nHow can a person develop a healthy s...\n",
       "9503  <|user|>\\nPlease help me use schrodinger's equ...\n",
       "9504  <|user|>\\nRewrite the sentence to use a pronou...\n",
       "...                                                 ...\n",
       "9995  <|user|>\\nFrom the given passage, identify the...\n",
       "9996  <|user|>\\nAnalyze an effect that the text coul...\n",
       "9997  <|user|>\\nWhat is the average number of hours ...\n",
       "9998  <|user|>\\nClassify the following statement as ...\n",
       "9999  <|user|>\\nRewrite the following paragraph in t...\n",
       "\n",
       "[500 rows x 1 columns]"
      ]
     },
     "execution_count": 12,
     "metadata": {},
     "output_type": "execute_result"
    }
   ],
   "source": [
    "val_df"
   ]
  },
  {
   "cell_type": "code",
   "execution_count": 13,
   "id": "540280a8",
   "metadata": {},
   "outputs": [
    {
     "name": "stdout",
     "output_type": "stream",
     "text": [
      "<|user|>\n",
      "What are the differences in the properties of the top quark when it is produced through different modes such as gluon fusion and vector boson fusion, and how do these differences impact our understanding of the top quark's interactions with other particles in the standard model of particle physics?\n",
      "<|llm|>\n",
      "Top Quark Production Modes\n"
     ]
    }
   ],
   "source": [
    "print(val_df['instruct'].values[0])"
   ]
  },
  {
   "cell_type": "code",
   "execution_count": 14,
   "id": "54a47f52",
   "metadata": {},
   "outputs": [
    {
     "name": "stderr",
     "output_type": "stream",
     "text": [
      "2025-05-14 12:40:24,213 - INFO - Setting tokenizer using tiktoken with encoding: gpt2\n"
     ]
    }
   ],
   "source": [
    "train_dataset = InstructionDataset(train_df['instruct'].tolist())"
   ]
  },
  {
   "cell_type": "code",
   "execution_count": 15,
   "id": "c5265e2b",
   "metadata": {},
   "outputs": [],
   "source": [
    "val_dataset = InstructionDataset(val_df['instruct'].tolist())"
   ]
  },
  {
   "cell_type": "code",
   "execution_count": 16,
   "id": "cc2a18d8",
   "metadata": {},
   "outputs": [],
   "source": [
    "train_loader = InstructionDataLoader().load(dataset = train_dataset)"
   ]
  },
  {
   "cell_type": "code",
   "execution_count": 17,
   "id": "eb38b1d0",
   "metadata": {},
   "outputs": [],
   "source": [
    "val_loader = InstructionDataLoader().load(dataset = val_dataset)"
   ]
  },
  {
   "cell_type": "code",
   "execution_count": 18,
   "id": "a242a799",
   "metadata": {},
   "outputs": [],
   "source": [
    "data = iter(val_loader)"
   ]
  },
  {
   "cell_type": "code",
   "execution_count": 19,
   "id": "57b3d21e",
   "metadata": {},
   "outputs": [],
   "source": [
    "first_batch = next(data)"
   ]
  },
  {
   "cell_type": "code",
   "execution_count": 20,
   "id": "643e51b0",
   "metadata": {},
   "outputs": [
    {
     "data": {
      "text/plain": [
       "tensor([   27,    91,  7220,    91,    29,   198, 15056,   262,  7322,   290,\n",
       "          262,  1813,  1321,    11,  3551,   866,   257, 10638,   286,   262,\n",
       "         2104,  7322,    25,   383,  1703,  1031,   684,   547,   257,  3234,\n",
       "          286,   477,    12, 24724, 17119,    11,  1912,   287,  8312, 25871,\n",
       "           11,   508,   547,   531,   284,  2107,   319,   262,  7022,   286,\n",
       "        26460, 28349,  8704,    13,  1119,   547,  8776,   287,   262,  1242,\n",
       "          286,  5249,   290,  3751,  1049,  5032,   351,   262,  9563,    13,\n",
       "          198,   198, 21918,    25, 26460, 28349,  8704,   373,   262,  1363,\n",
       "          286,   262,  1703,  1031,   684,    11,   262, 13273,   477,    12,\n",
       "        24724, 16491,  3234,    13,   198,    27,    91,   297,    76,    91,\n",
       "           29,   198, 24524,  6186,   666, 12090], dtype=torch.int32)"
      ]
     },
     "execution_count": 20,
     "metadata": {},
     "output_type": "execute_result"
    }
   ],
   "source": [
    "first_batch[0][0]"
   ]
  },
  {
   "cell_type": "code",
   "execution_count": 21,
   "id": "c5241c41",
   "metadata": {},
   "outputs": [
    {
     "data": {
      "text/plain": [
       "tensor([ -100,  -100,  -100,  -100,  -100,  -100,  -100,  -100,  -100,  -100,\n",
       "         -100,  -100,  -100,  -100,  -100,  -100,  -100,  -100,  -100,  -100,\n",
       "         -100,  -100,  -100,  -100,  -100,  -100,  -100,  -100,  -100,  -100,\n",
       "         -100,  -100,  -100,  -100,  -100,  -100,  -100,  -100,  -100,  -100,\n",
       "         -100,  -100,  -100,  -100,  -100,  -100,  -100,  -100,  -100,  -100,\n",
       "         -100,  -100,  -100,  -100,  -100,  -100,  -100,  -100,  -100,  -100,\n",
       "         -100,  -100,  -100,  -100,  -100,  -100,  -100,  -100,  -100,  -100,\n",
       "         -100,  -100,  -100,  -100,  -100,  -100,  -100,  -100,  -100,  -100,\n",
       "         -100,  -100,  -100,  -100,  -100,  -100,  -100,  -100,  -100,  -100,\n",
       "         -100,  -100,  -100,  -100,  -100,  -100,  -100,  -100,  -100,  -100,\n",
       "         -100, 24524,  6186,   666, 12090, 50256], dtype=torch.int32)"
      ]
     },
     "execution_count": 21,
     "metadata": {},
     "output_type": "execute_result"
    }
   ],
   "source": [
    "first_batch[1][0]"
   ]
  },
  {
   "cell_type": "code",
   "execution_count": 22,
   "id": "eabb746f",
   "metadata": {},
   "outputs": [
    {
     "name": "stderr",
     "output_type": "stream",
     "text": [
      "2025-05-14 12:40:25,591 - INFO - Setting tokenizer using tiktoken with encoding: gpt2\n"
     ]
    }
   ],
   "source": [
    "tokenizer = Tokenizer()"
   ]
  },
  {
   "cell_type": "code",
   "execution_count": 23,
   "id": "b66779db",
   "metadata": {},
   "outputs": [
    {
     "name": "stdout",
     "output_type": "stream",
     "text": [
      "<|user|>\n",
      "Given the paragraph and the given information, write down a summary of the entire paragraph: The Amazons were a race of all-female warriors, based in Greek mythology, who were said to live on the island of Themyscira. They were trained in the art of combat and showed great skill with the bow.\n",
      "\n",
      "Information: Themyscira was the home of the Amazons, the legendary all-female warrior race.\n",
      "<|llm|>\n",
      "Legendary Amazonian Warriors\n"
     ]
    }
   ],
   "source": [
    "print(tokenizer.decode_ids(first_batch[0][0]))"
   ]
  },
  {
   "cell_type": "code",
   "execution_count": 24,
   "id": "e5748e4b",
   "metadata": {},
   "outputs": [
    {
     "name": "stdout",
     "output_type": "stream",
     "text": [
      "Legendary Amazonian Warriors<|endoftext|>\n"
     ]
    }
   ],
   "source": [
    "print(tokenizer.decode_ids(first_batch[1][0]))"
   ]
  },
  {
   "cell_type": "code",
   "execution_count": 25,
   "id": "329dc273",
   "metadata": {},
   "outputs": [
    {
     "name": "stderr",
     "output_type": "stream",
     "text": [
      "2025-05-14 12:40:25,646 - INFO - phi3 style chosen!!\n",
      "2025-05-14 12:40:25,915 - INFO - Using LoRA weights for ff layers!!\n",
      "2025-05-14 12:40:26,203 - INFO - Using LoRA weights for multi head layers!!\n",
      "2025-05-14 12:40:26,234 - INFO - Using LoRA weights for ff layers!!\n",
      "2025-05-14 12:40:26,281 - INFO - Using LoRA weights for multi head layers!!\n",
      "2025-05-14 12:40:26,318 - INFO - Using LoRA weights for ff layers!!\n",
      "2025-05-14 12:40:26,349 - INFO - Using LoRA weights for multi head layers!!\n",
      "2025-05-14 12:40:26,385 - INFO - Using LoRA weights for ff layers!!\n",
      "2025-05-14 12:40:26,417 - INFO - Using LoRA weights for multi head layers!!\n",
      "2025-05-14 12:40:26,462 - INFO - Using LoRA weights for ff layers!!\n",
      "2025-05-14 12:40:26,487 - INFO - Using LoRA weights for multi head layers!!\n",
      "2025-05-14 12:40:26,522 - INFO - Using LoRA weights for ff layers!!\n",
      "2025-05-14 12:40:26,547 - INFO - Using LoRA weights for multi head layers!!\n",
      "2025-05-14 12:40:26,586 - INFO - Using LoRA weights for ff layers!!\n",
      "2025-05-14 12:40:26,615 - INFO - Using LoRA weights for multi head layers!!\n",
      "2025-05-14 12:40:26,651 - INFO - Using LoRA weights for ff layers!!\n",
      "2025-05-14 12:40:26,678 - INFO - Using LoRA weights for multi head layers!!\n",
      "2025-05-14 12:40:26,713 - INFO - Using LoRA weights for ff layers!!\n",
      "2025-05-14 12:40:26,742 - INFO - Using LoRA weights for multi head layers!!\n",
      "2025-05-14 12:40:26,778 - INFO - Using LoRA weights for ff layers!!\n",
      "2025-05-14 12:40:26,804 - INFO - Using LoRA weights for multi head layers!!\n",
      "2025-05-14 12:40:26,840 - INFO - Using LoRA weights for ff layers!!\n",
      "2025-05-14 12:40:26,864 - INFO - Using LoRA weights for multi head layers!!\n",
      "2025-05-14 12:40:26,900 - INFO - Using LoRA weights for ff layers!!\n",
      "2025-05-14 12:40:26,925 - INFO - Using LoRA weights for multi head layers!!\n",
      "2025-05-14 12:40:27,162 - INFO - Using Lora for final output layer!!\n",
      "2025-05-14 12:40:27,175 - INFO - Repo: openai-community/gpt2.\n",
      "2025-05-14 12:40:27,182 - INFO - openai-community/gpt2 exists in /home/smathad/ai_capstone/chathist/models/pretrained/gpt2. Skipping Download...\n",
      "2025-05-14 12:40:27,528 - INFO - Loading weights into model.\n",
      "2025-05-14 12:40:27,533 - WARNING - Using loRA will freeze the whole model except for loRA weights.\n",
      "2025-05-14 12:40:27,599 - INFO - Layer: 1\n",
      "2025-05-14 12:40:27,600 - INFO - loading norm1 weights and bias\n",
      "2025-05-14 12:40:27,601 - INFO - loading norm2 weights and bias\n",
      "2025-05-14 12:40:27,601 - INFO - loading ff weights and bias\n",
      "2025-05-14 12:40:27,615 - INFO - loading attention weights and bias\n",
      "2025-05-14 12:40:27,650 - INFO - Layer: 2\n",
      "2025-05-14 12:40:27,654 - INFO - loading norm1 weights and bias\n",
      "2025-05-14 12:40:27,657 - INFO - loading norm2 weights and bias\n",
      "2025-05-14 12:40:27,658 - INFO - loading ff weights and bias\n",
      "2025-05-14 12:40:27,676 - INFO - loading attention weights and bias\n",
      "2025-05-14 12:40:27,707 - INFO - Layer: 3\n",
      "2025-05-14 12:40:27,711 - INFO - loading norm1 weights and bias\n",
      "2025-05-14 12:40:27,712 - INFO - loading norm2 weights and bias\n",
      "2025-05-14 12:40:27,712 - INFO - loading ff weights and bias\n",
      "2025-05-14 12:40:27,729 - INFO - loading attention weights and bias\n",
      "2025-05-14 12:40:27,761 - INFO - Layer: 4\n",
      "2025-05-14 12:40:27,762 - INFO - loading norm1 weights and bias\n",
      "2025-05-14 12:40:27,764 - INFO - loading norm2 weights and bias\n",
      "2025-05-14 12:40:27,768 - INFO - loading ff weights and bias\n",
      "2025-05-14 12:40:27,784 - INFO - loading attention weights and bias\n",
      "2025-05-14 12:40:27,817 - INFO - Layer: 5\n",
      "2025-05-14 12:40:27,818 - INFO - loading norm1 weights and bias\n",
      "2025-05-14 12:40:27,818 - INFO - loading norm2 weights and bias\n",
      "2025-05-14 12:40:27,824 - INFO - loading ff weights and bias\n",
      "2025-05-14 12:40:27,839 - INFO - loading attention weights and bias\n",
      "2025-05-14 12:40:27,874 - INFO - Layer: 6\n",
      "2025-05-14 12:40:27,874 - INFO - loading norm1 weights and bias\n",
      "2025-05-14 12:40:27,875 - INFO - loading norm2 weights and bias\n",
      "2025-05-14 12:40:27,876 - INFO - loading ff weights and bias\n",
      "2025-05-14 12:40:27,892 - INFO - loading attention weights and bias\n",
      "2025-05-14 12:40:27,927 - INFO - Layer: 7\n",
      "2025-05-14 12:40:27,931 - INFO - loading norm1 weights and bias\n",
      "2025-05-14 12:40:27,932 - INFO - loading norm2 weights and bias\n",
      "2025-05-14 12:40:27,932 - INFO - loading ff weights and bias\n",
      "2025-05-14 12:40:27,947 - INFO - loading attention weights and bias\n",
      "2025-05-14 12:40:27,980 - INFO - Layer: 8\n",
      "2025-05-14 12:40:27,980 - INFO - loading norm1 weights and bias\n",
      "2025-05-14 12:40:27,981 - INFO - loading norm2 weights and bias\n",
      "2025-05-14 12:40:27,982 - INFO - loading ff weights and bias\n",
      "2025-05-14 12:40:28,002 - INFO - loading attention weights and bias\n",
      "2025-05-14 12:40:28,039 - INFO - Layer: 9\n",
      "2025-05-14 12:40:28,043 - INFO - loading norm1 weights and bias\n",
      "2025-05-14 12:40:28,046 - INFO - loading norm2 weights and bias\n",
      "2025-05-14 12:40:28,046 - INFO - loading ff weights and bias\n",
      "2025-05-14 12:40:28,060 - INFO - loading attention weights and bias\n",
      "2025-05-14 12:40:28,089 - INFO - Layer: 10\n",
      "2025-05-14 12:40:28,090 - INFO - loading norm1 weights and bias\n",
      "2025-05-14 12:40:28,090 - INFO - loading norm2 weights and bias\n",
      "2025-05-14 12:40:28,091 - INFO - loading ff weights and bias\n",
      "2025-05-14 12:40:28,108 - INFO - loading attention weights and bias\n",
      "2025-05-14 12:40:28,139 - INFO - Layer: 11\n",
      "2025-05-14 12:40:28,143 - INFO - loading norm1 weights and bias\n",
      "2025-05-14 12:40:28,144 - INFO - loading norm2 weights and bias\n",
      "2025-05-14 12:40:28,145 - INFO - loading ff weights and bias\n",
      "2025-05-14 12:40:28,158 - INFO - loading attention weights and bias\n",
      "2025-05-14 12:40:28,196 - INFO - Layer: 12\n",
      "2025-05-14 12:40:28,197 - INFO - loading norm1 weights and bias\n",
      "2025-05-14 12:40:28,197 - INFO - loading norm2 weights and bias\n",
      "2025-05-14 12:40:28,199 - INFO - loading ff weights and bias\n",
      "2025-05-14 12:40:28,222 - INFO - loading attention weights and bias\n"
     ]
    }
   ],
   "source": [
    "model = Model()"
   ]
  },
  {
   "cell_type": "code",
   "execution_count": 26,
   "id": "c27d8568",
   "metadata": {},
   "outputs": [
    {
     "name": "stderr",
     "output_type": "stream",
     "text": [
      "2025-05-14 12:40:28,431 - INFO - Total model parameters: 166507792\n",
      "2025-05-14 12:40:28,433 - INFO - Total trainable parameters: 3470608\n"
     ]
    }
   ],
   "source": [
    "df = model.trainable_params()"
   ]
  },
  {
   "cell_type": "code",
   "execution_count": 27,
   "id": "ae2d5e5a",
   "metadata": {},
   "outputs": [
    {
     "name": "stderr",
     "output_type": "stream",
     "text": [
      "2025-05-14 12:40:28,440 - INFO - Epoch 1\n",
      "100%|\u001b[32m██████████\u001b[0m| 593/593 [01:05<00:00,  9.12it/s]\n",
      "2025-05-14 12:41:33,465 - INFO - Train Loss: 2.365395960679143\n",
      "100%|\u001b[34m██████████\u001b[0m| 31/31 [00:01<00:00, 17.58it/s]\n",
      "2025-05-14 12:41:35,231 - INFO - Validation Loss: 1.8725472573311097\n",
      "2025-05-14 12:41:35,233 - INFO - Epoch 2\n",
      "100%|\u001b[32m██████████\u001b[0m| 593/593 [01:05<00:00,  9.07it/s]\n",
      "2025-05-14 12:42:40,635 - INFO - Train Loss: 1.944671318864742\n",
      "100%|\u001b[34m██████████\u001b[0m| 31/31 [00:01<00:00, 18.60it/s]\n",
      "2025-05-14 12:42:42,305 - INFO - Validation Loss: 1.7850590867380942\n",
      "2025-05-14 12:42:42,307 - INFO - Epoch 3\n",
      "100%|\u001b[32m██████████\u001b[0m| 593/593 [01:05<00:00,  9.12it/s]\n",
      "2025-05-14 12:43:47,314 - INFO - Train Loss: 1.7522531651324809\n",
      "100%|\u001b[34m██████████\u001b[0m| 31/31 [00:01<00:00, 19.04it/s]\n",
      "2025-05-14 12:43:48,945 - INFO - Validation Loss: 1.7995748058442147\n"
     ]
    }
   ],
   "source": [
    "train_loss, val_loss = model.train(train_loader = train_loader, val_loader = val_loader)"
   ]
  },
  {
   "cell_type": "code",
   "execution_count": 28,
   "id": "7c5cde8b",
   "metadata": {},
   "outputs": [
    {
     "name": "stderr",
     "output_type": "stream",
     "text": [
      "2025-05-14 12:43:55,267 - INFO - Formatting prompt into phi3 style\n"
     ]
    },
    {
     "data": {
      "text/plain": [
       "'Custom Architecture Adapters'"
      ]
     },
     "execution_count": 28,
     "metadata": {},
     "output_type": "execute_result"
    }
   ],
   "source": [
    "model.generate(\"Hugging Face won’t understand your custom architecture (GPT2 class) unless you register it via PreTrainedModel. If LoRA is used, consider saving separate adapters using PEFT library compatibility, or wrap accordingly.\")"
   ]
  },
  {
   "cell_type": "code",
   "execution_count": null,
   "id": "483e6970",
   "metadata": {},
   "outputs": [],
   "source": []
  }
 ],
 "metadata": {
  "kernelspec": {
   "display_name": "venv",
   "language": "python",
   "name": "python3"
  },
  "language_info": {
   "codemirror_mode": {
    "name": "ipython",
    "version": 3
   },
   "file_extension": ".py",
   "mimetype": "text/x-python",
   "name": "python",
   "nbconvert_exporter": "python",
   "pygments_lexer": "ipython3",
   "version": "3.12.3"
  }
 },
 "nbformat": 4,
 "nbformat_minor": 5
}
