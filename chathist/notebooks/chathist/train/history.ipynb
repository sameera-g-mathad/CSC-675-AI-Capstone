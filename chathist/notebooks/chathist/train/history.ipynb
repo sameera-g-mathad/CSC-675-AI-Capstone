{
 "cells": [
  {
   "cell_type": "code",
   "execution_count": 1,
   "id": "2d09df26",
   "metadata": {},
   "outputs": [],
   "source": [
    "from chathist import InstructionDataLoader,InstructionDataset, InstructionStyle, Model\n",
    "import pandas as pd"
   ]
  },
  {
   "cell_type": "code",
   "execution_count": 2,
   "id": "9a17c6b9",
   "metadata": {},
   "outputs": [],
   "source": [
    "history_df = pd.read_csv(\"hf://datasets/BashitAli/Indian_history/datasetfile.csv\")"
   ]
  },
  {
   "cell_type": "code",
   "execution_count": 3,
   "id": "3681d48f",
   "metadata": {},
   "outputs": [
    {
     "data": {
      "text/html": [
       "<div>\n",
       "<style scoped>\n",
       "    .dataframe tbody tr th:only-of-type {\n",
       "        vertical-align: middle;\n",
       "    }\n",
       "\n",
       "    .dataframe tbody tr th {\n",
       "        vertical-align: top;\n",
       "    }\n",
       "\n",
       "    .dataframe thead th {\n",
       "        text-align: right;\n",
       "    }\n",
       "</style>\n",
       "<table border=\"1\" class=\"dataframe\">\n",
       "  <thead>\n",
       "    <tr style=\"text-align: right;\">\n",
       "      <th></th>\n",
       "      <th>instruction</th>\n",
       "      <th>response</th>\n",
       "    </tr>\n",
       "  </thead>\n",
       "  <tbody>\n",
       "    <tr>\n",
       "      <th>0</th>\n",
       "      <td>What is the purpose of studying history?</td>\n",
       "      <td>History helps us understand how early humans a...</td>\n",
       "    </tr>\n",
       "    <tr>\n",
       "      <th>1</th>\n",
       "      <td>How does a historian evaluate events?</td>\n",
       "      <td>Historians assess various situations over a lo...</td>\n",
       "    </tr>\n",
       "    <tr>\n",
       "      <th>2</th>\n",
       "      <td>What is the historian's role in using myths?</td>\n",
       "      <td>Historians aim to verify facts from myths root...</td>\n",
       "    </tr>\n",
       "    <tr>\n",
       "      <th>3</th>\n",
       "      <td>How were ancient Indian historical events reco...</td>\n",
       "      <td>Ancient Indian history was recorded through a ...</td>\n",
       "    </tr>\n",
       "    <tr>\n",
       "      <th>4</th>\n",
       "      <td>Who identified the oldest civilization in the ...</td>\n",
       "      <td>Archaeologist John Marshall identified the old...</td>\n",
       "    </tr>\n",
       "  </tbody>\n",
       "</table>\n",
       "</div>"
      ],
      "text/plain": [
       "                                         instruction  \\\n",
       "0           What is the purpose of studying history?   \n",
       "1              How does a historian evaluate events?   \n",
       "2       What is the historian's role in using myths?   \n",
       "3  How were ancient Indian historical events reco...   \n",
       "4  Who identified the oldest civilization in the ...   \n",
       "\n",
       "                                            response  \n",
       "0  History helps us understand how early humans a...  \n",
       "1  Historians assess various situations over a lo...  \n",
       "2  Historians aim to verify facts from myths root...  \n",
       "3  Ancient Indian history was recorded through a ...  \n",
       "4  Archaeologist John Marshall identified the old...  "
      ]
     },
     "execution_count": 3,
     "metadata": {},
     "output_type": "execute_result"
    }
   ],
   "source": [
    "history_df.head()"
   ]
  },
  {
   "cell_type": "code",
   "execution_count": 4,
   "id": "4e82643f",
   "metadata": {},
   "outputs": [
    {
     "data": {
      "text/plain": [
       "(14908, 2)"
      ]
     },
     "execution_count": 4,
     "metadata": {},
     "output_type": "execute_result"
    }
   ],
   "source": [
    "history_df.shape"
   ]
  },
  {
   "cell_type": "code",
   "execution_count": 5,
   "id": "090ba88c",
   "metadata": {},
   "outputs": [
    {
     "data": {
      "text/plain": [
       "Index(['instruction', 'response'], dtype='object')"
      ]
     },
     "execution_count": 5,
     "metadata": {},
     "output_type": "execute_result"
    }
   ],
   "source": [
    "history_df.columns"
   ]
  },
  {
   "cell_type": "code",
   "execution_count": 6,
   "id": "58c2924d",
   "metadata": {},
   "outputs": [],
   "source": [
    "prompt = \"### You are an assistant with deep expertise in Indian history. You will answer any questions related to Indian history, providing accurate and insightful information.\\n\""
   ]
  },
  {
   "cell_type": "code",
   "execution_count": 7,
   "id": "1eeec914",
   "metadata": {},
   "outputs": [
    {
     "name": "stderr",
     "output_type": "stream",
     "text": [
      "2025-05-14 13:28:40,757 - INFO - alpaca style chosen!!\n"
     ]
    }
   ],
   "source": [
    "style = InstructionStyle.load()"
   ]
  },
  {
   "cell_type": "code",
   "execution_count": 8,
   "id": "09489b3f",
   "metadata": {},
   "outputs": [],
   "source": [
    "df = style.convert_train(history_df)"
   ]
  },
  {
   "cell_type": "code",
   "execution_count": 9,
   "id": "4c8a1f12",
   "metadata": {},
   "outputs": [],
   "source": [
    "train_len = 14_000"
   ]
  },
  {
   "cell_type": "code",
   "execution_count": 10,
   "id": "ecac74ca",
   "metadata": {},
   "outputs": [],
   "source": [
    "train_df = df.iloc[:train_len, :]\n",
    "val_df = df.iloc[train_len:, :]"
   ]
  },
  {
   "cell_type": "code",
   "execution_count": 11,
   "id": "0e31ec62",
   "metadata": {},
   "outputs": [
    {
     "data": {
      "text/html": [
       "<div>\n",
       "<style scoped>\n",
       "    .dataframe tbody tr th:only-of-type {\n",
       "        vertical-align: middle;\n",
       "    }\n",
       "\n",
       "    .dataframe tbody tr th {\n",
       "        vertical-align: top;\n",
       "    }\n",
       "\n",
       "    .dataframe thead th {\n",
       "        text-align: right;\n",
       "    }\n",
       "</style>\n",
       "<table border=\"1\" class=\"dataframe\">\n",
       "  <thead>\n",
       "    <tr style=\"text-align: right;\">\n",
       "      <th></th>\n",
       "      <th>instruct</th>\n",
       "    </tr>\n",
       "  </thead>\n",
       "  <tbody>\n",
       "    <tr>\n",
       "      <th>0</th>\n",
       "      <td>### You are an assistant with deep expertise i...</td>\n",
       "    </tr>\n",
       "    <tr>\n",
       "      <th>1</th>\n",
       "      <td>### You are an assistant with deep expertise i...</td>\n",
       "    </tr>\n",
       "    <tr>\n",
       "      <th>2</th>\n",
       "      <td>### You are an assistant with deep expertise i...</td>\n",
       "    </tr>\n",
       "    <tr>\n",
       "      <th>3</th>\n",
       "      <td>### You are an assistant with deep expertise i...</td>\n",
       "    </tr>\n",
       "    <tr>\n",
       "      <th>4</th>\n",
       "      <td>### You are an assistant with deep expertise i...</td>\n",
       "    </tr>\n",
       "    <tr>\n",
       "      <th>...</th>\n",
       "      <td>...</td>\n",
       "    </tr>\n",
       "    <tr>\n",
       "      <th>13995</th>\n",
       "      <td>### You are an assistant with deep expertise i...</td>\n",
       "    </tr>\n",
       "    <tr>\n",
       "      <th>13996</th>\n",
       "      <td>### You are an assistant with deep expertise i...</td>\n",
       "    </tr>\n",
       "    <tr>\n",
       "      <th>13997</th>\n",
       "      <td>### You are an assistant with deep expertise i...</td>\n",
       "    </tr>\n",
       "    <tr>\n",
       "      <th>13998</th>\n",
       "      <td>### You are an assistant with deep expertise i...</td>\n",
       "    </tr>\n",
       "    <tr>\n",
       "      <th>13999</th>\n",
       "      <td>### You are an assistant with deep expertise i...</td>\n",
       "    </tr>\n",
       "  </tbody>\n",
       "</table>\n",
       "<p>14000 rows × 1 columns</p>\n",
       "</div>"
      ],
      "text/plain": [
       "                                                instruct\n",
       "0      ### You are an assistant with deep expertise i...\n",
       "1      ### You are an assistant with deep expertise i...\n",
       "2      ### You are an assistant with deep expertise i...\n",
       "3      ### You are an assistant with deep expertise i...\n",
       "4      ### You are an assistant with deep expertise i...\n",
       "...                                                  ...\n",
       "13995  ### You are an assistant with deep expertise i...\n",
       "13996  ### You are an assistant with deep expertise i...\n",
       "13997  ### You are an assistant with deep expertise i...\n",
       "13998  ### You are an assistant with deep expertise i...\n",
       "13999  ### You are an assistant with deep expertise i...\n",
       "\n",
       "[14000 rows x 1 columns]"
      ]
     },
     "execution_count": 11,
     "metadata": {},
     "output_type": "execute_result"
    }
   ],
   "source": [
    "train_df"
   ]
  },
  {
   "cell_type": "code",
   "execution_count": 12,
   "id": "eb4e1888",
   "metadata": {},
   "outputs": [
    {
     "name": "stdout",
     "output_type": "stream",
     "text": [
      "### You are an assistant with deep expertise in Indian history. You will answer any questions related to Indian history, providing accurate and insightful information.\\n## Input:\n",
      "What is the purpose of studying history?\n",
      "## Response:\n",
      "History helps us understand how early humans adapted to their environment and developed civilizations. It involves analyzing society, economy, and culture over time to understand their impact.\n"
     ]
    }
   ],
   "source": [
    "print(train_df['instruct'].values[0])"
   ]
  },
  {
   "cell_type": "code",
   "execution_count": 13,
   "id": "27753c3d",
   "metadata": {},
   "outputs": [
    {
     "data": {
      "text/html": [
       "<div>\n",
       "<style scoped>\n",
       "    .dataframe tbody tr th:only-of-type {\n",
       "        vertical-align: middle;\n",
       "    }\n",
       "\n",
       "    .dataframe tbody tr th {\n",
       "        vertical-align: top;\n",
       "    }\n",
       "\n",
       "    .dataframe thead th {\n",
       "        text-align: right;\n",
       "    }\n",
       "</style>\n",
       "<table border=\"1\" class=\"dataframe\">\n",
       "  <thead>\n",
       "    <tr style=\"text-align: right;\">\n",
       "      <th></th>\n",
       "      <th>instruct</th>\n",
       "    </tr>\n",
       "  </thead>\n",
       "  <tbody>\n",
       "    <tr>\n",
       "      <th>14000</th>\n",
       "      <td>### You are an assistant with deep expertise i...</td>\n",
       "    </tr>\n",
       "    <tr>\n",
       "      <th>14001</th>\n",
       "      <td>### You are an assistant with deep expertise i...</td>\n",
       "    </tr>\n",
       "    <tr>\n",
       "      <th>14002</th>\n",
       "      <td>### You are an assistant with deep expertise i...</td>\n",
       "    </tr>\n",
       "    <tr>\n",
       "      <th>14003</th>\n",
       "      <td>### You are an assistant with deep expertise i...</td>\n",
       "    </tr>\n",
       "    <tr>\n",
       "      <th>14004</th>\n",
       "      <td>### You are an assistant with deep expertise i...</td>\n",
       "    </tr>\n",
       "    <tr>\n",
       "      <th>...</th>\n",
       "      <td>...</td>\n",
       "    </tr>\n",
       "    <tr>\n",
       "      <th>14903</th>\n",
       "      <td>### You are an assistant with deep expertise i...</td>\n",
       "    </tr>\n",
       "    <tr>\n",
       "      <th>14904</th>\n",
       "      <td>### You are an assistant with deep expertise i...</td>\n",
       "    </tr>\n",
       "    <tr>\n",
       "      <th>14905</th>\n",
       "      <td>### You are an assistant with deep expertise i...</td>\n",
       "    </tr>\n",
       "    <tr>\n",
       "      <th>14906</th>\n",
       "      <td>### You are an assistant with deep expertise i...</td>\n",
       "    </tr>\n",
       "    <tr>\n",
       "      <th>14907</th>\n",
       "      <td>### You are an assistant with deep expertise i...</td>\n",
       "    </tr>\n",
       "  </tbody>\n",
       "</table>\n",
       "<p>908 rows × 1 columns</p>\n",
       "</div>"
      ],
      "text/plain": [
       "                                                instruct\n",
       "14000  ### You are an assistant with deep expertise i...\n",
       "14001  ### You are an assistant with deep expertise i...\n",
       "14002  ### You are an assistant with deep expertise i...\n",
       "14003  ### You are an assistant with deep expertise i...\n",
       "14004  ### You are an assistant with deep expertise i...\n",
       "...                                                  ...\n",
       "14903  ### You are an assistant with deep expertise i...\n",
       "14904  ### You are an assistant with deep expertise i...\n",
       "14905  ### You are an assistant with deep expertise i...\n",
       "14906  ### You are an assistant with deep expertise i...\n",
       "14907  ### You are an assistant with deep expertise i...\n",
       "\n",
       "[908 rows x 1 columns]"
      ]
     },
     "execution_count": 13,
     "metadata": {},
     "output_type": "execute_result"
    }
   ],
   "source": [
    "val_df"
   ]
  },
  {
   "cell_type": "code",
   "execution_count": 14,
   "id": "cc2214a1",
   "metadata": {},
   "outputs": [
    {
     "name": "stdout",
     "output_type": "stream",
     "text": [
      "### You are an assistant with deep expertise in Indian history. You will answer any questions related to Indian history, providing accurate and insightful information.\\n## Input:\n",
      " What movement played a role in the growth and development of regional languages?\n",
      "## Response:\n",
      "The Bhakti movement.\n"
     ]
    }
   ],
   "source": [
    "print(val_df['instruct'].values[0])"
   ]
  },
  {
   "cell_type": "code",
   "execution_count": 15,
   "id": "68458b70",
   "metadata": {},
   "outputs": [
    {
     "name": "stderr",
     "output_type": "stream",
     "text": [
      "2025-05-14 13:28:41,064 - INFO - Setting tokenizer using tiktoken with encoding: gpt2\n"
     ]
    }
   ],
   "source": [
    "train_dataset = InstructionDataset(train_df['instruct'].tolist())"
   ]
  },
  {
   "cell_type": "code",
   "execution_count": 16,
   "id": "c5bf387a",
   "metadata": {},
   "outputs": [],
   "source": [
    "val_dataset = InstructionDataset(val_df['instruct'].tolist())"
   ]
  },
  {
   "cell_type": "code",
   "execution_count": 17,
   "id": "8b87297f",
   "metadata": {},
   "outputs": [],
   "source": [
    "train_loader = InstructionDataLoader().load(dataset = train_dataset)"
   ]
  },
  {
   "cell_type": "code",
   "execution_count": 18,
   "id": "46b952b4",
   "metadata": {},
   "outputs": [],
   "source": [
    "val_loader = InstructionDataLoader().load(dataset = val_dataset)"
   ]
  },
  {
   "cell_type": "code",
   "execution_count": 19,
   "id": "3db267fd",
   "metadata": {},
   "outputs": [],
   "source": [
    "data = iter(val_loader)"
   ]
  },
  {
   "cell_type": "code",
   "execution_count": 20,
   "id": "6bb37dc7",
   "metadata": {},
   "outputs": [],
   "source": [
    "first_batch = next(data)"
   ]
  },
  {
   "cell_type": "code",
   "execution_count": 21,
   "id": "d357e590",
   "metadata": {},
   "outputs": [
    {
     "data": {
      "text/plain": [
       "tensor([21017,   921,   389,   281,  8796,   351,  2769, 13572,   287,  3942,\n",
       "         2106,    13,   921,   481,  3280,   597,  2683,  3519,   284,  3942,\n",
       "         2106,    11,  4955,  7187,   290, 41696,  1321,    13,    59,    77,\n",
       "         2235, 23412,    25,   198,  6350,   750,   262,  7270,  4459,  1064,\n",
       "          663,  3809,  1871,   867,   424,    69,   271,    30,   198,  2235,\n",
       "        18261,    25,   198, 14311,   867,   424,    69,   271,   508,  7189,\n",
       "         1028,   262,  7135,  6770,   286,  5533,  3657,   416,   262,   334,\n",
       "          293,  2611,    13, 50256, 50256, 50256, 50256, 50256, 50256, 50256,\n",
       "        50256, 50256, 50256, 50256, 50256, 50256, 50256, 50256, 50256, 50256,\n",
       "        50256, 50256, 50256, 50256, 50256, 50256], dtype=torch.int32)"
      ]
     },
     "execution_count": 21,
     "metadata": {},
     "output_type": "execute_result"
    }
   ],
   "source": [
    "first_batch[0][0]"
   ]
  },
  {
   "cell_type": "code",
   "execution_count": 22,
   "id": "61028cf1",
   "metadata": {},
   "outputs": [
    {
     "data": {
      "text/plain": [
       "tensor([ -100,  -100,  -100,  -100,  -100,  -100,  -100,  -100,  -100,  -100,\n",
       "         -100,  -100,  -100,  -100,  -100,  -100,  -100,  -100,  -100,  -100,\n",
       "         -100,  -100,  -100,  -100,  -100,  -100,  -100,  -100,  -100,  -100,\n",
       "         -100,  -100,  -100,  -100,  -100,  -100,  -100,  -100,  -100,  -100,\n",
       "         -100,  -100,  -100,  -100,  -100,  -100,  -100,  -100,  -100,  -100,\n",
       "         -100,  -100, 14311,   867,   424,    69,   271,   508,  7189,  1028,\n",
       "          262,  7135,  6770,   286,  5533,  3657,   416,   262,   334,   293,\n",
       "         2611,    13, 50256,  -100,  -100,  -100,  -100,  -100,  -100,  -100,\n",
       "         -100,  -100,  -100,  -100,  -100,  -100,  -100,  -100,  -100,  -100,\n",
       "         -100,  -100,  -100,  -100,  -100,  -100], dtype=torch.int32)"
      ]
     },
     "execution_count": 22,
     "metadata": {},
     "output_type": "execute_result"
    }
   ],
   "source": [
    "first_batch[1][0]"
   ]
  },
  {
   "cell_type": "code",
   "execution_count": 23,
   "id": "5218f6d1",
   "metadata": {},
   "outputs": [
    {
     "name": "stderr",
     "output_type": "stream",
     "text": [
      "2025-05-14 13:28:42,916 - INFO - alpaca style chosen!!\n",
      "2025-05-14 13:28:43,494 - INFO - Using LoRA weights for ff layers!!\n",
      "2025-05-14 13:28:43,849 - INFO - Using LoRA weights for multi head layers!!\n",
      "2025-05-14 13:28:43,968 - INFO - Using LoRA weights for ff layers!!\n",
      "2025-05-14 13:28:44,051 - INFO - Using LoRA weights for multi head layers!!\n",
      "2025-05-14 13:28:44,163 - INFO - Using LoRA weights for ff layers!!\n",
      "2025-05-14 13:28:44,236 - INFO - Using LoRA weights for multi head layers!!\n",
      "2025-05-14 13:28:44,347 - INFO - Using LoRA weights for ff layers!!\n",
      "2025-05-14 13:28:44,423 - INFO - Using LoRA weights for multi head layers!!\n",
      "2025-05-14 13:28:44,536 - INFO - Using LoRA weights for ff layers!!\n",
      "2025-05-14 13:28:44,610 - INFO - Using LoRA weights for multi head layers!!\n",
      "2025-05-14 13:28:44,722 - INFO - Using LoRA weights for ff layers!!\n",
      "2025-05-14 13:28:44,797 - INFO - Using LoRA weights for multi head layers!!\n",
      "2025-05-14 13:28:44,909 - INFO - Using LoRA weights for ff layers!!\n",
      "2025-05-14 13:28:44,980 - INFO - Using LoRA weights for multi head layers!!\n",
      "2025-05-14 13:28:45,091 - INFO - Using LoRA weights for ff layers!!\n",
      "2025-05-14 13:28:45,166 - INFO - Using LoRA weights for multi head layers!!\n",
      "2025-05-14 13:28:45,277 - INFO - Using LoRA weights for ff layers!!\n",
      "2025-05-14 13:28:45,350 - INFO - Using LoRA weights for multi head layers!!\n",
      "2025-05-14 13:28:45,468 - INFO - Using LoRA weights for ff layers!!\n",
      "2025-05-14 13:28:45,544 - INFO - Using LoRA weights for multi head layers!!\n",
      "2025-05-14 13:28:45,658 - INFO - Using LoRA weights for ff layers!!\n",
      "2025-05-14 13:28:45,731 - INFO - Using LoRA weights for multi head layers!!\n",
      "2025-05-14 13:28:45,845 - INFO - Using LoRA weights for ff layers!!\n",
      "2025-05-14 13:28:45,918 - INFO - Using LoRA weights for multi head layers!!\n",
      "2025-05-14 13:28:46,032 - INFO - Using LoRA weights for ff layers!!\n",
      "2025-05-14 13:28:46,105 - INFO - Using LoRA weights for multi head layers!!\n",
      "2025-05-14 13:28:46,218 - INFO - Using LoRA weights for ff layers!!\n",
      "2025-05-14 13:28:46,291 - INFO - Using LoRA weights for multi head layers!!\n",
      "2025-05-14 13:28:46,405 - INFO - Using LoRA weights for ff layers!!\n",
      "2025-05-14 13:28:46,477 - INFO - Using LoRA weights for multi head layers!!\n",
      "2025-05-14 13:28:46,593 - INFO - Using LoRA weights for ff layers!!\n",
      "2025-05-14 13:28:46,666 - INFO - Using LoRA weights for multi head layers!!\n",
      "2025-05-14 13:28:46,780 - INFO - Using LoRA weights for ff layers!!\n",
      "2025-05-14 13:28:46,853 - INFO - Using LoRA weights for multi head layers!!\n",
      "2025-05-14 13:28:46,966 - INFO - Using LoRA weights for ff layers!!\n",
      "2025-05-14 13:28:47,040 - INFO - Using LoRA weights for multi head layers!!\n",
      "2025-05-14 13:28:47,153 - INFO - Using LoRA weights for ff layers!!\n",
      "2025-05-14 13:28:47,225 - INFO - Using LoRA weights for multi head layers!!\n",
      "2025-05-14 13:28:47,338 - INFO - Using LoRA weights for ff layers!!\n",
      "2025-05-14 13:28:47,414 - INFO - Using LoRA weights for multi head layers!!\n",
      "2025-05-14 13:28:47,529 - INFO - Using LoRA weights for ff layers!!\n",
      "2025-05-14 13:28:47,600 - INFO - Using LoRA weights for multi head layers!!\n",
      "2025-05-14 13:28:47,713 - INFO - Using LoRA weights for ff layers!!\n",
      "2025-05-14 13:28:47,785 - INFO - Using LoRA weights for multi head layers!!\n",
      "2025-05-14 13:28:47,898 - INFO - Using LoRA weights for ff layers!!\n",
      "2025-05-14 13:28:47,973 - INFO - Using LoRA weights for multi head layers!!\n",
      "2025-05-14 13:28:48,087 - INFO - Using LoRA weights for ff layers!!\n",
      "2025-05-14 13:28:48,159 - INFO - Using LoRA weights for multi head layers!!\n",
      "2025-05-14 13:28:48,272 - INFO - Using LoRA weights for ff layers!!\n",
      "2025-05-14 13:28:48,344 - INFO - Using LoRA weights for multi head layers!!\n",
      "2025-05-14 13:28:48,457 - INFO - Using LoRA weights for ff layers!!\n",
      "2025-05-14 13:28:48,530 - INFO - Using LoRA weights for multi head layers!!\n",
      "2025-05-14 13:28:48,644 - INFO - Using LoRA weights for ff layers!!\n",
      "2025-05-14 13:28:48,716 - INFO - Using LoRA weights for multi head layers!!\n",
      "2025-05-14 13:28:48,829 - INFO - Using LoRA weights for ff layers!!\n",
      "2025-05-14 13:28:48,901 - INFO - Using LoRA weights for multi head layers!!\n",
      "2025-05-14 13:28:49,014 - INFO - Using LoRA weights for ff layers!!\n",
      "2025-05-14 13:28:49,086 - INFO - Using LoRA weights for multi head layers!!\n",
      "2025-05-14 13:28:49,200 - INFO - Using LoRA weights for ff layers!!\n",
      "2025-05-14 13:28:49,273 - INFO - Using LoRA weights for multi head layers!!\n",
      "2025-05-14 13:28:49,386 - INFO - Using LoRA weights for ff layers!!\n",
      "2025-05-14 13:28:49,458 - INFO - Using LoRA weights for multi head layers!!\n",
      "2025-05-14 13:28:49,571 - INFO - Using LoRA weights for ff layers!!\n",
      "2025-05-14 13:28:49,643 - INFO - Using LoRA weights for multi head layers!!\n",
      "2025-05-14 13:28:49,758 - INFO - Using LoRA weights for ff layers!!\n",
      "2025-05-14 13:28:49,830 - INFO - Using LoRA weights for multi head layers!!\n",
      "2025-05-14 13:28:49,943 - INFO - Using LoRA weights for ff layers!!\n",
      "2025-05-14 13:28:50,016 - INFO - Using LoRA weights for multi head layers!!\n",
      "2025-05-14 13:28:50,130 - INFO - Using LoRA weights for ff layers!!\n",
      "2025-05-14 13:28:50,203 - INFO - Using LoRA weights for multi head layers!!\n",
      "2025-05-14 13:28:50,322 - INFO - Using LoRA weights for ff layers!!\n",
      "2025-05-14 13:28:50,394 - INFO - Using LoRA weights for multi head layers!!\n",
      "2025-05-14 13:28:50,506 - INFO - Using LoRA weights for ff layers!!\n",
      "2025-05-14 13:28:50,578 - INFO - Using LoRA weights for multi head layers!!\n",
      "2025-05-14 13:28:50,691 - INFO - Using LoRA weights for ff layers!!\n",
      "2025-05-14 13:28:50,762 - INFO - Using LoRA weights for multi head layers!!\n",
      "2025-05-14 13:28:50,875 - INFO - Using LoRA weights for ff layers!!\n",
      "2025-05-14 13:28:50,947 - INFO - Using LoRA weights for multi head layers!!\n",
      "2025-05-14 13:28:51,060 - INFO - Using LoRA weights for ff layers!!\n",
      "2025-05-14 13:28:51,133 - INFO - Using LoRA weights for multi head layers!!\n",
      "2025-05-14 13:28:51,247 - INFO - Using LoRA weights for ff layers!!\n",
      "2025-05-14 13:28:51,319 - INFO - Using LoRA weights for multi head layers!!\n",
      "2025-05-14 13:28:51,432 - INFO - Using LoRA weights for ff layers!!\n",
      "2025-05-14 13:28:51,506 - INFO - Using LoRA weights for multi head layers!!\n",
      "2025-05-14 13:28:51,625 - INFO - Using LoRA weights for ff layers!!\n",
      "2025-05-14 13:28:51,698 - INFO - Using LoRA weights for multi head layers!!\n",
      "2025-05-14 13:28:51,811 - INFO - Using LoRA weights for ff layers!!\n",
      "2025-05-14 13:28:51,884 - INFO - Using LoRA weights for multi head layers!!\n",
      "2025-05-14 13:28:51,997 - INFO - Using LoRA weights for ff layers!!\n",
      "2025-05-14 13:28:52,069 - INFO - Using LoRA weights for multi head layers!!\n",
      "2025-05-14 13:28:52,182 - INFO - Using LoRA weights for ff layers!!\n",
      "2025-05-14 13:28:52,256 - INFO - Using LoRA weights for multi head layers!!\n",
      "2025-05-14 13:28:52,369 - INFO - Using LoRA weights for ff layers!!\n",
      "2025-05-14 13:28:52,442 - INFO - Using LoRA weights for multi head layers!!\n",
      "2025-05-14 13:28:52,555 - INFO - Using LoRA weights for ff layers!!\n",
      "2025-05-14 13:28:52,627 - INFO - Using LoRA weights for multi head layers!!\n",
      "2025-05-14 13:28:53,051 - INFO - Using Lora for final output layer!!\n",
      "2025-05-14 13:28:53,072 - INFO - Repo: openai-community/gpt2-xl.\n",
      "2025-05-14 13:28:53,074 - INFO - openai-community/gpt2-xl exists in /home/smathad/ai_capstone/chathist/models/pretrained/gpt2-xl. Skipping Download...\n",
      "2025-05-14 13:28:54,258 - INFO - Loading weights into model.\n",
      "2025-05-14 13:28:54,260 - WARNING - Using loRA will freeze the whole model except for loRA weights.\n",
      "2025-05-14 13:28:54,355 - INFO - Layer: 1\n",
      "2025-05-14 13:28:54,356 - INFO - loading norm1 weights and bias\n",
      "2025-05-14 13:28:54,357 - INFO - loading norm2 weights and bias\n",
      "2025-05-14 13:28:54,357 - INFO - loading ff weights and bias\n",
      "2025-05-14 13:28:54,377 - INFO - loading attention weights and bias\n",
      "2025-05-14 13:28:54,409 - INFO - Layer: 2\n",
      "2025-05-14 13:28:54,409 - INFO - loading norm1 weights and bias\n",
      "2025-05-14 13:28:54,410 - INFO - loading norm2 weights and bias\n",
      "2025-05-14 13:28:54,411 - INFO - loading ff weights and bias\n",
      "2025-05-14 13:28:54,435 - INFO - loading attention weights and bias\n",
      "2025-05-14 13:28:54,466 - INFO - Layer: 3\n",
      "2025-05-14 13:28:54,467 - INFO - loading norm1 weights and bias\n",
      "2025-05-14 13:28:54,467 - INFO - loading norm2 weights and bias\n",
      "2025-05-14 13:28:54,468 - INFO - loading ff weights and bias\n",
      "2025-05-14 13:28:54,486 - INFO - loading attention weights and bias\n",
      "2025-05-14 13:28:54,513 - INFO - Layer: 4\n",
      "2025-05-14 13:28:54,514 - INFO - loading norm1 weights and bias\n",
      "2025-05-14 13:28:54,515 - INFO - loading norm2 weights and bias\n",
      "2025-05-14 13:28:54,516 - INFO - loading ff weights and bias\n",
      "2025-05-14 13:28:54,537 - INFO - loading attention weights and bias\n",
      "2025-05-14 13:28:54,570 - INFO - Layer: 5\n",
      "2025-05-14 13:28:54,571 - INFO - loading norm1 weights and bias\n",
      "2025-05-14 13:28:54,572 - INFO - loading norm2 weights and bias\n",
      "2025-05-14 13:28:54,573 - INFO - loading ff weights and bias\n",
      "2025-05-14 13:28:54,594 - INFO - loading attention weights and bias\n",
      "2025-05-14 13:28:54,630 - INFO - Layer: 6\n",
      "2025-05-14 13:28:54,631 - INFO - loading norm1 weights and bias\n",
      "2025-05-14 13:28:54,632 - INFO - loading norm2 weights and bias\n",
      "2025-05-14 13:28:54,633 - INFO - loading ff weights and bias\n",
      "2025-05-14 13:28:54,654 - INFO - loading attention weights and bias\n",
      "2025-05-14 13:28:54,682 - INFO - Layer: 7\n",
      "2025-05-14 13:28:54,683 - INFO - loading norm1 weights and bias\n",
      "2025-05-14 13:28:54,684 - INFO - loading norm2 weights and bias\n",
      "2025-05-14 13:28:54,685 - INFO - loading ff weights and bias\n",
      "2025-05-14 13:28:54,705 - INFO - loading attention weights and bias\n",
      "2025-05-14 13:28:54,740 - INFO - Layer: 8\n",
      "2025-05-14 13:28:54,741 - INFO - loading norm1 weights and bias\n",
      "2025-05-14 13:28:54,742 - INFO - loading norm2 weights and bias\n",
      "2025-05-14 13:28:54,743 - INFO - loading ff weights and bias\n",
      "2025-05-14 13:28:54,765 - INFO - loading attention weights and bias\n",
      "2025-05-14 13:28:54,792 - INFO - Layer: 9\n",
      "2025-05-14 13:28:54,793 - INFO - loading norm1 weights and bias\n",
      "2025-05-14 13:28:54,794 - INFO - loading norm2 weights and bias\n",
      "2025-05-14 13:28:54,795 - INFO - loading ff weights and bias\n",
      "2025-05-14 13:28:54,818 - INFO - loading attention weights and bias\n",
      "2025-05-14 13:28:54,856 - INFO - Layer: 10\n",
      "2025-05-14 13:28:54,857 - INFO - loading norm1 weights and bias\n",
      "2025-05-14 13:28:54,858 - INFO - loading norm2 weights and bias\n",
      "2025-05-14 13:28:54,859 - INFO - loading ff weights and bias\n",
      "2025-05-14 13:28:54,880 - INFO - loading attention weights and bias\n",
      "2025-05-14 13:28:54,912 - INFO - Layer: 11\n",
      "2025-05-14 13:28:54,913 - INFO - loading norm1 weights and bias\n",
      "2025-05-14 13:28:54,914 - INFO - loading norm2 weights and bias\n",
      "2025-05-14 13:28:54,915 - INFO - loading ff weights and bias\n",
      "2025-05-14 13:28:54,941 - INFO - loading attention weights and bias\n",
      "2025-05-14 13:28:54,968 - INFO - Layer: 12\n",
      "2025-05-14 13:28:54,969 - INFO - loading norm1 weights and bias\n",
      "2025-05-14 13:28:54,970 - INFO - loading norm2 weights and bias\n",
      "2025-05-14 13:28:54,971 - INFO - loading ff weights and bias\n",
      "2025-05-14 13:28:54,996 - INFO - loading attention weights and bias\n",
      "2025-05-14 13:28:55,028 - INFO - Layer: 13\n",
      "2025-05-14 13:28:55,029 - INFO - loading norm1 weights and bias\n",
      "2025-05-14 13:28:55,029 - INFO - loading norm2 weights and bias\n",
      "2025-05-14 13:28:55,031 - INFO - loading ff weights and bias\n",
      "2025-05-14 13:28:55,053 - INFO - loading attention weights and bias\n",
      "2025-05-14 13:28:55,081 - INFO - Layer: 14\n",
      "2025-05-14 13:28:55,082 - INFO - loading norm1 weights and bias\n",
      "2025-05-14 13:28:55,083 - INFO - loading norm2 weights and bias\n",
      "2025-05-14 13:28:55,084 - INFO - loading ff weights and bias\n",
      "2025-05-14 13:28:55,111 - INFO - loading attention weights and bias\n",
      "2025-05-14 13:28:55,145 - INFO - Layer: 15\n",
      "2025-05-14 13:28:55,146 - INFO - loading norm1 weights and bias\n",
      "2025-05-14 13:28:55,147 - INFO - loading norm2 weights and bias\n",
      "2025-05-14 13:28:55,148 - INFO - loading ff weights and bias\n",
      "2025-05-14 13:28:55,165 - INFO - loading attention weights and bias\n",
      "2025-05-14 13:28:55,198 - INFO - Layer: 16\n",
      "2025-05-14 13:28:55,199 - INFO - loading norm1 weights and bias\n",
      "2025-05-14 13:28:55,200 - INFO - loading norm2 weights and bias\n",
      "2025-05-14 13:28:55,201 - INFO - loading ff weights and bias\n",
      "2025-05-14 13:28:55,220 - INFO - loading attention weights and bias\n",
      "2025-05-14 13:28:55,247 - INFO - Layer: 17\n",
      "2025-05-14 13:28:55,248 - INFO - loading norm1 weights and bias\n",
      "2025-05-14 13:28:55,250 - INFO - loading norm2 weights and bias\n",
      "2025-05-14 13:28:55,251 - INFO - loading ff weights and bias\n",
      "2025-05-14 13:28:55,274 - INFO - loading attention weights and bias\n",
      "2025-05-14 13:28:55,307 - INFO - Layer: 18\n",
      "2025-05-14 13:28:55,308 - INFO - loading norm1 weights and bias\n",
      "2025-05-14 13:28:55,309 - INFO - loading norm2 weights and bias\n",
      "2025-05-14 13:28:55,310 - INFO - loading ff weights and bias\n",
      "2025-05-14 13:28:55,331 - INFO - loading attention weights and bias\n",
      "2025-05-14 13:28:55,356 - INFO - Layer: 19\n",
      "2025-05-14 13:28:55,357 - INFO - loading norm1 weights and bias\n",
      "2025-05-14 13:28:55,358 - INFO - loading norm2 weights and bias\n",
      "2025-05-14 13:28:55,359 - INFO - loading ff weights and bias\n",
      "2025-05-14 13:28:55,378 - INFO - loading attention weights and bias\n",
      "2025-05-14 13:28:55,406 - INFO - Layer: 20\n",
      "2025-05-14 13:28:55,407 - INFO - loading norm1 weights and bias\n",
      "2025-05-14 13:28:55,407 - INFO - loading norm2 weights and bias\n",
      "2025-05-14 13:28:55,408 - INFO - loading ff weights and bias\n",
      "2025-05-14 13:28:55,434 - INFO - loading attention weights and bias\n",
      "2025-05-14 13:28:55,464 - INFO - Layer: 21\n",
      "2025-05-14 13:28:55,465 - INFO - loading norm1 weights and bias\n",
      "2025-05-14 13:28:55,465 - INFO - loading norm2 weights and bias\n",
      "2025-05-14 13:28:55,466 - INFO - loading ff weights and bias\n",
      "2025-05-14 13:28:55,488 - INFO - loading attention weights and bias\n",
      "2025-05-14 13:28:55,518 - INFO - Layer: 22\n",
      "2025-05-14 13:28:55,519 - INFO - loading norm1 weights and bias\n",
      "2025-05-14 13:28:55,519 - INFO - loading norm2 weights and bias\n",
      "2025-05-14 13:28:55,521 - INFO - loading ff weights and bias\n",
      "2025-05-14 13:28:55,543 - INFO - loading attention weights and bias\n",
      "2025-05-14 13:28:55,578 - INFO - Layer: 23\n",
      "2025-05-14 13:28:55,579 - INFO - loading norm1 weights and bias\n",
      "2025-05-14 13:28:55,580 - INFO - loading norm2 weights and bias\n",
      "2025-05-14 13:28:55,581 - INFO - loading ff weights and bias\n",
      "2025-05-14 13:28:55,602 - INFO - loading attention weights and bias\n",
      "2025-05-14 13:28:55,629 - INFO - Layer: 24\n",
      "2025-05-14 13:28:55,630 - INFO - loading norm1 weights and bias\n",
      "2025-05-14 13:28:55,631 - INFO - loading norm2 weights and bias\n",
      "2025-05-14 13:28:55,632 - INFO - loading ff weights and bias\n",
      "2025-05-14 13:28:55,655 - INFO - loading attention weights and bias\n",
      "2025-05-14 13:28:55,686 - INFO - Layer: 25\n",
      "2025-05-14 13:28:55,687 - INFO - loading norm1 weights and bias\n",
      "2025-05-14 13:28:55,688 - INFO - loading norm2 weights and bias\n",
      "2025-05-14 13:28:55,689 - INFO - loading ff weights and bias\n",
      "2025-05-14 13:28:55,713 - INFO - loading attention weights and bias\n",
      "2025-05-14 13:28:55,746 - INFO - Layer: 26\n",
      "2025-05-14 13:28:55,747 - INFO - loading norm1 weights and bias\n",
      "2025-05-14 13:28:55,748 - INFO - loading norm2 weights and bias\n",
      "2025-05-14 13:28:55,749 - INFO - loading ff weights and bias\n",
      "2025-05-14 13:28:55,776 - INFO - loading attention weights and bias\n",
      "2025-05-14 13:28:55,807 - INFO - Layer: 27\n",
      "2025-05-14 13:28:55,808 - INFO - loading norm1 weights and bias\n",
      "2025-05-14 13:28:55,808 - INFO - loading norm2 weights and bias\n",
      "2025-05-14 13:28:55,809 - INFO - loading ff weights and bias\n",
      "2025-05-14 13:28:55,832 - INFO - loading attention weights and bias\n",
      "2025-05-14 13:28:55,867 - INFO - Layer: 28\n",
      "2025-05-14 13:28:55,868 - INFO - loading norm1 weights and bias\n",
      "2025-05-14 13:28:55,869 - INFO - loading norm2 weights and bias\n",
      "2025-05-14 13:28:55,870 - INFO - loading ff weights and bias\n",
      "2025-05-14 13:28:55,895 - INFO - loading attention weights and bias\n",
      "2025-05-14 13:28:55,927 - INFO - Layer: 29\n",
      "2025-05-14 13:28:55,928 - INFO - loading norm1 weights and bias\n",
      "2025-05-14 13:28:55,929 - INFO - loading norm2 weights and bias\n",
      "2025-05-14 13:28:55,930 - INFO - loading ff weights and bias\n",
      "2025-05-14 13:28:55,957 - INFO - loading attention weights and bias\n",
      "2025-05-14 13:28:55,987 - INFO - Layer: 30\n",
      "2025-05-14 13:28:55,989 - INFO - loading norm1 weights and bias\n",
      "2025-05-14 13:28:55,990 - INFO - loading norm2 weights and bias\n",
      "2025-05-14 13:28:55,991 - INFO - loading ff weights and bias\n",
      "2025-05-14 13:28:56,012 - INFO - loading attention weights and bias\n",
      "2025-05-14 13:28:56,039 - INFO - Layer: 31\n",
      "2025-05-14 13:28:56,040 - INFO - loading norm1 weights and bias\n",
      "2025-05-14 13:28:56,041 - INFO - loading norm2 weights and bias\n",
      "2025-05-14 13:28:56,042 - INFO - loading ff weights and bias\n",
      "2025-05-14 13:28:56,064 - INFO - loading attention weights and bias\n",
      "2025-05-14 13:28:56,088 - INFO - Layer: 32\n",
      "2025-05-14 13:28:56,089 - INFO - loading norm1 weights and bias\n",
      "2025-05-14 13:28:56,090 - INFO - loading norm2 weights and bias\n",
      "2025-05-14 13:28:56,091 - INFO - loading ff weights and bias\n",
      "2025-05-14 13:28:56,116 - INFO - loading attention weights and bias\n",
      "2025-05-14 13:28:56,146 - INFO - Layer: 33\n",
      "2025-05-14 13:28:56,147 - INFO - loading norm1 weights and bias\n",
      "2025-05-14 13:28:56,148 - INFO - loading norm2 weights and bias\n",
      "2025-05-14 13:28:56,149 - INFO - loading ff weights and bias\n",
      "2025-05-14 13:28:56,171 - INFO - loading attention weights and bias\n",
      "2025-05-14 13:28:56,204 - INFO - Layer: 34\n",
      "2025-05-14 13:28:56,205 - INFO - loading norm1 weights and bias\n",
      "2025-05-14 13:28:56,206 - INFO - loading norm2 weights and bias\n",
      "2025-05-14 13:28:56,207 - INFO - loading ff weights and bias\n",
      "2025-05-14 13:28:56,230 - INFO - loading attention weights and bias\n",
      "2025-05-14 13:28:56,258 - INFO - Layer: 35\n",
      "2025-05-14 13:28:56,259 - INFO - loading norm1 weights and bias\n",
      "2025-05-14 13:28:56,260 - INFO - loading norm2 weights and bias\n",
      "2025-05-14 13:28:56,261 - INFO - loading ff weights and bias\n",
      "2025-05-14 13:28:56,284 - INFO - loading attention weights and bias\n",
      "2025-05-14 13:28:56,313 - INFO - Layer: 36\n",
      "2025-05-14 13:28:56,314 - INFO - loading norm1 weights and bias\n",
      "2025-05-14 13:28:56,315 - INFO - loading norm2 weights and bias\n",
      "2025-05-14 13:28:56,316 - INFO - loading ff weights and bias\n",
      "2025-05-14 13:28:56,338 - INFO - loading attention weights and bias\n",
      "2025-05-14 13:28:56,363 - INFO - Layer: 37\n",
      "2025-05-14 13:28:56,364 - INFO - loading norm1 weights and bias\n",
      "2025-05-14 13:28:56,365 - INFO - loading norm2 weights and bias\n",
      "2025-05-14 13:28:56,365 - INFO - loading ff weights and bias\n",
      "2025-05-14 13:28:56,390 - INFO - loading attention weights and bias\n",
      "2025-05-14 13:28:56,422 - INFO - Layer: 38\n",
      "2025-05-14 13:28:56,423 - INFO - loading norm1 weights and bias\n",
      "2025-05-14 13:28:56,424 - INFO - loading norm2 weights and bias\n",
      "2025-05-14 13:28:56,425 - INFO - loading ff weights and bias\n",
      "2025-05-14 13:28:56,450 - INFO - loading attention weights and bias\n",
      "2025-05-14 13:28:56,485 - INFO - Layer: 39\n",
      "2025-05-14 13:28:56,485 - INFO - loading norm1 weights and bias\n",
      "2025-05-14 13:28:56,486 - INFO - loading norm2 weights and bias\n",
      "2025-05-14 13:28:56,486 - INFO - loading ff weights and bias\n",
      "2025-05-14 13:28:56,512 - INFO - loading attention weights and bias\n",
      "2025-05-14 13:28:56,541 - INFO - Layer: 40\n",
      "2025-05-14 13:28:56,542 - INFO - loading norm1 weights and bias\n",
      "2025-05-14 13:28:56,543 - INFO - loading norm2 weights and bias\n",
      "2025-05-14 13:28:56,544 - INFO - loading ff weights and bias\n",
      "2025-05-14 13:28:56,565 - INFO - loading attention weights and bias\n",
      "2025-05-14 13:28:56,600 - INFO - Layer: 41\n",
      "2025-05-14 13:28:56,601 - INFO - loading norm1 weights and bias\n",
      "2025-05-14 13:28:56,602 - INFO - loading norm2 weights and bias\n",
      "2025-05-14 13:28:56,603 - INFO - loading ff weights and bias\n",
      "2025-05-14 13:28:56,628 - INFO - loading attention weights and bias\n",
      "2025-05-14 13:28:56,659 - INFO - Layer: 42\n",
      "2025-05-14 13:28:56,660 - INFO - loading norm1 weights and bias\n",
      "2025-05-14 13:28:56,660 - INFO - loading norm2 weights and bias\n",
      "2025-05-14 13:28:56,661 - INFO - loading ff weights and bias\n",
      "2025-05-14 13:28:56,691 - INFO - loading attention weights and bias\n",
      "2025-05-14 13:28:56,728 - INFO - Layer: 43\n",
      "2025-05-14 13:28:56,728 - INFO - loading norm1 weights and bias\n",
      "2025-05-14 13:28:56,729 - INFO - loading norm2 weights and bias\n",
      "2025-05-14 13:28:56,730 - INFO - loading ff weights and bias\n",
      "2025-05-14 13:28:56,756 - INFO - loading attention weights and bias\n",
      "2025-05-14 13:28:56,793 - INFO - Layer: 44\n",
      "2025-05-14 13:28:56,795 - INFO - loading norm1 weights and bias\n",
      "2025-05-14 13:28:56,795 - INFO - loading norm2 weights and bias\n",
      "2025-05-14 13:28:56,796 - INFO - loading ff weights and bias\n",
      "2025-05-14 13:28:56,825 - INFO - loading attention weights and bias\n",
      "2025-05-14 13:28:56,861 - INFO - Layer: 45\n",
      "2025-05-14 13:28:56,865 - INFO - loading norm1 weights and bias\n",
      "2025-05-14 13:28:56,866 - INFO - loading norm2 weights and bias\n",
      "2025-05-14 13:28:56,867 - INFO - loading ff weights and bias\n",
      "2025-05-14 13:28:56,890 - INFO - loading attention weights and bias\n",
      "2025-05-14 13:28:56,922 - INFO - Layer: 46\n",
      "2025-05-14 13:28:56,927 - INFO - loading norm1 weights and bias\n",
      "2025-05-14 13:28:56,927 - INFO - loading norm2 weights and bias\n",
      "2025-05-14 13:28:56,928 - INFO - loading ff weights and bias\n",
      "2025-05-14 13:28:56,958 - INFO - loading attention weights and bias\n",
      "2025-05-14 13:28:56,988 - INFO - Layer: 47\n",
      "2025-05-14 13:28:56,992 - INFO - loading norm1 weights and bias\n",
      "2025-05-14 13:28:56,993 - INFO - loading norm2 weights and bias\n",
      "2025-05-14 13:28:56,994 - INFO - loading ff weights and bias\n",
      "2025-05-14 13:28:57,016 - INFO - loading attention weights and bias\n",
      "2025-05-14 13:28:57,047 - INFO - Layer: 48\n",
      "2025-05-14 13:28:57,048 - INFO - loading norm1 weights and bias\n",
      "2025-05-14 13:28:57,049 - INFO - loading norm2 weights and bias\n",
      "2025-05-14 13:28:57,051 - INFO - loading ff weights and bias\n",
      "2025-05-14 13:28:57,082 - INFO - loading attention weights and bias\n"
     ]
    }
   ],
   "source": [
    "model = Model()"
   ]
  },
  {
   "cell_type": "code",
   "execution_count": 24,
   "id": "99f84052",
   "metadata": {},
   "outputs": [
    {
     "name": "stderr",
     "output_type": "stream",
     "text": [
      "2025-05-14 13:28:58,587 - INFO - Total model parameters: 1660970512\n",
      "2025-05-14 13:28:58,588 - INFO - Total trainable parameters: 22948112\n"
     ]
    },
    {
     "data": {
      "text/html": [
       "<div>\n",
       "<style scoped>\n",
       "    .dataframe tbody tr th:only-of-type {\n",
       "        vertical-align: middle;\n",
       "    }\n",
       "\n",
       "    .dataframe tbody tr th {\n",
       "        vertical-align: top;\n",
       "    }\n",
       "\n",
       "    .dataframe thead th {\n",
       "        text-align: right;\n",
       "    }\n",
       "</style>\n",
       "<table border=\"1\" class=\"dataframe\">\n",
       "  <thead>\n",
       "    <tr style=\"text-align: right;\">\n",
       "      <th></th>\n",
       "      <th>layer_name</th>\n",
       "      <th>requires_grad</th>\n",
       "      <th>params</th>\n",
       "    </tr>\n",
       "  </thead>\n",
       "  <tbody>\n",
       "    <tr>\n",
       "      <th>0</th>\n",
       "      <td>tok_emb.weight</td>\n",
       "      <td>False</td>\n",
       "      <td>80411200</td>\n",
       "    </tr>\n",
       "    <tr>\n",
       "      <th>1</th>\n",
       "      <td>pos_emb.weight</td>\n",
       "      <td>False</td>\n",
       "      <td>1638400</td>\n",
       "    </tr>\n",
       "    <tr>\n",
       "      <th>2</th>\n",
       "      <td>transformers.layer_0.norm1.scale</td>\n",
       "      <td>False</td>\n",
       "      <td>1600</td>\n",
       "    </tr>\n",
       "    <tr>\n",
       "      <th>3</th>\n",
       "      <td>transformers.layer_0.norm1.shift</td>\n",
       "      <td>False</td>\n",
       "      <td>1600</td>\n",
       "    </tr>\n",
       "    <tr>\n",
       "      <th>4</th>\n",
       "      <td>transformers.layer_0.norm2.scale</td>\n",
       "      <td>False</td>\n",
       "      <td>1600</td>\n",
       "    </tr>\n",
       "    <tr>\n",
       "      <th>...</th>\n",
       "      <td>...</td>\n",
       "      <td>...</td>\n",
       "      <td>...</td>\n",
       "    </tr>\n",
       "    <tr>\n",
       "      <th>1346</th>\n",
       "      <td>final_norm.scale</td>\n",
       "      <td>False</td>\n",
       "      <td>1600</td>\n",
       "    </tr>\n",
       "    <tr>\n",
       "      <th>1347</th>\n",
       "      <td>final_norm.shift</td>\n",
       "      <td>False</td>\n",
       "      <td>1600</td>\n",
       "    </tr>\n",
       "    <tr>\n",
       "      <th>1348</th>\n",
       "      <td>final_layer.linear_layer.weight</td>\n",
       "      <td>False</td>\n",
       "      <td>80411200</td>\n",
       "    </tr>\n",
       "    <tr>\n",
       "      <th>1349</th>\n",
       "      <td>final_layer.lora.a_matrix</td>\n",
       "      <td>True</td>\n",
       "      <td>25600</td>\n",
       "    </tr>\n",
       "    <tr>\n",
       "      <th>1350</th>\n",
       "      <td>final_layer.lora.b_matrix</td>\n",
       "      <td>True</td>\n",
       "      <td>804112</td>\n",
       "    </tr>\n",
       "  </tbody>\n",
       "</table>\n",
       "<p>1351 rows × 3 columns</p>\n",
       "</div>"
      ],
      "text/plain": [
       "                            layer_name  requires_grad    params\n",
       "0                       tok_emb.weight          False  80411200\n",
       "1                       pos_emb.weight          False   1638400\n",
       "2     transformers.layer_0.norm1.scale          False      1600\n",
       "3     transformers.layer_0.norm1.shift          False      1600\n",
       "4     transformers.layer_0.norm2.scale          False      1600\n",
       "...                                ...            ...       ...\n",
       "1346                  final_norm.scale          False      1600\n",
       "1347                  final_norm.shift          False      1600\n",
       "1348   final_layer.linear_layer.weight          False  80411200\n",
       "1349         final_layer.lora.a_matrix           True     25600\n",
       "1350         final_layer.lora.b_matrix           True    804112\n",
       "\n",
       "[1351 rows x 3 columns]"
      ]
     },
     "execution_count": 24,
     "metadata": {},
     "output_type": "execute_result"
    }
   ],
   "source": [
    "model.trainable_params()"
   ]
  },
  {
   "cell_type": "code",
   "execution_count": 25,
   "id": "7cb7b7fb",
   "metadata": {},
   "outputs": [
    {
     "name": "stderr",
     "output_type": "stream",
     "text": [
      "2025-05-14 13:28:58,624 - INFO - Epoch 1\n",
      "100%|\u001b[32m██████████\u001b[0m| 875/875 [15:25<00:00,  1.06s/it]\n",
      "2025-05-14 13:44:24,024 - INFO - Train Loss: 1.774157647541591\n",
      "100%|\u001b[34m██████████\u001b[0m| 56/56 [00:20<00:00,  2.68it/s]\n",
      "2025-05-14 13:44:44,906 - INFO - Validation Loss: 2.4618457747357234\n",
      "2025-05-14 13:44:44,912 - INFO - Epoch 2\n",
      "100%|\u001b[32m██████████\u001b[0m| 875/875 [15:21<00:00,  1.05s/it]\n",
      "2025-05-14 14:00:06,553 - INFO - Train Loss: 1.1695169074875968\n",
      "100%|\u001b[34m██████████\u001b[0m| 56/56 [00:20<00:00,  2.70it/s]\n",
      "2025-05-14 14:00:27,292 - INFO - Validation Loss: 2.747041900243078\n",
      "2025-05-14 14:00:27,298 - INFO - Epoch 3\n",
      "100%|\u001b[32m██████████\u001b[0m| 875/875 [15:23<00:00,  1.06s/it]\n",
      "2025-05-14 14:15:50,498 - INFO - Train Loss: 0.7903523408004216\n",
      "100%|\u001b[34m██████████\u001b[0m| 56/56 [00:21<00:00,  2.66it/s]\n",
      "2025-05-14 14:16:11,528 - INFO - Validation Loss: 2.9253275649888173\n"
     ]
    }
   ],
   "source": [
    "train_loss, val_loss = model.train(train_loader = train_loader, val_loader = val_loader)"
   ]
  },
  {
   "cell_type": "code",
   "execution_count": 26,
   "id": "d0004e71",
   "metadata": {},
   "outputs": [
    {
     "name": "stdout",
     "output_type": "stream",
     "text": [
      "### You are an assistant with deep expertise in Indian history. You will answer any questions related to Indian history, providing accurate and insightful information.\\n## Input:\n",
      "How do geological studies contribute to understanding history?\n",
      "## Response:\n",
      "Geological studies help trace the history of soil, rocks, and the environment where prehistoric humans lived, offering insights into the interaction between nature and human development.\n"
     ]
    }
   ],
   "source": [
    "print(train_df['instruct'].values[50])"
   ]
  },
  {
   "cell_type": "code",
   "execution_count": 34,
   "id": "2b66864c",
   "metadata": {},
   "outputs": [
    {
     "name": "stderr",
     "output_type": "stream",
     "text": [
      "2025-05-14 14:19:38,028 - INFO - Formatting prompt into alpaca style\n"
     ]
    },
    {
     "data": {
      "text/plain": [
       "'Bengali, Assamese, Oriya, and Marathi.'"
      ]
     },
     "execution_count": 34,
     "metadata": {},
     "output_type": "execute_result"
    }
   ],
   "source": [
    "model.generate('''What were some of the regional languages that experienced growth during the medieval period?''')"
   ]
  },
  {
   "cell_type": "code",
   "execution_count": 33,
   "id": "a705d933",
   "metadata": {},
   "outputs": [
    {
     "name": "stdout",
     "output_type": "stream",
     "text": [
      "### You are an assistant with deep expertise in Indian history. You will answer any questions related to Indian history, providing accurate and insightful information.\\n## Input:\n",
      " What were some of the regional languages that experienced growth during the medieval period?\n",
      "## Response:\n",
      "Hindi, Bengali, Assamese, Oriya, Marathi, and Gujarati.\n"
     ]
    }
   ],
   "source": [
    "print(val_df['instruct'].values[5])"
   ]
  },
  {
   "cell_type": "code",
   "execution_count": null,
   "id": "9049320c",
   "metadata": {},
   "outputs": [],
   "source": []
  }
 ],
 "metadata": {
  "kernelspec": {
   "display_name": "venv",
   "language": "python",
   "name": "python3"
  },
  "language_info": {
   "codemirror_mode": {
    "name": "ipython",
    "version": 3
   },
   "file_extension": ".py",
   "mimetype": "text/x-python",
   "name": "python",
   "nbconvert_exporter": "python",
   "pygments_lexer": "ipython3",
   "version": "3.12.3"
  }
 },
 "nbformat": 4,
 "nbformat_minor": 5
}
