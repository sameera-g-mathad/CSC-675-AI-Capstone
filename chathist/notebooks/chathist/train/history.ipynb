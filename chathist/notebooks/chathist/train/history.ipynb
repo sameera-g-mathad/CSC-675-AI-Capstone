{
 "cells": [
  {
   "cell_type": "code",
   "execution_count": 1,
   "id": "2d09df26",
   "metadata": {},
   "outputs": [
    {
     "name": "stderr",
     "output_type": "stream",
     "text": [
      "2025-05-12 14:10:23,349 - WARNING - data is not present in the config file, falling back to defaults!!!\n"
     ]
    }
   ],
   "source": [
    "from chathist import InstructionDataLoader,InstructionDataset, InstructionStyle, Model\n",
    "import pandas as pd"
   ]
  },
  {
   "cell_type": "code",
   "execution_count": 2,
   "id": "9a17c6b9",
   "metadata": {},
   "outputs": [],
   "source": [
    "history_df = pd.read_csv(\"hf://datasets/BashitAli/Indian_history/datasetfile.csv\")"
   ]
  },
  {
   "cell_type": "code",
   "execution_count": 3,
   "id": "3681d48f",
   "metadata": {},
   "outputs": [
    {
     "data": {
      "text/html": [
       "<div>\n",
       "<style scoped>\n",
       "    .dataframe tbody tr th:only-of-type {\n",
       "        vertical-align: middle;\n",
       "    }\n",
       "\n",
       "    .dataframe tbody tr th {\n",
       "        vertical-align: top;\n",
       "    }\n",
       "\n",
       "    .dataframe thead th {\n",
       "        text-align: right;\n",
       "    }\n",
       "</style>\n",
       "<table border=\"1\" class=\"dataframe\">\n",
       "  <thead>\n",
       "    <tr style=\"text-align: right;\">\n",
       "      <th></th>\n",
       "      <th>instruction</th>\n",
       "      <th>response</th>\n",
       "    </tr>\n",
       "  </thead>\n",
       "  <tbody>\n",
       "    <tr>\n",
       "      <th>0</th>\n",
       "      <td>What is the purpose of studying history?</td>\n",
       "      <td>History helps us understand how early humans a...</td>\n",
       "    </tr>\n",
       "    <tr>\n",
       "      <th>1</th>\n",
       "      <td>How does a historian evaluate events?</td>\n",
       "      <td>Historians assess various situations over a lo...</td>\n",
       "    </tr>\n",
       "    <tr>\n",
       "      <th>2</th>\n",
       "      <td>What is the historian's role in using myths?</td>\n",
       "      <td>Historians aim to verify facts from myths root...</td>\n",
       "    </tr>\n",
       "    <tr>\n",
       "      <th>3</th>\n",
       "      <td>How were ancient Indian historical events reco...</td>\n",
       "      <td>Ancient Indian history was recorded through a ...</td>\n",
       "    </tr>\n",
       "    <tr>\n",
       "      <th>4</th>\n",
       "      <td>Who identified the oldest civilization in the ...</td>\n",
       "      <td>Archaeologist John Marshall identified the old...</td>\n",
       "    </tr>\n",
       "  </tbody>\n",
       "</table>\n",
       "</div>"
      ],
      "text/plain": [
       "                                         instruction  \\\n",
       "0           What is the purpose of studying history?   \n",
       "1              How does a historian evaluate events?   \n",
       "2       What is the historian's role in using myths?   \n",
       "3  How were ancient Indian historical events reco...   \n",
       "4  Who identified the oldest civilization in the ...   \n",
       "\n",
       "                                            response  \n",
       "0  History helps us understand how early humans a...  \n",
       "1  Historians assess various situations over a lo...  \n",
       "2  Historians aim to verify facts from myths root...  \n",
       "3  Ancient Indian history was recorded through a ...  \n",
       "4  Archaeologist John Marshall identified the old...  "
      ]
     },
     "execution_count": 3,
     "metadata": {},
     "output_type": "execute_result"
    }
   ],
   "source": [
    "history_df.head()"
   ]
  },
  {
   "cell_type": "code",
   "execution_count": 4,
   "id": "4e82643f",
   "metadata": {},
   "outputs": [
    {
     "data": {
      "text/plain": [
       "(14908, 2)"
      ]
     },
     "execution_count": 4,
     "metadata": {},
     "output_type": "execute_result"
    }
   ],
   "source": [
    "history_df.shape"
   ]
  },
  {
   "cell_type": "code",
   "execution_count": 5,
   "id": "090ba88c",
   "metadata": {},
   "outputs": [
    {
     "data": {
      "text/plain": [
       "Index(['instruction', 'response'], dtype='object')"
      ]
     },
     "execution_count": 5,
     "metadata": {},
     "output_type": "execute_result"
    }
   ],
   "source": [
    "history_df.columns"
   ]
  },
  {
   "cell_type": "code",
   "execution_count": 6,
   "id": "58c2924d",
   "metadata": {},
   "outputs": [],
   "source": [
    "prompt = \"### You are an assistant with deep expertise in Indian history. You will answer any questions related to Indian history, providing accurate and insightful information.\\n\""
   ]
  },
  {
   "cell_type": "code",
   "execution_count": 7,
   "id": "1eeec914",
   "metadata": {},
   "outputs": [
    {
     "name": "stderr",
     "output_type": "stream",
     "text": [
      "2025-05-12 14:10:23,725 - INFO - alpaca style chosen!!\n"
     ]
    }
   ],
   "source": [
    "style = InstructionStyle.load(style='alpaca', prompt=prompt, input_query=\"## Input:\\n\", response_query=\"\\n## Response:\\n\")"
   ]
  },
  {
   "cell_type": "code",
   "execution_count": 8,
   "id": "09489b3f",
   "metadata": {},
   "outputs": [],
   "source": [
    "df = style.convert_train(history_df, input_col='instruction', response_col= 'response', output_col='instruct', new_df=True)"
   ]
  },
  {
   "cell_type": "code",
   "execution_count": 9,
   "id": "4c8a1f12",
   "metadata": {},
   "outputs": [],
   "source": [
    "train_len = 1000"
   ]
  },
  {
   "cell_type": "code",
   "execution_count": 10,
   "id": "ecac74ca",
   "metadata": {},
   "outputs": [],
   "source": [
    "train_df = df.iloc[:train_len, :]\n",
    "val_df = df.iloc[train_len:, :]"
   ]
  },
  {
   "cell_type": "code",
   "execution_count": 11,
   "id": "0e31ec62",
   "metadata": {},
   "outputs": [
    {
     "data": {
      "text/html": [
       "<div>\n",
       "<style scoped>\n",
       "    .dataframe tbody tr th:only-of-type {\n",
       "        vertical-align: middle;\n",
       "    }\n",
       "\n",
       "    .dataframe tbody tr th {\n",
       "        vertical-align: top;\n",
       "    }\n",
       "\n",
       "    .dataframe thead th {\n",
       "        text-align: right;\n",
       "    }\n",
       "</style>\n",
       "<table border=\"1\" class=\"dataframe\">\n",
       "  <thead>\n",
       "    <tr style=\"text-align: right;\">\n",
       "      <th></th>\n",
       "      <th>instruct</th>\n",
       "    </tr>\n",
       "  </thead>\n",
       "  <tbody>\n",
       "    <tr>\n",
       "      <th>0</th>\n",
       "      <td>### You are an assistant with deep expertise i...</td>\n",
       "    </tr>\n",
       "    <tr>\n",
       "      <th>1</th>\n",
       "      <td>### You are an assistant with deep expertise i...</td>\n",
       "    </tr>\n",
       "    <tr>\n",
       "      <th>2</th>\n",
       "      <td>### You are an assistant with deep expertise i...</td>\n",
       "    </tr>\n",
       "    <tr>\n",
       "      <th>3</th>\n",
       "      <td>### You are an assistant with deep expertise i...</td>\n",
       "    </tr>\n",
       "    <tr>\n",
       "      <th>4</th>\n",
       "      <td>### You are an assistant with deep expertise i...</td>\n",
       "    </tr>\n",
       "    <tr>\n",
       "      <th>...</th>\n",
       "      <td>...</td>\n",
       "    </tr>\n",
       "    <tr>\n",
       "      <th>995</th>\n",
       "      <td>### You are an assistant with deep expertise i...</td>\n",
       "    </tr>\n",
       "    <tr>\n",
       "      <th>996</th>\n",
       "      <td>### You are an assistant with deep expertise i...</td>\n",
       "    </tr>\n",
       "    <tr>\n",
       "      <th>997</th>\n",
       "      <td>### You are an assistant with deep expertise i...</td>\n",
       "    </tr>\n",
       "    <tr>\n",
       "      <th>998</th>\n",
       "      <td>### You are an assistant with deep expertise i...</td>\n",
       "    </tr>\n",
       "    <tr>\n",
       "      <th>999</th>\n",
       "      <td>### You are an assistant with deep expertise i...</td>\n",
       "    </tr>\n",
       "  </tbody>\n",
       "</table>\n",
       "<p>1000 rows × 1 columns</p>\n",
       "</div>"
      ],
      "text/plain": [
       "                                              instruct\n",
       "0    ### You are an assistant with deep expertise i...\n",
       "1    ### You are an assistant with deep expertise i...\n",
       "2    ### You are an assistant with deep expertise i...\n",
       "3    ### You are an assistant with deep expertise i...\n",
       "4    ### You are an assistant with deep expertise i...\n",
       "..                                                 ...\n",
       "995  ### You are an assistant with deep expertise i...\n",
       "996  ### You are an assistant with deep expertise i...\n",
       "997  ### You are an assistant with deep expertise i...\n",
       "998  ### You are an assistant with deep expertise i...\n",
       "999  ### You are an assistant with deep expertise i...\n",
       "\n",
       "[1000 rows x 1 columns]"
      ]
     },
     "execution_count": 11,
     "metadata": {},
     "output_type": "execute_result"
    }
   ],
   "source": [
    "train_df"
   ]
  },
  {
   "cell_type": "code",
   "execution_count": 12,
   "id": "eb4e1888",
   "metadata": {},
   "outputs": [
    {
     "name": "stdout",
     "output_type": "stream",
     "text": [
      "### You are an assistant with deep expertise in Indian history. You will answer any questions related to Indian history, providing accurate and insightful information.\n",
      "## Input:\n",
      "What is the purpose of studying history?\n",
      "## Response:\n",
      "History helps us understand how early humans adapted to their environment and developed civilizations. It involves analyzing society, economy, and culture over time to understand their impact.\n"
     ]
    }
   ],
   "source": [
    "print(train_df['instruct'].values[0])"
   ]
  },
  {
   "cell_type": "code",
   "execution_count": 13,
   "id": "27753c3d",
   "metadata": {},
   "outputs": [
    {
     "data": {
      "text/html": [
       "<div>\n",
       "<style scoped>\n",
       "    .dataframe tbody tr th:only-of-type {\n",
       "        vertical-align: middle;\n",
       "    }\n",
       "\n",
       "    .dataframe tbody tr th {\n",
       "        vertical-align: top;\n",
       "    }\n",
       "\n",
       "    .dataframe thead th {\n",
       "        text-align: right;\n",
       "    }\n",
       "</style>\n",
       "<table border=\"1\" class=\"dataframe\">\n",
       "  <thead>\n",
       "    <tr style=\"text-align: right;\">\n",
       "      <th></th>\n",
       "      <th>instruct</th>\n",
       "    </tr>\n",
       "  </thead>\n",
       "  <tbody>\n",
       "    <tr>\n",
       "      <th>1000</th>\n",
       "      <td>### You are an assistant with deep expertise i...</td>\n",
       "    </tr>\n",
       "    <tr>\n",
       "      <th>1001</th>\n",
       "      <td>### You are an assistant with deep expertise i...</td>\n",
       "    </tr>\n",
       "    <tr>\n",
       "      <th>1002</th>\n",
       "      <td>### You are an assistant with deep expertise i...</td>\n",
       "    </tr>\n",
       "    <tr>\n",
       "      <th>1003</th>\n",
       "      <td>### You are an assistant with deep expertise i...</td>\n",
       "    </tr>\n",
       "    <tr>\n",
       "      <th>1004</th>\n",
       "      <td>### You are an assistant with deep expertise i...</td>\n",
       "    </tr>\n",
       "    <tr>\n",
       "      <th>...</th>\n",
       "      <td>...</td>\n",
       "    </tr>\n",
       "    <tr>\n",
       "      <th>14903</th>\n",
       "      <td>### You are an assistant with deep expertise i...</td>\n",
       "    </tr>\n",
       "    <tr>\n",
       "      <th>14904</th>\n",
       "      <td>### You are an assistant with deep expertise i...</td>\n",
       "    </tr>\n",
       "    <tr>\n",
       "      <th>14905</th>\n",
       "      <td>### You are an assistant with deep expertise i...</td>\n",
       "    </tr>\n",
       "    <tr>\n",
       "      <th>14906</th>\n",
       "      <td>### You are an assistant with deep expertise i...</td>\n",
       "    </tr>\n",
       "    <tr>\n",
       "      <th>14907</th>\n",
       "      <td>### You are an assistant with deep expertise i...</td>\n",
       "    </tr>\n",
       "  </tbody>\n",
       "</table>\n",
       "<p>13908 rows × 1 columns</p>\n",
       "</div>"
      ],
      "text/plain": [
       "                                                instruct\n",
       "1000   ### You are an assistant with deep expertise i...\n",
       "1001   ### You are an assistant with deep expertise i...\n",
       "1002   ### You are an assistant with deep expertise i...\n",
       "1003   ### You are an assistant with deep expertise i...\n",
       "1004   ### You are an assistant with deep expertise i...\n",
       "...                                                  ...\n",
       "14903  ### You are an assistant with deep expertise i...\n",
       "14904  ### You are an assistant with deep expertise i...\n",
       "14905  ### You are an assistant with deep expertise i...\n",
       "14906  ### You are an assistant with deep expertise i...\n",
       "14907  ### You are an assistant with deep expertise i...\n",
       "\n",
       "[13908 rows x 1 columns]"
      ]
     },
     "execution_count": 13,
     "metadata": {},
     "output_type": "execute_result"
    }
   ],
   "source": [
    "val_df"
   ]
  },
  {
   "cell_type": "code",
   "execution_count": 14,
   "id": "cc2214a1",
   "metadata": {},
   "outputs": [
    {
     "name": "stdout",
     "output_type": "stream",
     "text": [
      "### You are an assistant with deep expertise in Indian history. You will answer any questions related to Indian history, providing accurate and insightful information.\n",
      "## Input:\n",
      " What social changes occurred in the later Vedic phase regarding women and restrictions on them?\n",
      "## Response:\n",
      "In the later Vedic phase, some restrictions on women appeared, with texts counting women as a vice and limiting their participation in public meetings.\n"
     ]
    }
   ],
   "source": [
    "print(val_df['instruct'].values[0])"
   ]
  },
  {
   "cell_type": "code",
   "execution_count": 15,
   "id": "68458b70",
   "metadata": {},
   "outputs": [
    {
     "name": "stderr",
     "output_type": "stream",
     "text": [
      "2025-05-12 14:10:23,872 - INFO - Setting tokenizer using tiktoken with encoding: gpt2\n"
     ]
    }
   ],
   "source": [
    "train_dataset = InstructionDataset(train_df['instruct'].tolist())"
   ]
  },
  {
   "cell_type": "code",
   "execution_count": 16,
   "id": "c5bf387a",
   "metadata": {},
   "outputs": [],
   "source": [
    "val_dataset = InstructionDataset(val_df['instruct'].tolist())"
   ]
  },
  {
   "cell_type": "code",
   "execution_count": 17,
   "id": "8b87297f",
   "metadata": {},
   "outputs": [],
   "source": [
    "train_loader = InstructionDataLoader().load(dataset = train_dataset)"
   ]
  },
  {
   "cell_type": "code",
   "execution_count": 18,
   "id": "46b952b4",
   "metadata": {},
   "outputs": [],
   "source": [
    "val_loader = InstructionDataLoader().load(dataset = val_dataset)"
   ]
  },
  {
   "cell_type": "code",
   "execution_count": 19,
   "id": "3db267fd",
   "metadata": {},
   "outputs": [],
   "source": [
    "data = iter(val_loader)"
   ]
  },
  {
   "cell_type": "code",
   "execution_count": 20,
   "id": "6bb37dc7",
   "metadata": {},
   "outputs": [],
   "source": [
    "first_batch = next(data)"
   ]
  },
  {
   "cell_type": "code",
   "execution_count": 21,
   "id": "d357e590",
   "metadata": {},
   "outputs": [
    {
     "data": {
      "text/plain": [
       "tensor([21017,   921,   389,   281,  8796,   351,  2769, 13572,   287,  3942,\n",
       "         2106,    13,   921,   481,  3280,   597,  2683,  3519,   284,  3942,\n",
       "         2106,    11,  4955,  7187,   290, 41696,  1321,    13,   198,  2235,\n",
       "        23412,    25,   198,  1867,  1919,  2458,  5091,   287,   262,  1568,\n",
       "        36101,   291,  7108,  5115,  1466,   290,  8733,   319,   606,    30,\n",
       "          198,  2235, 18261,    25,   198,   818,   262,  1568, 36101,   291,\n",
       "         7108,    11,   617,  8733,   319,  1466,  4120,    11,   351, 13399,\n",
       "        14143,  1466,   355,   257,  7927,   290, 15637,   511, 10270,   287,\n",
       "         1171,  8292,    13, 50256, 50256, 50256, 50256, 50256, 50256, 50256,\n",
       "        50256, 50256, 50256, 50256, 50256, 50256, 50256, 50256, 50256, 50256,\n",
       "        50256, 50256, 50256, 50256, 50256, 50256, 50256, 50256, 50256, 50256,\n",
       "        50256, 50256, 50256, 50256, 50256, 50256, 50256, 50256, 50256, 50256,\n",
       "        50256, 50256, 50256, 50256, 50256, 50256, 50256, 50256, 50256, 50256,\n",
       "        50256, 50256, 50256, 50256, 50256, 50256, 50256, 50256, 50256, 50256,\n",
       "        50256, 50256, 50256], dtype=torch.int32)"
      ]
     },
     "execution_count": 21,
     "metadata": {},
     "output_type": "execute_result"
    }
   ],
   "source": [
    "first_batch[0][0]"
   ]
  },
  {
   "cell_type": "code",
   "execution_count": 22,
   "id": "61028cf1",
   "metadata": {},
   "outputs": [
    {
     "data": {
      "text/plain": [
       "tensor([ -100,  -100,  -100,  -100,  -100,  -100,  -100,  -100,  -100,  -100,\n",
       "         -100,  -100,  -100,  -100,  -100,  -100,  -100,  -100,  -100,  -100,\n",
       "         -100,  -100,  -100,  -100,  -100,  -100,  -100,  -100,  -100,  -100,\n",
       "         -100,  -100,  -100,  -100,  -100,  -100,  -100,  -100,  -100,  -100,\n",
       "         -100,  -100,  -100,  -100,  -100,  -100,  -100,  -100,  -100,  -100,\n",
       "         -100,  -100,  -100,  -100,   818,   262,  1568, 36101,   291,  7108,\n",
       "           11,   617,  8733,   319,  1466,  4120,    11,   351, 13399, 14143,\n",
       "         1466,   355,   257,  7927,   290, 15637,   511, 10270,   287,  1171,\n",
       "         8292,    13, 50256,  -100,  -100,  -100,  -100,  -100,  -100,  -100,\n",
       "         -100,  -100,  -100,  -100,  -100,  -100,  -100,  -100,  -100,  -100,\n",
       "         -100,  -100,  -100,  -100,  -100,  -100,  -100,  -100,  -100,  -100,\n",
       "         -100,  -100,  -100,  -100,  -100,  -100,  -100,  -100,  -100,  -100,\n",
       "         -100,  -100,  -100,  -100,  -100,  -100,  -100,  -100,  -100,  -100,\n",
       "         -100,  -100,  -100,  -100,  -100,  -100,  -100,  -100,  -100,  -100,\n",
       "         -100,  -100,  -100], dtype=torch.int32)"
      ]
     },
     "execution_count": 22,
     "metadata": {},
     "output_type": "execute_result"
    }
   ],
   "source": [
    "first_batch[1][0]"
   ]
  },
  {
   "cell_type": "code",
   "execution_count": 23,
   "id": "5218f6d1",
   "metadata": {},
   "outputs": [
    {
     "name": "stderr",
     "output_type": "stream",
     "text": [
      "2025-05-12 14:10:26,723 - INFO - Repo: openai-community/gpt2.\n",
      "2025-05-12 14:10:26,725 - INFO - openai-community/gpt2 exists in /home/smathad/ai_capstone/chathist/models/pretrained/gpt2. Skipping Download...\n",
      "2025-05-12 14:10:27,137 - INFO - Loading weights into model.\n",
      "2025-05-12 14:10:27,206 - INFO - Layer: 1\n",
      "2025-05-12 14:10:27,208 - INFO - loading norm1 weights and bias\n",
      "2025-05-12 14:10:27,209 - INFO - loading norm2 weights and bias\n",
      "2025-05-12 14:10:27,209 - INFO - loading ff weights and bias\n",
      "2025-05-12 14:10:27,225 - INFO - loading attention weights and bias\n",
      "2025-05-12 14:10:27,261 - INFO - Layer: 2\n",
      "2025-05-12 14:10:27,262 - INFO - loading norm1 weights and bias\n",
      "2025-05-12 14:10:27,263 - INFO - loading norm2 weights and bias\n",
      "2025-05-12 14:10:27,264 - INFO - loading ff weights and bias\n",
      "2025-05-12 14:10:27,282 - INFO - loading attention weights and bias\n",
      "2025-05-12 14:10:27,308 - INFO - Layer: 3\n",
      "2025-05-12 14:10:27,308 - INFO - loading norm1 weights and bias\n",
      "2025-05-12 14:10:27,309 - INFO - loading norm2 weights and bias\n",
      "2025-05-12 14:10:27,311 - INFO - loading ff weights and bias\n",
      "2025-05-12 14:10:27,318 - INFO - loading attention weights and bias\n",
      "2025-05-12 14:10:27,322 - INFO - Layer: 4\n",
      "2025-05-12 14:10:27,323 - INFO - loading norm1 weights and bias\n",
      "2025-05-12 14:10:27,324 - INFO - loading norm2 weights and bias\n",
      "2025-05-12 14:10:27,325 - INFO - loading ff weights and bias\n",
      "2025-05-12 14:10:27,334 - INFO - loading attention weights and bias\n",
      "2025-05-12 14:10:27,338 - INFO - Layer: 5\n",
      "2025-05-12 14:10:27,339 - INFO - loading norm1 weights and bias\n",
      "2025-05-12 14:10:27,342 - INFO - loading norm2 weights and bias\n",
      "2025-05-12 14:10:27,343 - INFO - loading ff weights and bias\n",
      "2025-05-12 14:10:27,352 - INFO - loading attention weights and bias\n",
      "2025-05-12 14:10:27,357 - INFO - Layer: 6\n",
      "2025-05-12 14:10:27,357 - INFO - loading norm1 weights and bias\n",
      "2025-05-12 14:10:27,358 - INFO - loading norm2 weights and bias\n",
      "2025-05-12 14:10:27,359 - INFO - loading ff weights and bias\n",
      "2025-05-12 14:10:27,367 - INFO - loading attention weights and bias\n",
      "2025-05-12 14:10:27,372 - INFO - Layer: 7\n",
      "2025-05-12 14:10:27,372 - INFO - loading norm1 weights and bias\n",
      "2025-05-12 14:10:27,374 - INFO - loading norm2 weights and bias\n",
      "2025-05-12 14:10:27,374 - INFO - loading ff weights and bias\n",
      "2025-05-12 14:10:27,384 - INFO - loading attention weights and bias\n",
      "2025-05-12 14:10:27,388 - INFO - Layer: 8\n",
      "2025-05-12 14:10:27,389 - INFO - loading norm1 weights and bias\n",
      "2025-05-12 14:10:27,390 - INFO - loading norm2 weights and bias\n",
      "2025-05-12 14:10:27,391 - INFO - loading ff weights and bias\n",
      "2025-05-12 14:10:27,401 - INFO - loading attention weights and bias\n",
      "2025-05-12 14:10:27,404 - INFO - Layer: 9\n",
      "2025-05-12 14:10:27,405 - INFO - loading norm1 weights and bias\n",
      "2025-05-12 14:10:27,405 - INFO - loading norm2 weights and bias\n",
      "2025-05-12 14:10:27,406 - INFO - loading ff weights and bias\n",
      "2025-05-12 14:10:27,414 - INFO - loading attention weights and bias\n",
      "2025-05-12 14:10:27,417 - INFO - Layer: 10\n",
      "2025-05-12 14:10:27,418 - INFO - loading norm1 weights and bias\n",
      "2025-05-12 14:10:27,418 - INFO - loading norm2 weights and bias\n",
      "2025-05-12 14:10:27,419 - INFO - loading ff weights and bias\n",
      "2025-05-12 14:10:27,426 - INFO - loading attention weights and bias\n",
      "2025-05-12 14:10:27,430 - INFO - Layer: 11\n",
      "2025-05-12 14:10:27,430 - INFO - loading norm1 weights and bias\n",
      "2025-05-12 14:10:27,431 - INFO - loading norm2 weights and bias\n",
      "2025-05-12 14:10:27,431 - INFO - loading ff weights and bias\n",
      "2025-05-12 14:10:27,440 - INFO - loading attention weights and bias\n",
      "2025-05-12 14:10:27,443 - INFO - Layer: 12\n",
      "2025-05-12 14:10:27,444 - INFO - loading norm1 weights and bias\n",
      "2025-05-12 14:10:27,444 - INFO - loading norm2 weights and bias\n",
      "2025-05-12 14:10:27,445 - INFO - loading ff weights and bias\n",
      "2025-05-12 14:10:27,453 - INFO - loading attention weights and bias\n"
     ]
    }
   ],
   "source": [
    "model = Model()"
   ]
  },
  {
   "cell_type": "code",
   "execution_count": 24,
   "id": "99f84052",
   "metadata": {},
   "outputs": [
    {
     "data": {
      "text/plain": [
       "163037184"
      ]
     },
     "execution_count": 24,
     "metadata": {},
     "output_type": "execute_result"
    }
   ],
   "source": [
    "model._model.get_model_params()"
   ]
  },
  {
   "cell_type": "code",
   "execution_count": 26,
   "id": "7cb7b7fb",
   "metadata": {},
   "outputs": [
    {
     "name": "stderr",
     "output_type": "stream",
     "text": [
      "2025-05-12 14:10:34,885 - INFO - Epoch: 0, Loss: 3.262953354466346\n",
      "2025-05-12 14:10:41,848 - INFO - Epoch: 1, Loss: 3.063609650058131\n",
      "2025-05-12 14:10:48,804 - INFO - Epoch: 2, Loss: 2.9222787464818647\n",
      "2025-05-12 14:10:55,767 - INFO - Epoch: 3, Loss: 2.842997531737051\n",
      "2025-05-12 14:11:02,745 - INFO - Epoch: 4, Loss: 2.786724825059214\n",
      "2025-05-12 14:11:09,740 - INFO - Epoch: 5, Loss: 2.754444237678282\n",
      "2025-05-12 14:11:16,729 - INFO - Epoch: 6, Loss: 2.714534286529787\n",
      "2025-05-12 14:11:23,731 - INFO - Epoch: 7, Loss: 2.6875337900653964\n",
      "2025-05-12 14:11:30,741 - INFO - Epoch: 8, Loss: 2.650554137845193\n",
      "2025-05-12 14:11:37,758 - INFO - Epoch: 9, Loss: 2.628363493950136\n"
     ]
    }
   ],
   "source": [
    "train_loss, val_loss = model.train(train_loader = train_loader, val_loader = val_loader)"
   ]
  },
  {
   "cell_type": "code",
   "execution_count": 31,
   "id": "d0004e71",
   "metadata": {},
   "outputs": [
    {
     "name": "stdout",
     "output_type": "stream",
     "text": [
      "### You are an assistant with deep expertise in Indian history. You will answer any questions related to Indian history, providing accurate and insightful information.\n",
      "## Input:\n",
      "How do geological studies contribute to understanding history?\n",
      "## Response:\n",
      "Geological studies help trace the history of soil, rocks, and the environment where prehistoric humans lived, offering insights into the interaction between nature and human development.\n"
     ]
    }
   ],
   "source": [
    "print(train_df['instruct'].values[50])"
   ]
  },
  {
   "cell_type": "code",
   "execution_count": 32,
   "id": "2b66864c",
   "metadata": {},
   "outputs": [
    {
     "name": "stdout",
     "output_type": "stream",
     "text": [
      "### You are an assistant with deep expertise in Indian history. You will answer any questions related to Indian history, providing accurate and insightful information.\n",
      "## Input:\n",
      "How do geological studies contribute to understanding history?\n",
      "## Response:\n",
      "Geological studies provide valuable insights into the past, present, and future. They provide insights into the past, present, and future of the Indian economy\n"
     ]
    }
   ],
   "source": [
    "print(model.generate('''### You are an assistant with deep expertise in Indian history. You will answer any questions related to Indian history, providing accurate and insightful information.\n",
    "## Input:\n",
    "How do geological studies contribute to understanding history?\n",
    "## Response:\n",
    "'''))"
   ]
  },
  {
   "cell_type": "code",
   "execution_count": null,
   "id": "a705d933",
   "metadata": {},
   "outputs": [],
   "source": []
  }
 ],
 "metadata": {
  "kernelspec": {
   "display_name": "venv",
   "language": "python",
   "name": "python3"
  },
  "language_info": {
   "codemirror_mode": {
    "name": "ipython",
    "version": 3
   },
   "file_extension": ".py",
   "mimetype": "text/x-python",
   "name": "python",
   "nbconvert_exporter": "python",
   "pygments_lexer": "ipython3",
   "version": "3.12.3"
  }
 },
 "nbformat": 4,
 "nbformat_minor": 5
}
