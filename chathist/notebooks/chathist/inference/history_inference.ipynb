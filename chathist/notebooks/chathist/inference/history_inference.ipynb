{
 "cells": [
  {
   "cell_type": "code",
   "execution_count": 1,
   "id": "024a1ee4",
   "metadata": {},
   "outputs": [],
   "source": [
    "from chathist import Model"
   ]
  },
  {
   "cell_type": "code",
   "execution_count": 2,
   "id": "538e3177",
   "metadata": {},
   "outputs": [
    {
     "name": "stderr",
     "output_type": "stream",
     "text": [
      "2025-05-14 14:26:25,997 - INFO - Setting tokenizer using tiktoken with encoding: gpt2\n",
      "2025-05-14 14:26:26,956 - INFO - alpaca style chosen!!\n",
      "2025-05-14 14:26:27,524 - INFO - Using LoRA weights for ff layers!!\n",
      "2025-05-14 14:26:27,887 - INFO - Using LoRA weights for multi head layers!!\n",
      "2025-05-14 14:26:28,019 - INFO - Using LoRA weights for ff layers!!\n",
      "2025-05-14 14:26:28,100 - INFO - Using LoRA weights for multi head layers!!\n",
      "2025-05-14 14:26:28,225 - INFO - Using LoRA weights for ff layers!!\n",
      "2025-05-14 14:26:28,303 - INFO - Using LoRA weights for multi head layers!!\n",
      "2025-05-14 14:26:28,415 - INFO - Using LoRA weights for ff layers!!\n",
      "2025-05-14 14:26:28,497 - INFO - Using LoRA weights for multi head layers!!\n",
      "2025-05-14 14:26:28,609 - INFO - Using LoRA weights for ff layers!!\n",
      "2025-05-14 14:26:28,684 - INFO - Using LoRA weights for multi head layers!!\n",
      "2025-05-14 14:26:28,795 - INFO - Using LoRA weights for ff layers!!\n",
      "2025-05-14 14:26:28,868 - INFO - Using LoRA weights for multi head layers!!\n",
      "2025-05-14 14:26:28,980 - INFO - Using LoRA weights for ff layers!!\n",
      "2025-05-14 14:26:29,053 - INFO - Using LoRA weights for multi head layers!!\n",
      "2025-05-14 14:26:29,165 - INFO - Using LoRA weights for ff layers!!\n",
      "2025-05-14 14:26:29,239 - INFO - Using LoRA weights for multi head layers!!\n",
      "2025-05-14 14:26:29,350 - INFO - Using LoRA weights for ff layers!!\n",
      "2025-05-14 14:26:29,423 - INFO - Using LoRA weights for multi head layers!!\n",
      "2025-05-14 14:26:29,534 - INFO - Using LoRA weights for ff layers!!\n",
      "2025-05-14 14:26:29,609 - INFO - Using LoRA weights for multi head layers!!\n",
      "2025-05-14 14:26:29,734 - INFO - Using LoRA weights for ff layers!!\n",
      "2025-05-14 14:26:29,812 - INFO - Using LoRA weights for multi head layers!!\n",
      "2025-05-14 14:26:29,928 - INFO - Using LoRA weights for ff layers!!\n",
      "2025-05-14 14:26:30,002 - INFO - Using LoRA weights for multi head layers!!\n",
      "2025-05-14 14:26:30,114 - INFO - Using LoRA weights for ff layers!!\n",
      "2025-05-14 14:26:30,186 - INFO - Using LoRA weights for multi head layers!!\n",
      "2025-05-14 14:26:30,299 - INFO - Using LoRA weights for ff layers!!\n",
      "2025-05-14 14:26:30,371 - INFO - Using LoRA weights for multi head layers!!\n",
      "2025-05-14 14:26:30,484 - INFO - Using LoRA weights for ff layers!!\n",
      "2025-05-14 14:26:30,557 - INFO - Using LoRA weights for multi head layers!!\n",
      "2025-05-14 14:26:30,670 - INFO - Using LoRA weights for ff layers!!\n",
      "2025-05-14 14:26:30,742 - INFO - Using LoRA weights for multi head layers!!\n",
      "2025-05-14 14:26:30,856 - INFO - Using LoRA weights for ff layers!!\n",
      "2025-05-14 14:26:30,931 - INFO - Using LoRA weights for multi head layers!!\n",
      "2025-05-14 14:26:31,043 - INFO - Using LoRA weights for ff layers!!\n",
      "2025-05-14 14:26:31,115 - INFO - Using LoRA weights for multi head layers!!\n",
      "2025-05-14 14:26:31,228 - INFO - Using LoRA weights for ff layers!!\n",
      "2025-05-14 14:26:31,307 - INFO - Using LoRA weights for multi head layers!!\n",
      "2025-05-14 14:26:31,421 - INFO - Using LoRA weights for ff layers!!\n",
      "2025-05-14 14:26:31,494 - INFO - Using LoRA weights for multi head layers!!\n",
      "2025-05-14 14:26:31,607 - INFO - Using LoRA weights for ff layers!!\n",
      "2025-05-14 14:26:31,680 - INFO - Using LoRA weights for multi head layers!!\n",
      "2025-05-14 14:26:31,792 - INFO - Using LoRA weights for ff layers!!\n",
      "2025-05-14 14:26:31,866 - INFO - Using LoRA weights for multi head layers!!\n",
      "2025-05-14 14:26:31,979 - INFO - Using LoRA weights for ff layers!!\n",
      "2025-05-14 14:26:32,052 - INFO - Using LoRA weights for multi head layers!!\n",
      "2025-05-14 14:26:32,164 - INFO - Using LoRA weights for ff layers!!\n",
      "2025-05-14 14:26:32,238 - INFO - Using LoRA weights for multi head layers!!\n",
      "2025-05-14 14:26:32,351 - INFO - Using LoRA weights for ff layers!!\n",
      "2025-05-14 14:26:32,425 - INFO - Using LoRA weights for multi head layers!!\n",
      "2025-05-14 14:26:32,546 - INFO - Using LoRA weights for ff layers!!\n",
      "2025-05-14 14:26:32,623 - INFO - Using LoRA weights for multi head layers!!\n",
      "2025-05-14 14:26:32,742 - INFO - Using LoRA weights for ff layers!!\n",
      "2025-05-14 14:26:32,818 - INFO - Using LoRA weights for multi head layers!!\n",
      "2025-05-14 14:26:32,937 - INFO - Using LoRA weights for ff layers!!\n",
      "2025-05-14 14:26:33,013 - INFO - Using LoRA weights for multi head layers!!\n",
      "2025-05-14 14:26:33,131 - INFO - Using LoRA weights for ff layers!!\n",
      "2025-05-14 14:26:33,207 - INFO - Using LoRA weights for multi head layers!!\n",
      "2025-05-14 14:26:33,325 - INFO - Using LoRA weights for ff layers!!\n",
      "2025-05-14 14:26:33,401 - INFO - Using LoRA weights for multi head layers!!\n",
      "2025-05-14 14:26:33,520 - INFO - Using LoRA weights for ff layers!!\n",
      "2025-05-14 14:26:33,595 - INFO - Using LoRA weights for multi head layers!!\n",
      "2025-05-14 14:26:33,712 - INFO - Using LoRA weights for ff layers!!\n",
      "2025-05-14 14:26:33,788 - INFO - Using LoRA weights for multi head layers!!\n",
      "2025-05-14 14:26:33,906 - INFO - Using LoRA weights for ff layers!!\n",
      "2025-05-14 14:26:33,982 - INFO - Using LoRA weights for multi head layers!!\n",
      "2025-05-14 14:26:34,100 - INFO - Using LoRA weights for ff layers!!\n",
      "2025-05-14 14:26:34,177 - INFO - Using LoRA weights for multi head layers!!\n",
      "2025-05-14 14:26:34,296 - INFO - Using LoRA weights for ff layers!!\n",
      "2025-05-14 14:26:34,376 - INFO - Using LoRA weights for multi head layers!!\n",
      "2025-05-14 14:26:34,493 - INFO - Using LoRA weights for ff layers!!\n",
      "2025-05-14 14:26:34,570 - INFO - Using LoRA weights for multi head layers!!\n",
      "2025-05-14 14:26:34,688 - INFO - Using LoRA weights for ff layers!!\n",
      "2025-05-14 14:26:34,763 - INFO - Using LoRA weights for multi head layers!!\n",
      "2025-05-14 14:26:34,881 - INFO - Using LoRA weights for ff layers!!\n",
      "2025-05-14 14:26:34,957 - INFO - Using LoRA weights for multi head layers!!\n",
      "2025-05-14 14:26:35,073 - INFO - Using LoRA weights for ff layers!!\n",
      "2025-05-14 14:26:35,147 - INFO - Using LoRA weights for multi head layers!!\n",
      "2025-05-14 14:26:35,261 - INFO - Using LoRA weights for ff layers!!\n",
      "2025-05-14 14:26:35,335 - INFO - Using LoRA weights for multi head layers!!\n",
      "2025-05-14 14:26:35,450 - INFO - Using LoRA weights for ff layers!!\n",
      "2025-05-14 14:26:35,524 - INFO - Using LoRA weights for multi head layers!!\n",
      "2025-05-14 14:26:35,639 - INFO - Using LoRA weights for ff layers!!\n",
      "2025-05-14 14:26:35,713 - INFO - Using LoRA weights for multi head layers!!\n",
      "2025-05-14 14:26:35,828 - INFO - Using LoRA weights for ff layers!!\n",
      "2025-05-14 14:26:35,902 - INFO - Using LoRA weights for multi head layers!!\n",
      "2025-05-14 14:26:36,017 - INFO - Using LoRA weights for ff layers!!\n",
      "2025-05-14 14:26:36,091 - INFO - Using LoRA weights for multi head layers!!\n",
      "2025-05-14 14:26:36,207 - INFO - Using LoRA weights for ff layers!!\n",
      "2025-05-14 14:26:36,281 - INFO - Using LoRA weights for multi head layers!!\n",
      "2025-05-14 14:26:36,397 - INFO - Using LoRA weights for ff layers!!\n",
      "2025-05-14 14:26:36,471 - INFO - Using LoRA weights for multi head layers!!\n",
      "2025-05-14 14:26:36,586 - INFO - Using LoRA weights for ff layers!!\n",
      "2025-05-14 14:26:36,660 - INFO - Using LoRA weights for multi head layers!!\n",
      "2025-05-14 14:26:36,775 - INFO - Using LoRA weights for ff layers!!\n",
      "2025-05-14 14:26:36,849 - INFO - Using LoRA weights for multi head layers!!\n",
      "2025-05-14 14:26:37,277 - INFO - Using Lora for final output layer!!\n",
      "2025-05-14 14:26:37,290 - INFO - Trained model exists on saved path /home/smathad/ai_capstone/chathist/models/finetuned/gpt2-xl_indian_history_finetuned\n",
      "\n"
     ]
    }
   ],
   "source": [
    "history_model = Model()"
   ]
  },
  {
   "cell_type": "code",
   "execution_count": 7,
   "id": "7f217c27",
   "metadata": {},
   "outputs": [
    {
     "name": "stderr",
     "output_type": "stream",
     "text": [
      "2025-05-14 14:28:03,922 - INFO - Formatting prompt into alpaca style\n"
     ]
    },
    {
     "data": {
      "text/plain": [
       "'The Gangetic plains saw active cultural developments, the rise of territorial states, and the birth of religions like Jainism and Buddhism.'"
      ]
     },
     "execution_count": 7,
     "metadata": {},
     "output_type": "execute_result"
    }
   ],
   "source": [
    "history_model.generate(\"\"\"Describe the impact of the Gangetic plains on cultural and historical developments in ancient India.\"\"\")"
   ]
  },
  {
   "cell_type": "code",
   "execution_count": null,
   "id": "f1ccbcb8",
   "metadata": {},
   "outputs": [],
   "source": []
  }
 ],
 "metadata": {
  "kernelspec": {
   "display_name": "venv",
   "language": "python",
   "name": "python3"
  },
  "language_info": {
   "codemirror_mode": {
    "name": "ipython",
    "version": 3
   },
   "file_extension": ".py",
   "mimetype": "text/x-python",
   "name": "python",
   "nbconvert_exporter": "python",
   "pygments_lexer": "ipython3",
   "version": "3.12.3"
  }
 },
 "nbformat": 4,
 "nbformat_minor": 5
}
