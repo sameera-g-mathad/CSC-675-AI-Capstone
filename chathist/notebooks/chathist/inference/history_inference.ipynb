{
 "cells": [
  {
   "cell_type": "code",
   "execution_count": 1,
   "id": "024a1ee4",
   "metadata": {},
   "outputs": [],
   "source": [
    "import chathist\n",
    "from chathist import Model"
   ]
  },
  {
   "cell_type": "code",
   "execution_count": 2,
   "id": "3f58a79f",
   "metadata": {},
   "outputs": [
    {
     "name": "stderr",
     "output_type": "stream",
     "text": [
      "2025-05-16 10:52:17,335 - WARNING - train is not present in the config file, falling back to defaults!!!\n"
     ]
    }
   ],
   "source": [
    "chathist.config.load_config(config_path='conf/train', config_name=\"history\")"
   ]
  },
  {
   "cell_type": "code",
   "execution_count": 3,
   "id": "538e3177",
   "metadata": {},
   "outputs": [
    {
     "name": "stderr",
     "output_type": "stream",
     "text": [
      "2025-05-16 10:52:17,339 - INFO - Setting tokenizer using tiktoken with encoding: gpt2\n",
      "2025-05-16 10:52:17,457 - INFO - alpaca style chosen!!\n"
     ]
    },
    {
     "name": "stdout",
     "output_type": "stream",
     "text": [
      "\n",
      "Device: cpu\n",
      "\n"
     ]
    },
    {
     "name": "stderr",
     "output_type": "stream",
     "text": [
      "2025-05-16 10:52:18,342 - INFO - Using LoRA weights for ff layers!!\n",
      "2025-05-16 10:52:18,372 - INFO - Using LoRA weights for multi head layers!!\n",
      "2025-05-16 10:52:18,430 - INFO - Using LoRA weights for ff layers!!\n",
      "2025-05-16 10:52:18,459 - INFO - Using LoRA weights for multi head layers!!\n",
      "2025-05-16 10:52:18,516 - INFO - Using LoRA weights for ff layers!!\n",
      "2025-05-16 10:52:18,546 - INFO - Using LoRA weights for multi head layers!!\n",
      "2025-05-16 10:52:18,603 - INFO - Using LoRA weights for ff layers!!\n",
      "2025-05-16 10:52:18,633 - INFO - Using LoRA weights for multi head layers!!\n",
      "2025-05-16 10:52:18,690 - INFO - Using LoRA weights for ff layers!!\n",
      "2025-05-16 10:52:18,719 - INFO - Using LoRA weights for multi head layers!!\n",
      "2025-05-16 10:52:18,777 - INFO - Using LoRA weights for ff layers!!\n",
      "2025-05-16 10:52:18,806 - INFO - Using LoRA weights for multi head layers!!\n",
      "2025-05-16 10:52:18,863 - INFO - Using LoRA weights for ff layers!!\n",
      "2025-05-16 10:52:18,893 - INFO - Using LoRA weights for multi head layers!!\n",
      "2025-05-16 10:52:18,950 - INFO - Using LoRA weights for ff layers!!\n",
      "2025-05-16 10:52:18,979 - INFO - Using LoRA weights for multi head layers!!\n",
      "2025-05-16 10:52:19,044 - INFO - Using LoRA weights for ff layers!!\n",
      "2025-05-16 10:52:19,073 - INFO - Using LoRA weights for multi head layers!!\n",
      "2025-05-16 10:52:19,130 - INFO - Using LoRA weights for ff layers!!\n",
      "2025-05-16 10:52:19,160 - INFO - Using LoRA weights for multi head layers!!\n",
      "2025-05-16 10:52:19,216 - INFO - Using LoRA weights for ff layers!!\n",
      "2025-05-16 10:52:19,246 - INFO - Using LoRA weights for multi head layers!!\n",
      "2025-05-16 10:52:19,303 - INFO - Using LoRA weights for ff layers!!\n",
      "2025-05-16 10:52:19,332 - INFO - Using LoRA weights for multi head layers!!\n",
      "2025-05-16 10:52:19,390 - INFO - Using LoRA weights for ff layers!!\n",
      "2025-05-16 10:52:19,419 - INFO - Using LoRA weights for multi head layers!!\n",
      "2025-05-16 10:52:19,476 - INFO - Using LoRA weights for ff layers!!\n",
      "2025-05-16 10:52:19,505 - INFO - Using LoRA weights for multi head layers!!\n",
      "2025-05-16 10:52:19,562 - INFO - Using LoRA weights for ff layers!!\n",
      "2025-05-16 10:52:19,591 - INFO - Using LoRA weights for multi head layers!!\n",
      "2025-05-16 10:52:19,647 - INFO - Using LoRA weights for ff layers!!\n",
      "2025-05-16 10:52:19,676 - INFO - Using LoRA weights for multi head layers!!\n",
      "2025-05-16 10:52:19,733 - INFO - Using LoRA weights for ff layers!!\n",
      "2025-05-16 10:52:19,762 - INFO - Using LoRA weights for multi head layers!!\n",
      "2025-05-16 10:52:19,817 - INFO - Using LoRA weights for ff layers!!\n",
      "2025-05-16 10:52:19,846 - INFO - Using LoRA weights for multi head layers!!\n",
      "2025-05-16 10:52:19,903 - INFO - Using LoRA weights for ff layers!!\n",
      "2025-05-16 10:52:19,932 - INFO - Using LoRA weights for multi head layers!!\n",
      "2025-05-16 10:52:19,987 - INFO - Using LoRA weights for ff layers!!\n",
      "2025-05-16 10:52:20,016 - INFO - Using LoRA weights for multi head layers!!\n",
      "2025-05-16 10:52:20,072 - INFO - Using LoRA weights for ff layers!!\n",
      "2025-05-16 10:52:20,101 - INFO - Using LoRA weights for multi head layers!!\n",
      "2025-05-16 10:52:20,156 - INFO - Using LoRA weights for ff layers!!\n",
      "2025-05-16 10:52:20,184 - INFO - Using LoRA weights for multi head layers!!\n",
      "2025-05-16 10:52:20,241 - INFO - Using LoRA weights for ff layers!!\n",
      "2025-05-16 10:52:20,270 - INFO - Using LoRA weights for multi head layers!!\n",
      "2025-05-16 10:52:20,326 - INFO - Using LoRA weights for ff layers!!\n",
      "2025-05-16 10:52:20,354 - INFO - Using LoRA weights for multi head layers!!\n",
      "2025-05-16 10:52:20,411 - INFO - Using LoRA weights for ff layers!!\n",
      "2025-05-16 10:52:20,440 - INFO - Using LoRA weights for multi head layers!!\n",
      "2025-05-16 10:52:20,495 - INFO - Using LoRA weights for ff layers!!\n",
      "2025-05-16 10:52:20,524 - INFO - Using LoRA weights for multi head layers!!\n",
      "2025-05-16 10:52:20,608 - INFO - Using LoRA weights for ff layers!!\n",
      "2025-05-16 10:52:20,638 - INFO - Using LoRA weights for multi head layers!!\n",
      "2025-05-16 10:52:20,694 - INFO - Using LoRA weights for ff layers!!\n",
      "2025-05-16 10:52:20,723 - INFO - Using LoRA weights for multi head layers!!\n",
      "2025-05-16 10:52:20,778 - INFO - Using LoRA weights for ff layers!!\n",
      "2025-05-16 10:52:20,807 - INFO - Using LoRA weights for multi head layers!!\n",
      "2025-05-16 10:52:20,863 - INFO - Using LoRA weights for ff layers!!\n",
      "2025-05-16 10:52:20,892 - INFO - Using LoRA weights for multi head layers!!\n",
      "2025-05-16 10:52:20,948 - INFO - Using LoRA weights for ff layers!!\n",
      "2025-05-16 10:52:20,977 - INFO - Using LoRA weights for multi head layers!!\n",
      "2025-05-16 10:52:21,034 - INFO - Using LoRA weights for ff layers!!\n",
      "2025-05-16 10:52:21,064 - INFO - Using LoRA weights for multi head layers!!\n",
      "2025-05-16 10:52:21,120 - INFO - Using LoRA weights for ff layers!!\n",
      "2025-05-16 10:52:21,149 - INFO - Using LoRA weights for multi head layers!!\n",
      "2025-05-16 10:52:21,205 - INFO - Using LoRA weights for ff layers!!\n",
      "2025-05-16 10:52:21,233 - INFO - Using LoRA weights for multi head layers!!\n",
      "2025-05-16 10:52:21,289 - INFO - Using LoRA weights for ff layers!!\n",
      "2025-05-16 10:52:21,319 - INFO - Using LoRA weights for multi head layers!!\n",
      "2025-05-16 10:52:21,379 - INFO - Using LoRA weights for ff layers!!\n",
      "2025-05-16 10:52:21,408 - INFO - Using LoRA weights for multi head layers!!\n",
      "2025-05-16 10:52:21,466 - INFO - Using LoRA weights for ff layers!!\n",
      "2025-05-16 10:52:21,497 - INFO - Using LoRA weights for multi head layers!!\n",
      "2025-05-16 10:52:21,555 - INFO - Using LoRA weights for ff layers!!\n",
      "2025-05-16 10:52:21,584 - INFO - Using LoRA weights for multi head layers!!\n",
      "2025-05-16 10:52:21,641 - INFO - Using LoRA weights for ff layers!!\n",
      "2025-05-16 10:52:21,670 - INFO - Using LoRA weights for multi head layers!!\n",
      "2025-05-16 10:52:21,727 - INFO - Using LoRA weights for ff layers!!\n",
      "2025-05-16 10:52:21,758 - INFO - Using LoRA weights for multi head layers!!\n",
      "2025-05-16 10:52:22,080 - INFO - Using LoRA weights for ff layers!!\n",
      "2025-05-16 10:52:22,112 - INFO - Using LoRA weights for multi head layers!!\n",
      "2025-05-16 10:52:22,299 - INFO - Using LoRA weights for ff layers!!\n",
      "2025-05-16 10:52:22,344 - INFO - Using LoRA weights for multi head layers!!\n",
      "2025-05-16 10:52:22,602 - INFO - Using LoRA weights for ff layers!!\n",
      "2025-05-16 10:52:22,634 - INFO - Using LoRA weights for multi head layers!!\n",
      "2025-05-16 10:52:22,694 - INFO - Using LoRA weights for ff layers!!\n",
      "2025-05-16 10:52:22,728 - INFO - Using LoRA weights for multi head layers!!\n",
      "2025-05-16 10:52:22,789 - INFO - Using LoRA weights for ff layers!!\n",
      "2025-05-16 10:52:22,819 - INFO - Using LoRA weights for multi head layers!!\n",
      "2025-05-16 10:52:22,878 - INFO - Using LoRA weights for ff layers!!\n",
      "2025-05-16 10:52:22,911 - INFO - Using LoRA weights for multi head layers!!\n",
      "2025-05-16 10:52:22,971 - INFO - Using LoRA weights for ff layers!!\n",
      "2025-05-16 10:52:23,001 - INFO - Using LoRA weights for multi head layers!!\n",
      "2025-05-16 10:52:23,064 - INFO - Using LoRA weights for ff layers!!\n",
      "2025-05-16 10:52:23,097 - INFO - Using LoRA weights for multi head layers!!\n",
      "2025-05-16 10:52:23,322 - INFO - Using Lora for final output layer!!\n",
      "2025-05-16 10:52:23,323 - INFO - Trained model exists on saved path /Users/sameergururajmathad/Documents/CSC - 675/AI Capstone/chathist/models/finetuned/gpt2-xl_indian_history_finetuned\n",
      "\n"
     ]
    }
   ],
   "source": [
    "history_model = Model()"
   ]
  },
  {
   "cell_type": "code",
   "execution_count": 4,
   "id": "7f217c27",
   "metadata": {},
   "outputs": [
    {
     "name": "stderr",
     "output_type": "stream",
     "text": [
      "2025-05-16 10:52:50,829 - INFO - Formatting prompt into alpaca style\n"
     ]
    },
    {
     "data": {
      "text/plain": [
       "'Kalidasa, the greatest poet of gupta period, wrote Meghadutam.'"
      ]
     },
     "execution_count": 4,
     "metadata": {},
     "output_type": "execute_result"
    }
   ],
   "source": [
    "history_model.generate(\"\"\"who was the greatest poet of gupta period.\"\"\")"
   ]
  },
  {
   "cell_type": "code",
   "execution_count": null,
   "id": "f1ccbcb8",
   "metadata": {},
   "outputs": [],
   "source": []
  }
 ],
 "metadata": {
  "kernelspec": {
   "display_name": "venv",
   "language": "python",
   "name": "python3"
  },
  "language_info": {
   "codemirror_mode": {
    "name": "ipython",
    "version": 3
   },
   "file_extension": ".py",
   "mimetype": "text/x-python",
   "name": "python",
   "nbconvert_exporter": "python",
   "pygments_lexer": "ipython3",
   "version": "3.12.0"
  }
 },
 "nbformat": 4,
 "nbformat_minor": 5
}
