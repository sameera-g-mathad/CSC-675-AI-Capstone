{
 "cells": [
  {
   "cell_type": "code",
   "execution_count": 1,
   "id": "024a1ee4",
   "metadata": {},
   "outputs": [],
   "source": [
    "from chathist import Model"
   ]
  },
  {
   "cell_type": "code",
   "execution_count": 2,
   "id": "538e3177",
   "metadata": {},
   "outputs": [
    {
     "name": "stderr",
     "output_type": "stream",
     "text": [
      "2025-05-14 15:43:47,737 - INFO - Setting tokenizer using tiktoken with encoding: gpt2\n",
      "2025-05-14 15:43:48,708 - INFO - phi3 style chosen!!\n",
      "2025-05-14 15:43:49,049 - INFO - Using LoRA weights for ff layers!!\n",
      "2025-05-14 15:43:49,311 - INFO - Using LoRA weights for multi head layers!!\n",
      "2025-05-14 15:43:49,361 - INFO - Using LoRA weights for ff layers!!\n",
      "2025-05-14 15:43:49,398 - INFO - Using LoRA weights for multi head layers!!\n",
      "2025-05-14 15:43:49,452 - INFO - Using LoRA weights for ff layers!!\n",
      "2025-05-14 15:43:49,489 - INFO - Using LoRA weights for multi head layers!!\n",
      "2025-05-14 15:43:49,545 - INFO - Using LoRA weights for ff layers!!\n",
      "2025-05-14 15:43:49,580 - INFO - Using LoRA weights for multi head layers!!\n",
      "2025-05-14 15:43:49,637 - INFO - Using LoRA weights for ff layers!!\n",
      "2025-05-14 15:43:49,672 - INFO - Using LoRA weights for multi head layers!!\n",
      "2025-05-14 15:43:49,729 - INFO - Using LoRA weights for ff layers!!\n",
      "2025-05-14 15:43:49,766 - INFO - Using LoRA weights for multi head layers!!\n",
      "2025-05-14 15:43:49,822 - INFO - Using LoRA weights for ff layers!!\n",
      "2025-05-14 15:43:49,858 - INFO - Using LoRA weights for multi head layers!!\n",
      "2025-05-14 15:43:49,914 - INFO - Using LoRA weights for ff layers!!\n",
      "2025-05-14 15:43:49,950 - INFO - Using LoRA weights for multi head layers!!\n",
      "2025-05-14 15:43:50,007 - INFO - Using LoRA weights for ff layers!!\n",
      "2025-05-14 15:43:50,043 - INFO - Using LoRA weights for multi head layers!!\n",
      "2025-05-14 15:43:50,100 - INFO - Using LoRA weights for ff layers!!\n",
      "2025-05-14 15:43:50,137 - INFO - Using LoRA weights for multi head layers!!\n",
      "2025-05-14 15:43:50,195 - INFO - Using LoRA weights for ff layers!!\n",
      "2025-05-14 15:43:50,229 - INFO - Using LoRA weights for multi head layers!!\n",
      "2025-05-14 15:43:50,292 - INFO - Using LoRA weights for ff layers!!\n",
      "2025-05-14 15:43:50,328 - INFO - Using LoRA weights for multi head layers!!\n",
      "2025-05-14 15:43:50,385 - INFO - Using LoRA weights for ff layers!!\n",
      "2025-05-14 15:43:50,420 - INFO - Using LoRA weights for multi head layers!!\n",
      "2025-05-14 15:43:50,478 - INFO - Using LoRA weights for ff layers!!\n",
      "2025-05-14 15:43:50,513 - INFO - Using LoRA weights for multi head layers!!\n",
      "2025-05-14 15:43:50,570 - INFO - Using LoRA weights for ff layers!!\n",
      "2025-05-14 15:43:50,605 - INFO - Using LoRA weights for multi head layers!!\n",
      "2025-05-14 15:43:50,662 - INFO - Using LoRA weights for ff layers!!\n",
      "2025-05-14 15:43:50,697 - INFO - Using LoRA weights for multi head layers!!\n",
      "2025-05-14 15:43:50,755 - INFO - Using LoRA weights for ff layers!!\n",
      "2025-05-14 15:43:50,791 - INFO - Using LoRA weights for multi head layers!!\n",
      "2025-05-14 15:43:50,848 - INFO - Using LoRA weights for ff layers!!\n",
      "2025-05-14 15:43:50,882 - INFO - Using LoRA weights for multi head layers!!\n",
      "2025-05-14 15:43:50,939 - INFO - Using LoRA weights for ff layers!!\n",
      "2025-05-14 15:43:50,974 - INFO - Using LoRA weights for multi head layers!!\n",
      "2025-05-14 15:43:51,031 - INFO - Using LoRA weights for ff layers!!\n",
      "2025-05-14 15:43:51,078 - INFO - Using LoRA weights for multi head layers!!\n",
      "2025-05-14 15:43:51,137 - INFO - Using LoRA weights for ff layers!!\n",
      "2025-05-14 15:43:51,172 - INFO - Using LoRA weights for multi head layers!!\n",
      "2025-05-14 15:43:51,228 - INFO - Using LoRA weights for ff layers!!\n",
      "2025-05-14 15:43:51,263 - INFO - Using LoRA weights for multi head layers!!\n",
      "2025-05-14 15:43:51,320 - INFO - Using LoRA weights for ff layers!!\n",
      "2025-05-14 15:43:51,355 - INFO - Using LoRA weights for multi head layers!!\n",
      "2025-05-14 15:43:51,412 - INFO - Using LoRA weights for ff layers!!\n",
      "2025-05-14 15:43:51,447 - INFO - Using LoRA weights for multi head layers!!\n",
      "2025-05-14 15:43:51,734 - INFO - Using Lora for final output layer!!\n",
      "2025-05-14 15:43:51,743 - INFO - Trained model exists on saved path /home/smathad/ai_capstone/chathist/models/finetuned/gpt2-medium_chat_title_finetuned\n",
      "\n"
     ]
    }
   ],
   "source": [
    "history_model = Model()"
   ]
  },
  {
   "cell_type": "code",
   "execution_count": 3,
   "id": "7f217c27",
   "metadata": {},
   "outputs": [
    {
     "name": "stderr",
     "output_type": "stream",
     "text": [
      "2025-05-14 15:43:52,725 - INFO - Formatting prompt into phi3 style\n"
     ]
    },
    {
     "data": {
      "text/plain": [
       "'Gangetic Plains Impact on Cultural Development'"
      ]
     },
     "execution_count": 3,
     "metadata": {},
     "output_type": "execute_result"
    }
   ],
   "source": [
    "history_model.generate(\"\"\"Describe the impact of the Gangetic plains on cultural and historical developments in ancient India.\"\"\")"
   ]
  },
  {
   "cell_type": "code",
   "execution_count": null,
   "id": "f1ccbcb8",
   "metadata": {},
   "outputs": [],
   "source": []
  }
 ],
 "metadata": {
  "kernelspec": {
   "display_name": "venv",
   "language": "python",
   "name": "python3"
  },
  "language_info": {
   "codemirror_mode": {
    "name": "ipython",
    "version": 3
   },
   "file_extension": ".py",
   "mimetype": "text/x-python",
   "name": "python",
   "nbconvert_exporter": "python",
   "pygments_lexer": "ipython3",
   "version": "3.12.3"
  }
 },
 "nbformat": 4,
 "nbformat_minor": 5
}
