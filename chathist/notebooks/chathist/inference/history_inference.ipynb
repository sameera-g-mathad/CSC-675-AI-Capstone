{
 "cells": [
  {
   "cell_type": "code",
   "execution_count": 1,
   "id": "024a1ee4",
   "metadata": {},
   "outputs": [],
   "source": [
    "from chathist import Model"
   ]
  },
  {
   "cell_type": "code",
   "execution_count": 2,
   "id": "538e3177",
   "metadata": {},
   "outputs": [
    {
     "name": "stderr",
     "output_type": "stream",
     "text": [
      "2025-05-15 09:18:03,058 - INFO - Setting tokenizer using tiktoken with encoding: gpt2\n",
      "2025-05-15 09:18:04,081 - INFO - alpaca style chosen!!\n",
      "2025-05-15 09:18:04,670 - INFO - Using LoRA weights for ff layers!!\n",
      "2025-05-15 09:18:05,000 - INFO - Using LoRA weights for multi head layers!!\n",
      "2025-05-15 09:18:05,119 - INFO - Using LoRA weights for ff layers!!\n",
      "2025-05-15 09:18:05,200 - INFO - Using LoRA weights for multi head layers!!\n",
      "2025-05-15 09:18:05,318 - INFO - Using LoRA weights for ff layers!!\n",
      "2025-05-15 09:18:05,398 - INFO - Using LoRA weights for multi head layers!!\n",
      "2025-05-15 09:18:05,517 - INFO - Using LoRA weights for ff layers!!\n",
      "2025-05-15 09:18:05,604 - INFO - Using LoRA weights for multi head layers!!\n",
      "2025-05-15 09:18:05,723 - INFO - Using LoRA weights for ff layers!!\n",
      "2025-05-15 09:18:05,804 - INFO - Using LoRA weights for multi head layers!!\n",
      "2025-05-15 09:18:05,922 - INFO - Using LoRA weights for ff layers!!\n",
      "2025-05-15 09:18:06,002 - INFO - Using LoRA weights for multi head layers!!\n",
      "2025-05-15 09:18:06,124 - INFO - Using LoRA weights for ff layers!!\n",
      "2025-05-15 09:18:06,205 - INFO - Using LoRA weights for multi head layers!!\n",
      "2025-05-15 09:18:06,321 - INFO - Using LoRA weights for ff layers!!\n",
      "2025-05-15 09:18:06,399 - INFO - Using LoRA weights for multi head layers!!\n",
      "2025-05-15 09:18:06,515 - INFO - Using LoRA weights for ff layers!!\n",
      "2025-05-15 09:18:06,590 - INFO - Using LoRA weights for multi head layers!!\n",
      "2025-05-15 09:18:06,706 - INFO - Using LoRA weights for ff layers!!\n",
      "2025-05-15 09:18:06,781 - INFO - Using LoRA weights for multi head layers!!\n",
      "2025-05-15 09:18:06,897 - INFO - Using LoRA weights for ff layers!!\n",
      "2025-05-15 09:18:06,971 - INFO - Using LoRA weights for multi head layers!!\n",
      "2025-05-15 09:18:07,087 - INFO - Using LoRA weights for ff layers!!\n",
      "2025-05-15 09:18:07,161 - INFO - Using LoRA weights for multi head layers!!\n",
      "2025-05-15 09:18:07,276 - INFO - Using LoRA weights for ff layers!!\n",
      "2025-05-15 09:18:07,351 - INFO - Using LoRA weights for multi head layers!!\n",
      "2025-05-15 09:18:07,466 - INFO - Using LoRA weights for ff layers!!\n",
      "2025-05-15 09:18:07,543 - INFO - Using LoRA weights for multi head layers!!\n",
      "2025-05-15 09:18:07,660 - INFO - Using LoRA weights for ff layers!!\n",
      "2025-05-15 09:18:07,735 - INFO - Using LoRA weights for multi head layers!!\n",
      "2025-05-15 09:18:07,852 - INFO - Using LoRA weights for ff layers!!\n",
      "2025-05-15 09:18:07,928 - INFO - Using LoRA weights for multi head layers!!\n",
      "2025-05-15 09:18:08,044 - INFO - Using LoRA weights for ff layers!!\n",
      "2025-05-15 09:18:08,122 - INFO - Using LoRA weights for multi head layers!!\n",
      "2025-05-15 09:18:08,236 - INFO - Using LoRA weights for ff layers!!\n",
      "2025-05-15 09:18:08,309 - INFO - Using LoRA weights for multi head layers!!\n",
      "2025-05-15 09:18:08,429 - INFO - Using LoRA weights for ff layers!!\n",
      "2025-05-15 09:18:08,507 - INFO - Using LoRA weights for multi head layers!!\n",
      "2025-05-15 09:18:08,626 - INFO - Using LoRA weights for ff layers!!\n",
      "2025-05-15 09:18:08,701 - INFO - Using LoRA weights for multi head layers!!\n",
      "2025-05-15 09:18:08,817 - INFO - Using LoRA weights for ff layers!!\n",
      "2025-05-15 09:18:08,892 - INFO - Using LoRA weights for multi head layers!!\n",
      "2025-05-15 09:18:09,011 - INFO - Using LoRA weights for ff layers!!\n",
      "2025-05-15 09:18:09,086 - INFO - Using LoRA weights for multi head layers!!\n",
      "2025-05-15 09:18:09,203 - INFO - Using LoRA weights for ff layers!!\n",
      "2025-05-15 09:18:09,280 - INFO - Using LoRA weights for multi head layers!!\n",
      "2025-05-15 09:18:09,397 - INFO - Using LoRA weights for ff layers!!\n",
      "2025-05-15 09:18:09,469 - INFO - Using LoRA weights for multi head layers!!\n",
      "2025-05-15 09:18:09,586 - INFO - Using LoRA weights for ff layers!!\n",
      "2025-05-15 09:18:09,661 - INFO - Using LoRA weights for multi head layers!!\n",
      "2025-05-15 09:18:09,777 - INFO - Using LoRA weights for ff layers!!\n",
      "2025-05-15 09:18:09,852 - INFO - Using LoRA weights for multi head layers!!\n",
      "2025-05-15 09:18:09,967 - INFO - Using LoRA weights for ff layers!!\n",
      "2025-05-15 09:18:10,041 - INFO - Using LoRA weights for multi head layers!!\n",
      "2025-05-15 09:18:10,156 - INFO - Using LoRA weights for ff layers!!\n",
      "2025-05-15 09:18:10,233 - INFO - Using LoRA weights for multi head layers!!\n",
      "2025-05-15 09:18:10,350 - INFO - Using LoRA weights for ff layers!!\n",
      "2025-05-15 09:18:10,426 - INFO - Using LoRA weights for multi head layers!!\n",
      "2025-05-15 09:18:10,542 - INFO - Using LoRA weights for ff layers!!\n",
      "2025-05-15 09:18:10,626 - INFO - Using LoRA weights for multi head layers!!\n",
      "2025-05-15 09:18:10,737 - INFO - Using LoRA weights for ff layers!!\n",
      "2025-05-15 09:18:10,810 - INFO - Using LoRA weights for multi head layers!!\n",
      "2025-05-15 09:18:10,924 - INFO - Using LoRA weights for ff layers!!\n",
      "2025-05-15 09:18:10,996 - INFO - Using LoRA weights for multi head layers!!\n",
      "2025-05-15 09:18:11,113 - INFO - Using LoRA weights for ff layers!!\n",
      "2025-05-15 09:18:11,186 - INFO - Using LoRA weights for multi head layers!!\n",
      "2025-05-15 09:18:11,299 - INFO - Using LoRA weights for ff layers!!\n",
      "2025-05-15 09:18:11,369 - INFO - Using LoRA weights for multi head layers!!\n",
      "2025-05-15 09:18:11,483 - INFO - Using LoRA weights for ff layers!!\n",
      "2025-05-15 09:18:11,553 - INFO - Using LoRA weights for multi head layers!!\n",
      "2025-05-15 09:18:11,664 - INFO - Using LoRA weights for ff layers!!\n",
      "2025-05-15 09:18:11,738 - INFO - Using LoRA weights for multi head layers!!\n",
      "2025-05-15 09:18:11,851 - INFO - Using LoRA weights for ff layers!!\n",
      "2025-05-15 09:18:11,926 - INFO - Using LoRA weights for multi head layers!!\n",
      "2025-05-15 09:18:12,040 - INFO - Using LoRA weights for ff layers!!\n",
      "2025-05-15 09:18:12,116 - INFO - Using LoRA weights for multi head layers!!\n",
      "2025-05-15 09:18:12,231 - INFO - Using LoRA weights for ff layers!!\n",
      "2025-05-15 09:18:12,307 - INFO - Using LoRA weights for multi head layers!!\n",
      "2025-05-15 09:18:12,423 - INFO - Using LoRA weights for ff layers!!\n",
      "2025-05-15 09:18:12,498 - INFO - Using LoRA weights for multi head layers!!\n",
      "2025-05-15 09:18:12,613 - INFO - Using LoRA weights for ff layers!!\n",
      "2025-05-15 09:18:12,688 - INFO - Using LoRA weights for multi head layers!!\n",
      "2025-05-15 09:18:12,804 - INFO - Using LoRA weights for ff layers!!\n",
      "2025-05-15 09:18:12,875 - INFO - Using LoRA weights for multi head layers!!\n",
      "2025-05-15 09:18:12,986 - INFO - Using LoRA weights for ff layers!!\n",
      "2025-05-15 09:18:13,059 - INFO - Using LoRA weights for multi head layers!!\n",
      "2025-05-15 09:18:13,174 - INFO - Using LoRA weights for ff layers!!\n",
      "2025-05-15 09:18:13,251 - INFO - Using LoRA weights for multi head layers!!\n",
      "2025-05-15 09:18:13,371 - INFO - Using LoRA weights for ff layers!!\n",
      "2025-05-15 09:18:13,445 - INFO - Using LoRA weights for multi head layers!!\n",
      "2025-05-15 09:18:13,562 - INFO - Using LoRA weights for ff layers!!\n",
      "2025-05-15 09:18:13,635 - INFO - Using LoRA weights for multi head layers!!\n",
      "2025-05-15 09:18:13,748 - INFO - Using LoRA weights for ff layers!!\n",
      "2025-05-15 09:18:13,820 - INFO - Using LoRA weights for multi head layers!!\n",
      "2025-05-15 09:18:13,933 - INFO - Using LoRA weights for ff layers!!\n",
      "2025-05-15 09:18:14,006 - INFO - Using LoRA weights for multi head layers!!\n",
      "2025-05-15 09:18:14,440 - INFO - Using Lora for final output layer!!\n",
      "2025-05-15 09:18:14,458 - INFO - Trained model exists on saved path /home/smathad/ai_capstone/chathist/models/finetuned/gpt2-xl_indian_history_finetuned\n",
      "\n"
     ]
    }
   ],
   "source": [
    "history_model = Model()"
   ]
  },
  {
   "cell_type": "code",
   "execution_count": null,
   "id": "7f217c27",
   "metadata": {},
   "outputs": [
    {
     "name": "stderr",
     "output_type": "stream",
     "text": [
      "2025-05-15 09:26:12,723 - INFO - Formatting prompt into alpaca style\n"
     ]
    },
    {
     "data": {
      "text/plain": [
       "'Varahamihira.'"
      ]
     },
     "execution_count": 9,
     "metadata": {},
     "output_type": "execute_result"
    },
    {
     "ename": "",
     "evalue": "",
     "output_type": "error",
     "traceback": [
      "\u001b[1;31mThe Kernel crashed while executing code in the current cell or a previous cell. \n",
      "\u001b[1;31mPlease review the code in the cell(s) to identify a possible cause of the failure. \n",
      "\u001b[1;31mClick <a href='https://aka.ms/vscodeJupyterKernelCrash'>here</a> for more info. \n",
      "\u001b[1;31mView Jupyter <a href='command:jupyter.viewOutput'>log</a> for further details."
     ]
    }
   ],
   "source": [
    "history_model.generate(\"\"\"who was the greatest poet of gupta period.\"\"\")"
   ]
  },
  {
   "cell_type": "code",
   "execution_count": null,
   "id": "f1ccbcb8",
   "metadata": {},
   "outputs": [],
   "source": []
  }
 ],
 "metadata": {
  "kernelspec": {
   "display_name": "venv",
   "language": "python",
   "name": "python3"
  },
  "language_info": {
   "codemirror_mode": {
    "name": "ipython",
    "version": 3
   },
   "file_extension": ".py",
   "mimetype": "text/x-python",
   "name": "python",
   "nbconvert_exporter": "python",
   "pygments_lexer": "ipython3",
   "version": "3.12.3"
  }
 },
 "nbformat": 4,
 "nbformat_minor": 5
}
