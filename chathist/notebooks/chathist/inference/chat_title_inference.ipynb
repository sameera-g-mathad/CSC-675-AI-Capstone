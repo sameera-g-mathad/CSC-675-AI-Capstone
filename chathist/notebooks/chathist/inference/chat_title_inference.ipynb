{
 "cells": [
  {
   "cell_type": "code",
   "execution_count": 1,
   "id": "d1b5c5d3",
   "metadata": {},
   "outputs": [],
   "source": [
    "from chathist import Model"
   ]
  },
  {
   "cell_type": "code",
   "execution_count": 2,
   "id": "06564b1a",
   "metadata": {},
   "outputs": [
    {
     "name": "stderr",
     "output_type": "stream",
     "text": [
      "2025-05-14 18:02:16,039 - INFO - Setting tokenizer using tiktoken with encoding: gpt2\n",
      "2025-05-14 18:02:16,993 - INFO - phi3 style chosen!!\n",
      "2025-05-14 18:02:17,349 - INFO - Using LoRA weights for ff layers!!\n",
      "2025-05-14 18:02:17,643 - INFO - Using LoRA weights for multi head layers!!\n",
      "2025-05-14 18:02:17,700 - INFO - Using LoRA weights for ff layers!!\n",
      "2025-05-14 18:02:17,743 - INFO - Using LoRA weights for multi head layers!!\n",
      "2025-05-14 18:02:17,800 - INFO - Using LoRA weights for ff layers!!\n",
      "2025-05-14 18:02:17,844 - INFO - Using LoRA weights for multi head layers!!\n",
      "2025-05-14 18:02:17,903 - INFO - Using LoRA weights for ff layers!!\n",
      "2025-05-14 18:02:17,948 - INFO - Using LoRA weights for multi head layers!!\n",
      "2025-05-14 18:02:18,006 - INFO - Using LoRA weights for ff layers!!\n",
      "2025-05-14 18:02:18,047 - INFO - Using LoRA weights for multi head layers!!\n",
      "2025-05-14 18:02:18,106 - INFO - Using LoRA weights for ff layers!!\n",
      "2025-05-14 18:02:18,146 - INFO - Using LoRA weights for multi head layers!!\n",
      "2025-05-14 18:02:18,204 - INFO - Using LoRA weights for ff layers!!\n",
      "2025-05-14 18:02:18,250 - INFO - Using LoRA weights for multi head layers!!\n",
      "2025-05-14 18:02:18,309 - INFO - Using LoRA weights for ff layers!!\n",
      "2025-05-14 18:02:18,348 - INFO - Using LoRA weights for multi head layers!!\n",
      "2025-05-14 18:02:18,406 - INFO - Using LoRA weights for ff layers!!\n",
      "2025-05-14 18:02:18,442 - INFO - Using LoRA weights for multi head layers!!\n",
      "2025-05-14 18:02:18,509 - INFO - Using LoRA weights for ff layers!!\n",
      "2025-05-14 18:02:18,549 - INFO - Using LoRA weights for multi head layers!!\n",
      "2025-05-14 18:02:18,607 - INFO - Using LoRA weights for ff layers!!\n",
      "2025-05-14 18:02:18,644 - INFO - Using LoRA weights for multi head layers!!\n",
      "2025-05-14 18:02:18,703 - INFO - Using LoRA weights for ff layers!!\n",
      "2025-05-14 18:02:18,739 - INFO - Using LoRA weights for multi head layers!!\n",
      "2025-05-14 18:02:18,797 - INFO - Using LoRA weights for ff layers!!\n",
      "2025-05-14 18:02:18,833 - INFO - Using LoRA weights for multi head layers!!\n",
      "2025-05-14 18:02:18,891 - INFO - Using LoRA weights for ff layers!!\n",
      "2025-05-14 18:02:18,927 - INFO - Using LoRA weights for multi head layers!!\n",
      "2025-05-14 18:02:18,986 - INFO - Using LoRA weights for ff layers!!\n",
      "2025-05-14 18:02:19,022 - INFO - Using LoRA weights for multi head layers!!\n",
      "2025-05-14 18:02:19,081 - INFO - Using LoRA weights for ff layers!!\n",
      "2025-05-14 18:02:19,117 - INFO - Using LoRA weights for multi head layers!!\n",
      "2025-05-14 18:02:19,175 - INFO - Using LoRA weights for ff layers!!\n",
      "2025-05-14 18:02:19,213 - INFO - Using LoRA weights for multi head layers!!\n",
      "2025-05-14 18:02:19,271 - INFO - Using LoRA weights for ff layers!!\n",
      "2025-05-14 18:02:19,312 - INFO - Using LoRA weights for multi head layers!!\n",
      "2025-05-14 18:02:19,372 - INFO - Using LoRA weights for ff layers!!\n",
      "2025-05-14 18:02:19,408 - INFO - Using LoRA weights for multi head layers!!\n",
      "2025-05-14 18:02:19,467 - INFO - Using LoRA weights for ff layers!!\n",
      "2025-05-14 18:02:19,503 - INFO - Using LoRA weights for multi head layers!!\n",
      "2025-05-14 18:02:19,561 - INFO - Using LoRA weights for ff layers!!\n",
      "2025-05-14 18:02:19,597 - INFO - Using LoRA weights for multi head layers!!\n",
      "2025-05-14 18:02:19,656 - INFO - Using LoRA weights for ff layers!!\n",
      "2025-05-14 18:02:19,692 - INFO - Using LoRA weights for multi head layers!!\n",
      "2025-05-14 18:02:19,750 - INFO - Using LoRA weights for ff layers!!\n",
      "2025-05-14 18:02:19,785 - INFO - Using LoRA weights for multi head layers!!\n",
      "2025-05-14 18:02:19,846 - INFO - Using LoRA weights for ff layers!!\n",
      "2025-05-14 18:02:19,883 - INFO - Using LoRA weights for multi head layers!!\n",
      "2025-05-14 18:02:20,176 - INFO - Using Lora for final output layer!!\n",
      "2025-05-14 18:02:20,195 - INFO - Trained model exists on saved path /home/smathad/ai_capstone/chathist/models/finetuned/gpt2-medium_chat_title_finetuned\n",
      "\n"
     ]
    }
   ],
   "source": [
    "title_model = Model()"
   ]
  },
  {
   "cell_type": "code",
   "execution_count": 4,
   "id": "ff490b99",
   "metadata": {},
   "outputs": [
    {
     "name": "stderr",
     "output_type": "stream",
     "text": [
      "2025-05-14 18:03:12,845 - INFO - Formatting prompt into phi3 style\n"
     ]
    },
    {
     "data": {
      "text/plain": [
       "'Lunch Recommendations for Diet'"
      ]
     },
     "execution_count": 4,
     "metadata": {},
     "output_type": "execute_result"
    }
   ],
   "source": [
    "title_model.generate(\"I am on diet, what should I eat for lunch?\")  # type: ignore"
   ]
  },
  {
   "cell_type": "code",
   "execution_count": null,
   "id": "2d10e6e6",
   "metadata": {},
   "outputs": [],
   "source": []
  }
 ],
 "metadata": {
  "kernelspec": {
   "display_name": "venv",
   "language": "python",
   "name": "python3"
  },
  "language_info": {
   "codemirror_mode": {
    "name": "ipython",
    "version": 3
   },
   "file_extension": ".py",
   "mimetype": "text/x-python",
   "name": "python",
   "nbconvert_exporter": "python",
   "pygments_lexer": "ipython3",
   "version": "3.12.3"
  }
 },
 "nbformat": 4,
 "nbformat_minor": 5
}
