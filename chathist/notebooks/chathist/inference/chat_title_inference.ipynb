{
 "cells": [
  {
   "cell_type": "code",
   "execution_count": 1,
   "id": "d1b5c5d3",
   "metadata": {},
   "outputs": [],
   "source": [
    "import chathist\n",
    "from chathist import Model"
   ]
  },
  {
   "cell_type": "code",
   "execution_count": 2,
   "id": "83c8c25f",
   "metadata": {},
   "outputs": [
    {
     "name": "stderr",
     "output_type": "stream",
     "text": [
      "2025-05-16 09:56:09,900 - WARNING - train is not present in the config file, falling back to defaults!!!\n"
     ]
    }
   ],
   "source": [
    "chathist.config.load_config(config_path=\"conf/train\", config_name=\"chat_title\")"
   ]
  },
  {
   "cell_type": "code",
   "execution_count": 3,
   "id": "06564b1a",
   "metadata": {},
   "outputs": [
    {
     "name": "stderr",
     "output_type": "stream",
     "text": [
      "2025-05-16 09:56:09,906 - INFO - Setting tokenizer using tiktoken with encoding: gpt2\n",
      "2025-05-16 09:56:10,861 - INFO - phi3 style chosen!!\n",
      "2025-05-16 09:56:11,201 - INFO - Using LoRA weights for ff layers!!\n",
      "2025-05-16 09:56:11,487 - INFO - Using LoRA weights for multi head layers!!\n",
      "2025-05-16 09:56:11,537 - INFO - Using LoRA weights for ff layers!!\n",
      "2025-05-16 09:56:11,581 - INFO - Using LoRA weights for multi head layers!!\n",
      "2025-05-16 09:56:11,637 - INFO - Using LoRA weights for ff layers!!\n",
      "2025-05-16 09:56:11,678 - INFO - Using LoRA weights for multi head layers!!\n",
      "2025-05-16 09:56:11,735 - INFO - Using LoRA weights for ff layers!!\n",
      "2025-05-16 09:56:11,770 - INFO - Using LoRA weights for multi head layers!!\n",
      "2025-05-16 09:56:11,827 - INFO - Using LoRA weights for ff layers!!\n",
      "2025-05-16 09:56:11,862 - INFO - Using LoRA weights for multi head layers!!\n",
      "2025-05-16 09:56:11,919 - INFO - Using LoRA weights for ff layers!!\n",
      "2025-05-16 09:56:11,959 - INFO - Using LoRA weights for multi head layers!!\n",
      "2025-05-16 09:56:12,016 - INFO - Using LoRA weights for ff layers!!\n",
      "2025-05-16 09:56:12,051 - INFO - Using LoRA weights for multi head layers!!\n",
      "2025-05-16 09:56:12,108 - INFO - Using LoRA weights for ff layers!!\n",
      "2025-05-16 09:56:12,144 - INFO - Using LoRA weights for multi head layers!!\n",
      "2025-05-16 09:56:12,201 - INFO - Using LoRA weights for ff layers!!\n",
      "2025-05-16 09:56:12,235 - INFO - Using LoRA weights for multi head layers!!\n",
      "2025-05-16 09:56:12,292 - INFO - Using LoRA weights for ff layers!!\n",
      "2025-05-16 09:56:12,328 - INFO - Using LoRA weights for multi head layers!!\n",
      "2025-05-16 09:56:12,384 - INFO - Using LoRA weights for ff layers!!\n",
      "2025-05-16 09:56:12,423 - INFO - Using LoRA weights for multi head layers!!\n",
      "2025-05-16 09:56:12,480 - INFO - Using LoRA weights for ff layers!!\n",
      "2025-05-16 09:56:12,519 - INFO - Using LoRA weights for multi head layers!!\n",
      "2025-05-16 09:56:12,576 - INFO - Using LoRA weights for ff layers!!\n",
      "2025-05-16 09:56:12,613 - INFO - Using LoRA weights for multi head layers!!\n",
      "2025-05-16 09:56:12,671 - INFO - Using LoRA weights for ff layers!!\n",
      "2025-05-16 09:56:12,707 - INFO - Using LoRA weights for multi head layers!!\n",
      "2025-05-16 09:56:12,764 - INFO - Using LoRA weights for ff layers!!\n",
      "2025-05-16 09:56:12,795 - INFO - Using LoRA weights for multi head layers!!\n",
      "2025-05-16 09:56:12,857 - INFO - Using LoRA weights for ff layers!!\n",
      "2025-05-16 09:56:12,897 - INFO - Using LoRA weights for multi head layers!!\n",
      "2025-05-16 09:56:12,954 - INFO - Using LoRA weights for ff layers!!\n",
      "2025-05-16 09:56:12,989 - INFO - Using LoRA weights for multi head layers!!\n",
      "2025-05-16 09:56:13,045 - INFO - Using LoRA weights for ff layers!!\n",
      "2025-05-16 09:56:13,081 - INFO - Using LoRA weights for multi head layers!!\n",
      "2025-05-16 09:56:13,139 - INFO - Using LoRA weights for ff layers!!\n",
      "2025-05-16 09:56:13,177 - INFO - Using LoRA weights for multi head layers!!\n",
      "2025-05-16 09:56:13,234 - INFO - Using LoRA weights for ff layers!!\n",
      "2025-05-16 09:56:13,269 - INFO - Using LoRA weights for multi head layers!!\n",
      "2025-05-16 09:56:13,326 - INFO - Using LoRA weights for ff layers!!\n",
      "2025-05-16 09:56:13,362 - INFO - Using LoRA weights for multi head layers!!\n",
      "2025-05-16 09:56:13,419 - INFO - Using LoRA weights for ff layers!!\n",
      "2025-05-16 09:56:13,454 - INFO - Using LoRA weights for multi head layers!!\n",
      "2025-05-16 09:56:13,511 - INFO - Using LoRA weights for ff layers!!\n",
      "2025-05-16 09:56:13,545 - INFO - Using LoRA weights for multi head layers!!\n",
      "2025-05-16 09:56:13,604 - INFO - Using LoRA weights for ff layers!!\n",
      "2025-05-16 09:56:13,640 - INFO - Using LoRA weights for multi head layers!!\n",
      "2025-05-16 09:56:13,931 - INFO - Using Lora for final output layer!!\n",
      "2025-05-16 09:56:13,948 - INFO - Trained model exists on saved path /home/smathad/ai_capstone/chathist/models/finetuned/gpt2-medium_chat_title_finetuned\n",
      "\n"
     ]
    }
   ],
   "source": [
    "title_model = Model()"
   ]
  },
  {
   "cell_type": "code",
   "execution_count": 4,
   "id": "ff490b99",
   "metadata": {},
   "outputs": [
    {
     "name": "stderr",
     "output_type": "stream",
     "text": [
      "2025-05-16 09:56:14,957 - INFO - Formatting prompt into phi3 style\n"
     ]
    },
    {
     "data": {
      "text/plain": [
       "'Lunch Recommendations for Diet'"
      ]
     },
     "execution_count": 4,
     "metadata": {},
     "output_type": "execute_result"
    }
   ],
   "source": [
    "title_model.generate(\"I am on diet, what should I eat for lunch?\")  # type: ignore"
   ]
  },
  {
   "cell_type": "code",
   "execution_count": null,
   "id": "2d10e6e6",
   "metadata": {},
   "outputs": [],
   "source": []
  }
 ],
 "metadata": {
  "kernelspec": {
   "display_name": "venv",
   "language": "python",
   "name": "python3"
  },
  "language_info": {
   "codemirror_mode": {
    "name": "ipython",
    "version": 3
   },
   "file_extension": ".py",
   "mimetype": "text/x-python",
   "name": "python",
   "nbconvert_exporter": "python",
   "pygments_lexer": "ipython3",
   "version": "3.12.3"
  }
 },
 "nbformat": 4,
 "nbformat_minor": 5
}
