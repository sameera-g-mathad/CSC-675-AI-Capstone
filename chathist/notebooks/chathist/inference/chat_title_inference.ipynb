{
 "cells": [
  {
   "cell_type": "code",
   "execution_count": 1,
   "id": "d1b5c5d3",
   "metadata": {},
   "outputs": [],
   "source": [
    "import chathist\n",
    "from chathist import Model"
   ]
  },
  {
   "cell_type": "code",
   "execution_count": 2,
   "id": "83c8c25f",
   "metadata": {},
   "outputs": [
    {
     "name": "stderr",
     "output_type": "stream",
     "text": [
      "2025-05-16 10:50:33,538 - WARNING - train is not present in the config file, falling back to defaults!!!\n"
     ]
    }
   ],
   "source": [
    "chathist.config.load_config(config_path=\"conf/train\", config_name=\"chat_title\")"
   ]
  },
  {
   "cell_type": "code",
   "execution_count": 3,
   "id": "06564b1a",
   "metadata": {},
   "outputs": [
    {
     "name": "stderr",
     "output_type": "stream",
     "text": [
      "2025-05-16 10:50:33,542 - INFO - Setting tokenizer using tiktoken with encoding: gpt2\n",
      "2025-05-16 10:50:33,658 - INFO - phi3 style chosen!!\n"
     ]
    },
    {
     "name": "stdout",
     "output_type": "stream",
     "text": [
      "\n",
      "Device: cpu\n",
      "\n"
     ]
    },
    {
     "name": "stderr",
     "output_type": "stream",
     "text": [
      "2025-05-16 10:50:34,191 - INFO - Using LoRA weights for ff layers!!\n",
      "2025-05-16 10:50:34,204 - INFO - Using LoRA weights for multi head layers!!\n",
      "2025-05-16 10:50:34,231 - INFO - Using LoRA weights for ff layers!!\n",
      "2025-05-16 10:50:34,245 - INFO - Using LoRA weights for multi head layers!!\n",
      "2025-05-16 10:50:34,271 - INFO - Using LoRA weights for ff layers!!\n",
      "2025-05-16 10:50:34,285 - INFO - Using LoRA weights for multi head layers!!\n",
      "2025-05-16 10:50:34,337 - INFO - Using LoRA weights for ff layers!!\n",
      "2025-05-16 10:50:34,350 - INFO - Using LoRA weights for multi head layers!!\n",
      "2025-05-16 10:50:34,376 - INFO - Using LoRA weights for ff layers!!\n",
      "2025-05-16 10:50:34,389 - INFO - Using LoRA weights for multi head layers!!\n",
      "2025-05-16 10:50:34,414 - INFO - Using LoRA weights for ff layers!!\n",
      "2025-05-16 10:50:34,427 - INFO - Using LoRA weights for multi head layers!!\n",
      "2025-05-16 10:50:34,452 - INFO - Using LoRA weights for ff layers!!\n",
      "2025-05-16 10:50:34,465 - INFO - Using LoRA weights for multi head layers!!\n",
      "2025-05-16 10:50:34,491 - INFO - Using LoRA weights for ff layers!!\n",
      "2025-05-16 10:50:34,504 - INFO - Using LoRA weights for multi head layers!!\n",
      "2025-05-16 10:50:34,529 - INFO - Using LoRA weights for ff layers!!\n",
      "2025-05-16 10:50:34,542 - INFO - Using LoRA weights for multi head layers!!\n",
      "2025-05-16 10:50:34,567 - INFO - Using LoRA weights for ff layers!!\n",
      "2025-05-16 10:50:34,580 - INFO - Using LoRA weights for multi head layers!!\n",
      "2025-05-16 10:50:34,606 - INFO - Using LoRA weights for ff layers!!\n",
      "2025-05-16 10:50:34,619 - INFO - Using LoRA weights for multi head layers!!\n",
      "2025-05-16 10:50:34,646 - INFO - Using LoRA weights for ff layers!!\n",
      "2025-05-16 10:50:34,660 - INFO - Using LoRA weights for multi head layers!!\n",
      "2025-05-16 10:50:34,686 - INFO - Using LoRA weights for ff layers!!\n",
      "2025-05-16 10:50:34,700 - INFO - Using LoRA weights for multi head layers!!\n",
      "2025-05-16 10:50:34,726 - INFO - Using LoRA weights for ff layers!!\n",
      "2025-05-16 10:50:34,739 - INFO - Using LoRA weights for multi head layers!!\n",
      "2025-05-16 10:50:34,765 - INFO - Using LoRA weights for ff layers!!\n",
      "2025-05-16 10:50:34,779 - INFO - Using LoRA weights for multi head layers!!\n",
      "2025-05-16 10:50:34,804 - INFO - Using LoRA weights for ff layers!!\n",
      "2025-05-16 10:50:34,819 - INFO - Using LoRA weights for multi head layers!!\n",
      "2025-05-16 10:50:34,844 - INFO - Using LoRA weights for ff layers!!\n",
      "2025-05-16 10:50:34,858 - INFO - Using LoRA weights for multi head layers!!\n",
      "2025-05-16 10:50:34,883 - INFO - Using LoRA weights for ff layers!!\n",
      "2025-05-16 10:50:34,897 - INFO - Using LoRA weights for multi head layers!!\n",
      "2025-05-16 10:50:34,923 - INFO - Using LoRA weights for ff layers!!\n",
      "2025-05-16 10:50:34,936 - INFO - Using LoRA weights for multi head layers!!\n",
      "2025-05-16 10:50:34,962 - INFO - Using LoRA weights for ff layers!!\n",
      "2025-05-16 10:50:34,975 - INFO - Using LoRA weights for multi head layers!!\n",
      "2025-05-16 10:50:35,000 - INFO - Using LoRA weights for ff layers!!\n",
      "2025-05-16 10:50:35,014 - INFO - Using LoRA weights for multi head layers!!\n",
      "2025-05-16 10:50:35,039 - INFO - Using LoRA weights for ff layers!!\n",
      "2025-05-16 10:50:35,053 - INFO - Using LoRA weights for multi head layers!!\n",
      "2025-05-16 10:50:35,079 - INFO - Using LoRA weights for ff layers!!\n",
      "2025-05-16 10:50:35,092 - INFO - Using LoRA weights for multi head layers!!\n",
      "2025-05-16 10:50:35,117 - INFO - Using LoRA weights for ff layers!!\n",
      "2025-05-16 10:50:35,131 - INFO - Using LoRA weights for multi head layers!!\n",
      "2025-05-16 10:50:35,269 - INFO - Using Lora for final output layer!!\n",
      "2025-05-16 10:50:35,270 - INFO - Trained model exists on saved path /Users/sameergururajmathad/Documents/CSC - 675/AI Capstone/chathist/models/finetuned/gpt2-medium_chat_title_finetuned\n",
      "\n"
     ]
    }
   ],
   "source": [
    "title_model = Model()"
   ]
  },
  {
   "cell_type": "code",
   "execution_count": 4,
   "id": "ff490b99",
   "metadata": {},
   "outputs": [
    {
     "name": "stderr",
     "output_type": "stream",
     "text": [
      "2025-05-16 10:50:36,862 - INFO - Formatting prompt into phi3 style\n"
     ]
    },
    {
     "data": {
      "text/plain": [
       "'Lunch Recommendations for Diet'"
      ]
     },
     "execution_count": 4,
     "metadata": {},
     "output_type": "execute_result"
    }
   ],
   "source": [
    "title_model.generate(\"I am on diet, what should I eat for lunch?\")  # type: ignore"
   ]
  },
  {
   "cell_type": "code",
   "execution_count": null,
   "id": "2d10e6e6",
   "metadata": {},
   "outputs": [],
   "source": []
  }
 ],
 "metadata": {
  "kernelspec": {
   "display_name": "venv",
   "language": "python",
   "name": "python3"
  },
  "language_info": {
   "codemirror_mode": {
    "name": "ipython",
    "version": 3
   },
   "file_extension": ".py",
   "mimetype": "text/x-python",
   "name": "python",
   "nbconvert_exporter": "python",
   "pygments_lexer": "ipython3",
   "version": "3.12.3"
  }
 },
 "nbformat": 4,
 "nbformat_minor": 5
}
