{
 "cells": [
  {
   "cell_type": "code",
   "execution_count": 1,
   "id": "d1b5c5d3",
   "metadata": {},
   "outputs": [],
   "source": [
    "from chathist import Model"
   ]
  },
  {
   "cell_type": "code",
   "execution_count": 2,
   "id": "06564b1a",
   "metadata": {},
   "outputs": [
    {
     "name": "stderr",
     "output_type": "stream",
     "text": [
      "2025-05-14 12:47:23,156 - INFO - Setting tokenizer using tiktoken with encoding: gpt2\n",
      "2025-05-14 12:47:24,200 - INFO - phi3 style chosen!!\n",
      "2025-05-14 12:47:24,457 - INFO - Using LoRA weights for ff layers!!\n",
      "2025-05-14 12:47:24,735 - INFO - Using LoRA weights for multi head layers!!\n",
      "2025-05-14 12:47:24,765 - INFO - Using LoRA weights for ff layers!!\n",
      "2025-05-14 12:47:24,797 - INFO - Using LoRA weights for multi head layers!!\n",
      "2025-05-14 12:47:24,832 - INFO - Using LoRA weights for ff layers!!\n",
      "2025-05-14 12:47:24,862 - INFO - Using LoRA weights for multi head layers!!\n",
      "2025-05-14 12:47:24,903 - INFO - Using LoRA weights for ff layers!!\n",
      "2025-05-14 12:47:24,929 - INFO - Using LoRA weights for multi head layers!!\n",
      "2025-05-14 12:47:24,964 - INFO - Using LoRA weights for ff layers!!\n",
      "2025-05-14 12:47:24,990 - INFO - Using LoRA weights for multi head layers!!\n",
      "2025-05-14 12:47:25,024 - INFO - Using LoRA weights for ff layers!!\n",
      "2025-05-14 12:47:25,048 - INFO - Using LoRA weights for multi head layers!!\n",
      "2025-05-14 12:47:25,082 - INFO - Using LoRA weights for ff layers!!\n",
      "2025-05-14 12:47:25,107 - INFO - Using LoRA weights for multi head layers!!\n",
      "2025-05-14 12:47:25,142 - INFO - Using LoRA weights for ff layers!!\n",
      "2025-05-14 12:47:25,167 - INFO - Using LoRA weights for multi head layers!!\n",
      "2025-05-14 12:47:25,201 - INFO - Using LoRA weights for ff layers!!\n",
      "2025-05-14 12:47:25,225 - INFO - Using LoRA weights for multi head layers!!\n",
      "2025-05-14 12:47:25,259 - INFO - Using LoRA weights for ff layers!!\n",
      "2025-05-14 12:47:25,291 - INFO - Using LoRA weights for multi head layers!!\n",
      "2025-05-14 12:47:25,329 - INFO - Using LoRA weights for ff layers!!\n",
      "2025-05-14 12:47:25,355 - INFO - Using LoRA weights for multi head layers!!\n",
      "2025-05-14 12:47:25,390 - INFO - Using LoRA weights for ff layers!!\n",
      "2025-05-14 12:47:25,414 - INFO - Using LoRA weights for multi head layers!!\n",
      "2025-05-14 12:47:25,638 - INFO - Using Lora for final output layer!!\n",
      "2025-05-14 12:47:25,652 - INFO - Trained model exists on saved path /home/smathad/ai_capstone/chathist/models/finetuned/gpt2_chat_title_finetuned\n",
      "\n"
     ]
    }
   ],
   "source": [
    "title_model = Model()"
   ]
  },
  {
   "cell_type": "code",
   "execution_count": 3,
   "id": "ff490b99",
   "metadata": {},
   "outputs": [
    {
     "name": "stderr",
     "output_type": "stream",
     "text": [
      "2025-05-14 12:47:26,304 - INFO - Formatting prompt into phi3 style\n"
     ]
    },
    {
     "data": {
      "text/plain": [
       "'NLP Explanation'"
      ]
     },
     "execution_count": 3,
     "metadata": {},
     "output_type": "execute_result"
    }
   ],
   "source": [
    "title_model.generate(\"What is NLP? I don't think I know it? Can you explain it to me?\")"
   ]
  },
  {
   "cell_type": "code",
   "execution_count": null,
   "id": "2d10e6e6",
   "metadata": {},
   "outputs": [],
   "source": []
  }
 ],
 "metadata": {
  "kernelspec": {
   "display_name": "venv",
   "language": "python",
   "name": "python3"
  },
  "language_info": {
   "codemirror_mode": {
    "name": "ipython",
    "version": 3
   },
   "file_extension": ".py",
   "mimetype": "text/x-python",
   "name": "python",
   "nbconvert_exporter": "python",
   "pygments_lexer": "ipython3",
   "version": "3.12.3"
  }
 },
 "nbformat": 4,
 "nbformat_minor": 5
}
