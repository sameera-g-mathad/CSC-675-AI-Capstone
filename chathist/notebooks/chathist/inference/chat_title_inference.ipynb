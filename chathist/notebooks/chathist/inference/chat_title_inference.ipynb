{
 "cells": [
  {
   "cell_type": "code",
   "execution_count": 1,
   "id": "d1b5c5d3",
   "metadata": {},
   "outputs": [],
   "source": [
    "from chathist import Model"
   ]
  },
  {
   "cell_type": "code",
   "execution_count": 2,
   "id": "06564b1a",
   "metadata": {},
   "outputs": [
    {
     "name": "stderr",
     "output_type": "stream",
     "text": [
      "2025-05-14 14:58:38,453 - INFO - Setting tokenizer using tiktoken with encoding: gpt2\n",
      "2025-05-14 14:58:39,480 - INFO - phi3 style chosen!!\n",
      "2025-05-14 14:58:39,811 - INFO - Using LoRA weights for ff layers!!\n",
      "2025-05-14 14:58:40,091 - INFO - Using LoRA weights for multi head layers!!\n",
      "2025-05-14 14:58:40,140 - INFO - Using LoRA weights for ff layers!!\n",
      "2025-05-14 14:58:40,181 - INFO - Using LoRA weights for multi head layers!!\n",
      "2025-05-14 14:58:40,236 - INFO - Using LoRA weights for ff layers!!\n",
      "2025-05-14 14:58:40,272 - INFO - Using LoRA weights for multi head layers!!\n",
      "2025-05-14 14:58:40,328 - INFO - Using LoRA weights for ff layers!!\n",
      "2025-05-14 14:58:40,364 - INFO - Using LoRA weights for multi head layers!!\n",
      "2025-05-14 14:58:40,420 - INFO - Using LoRA weights for ff layers!!\n",
      "2025-05-14 14:58:40,455 - INFO - Using LoRA weights for multi head layers!!\n",
      "2025-05-14 14:58:40,511 - INFO - Using LoRA weights for ff layers!!\n",
      "2025-05-14 14:58:40,548 - INFO - Using LoRA weights for multi head layers!!\n",
      "2025-05-14 14:58:40,604 - INFO - Using LoRA weights for ff layers!!\n",
      "2025-05-14 14:58:40,639 - INFO - Using LoRA weights for multi head layers!!\n",
      "2025-05-14 14:58:40,696 - INFO - Using LoRA weights for ff layers!!\n",
      "2025-05-14 14:58:40,732 - INFO - Using LoRA weights for multi head layers!!\n",
      "2025-05-14 14:58:40,788 - INFO - Using LoRA weights for ff layers!!\n",
      "2025-05-14 14:58:40,824 - INFO - Using LoRA weights for multi head layers!!\n",
      "2025-05-14 14:58:40,880 - INFO - Using LoRA weights for ff layers!!\n",
      "2025-05-14 14:58:40,916 - INFO - Using LoRA weights for multi head layers!!\n",
      "2025-05-14 14:58:40,972 - INFO - Using LoRA weights for ff layers!!\n",
      "2025-05-14 14:58:41,006 - INFO - Using LoRA weights for multi head layers!!\n",
      "2025-05-14 14:58:41,062 - INFO - Using LoRA weights for ff layers!!\n",
      "2025-05-14 14:58:41,094 - INFO - Using LoRA weights for multi head layers!!\n",
      "2025-05-14 14:58:41,150 - INFO - Using LoRA weights for ff layers!!\n",
      "2025-05-14 14:58:41,191 - INFO - Using LoRA weights for multi head layers!!\n",
      "2025-05-14 14:58:41,248 - INFO - Using LoRA weights for ff layers!!\n",
      "2025-05-14 14:58:41,283 - INFO - Using LoRA weights for multi head layers!!\n",
      "2025-05-14 14:58:41,340 - INFO - Using LoRA weights for ff layers!!\n",
      "2025-05-14 14:58:41,374 - INFO - Using LoRA weights for multi head layers!!\n",
      "2025-05-14 14:58:41,430 - INFO - Using LoRA weights for ff layers!!\n",
      "2025-05-14 14:58:41,465 - INFO - Using LoRA weights for multi head layers!!\n",
      "2025-05-14 14:58:41,521 - INFO - Using LoRA weights for ff layers!!\n",
      "2025-05-14 14:58:41,558 - INFO - Using LoRA weights for multi head layers!!\n",
      "2025-05-14 14:58:41,614 - INFO - Using LoRA weights for ff layers!!\n",
      "2025-05-14 14:58:41,649 - INFO - Using LoRA weights for multi head layers!!\n",
      "2025-05-14 14:58:41,710 - INFO - Using LoRA weights for ff layers!!\n",
      "2025-05-14 14:58:41,746 - INFO - Using LoRA weights for multi head layers!!\n",
      "2025-05-14 14:58:41,803 - INFO - Using LoRA weights for ff layers!!\n",
      "2025-05-14 14:58:41,838 - INFO - Using LoRA weights for multi head layers!!\n",
      "2025-05-14 14:58:41,894 - INFO - Using LoRA weights for ff layers!!\n",
      "2025-05-14 14:58:41,929 - INFO - Using LoRA weights for multi head layers!!\n",
      "2025-05-14 14:58:41,985 - INFO - Using LoRA weights for ff layers!!\n",
      "2025-05-14 14:58:42,020 - INFO - Using LoRA weights for multi head layers!!\n",
      "2025-05-14 14:58:42,077 - INFO - Using LoRA weights for ff layers!!\n",
      "2025-05-14 14:58:42,111 - INFO - Using LoRA weights for multi head layers!!\n",
      "2025-05-14 14:58:42,167 - INFO - Using LoRA weights for ff layers!!\n",
      "2025-05-14 14:58:42,202 - INFO - Using LoRA weights for multi head layers!!\n",
      "2025-05-14 14:58:42,484 - INFO - Using Lora for final output layer!!\n",
      "2025-05-14 14:58:42,493 - INFO - Trained model exists on saved path /home/smathad/ai_capstone/chathist/models/finetuned/gpt2-medium_chat_title_finetuned\n",
      "\n"
     ]
    }
   ],
   "source": [
    "title_model = Model()"
   ]
  },
  {
   "cell_type": "code",
   "execution_count": 3,
   "id": "ff490b99",
   "metadata": {},
   "outputs": [
    {
     "name": "stderr",
     "output_type": "stream",
     "text": [
      "2025-05-14 14:58:43,948 - INFO - Formatting prompt into phi3 style\n"
     ]
    },
    {
     "data": {
      "text/plain": [
       "'NLP Overview'"
      ]
     },
     "execution_count": 3,
     "metadata": {},
     "output_type": "execute_result"
    }
   ],
   "source": [
    "title_model.generate(\"What is NLP? I don't think I know it? Can you explain it to me?\")"
   ]
  },
  {
   "cell_type": "code",
   "execution_count": null,
   "id": "2d10e6e6",
   "metadata": {},
   "outputs": [],
   "source": []
  }
 ],
 "metadata": {
  "kernelspec": {
   "display_name": "venv",
   "language": "python",
   "name": "python3"
  },
  "language_info": {
   "codemirror_mode": {
    "name": "ipython",
    "version": 3
   },
   "file_extension": ".py",
   "mimetype": "text/x-python",
   "name": "python",
   "nbconvert_exporter": "python",
   "pygments_lexer": "ipython3",
   "version": "3.12.3"
  }
 },
 "nbformat": 4,
 "nbformat_minor": 5
}
