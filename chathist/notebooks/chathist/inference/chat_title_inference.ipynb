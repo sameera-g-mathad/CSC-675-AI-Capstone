{
 "cells": [
  {
   "cell_type": "code",
   "execution_count": 1,
   "id": "d1b5c5d3",
   "metadata": {},
   "outputs": [],
   "source": [
    "from chathist import Model"
   ]
  },
  {
   "cell_type": "code",
   "execution_count": 2,
   "id": "06564b1a",
   "metadata": {},
   "outputs": [
    {
     "name": "stderr",
     "output_type": "stream",
     "text": [
      "2025-05-14 13:01:05,055 - INFO - Setting tokenizer using tiktoken with encoding: gpt2\n",
      "2025-05-14 13:01:06,130 - INFO - phi3 style chosen!!\n",
      "2025-05-14 13:01:06,475 - INFO - Using LoRA weights for ff layers!!\n",
      "2025-05-14 13:01:06,752 - INFO - Using LoRA weights for multi head layers!!\n",
      "2025-05-14 13:01:06,803 - INFO - Using LoRA weights for ff layers!!\n",
      "2025-05-14 13:01:06,845 - INFO - Using LoRA weights for multi head layers!!\n",
      "2025-05-14 13:01:06,900 - INFO - Using LoRA weights for ff layers!!\n",
      "2025-05-14 13:01:06,936 - INFO - Using LoRA weights for multi head layers!!\n",
      "2025-05-14 13:01:06,993 - INFO - Using LoRA weights for ff layers!!\n",
      "2025-05-14 13:01:07,028 - INFO - Using LoRA weights for multi head layers!!\n",
      "2025-05-14 13:01:07,085 - INFO - Using LoRA weights for ff layers!!\n",
      "2025-05-14 13:01:07,123 - INFO - Using LoRA weights for multi head layers!!\n",
      "2025-05-14 13:01:07,180 - INFO - Using LoRA weights for ff layers!!\n",
      "2025-05-14 13:01:07,215 - INFO - Using LoRA weights for multi head layers!!\n",
      "2025-05-14 13:01:07,271 - INFO - Using LoRA weights for ff layers!!\n",
      "2025-05-14 13:01:07,308 - INFO - Using LoRA weights for multi head layers!!\n",
      "2025-05-14 13:01:07,366 - INFO - Using LoRA weights for ff layers!!\n",
      "2025-05-14 13:01:07,401 - INFO - Using LoRA weights for multi head layers!!\n",
      "2025-05-14 13:01:07,458 - INFO - Using LoRA weights for ff layers!!\n",
      "2025-05-14 13:01:07,494 - INFO - Using LoRA weights for multi head layers!!\n",
      "2025-05-14 13:01:07,550 - INFO - Using LoRA weights for ff layers!!\n",
      "2025-05-14 13:01:07,593 - INFO - Using LoRA weights for multi head layers!!\n",
      "2025-05-14 13:01:07,649 - INFO - Using LoRA weights for ff layers!!\n",
      "2025-05-14 13:01:07,684 - INFO - Using LoRA weights for multi head layers!!\n",
      "2025-05-14 13:01:07,742 - INFO - Using LoRA weights for ff layers!!\n",
      "2025-05-14 13:01:07,779 - INFO - Using LoRA weights for multi head layers!!\n",
      "2025-05-14 13:01:07,836 - INFO - Using LoRA weights for ff layers!!\n",
      "2025-05-14 13:01:07,872 - INFO - Using LoRA weights for multi head layers!!\n",
      "2025-05-14 13:01:07,928 - INFO - Using LoRA weights for ff layers!!\n",
      "2025-05-14 13:01:07,964 - INFO - Using LoRA weights for multi head layers!!\n",
      "2025-05-14 13:01:08,020 - INFO - Using LoRA weights for ff layers!!\n",
      "2025-05-14 13:01:08,054 - INFO - Using LoRA weights for multi head layers!!\n",
      "2025-05-14 13:01:08,110 - INFO - Using LoRA weights for ff layers!!\n",
      "2025-05-14 13:01:08,146 - INFO - Using LoRA weights for multi head layers!!\n",
      "2025-05-14 13:01:08,207 - INFO - Using LoRA weights for ff layers!!\n",
      "2025-05-14 13:01:08,250 - INFO - Using LoRA weights for multi head layers!!\n",
      "2025-05-14 13:01:08,307 - INFO - Using LoRA weights for ff layers!!\n",
      "2025-05-14 13:01:08,343 - INFO - Using LoRA weights for multi head layers!!\n",
      "2025-05-14 13:01:08,400 - INFO - Using LoRA weights for ff layers!!\n",
      "2025-05-14 13:01:08,434 - INFO - Using LoRA weights for multi head layers!!\n",
      "2025-05-14 13:01:08,491 - INFO - Using LoRA weights for ff layers!!\n",
      "2025-05-14 13:01:08,527 - INFO - Using LoRA weights for multi head layers!!\n",
      "2025-05-14 13:01:08,584 - INFO - Using LoRA weights for ff layers!!\n",
      "2025-05-14 13:01:08,620 - INFO - Using LoRA weights for multi head layers!!\n",
      "2025-05-14 13:01:08,677 - INFO - Using LoRA weights for ff layers!!\n",
      "2025-05-14 13:01:08,712 - INFO - Using LoRA weights for multi head layers!!\n",
      "2025-05-14 13:01:08,769 - INFO - Using LoRA weights for ff layers!!\n",
      "2025-05-14 13:01:08,805 - INFO - Using LoRA weights for multi head layers!!\n",
      "2025-05-14 13:01:08,862 - INFO - Using LoRA weights for ff layers!!\n",
      "2025-05-14 13:01:08,897 - INFO - Using LoRA weights for multi head layers!!\n",
      "2025-05-14 13:01:09,191 - INFO - Using Lora for final output layer!!\n",
      "2025-05-14 13:01:09,207 - INFO - Trained model exists on saved path /home/smathad/ai_capstone/chathist/models/finetuned/gpt2-medium_chat_title_finetuned\n",
      "\n"
     ]
    }
   ],
   "source": [
    "title_model = Model()"
   ]
  },
  {
   "cell_type": "code",
   "execution_count": null,
   "id": "ff490b99",
   "metadata": {},
   "outputs": [
    {
     "name": "stderr",
     "output_type": "stream",
     "text": [
      "2025-05-14 13:01:24,368 - INFO - Formatting prompt into phi3 style\n"
     ]
    },
    {
     "data": {
      "text/plain": [
       "'NLP Overview'"
      ]
     },
     "execution_count": 3,
     "metadata": {},
     "output_type": "execute_result"
    },
    {
     "ename": "",
     "evalue": "",
     "output_type": "error",
     "traceback": [
      "\u001b[1;31mThe Kernel crashed while executing code in the current cell or a previous cell. \n",
      "\u001b[1;31mPlease review the code in the cell(s) to identify a possible cause of the failure. \n",
      "\u001b[1;31mClick <a href='https://aka.ms/vscodeJupyterKernelCrash'>here</a> for more info. \n",
      "\u001b[1;31mView Jupyter <a href='command:jupyter.viewOutput'>log</a> for further details."
     ]
    }
   ],
   "source": [
    "title_model.generate(\"What is NLP? I don't think I know it? Can you explain it to me?\")"
   ]
  },
  {
   "cell_type": "code",
   "execution_count": null,
   "id": "2d10e6e6",
   "metadata": {},
   "outputs": [],
   "source": []
  }
 ],
 "metadata": {
  "kernelspec": {
   "display_name": "venv",
   "language": "python",
   "name": "python3"
  },
  "language_info": {
   "codemirror_mode": {
    "name": "ipython",
    "version": 3
   },
   "file_extension": ".py",
   "mimetype": "text/x-python",
   "name": "python",
   "nbconvert_exporter": "python",
   "pygments_lexer": "ipython3",
   "version": "3.12.3"
  }
 },
 "nbformat": 4,
 "nbformat_minor": 5
}
