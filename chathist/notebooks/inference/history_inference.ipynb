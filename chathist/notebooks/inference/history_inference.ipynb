{
 "cells": [
  {
   "cell_type": "code",
   "execution_count": 1,
   "id": "024a1ee4",
   "metadata": {},
   "outputs": [],
   "source": [
    "import chathist\n",
    "from chathist import Model"
   ]
  },
  {
   "cell_type": "code",
   "execution_count": 2,
   "id": "3f58a79f",
   "metadata": {},
   "outputs": [
    {
     "name": "stderr",
     "output_type": "stream",
     "text": [
      "2025-05-19 17:57:30,197 - WARNING - train is not present in the config file, falling back to defaults!!!\n"
     ]
    }
   ],
   "source": [
    "chathist.config.load_config(config_path='conf/train', config_name=\"history\")"
   ]
  },
  {
   "cell_type": "code",
   "execution_count": 3,
   "id": "538e3177",
   "metadata": {},
   "outputs": [
    {
     "name": "stderr",
     "output_type": "stream",
     "text": [
      "2025-05-19 17:57:30,204 - INFO - Setting tokenizer using tiktoken with encoding: gpt2\n",
      "2025-05-19 17:57:31,250 - INFO - alpaca style chosen!!\n",
      "2025-05-19 17:57:31,896 - INFO - Using LoRA weights for ff layers!!\n",
      "2025-05-19 17:57:32,277 - INFO - Using LoRA weights for multi head layers!!\n",
      "2025-05-19 17:57:32,409 - INFO - Using LoRA weights for ff layers!!\n",
      "2025-05-19 17:57:32,490 - INFO - Using LoRA weights for multi head layers!!\n",
      "2025-05-19 17:57:32,608 - INFO - Using LoRA weights for ff layers!!\n",
      "2025-05-19 17:57:32,686 - INFO - Using LoRA weights for multi head layers!!\n",
      "2025-05-19 17:57:32,817 - INFO - Using LoRA weights for ff layers!!\n",
      "2025-05-19 17:57:32,893 - INFO - Using LoRA weights for multi head layers!!\n",
      "2025-05-19 17:57:33,033 - INFO - Using LoRA weights for ff layers!!\n",
      "2025-05-19 17:57:33,113 - INFO - Using LoRA weights for multi head layers!!\n",
      "2025-05-19 17:57:33,255 - INFO - Using LoRA weights for ff layers!!\n",
      "2025-05-19 17:57:33,332 - INFO - Using LoRA weights for multi head layers!!\n",
      "2025-05-19 17:57:33,466 - INFO - Using LoRA weights for ff layers!!\n",
      "2025-05-19 17:57:33,542 - INFO - Using LoRA weights for multi head layers!!\n",
      "2025-05-19 17:57:33,676 - INFO - Using LoRA weights for ff layers!!\n",
      "2025-05-19 17:57:33,757 - INFO - Using LoRA weights for multi head layers!!\n",
      "2025-05-19 17:57:33,896 - INFO - Using LoRA weights for ff layers!!\n",
      "2025-05-19 17:57:33,970 - INFO - Using LoRA weights for multi head layers!!\n",
      "2025-05-19 17:57:34,109 - INFO - Using LoRA weights for ff layers!!\n",
      "2025-05-19 17:57:34,185 - INFO - Using LoRA weights for multi head layers!!\n",
      "2025-05-19 17:57:34,319 - INFO - Using LoRA weights for ff layers!!\n",
      "2025-05-19 17:57:34,394 - INFO - Using LoRA weights for multi head layers!!\n",
      "2025-05-19 17:57:34,528 - INFO - Using LoRA weights for ff layers!!\n",
      "2025-05-19 17:57:34,605 - INFO - Using LoRA weights for multi head layers!!\n",
      "2025-05-19 17:57:34,740 - INFO - Using LoRA weights for ff layers!!\n",
      "2025-05-19 17:57:34,820 - INFO - Using LoRA weights for multi head layers!!\n",
      "2025-05-19 17:57:34,954 - INFO - Using LoRA weights for ff layers!!\n",
      "2025-05-19 17:57:35,026 - INFO - Using LoRA weights for multi head layers!!\n",
      "2025-05-19 17:57:35,144 - INFO - Using LoRA weights for ff layers!!\n",
      "2025-05-19 17:57:35,221 - INFO - Using LoRA weights for multi head layers!!\n",
      "2025-05-19 17:57:35,349 - INFO - Using LoRA weights for ff layers!!\n",
      "2025-05-19 17:57:35,422 - INFO - Using LoRA weights for multi head layers!!\n",
      "2025-05-19 17:57:35,536 - INFO - Using LoRA weights for ff layers!!\n",
      "2025-05-19 17:57:35,610 - INFO - Using LoRA weights for multi head layers!!\n",
      "2025-05-19 17:57:35,722 - INFO - Using LoRA weights for ff layers!!\n",
      "2025-05-19 17:57:35,797 - INFO - Using LoRA weights for multi head layers!!\n",
      "2025-05-19 17:57:35,910 - INFO - Using LoRA weights for ff layers!!\n",
      "2025-05-19 17:57:35,982 - INFO - Using LoRA weights for multi head layers!!\n",
      "2025-05-19 17:57:36,096 - INFO - Using LoRA weights for ff layers!!\n",
      "2025-05-19 17:57:36,169 - INFO - Using LoRA weights for multi head layers!!\n",
      "2025-05-19 17:57:36,282 - INFO - Using LoRA weights for ff layers!!\n",
      "2025-05-19 17:57:36,356 - INFO - Using LoRA weights for multi head layers!!\n",
      "2025-05-19 17:57:36,470 - INFO - Using LoRA weights for ff layers!!\n",
      "2025-05-19 17:57:36,544 - INFO - Using LoRA weights for multi head layers!!\n",
      "2025-05-19 17:57:36,659 - INFO - Using LoRA weights for ff layers!!\n",
      "2025-05-19 17:57:36,732 - INFO - Using LoRA weights for multi head layers!!\n",
      "2025-05-19 17:57:36,846 - INFO - Using LoRA weights for ff layers!!\n",
      "2025-05-19 17:57:36,918 - INFO - Using LoRA weights for multi head layers!!\n",
      "2025-05-19 17:57:37,031 - INFO - Using LoRA weights for ff layers!!\n",
      "2025-05-19 17:57:37,102 - INFO - Using LoRA weights for multi head layers!!\n",
      "2025-05-19 17:57:37,215 - INFO - Using LoRA weights for ff layers!!\n",
      "2025-05-19 17:57:37,288 - INFO - Using LoRA weights for multi head layers!!\n",
      "2025-05-19 17:57:37,401 - INFO - Using LoRA weights for ff layers!!\n",
      "2025-05-19 17:57:37,474 - INFO - Using LoRA weights for multi head layers!!\n",
      "2025-05-19 17:57:37,587 - INFO - Using LoRA weights for ff layers!!\n",
      "2025-05-19 17:57:37,659 - INFO - Using LoRA weights for multi head layers!!\n",
      "2025-05-19 17:57:37,771 - INFO - Using LoRA weights for ff layers!!\n",
      "2025-05-19 17:57:37,841 - INFO - Using LoRA weights for multi head layers!!\n",
      "2025-05-19 17:57:37,953 - INFO - Using LoRA weights for ff layers!!\n",
      "2025-05-19 17:57:38,026 - INFO - Using LoRA weights for multi head layers!!\n",
      "2025-05-19 17:57:38,138 - INFO - Using LoRA weights for ff layers!!\n",
      "2025-05-19 17:57:38,211 - INFO - Using LoRA weights for multi head layers!!\n",
      "2025-05-19 17:57:38,323 - INFO - Using LoRA weights for ff layers!!\n",
      "2025-05-19 17:57:38,396 - INFO - Using LoRA weights for multi head layers!!\n",
      "2025-05-19 17:57:38,509 - INFO - Using LoRA weights for ff layers!!\n",
      "2025-05-19 17:57:38,583 - INFO - Using LoRA weights for multi head layers!!\n",
      "2025-05-19 17:57:38,695 - INFO - Using LoRA weights for ff layers!!\n",
      "2025-05-19 17:57:38,768 - INFO - Using LoRA weights for multi head layers!!\n",
      "2025-05-19 17:57:38,881 - INFO - Using LoRA weights for ff layers!!\n",
      "2025-05-19 17:57:38,953 - INFO - Using LoRA weights for multi head layers!!\n",
      "2025-05-19 17:57:39,066 - INFO - Using LoRA weights for ff layers!!\n",
      "2025-05-19 17:57:39,138 - INFO - Using LoRA weights for multi head layers!!\n",
      "2025-05-19 17:57:39,250 - INFO - Using LoRA weights for ff layers!!\n",
      "2025-05-19 17:57:39,323 - INFO - Using LoRA weights for multi head layers!!\n",
      "2025-05-19 17:57:39,435 - INFO - Using LoRA weights for ff layers!!\n",
      "2025-05-19 17:57:39,508 - INFO - Using LoRA weights for multi head layers!!\n",
      "2025-05-19 17:57:39,620 - INFO - Using LoRA weights for ff layers!!\n",
      "2025-05-19 17:57:39,692 - INFO - Using LoRA weights for multi head layers!!\n",
      "2025-05-19 17:57:39,804 - INFO - Using LoRA weights for ff layers!!\n",
      "2025-05-19 17:57:39,876 - INFO - Using LoRA weights for multi head layers!!\n",
      "2025-05-19 17:57:39,987 - INFO - Using LoRA weights for ff layers!!\n",
      "2025-05-19 17:57:40,059 - INFO - Using LoRA weights for multi head layers!!\n",
      "2025-05-19 17:57:40,172 - INFO - Using LoRA weights for ff layers!!\n",
      "2025-05-19 17:57:40,244 - INFO - Using LoRA weights for multi head layers!!\n",
      "2025-05-19 17:57:40,356 - INFO - Using LoRA weights for ff layers!!\n",
      "2025-05-19 17:57:40,428 - INFO - Using LoRA weights for multi head layers!!\n",
      "2025-05-19 17:57:40,540 - INFO - Using LoRA weights for ff layers!!\n",
      "2025-05-19 17:57:40,616 - INFO - Using LoRA weights for multi head layers!!\n",
      "2025-05-19 17:57:40,729 - INFO - Using LoRA weights for ff layers!!\n",
      "2025-05-19 17:57:40,802 - INFO - Using LoRA weights for multi head layers!!\n",
      "2025-05-19 17:57:40,915 - INFO - Using LoRA weights for ff layers!!\n",
      "2025-05-19 17:57:40,987 - INFO - Using LoRA weights for multi head layers!!\n",
      "2025-05-19 17:57:41,099 - INFO - Using LoRA weights for ff layers!!\n",
      "2025-05-19 17:57:41,171 - INFO - Using LoRA weights for multi head layers!!\n",
      "2025-05-19 17:57:41,283 - INFO - Using LoRA weights for ff layers!!\n",
      "2025-05-19 17:57:41,355 - INFO - Using LoRA weights for multi head layers!!\n",
      "2025-05-19 17:57:41,776 - INFO - Using Lora for final output layer!!\n",
      "2025-05-19 17:57:41,787 - INFO - Trained model exists on saved path /home/smathad/ai_capstone/chathist/models/finetuned/gpt2-xl_indian_history_finetuned\n",
      "\n"
     ]
    }
   ],
   "source": [
    "history_model = Model()"
   ]
  },
  {
   "cell_type": "code",
   "execution_count": 6,
   "id": "7f217c27",
   "metadata": {},
   "outputs": [
    {
     "name": "stderr",
     "output_type": "stream",
     "text": [
      "2025-05-19 18:03:18,470 - INFO - Formatting prompt into alpaca style\n"
     ]
    },
    {
     "data": {
      "text/plain": [
       "'Bengal produced the finest quality of sugarcane during the Mughal period. Punjab and Orissa produced the best quality indigo during the'"
      ]
     },
     "execution_count": 6,
     "metadata": {},
     "output_type": "execute_result"
    }
   ],
   "source": [
    "history_model.generate(\"\"\"\n",
    "During the Mughal period, which region produced the finest quality of sugarcane? Which areas produced the best quality indigo during the Mughal period?\n",
    "\"\"\")"
   ]
  },
  {
   "cell_type": "code",
   "execution_count": null,
   "id": "f1ccbcb8",
   "metadata": {},
   "outputs": [],
   "source": []
  }
 ],
 "metadata": {
  "kernelspec": {
   "display_name": "venv",
   "language": "python",
   "name": "python3"
  },
  "language_info": {
   "codemirror_mode": {
    "name": "ipython",
    "version": 3
   },
   "file_extension": ".py",
   "mimetype": "text/x-python",
   "name": "python",
   "nbconvert_exporter": "python",
   "pygments_lexer": "ipython3",
   "version": "3.12.3"
  }
 },
 "nbformat": 4,
 "nbformat_minor": 5
}
