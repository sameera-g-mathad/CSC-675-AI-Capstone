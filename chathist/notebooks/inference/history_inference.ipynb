{
 "cells": [
  {
   "cell_type": "code",
   "execution_count": 1,
   "id": "024a1ee4",
   "metadata": {},
   "outputs": [],
   "source": [
    "import chathist\n",
    "from chathist import Model"
   ]
  },
  {
   "cell_type": "code",
   "execution_count": 2,
   "id": "3f58a79f",
   "metadata": {},
   "outputs": [
    {
     "name": "stderr",
     "output_type": "stream",
     "text": [
      "2025-06-01 20:01:12,008 - WARNING - train is not present in the config file, falling back to defaults!!!\n"
     ]
    }
   ],
   "source": [
    "chathist.config.load_config(config_path='conf/train', config_name=\"history\")"
   ]
  },
  {
   "cell_type": "code",
   "execution_count": 3,
   "id": "538e3177",
   "metadata": {},
   "outputs": [
    {
     "name": "stderr",
     "output_type": "stream",
     "text": [
      "2025-06-01 20:01:12,012 - INFO - Setting tokenizer using tiktoken with encoding: gpt2\n",
      "2025-06-01 20:01:12,166 - INFO - Device Selected: cpu\n",
      "2025-06-01 20:01:12,166 - INFO - alpaca style chosen!!\n",
      "2025-06-01 20:01:13,012 - INFO - Using LoRA weights for ff layers!!\n",
      "2025-06-01 20:01:13,042 - INFO - Using LoRA weights for multi head layers!!\n",
      "2025-06-01 20:01:13,099 - INFO - Using LoRA weights for ff layers!!\n",
      "2025-06-01 20:01:13,128 - INFO - Using LoRA weights for multi head layers!!\n",
      "2025-06-01 20:01:13,185 - INFO - Using LoRA weights for ff layers!!\n",
      "2025-06-01 20:01:13,214 - INFO - Using LoRA weights for multi head layers!!\n",
      "2025-06-01 20:01:13,270 - INFO - Using LoRA weights for ff layers!!\n",
      "2025-06-01 20:01:13,299 - INFO - Using LoRA weights for multi head layers!!\n",
      "2025-06-01 20:01:13,356 - INFO - Using LoRA weights for ff layers!!\n",
      "2025-06-01 20:01:13,385 - INFO - Using LoRA weights for multi head layers!!\n",
      "2025-06-01 20:01:13,441 - INFO - Using LoRA weights for ff layers!!\n",
      "2025-06-01 20:01:13,470 - INFO - Using LoRA weights for multi head layers!!\n",
      "2025-06-01 20:01:13,526 - INFO - Using LoRA weights for ff layers!!\n",
      "2025-06-01 20:01:13,555 - INFO - Using LoRA weights for multi head layers!!\n",
      "2025-06-01 20:01:13,610 - INFO - Using LoRA weights for ff layers!!\n",
      "2025-06-01 20:01:13,639 - INFO - Using LoRA weights for multi head layers!!\n",
      "2025-06-01 20:01:13,695 - INFO - Using LoRA weights for ff layers!!\n",
      "2025-06-01 20:01:13,724 - INFO - Using LoRA weights for multi head layers!!\n",
      "2025-06-01 20:01:13,780 - INFO - Using LoRA weights for ff layers!!\n",
      "2025-06-01 20:01:13,808 - INFO - Using LoRA weights for multi head layers!!\n",
      "2025-06-01 20:01:13,864 - INFO - Using LoRA weights for ff layers!!\n",
      "2025-06-01 20:01:13,892 - INFO - Using LoRA weights for multi head layers!!\n",
      "2025-06-01 20:01:13,948 - INFO - Using LoRA weights for ff layers!!\n",
      "2025-06-01 20:01:13,977 - INFO - Using LoRA weights for multi head layers!!\n",
      "2025-06-01 20:01:14,034 - INFO - Using LoRA weights for ff layers!!\n",
      "2025-06-01 20:01:14,063 - INFO - Using LoRA weights for multi head layers!!\n",
      "2025-06-01 20:01:14,120 - INFO - Using LoRA weights for ff layers!!\n",
      "2025-06-01 20:01:14,149 - INFO - Using LoRA weights for multi head layers!!\n",
      "2025-06-01 20:01:14,206 - INFO - Using LoRA weights for ff layers!!\n",
      "2025-06-01 20:01:14,236 - INFO - Using LoRA weights for multi head layers!!\n",
      "2025-06-01 20:01:14,293 - INFO - Using LoRA weights for ff layers!!\n",
      "2025-06-01 20:01:14,323 - INFO - Using LoRA weights for multi head layers!!\n",
      "2025-06-01 20:01:14,380 - INFO - Using LoRA weights for ff layers!!\n",
      "2025-06-01 20:01:14,409 - INFO - Using LoRA weights for multi head layers!!\n",
      "2025-06-01 20:01:14,465 - INFO - Using LoRA weights for ff layers!!\n",
      "2025-06-01 20:01:14,494 - INFO - Using LoRA weights for multi head layers!!\n",
      "2025-06-01 20:01:14,551 - INFO - Using LoRA weights for ff layers!!\n",
      "2025-06-01 20:01:14,580 - INFO - Using LoRA weights for multi head layers!!\n",
      "2025-06-01 20:01:14,635 - INFO - Using LoRA weights for ff layers!!\n",
      "2025-06-01 20:01:14,664 - INFO - Using LoRA weights for multi head layers!!\n",
      "2025-06-01 20:01:14,721 - INFO - Using LoRA weights for ff layers!!\n",
      "2025-06-01 20:01:14,750 - INFO - Using LoRA weights for multi head layers!!\n",
      "2025-06-01 20:01:14,807 - INFO - Using LoRA weights for ff layers!!\n",
      "2025-06-01 20:01:14,837 - INFO - Using LoRA weights for multi head layers!!\n",
      "2025-06-01 20:01:14,894 - INFO - Using LoRA weights for ff layers!!\n",
      "2025-06-01 20:01:14,924 - INFO - Using LoRA weights for multi head layers!!\n",
      "2025-06-01 20:01:14,981 - INFO - Using LoRA weights for ff layers!!\n",
      "2025-06-01 20:01:15,010 - INFO - Using LoRA weights for multi head layers!!\n",
      "2025-06-01 20:01:15,066 - INFO - Using LoRA weights for ff layers!!\n",
      "2025-06-01 20:01:15,096 - INFO - Using LoRA weights for multi head layers!!\n",
      "2025-06-01 20:01:15,152 - INFO - Using LoRA weights for ff layers!!\n",
      "2025-06-01 20:01:15,182 - INFO - Using LoRA weights for multi head layers!!\n",
      "2025-06-01 20:01:15,240 - INFO - Using LoRA weights for ff layers!!\n",
      "2025-06-01 20:01:15,269 - INFO - Using LoRA weights for multi head layers!!\n",
      "2025-06-01 20:01:15,325 - INFO - Using LoRA weights for ff layers!!\n",
      "2025-06-01 20:01:15,355 - INFO - Using LoRA weights for multi head layers!!\n",
      "2025-06-01 20:01:15,413 - INFO - Using LoRA weights for ff layers!!\n",
      "2025-06-01 20:01:15,443 - INFO - Using LoRA weights for multi head layers!!\n",
      "2025-06-01 20:01:15,499 - INFO - Using LoRA weights for ff layers!!\n",
      "2025-06-01 20:01:15,528 - INFO - Using LoRA weights for multi head layers!!\n",
      "2025-06-01 20:01:15,584 - INFO - Using LoRA weights for ff layers!!\n",
      "2025-06-01 20:01:15,612 - INFO - Using LoRA weights for multi head layers!!\n",
      "2025-06-01 20:01:15,669 - INFO - Using LoRA weights for ff layers!!\n",
      "2025-06-01 20:01:15,698 - INFO - Using LoRA weights for multi head layers!!\n",
      "2025-06-01 20:01:15,754 - INFO - Using LoRA weights for ff layers!!\n",
      "2025-06-01 20:01:15,783 - INFO - Using LoRA weights for multi head layers!!\n",
      "2025-06-01 20:01:15,839 - INFO - Using LoRA weights for ff layers!!\n",
      "2025-06-01 20:01:15,900 - INFO - Using LoRA weights for multi head layers!!\n",
      "2025-06-01 20:01:15,958 - INFO - Using LoRA weights for ff layers!!\n",
      "2025-06-01 20:01:15,987 - INFO - Using LoRA weights for multi head layers!!\n",
      "2025-06-01 20:01:16,045 - INFO - Using LoRA weights for ff layers!!\n",
      "2025-06-01 20:01:16,075 - INFO - Using LoRA weights for multi head layers!!\n",
      "2025-06-01 20:01:16,132 - INFO - Using LoRA weights for ff layers!!\n",
      "2025-06-01 20:01:16,160 - INFO - Using LoRA weights for multi head layers!!\n",
      "2025-06-01 20:01:16,218 - INFO - Using LoRA weights for ff layers!!\n",
      "2025-06-01 20:01:16,247 - INFO - Using LoRA weights for multi head layers!!\n",
      "2025-06-01 20:01:16,304 - INFO - Using LoRA weights for ff layers!!\n",
      "2025-06-01 20:01:16,333 - INFO - Using LoRA weights for multi head layers!!\n",
      "2025-06-01 20:01:16,389 - INFO - Using LoRA weights for ff layers!!\n",
      "2025-06-01 20:01:16,418 - INFO - Using LoRA weights for multi head layers!!\n",
      "2025-06-01 20:01:16,475 - INFO - Using LoRA weights for ff layers!!\n",
      "2025-06-01 20:01:16,504 - INFO - Using LoRA weights for multi head layers!!\n",
      "2025-06-01 20:01:16,561 - INFO - Using LoRA weights for ff layers!!\n",
      "2025-06-01 20:01:16,590 - INFO - Using LoRA weights for multi head layers!!\n",
      "2025-06-01 20:01:16,646 - INFO - Using LoRA weights for ff layers!!\n",
      "2025-06-01 20:01:16,675 - INFO - Using LoRA weights for multi head layers!!\n",
      "2025-06-01 20:01:16,731 - INFO - Using LoRA weights for ff layers!!\n",
      "2025-06-01 20:01:16,760 - INFO - Using LoRA weights for multi head layers!!\n",
      "2025-06-01 20:01:16,816 - INFO - Using LoRA weights for ff layers!!\n",
      "2025-06-01 20:01:16,845 - INFO - Using LoRA weights for multi head layers!!\n",
      "2025-06-01 20:01:16,900 - INFO - Using LoRA weights for ff layers!!\n",
      "2025-06-01 20:01:16,929 - INFO - Using LoRA weights for multi head layers!!\n",
      "2025-06-01 20:01:16,984 - INFO - Using LoRA weights for ff layers!!\n",
      "2025-06-01 20:01:17,013 - INFO - Using LoRA weights for multi head layers!!\n",
      "2025-06-01 20:01:17,070 - INFO - Using LoRA weights for ff layers!!\n",
      "2025-06-01 20:01:17,104 - INFO - Using LoRA weights for multi head layers!!\n",
      "2025-06-01 20:01:17,314 - INFO - Using Lora for final output layer!!\n",
      "2025-06-01 20:01:17,316 - INFO - Loading saved model on path /Users/sameergururajmathad/Documents/CSC - 675/AI Capstone/chathist/models/finetuned/gpt2-xl_indian_history_finetuned\n",
      "\n"
     ]
    }
   ],
   "source": [
    "history_model = Model()"
   ]
  },
  {
   "cell_type": "code",
   "execution_count": null,
   "id": "7f217c27",
   "metadata": {},
   "outputs": [
    {
     "name": "stderr",
     "output_type": "stream",
     "text": [
      "2025-06-01 20:01:46,461 - INFO - Formatting prompt into alpaca style\n"
     ]
    },
    {
     "name": "stdout",
     "output_type": "stream",
     "text": [
      "The Mahabharata was likely composed orally by bards known as sutas, who accompanied Kshatriya warriors to battlefields, reciting poems praising victories and heroes'"
     ]
    }
   ],
   "source": [
    "for token in history_model.generate(\"\"\"How was the Mahabharata originally composed?\"\"\"):\n",
    "    print(token, end='', flush=True)"
   ]
  },
  {
   "cell_type": "code",
   "execution_count": null,
   "id": "f1ccbcb8",
   "metadata": {},
   "outputs": [],
   "source": []
  }
 ],
 "metadata": {
  "kernelspec": {
   "display_name": "venv",
   "language": "python",
   "name": "python3"
  },
  "language_info": {
   "codemirror_mode": {
    "name": "ipython",
    "version": 3
   },
   "file_extension": ".py",
   "mimetype": "text/x-python",
   "name": "python",
   "nbconvert_exporter": "python",
   "pygments_lexer": "ipython3",
   "version": "3.12.0"
  }
 },
 "nbformat": 4,
 "nbformat_minor": 5
}
