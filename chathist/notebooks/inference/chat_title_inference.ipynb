{
 "cells": [
  {
   "cell_type": "code",
   "execution_count": 1,
   "id": "d1b5c5d3",
   "metadata": {},
   "outputs": [],
   "source": [
    "import chathist\n",
    "from chathist import Model"
   ]
  },
  {
   "cell_type": "code",
   "execution_count": 2,
   "id": "83c8c25f",
   "metadata": {},
   "outputs": [
    {
     "name": "stderr",
     "output_type": "stream",
     "text": [
      "2025-05-19 17:57:31,752 - WARNING - train is not present in the config file, falling back to defaults!!!\n"
     ]
    }
   ],
   "source": [
    "chathist.config.load_config(config_path=\"conf/train\", config_name=\"chat_title\")"
   ]
  },
  {
   "cell_type": "code",
   "execution_count": 3,
   "id": "06564b1a",
   "metadata": {},
   "outputs": [
    {
     "name": "stderr",
     "output_type": "stream",
     "text": [
      "2025-05-19 17:57:31,759 - INFO - Setting tokenizer using tiktoken with encoding: gpt2\n",
      "2025-05-19 17:57:31,940 - INFO - phi3 style chosen!!\n",
      "2025-05-19 17:57:32,311 - INFO - Using LoRA weights for ff layers!!\n",
      "2025-05-19 17:57:32,673 - INFO - Using LoRA weights for multi head layers!!\n",
      "2025-05-19 17:57:32,734 - INFO - Using LoRA weights for ff layers!!\n",
      "2025-05-19 17:57:32,780 - INFO - Using LoRA weights for multi head layers!!\n",
      "2025-05-19 17:57:32,841 - INFO - Using LoRA weights for ff layers!!\n",
      "2025-05-19 17:57:32,880 - INFO - Using LoRA weights for multi head layers!!\n",
      "2025-05-19 17:57:32,936 - INFO - Using LoRA weights for ff layers!!\n",
      "2025-05-19 17:57:32,971 - INFO - Using LoRA weights for multi head layers!!\n",
      "2025-05-19 17:57:33,027 - INFO - Using LoRA weights for ff layers!!\n",
      "2025-05-19 17:57:33,065 - INFO - Using LoRA weights for multi head layers!!\n",
      "2025-05-19 17:57:33,121 - INFO - Using LoRA weights for ff layers!!\n",
      "2025-05-19 17:57:33,156 - INFO - Using LoRA weights for multi head layers!!\n",
      "2025-05-19 17:57:33,212 - INFO - Using LoRA weights for ff layers!!\n",
      "2025-05-19 17:57:33,246 - INFO - Using LoRA weights for multi head layers!!\n",
      "2025-05-19 17:57:33,305 - INFO - Using LoRA weights for ff layers!!\n",
      "2025-05-19 17:57:33,341 - INFO - Using LoRA weights for multi head layers!!\n",
      "2025-05-19 17:57:33,397 - INFO - Using LoRA weights for ff layers!!\n",
      "2025-05-19 17:57:33,433 - INFO - Using LoRA weights for multi head layers!!\n",
      "2025-05-19 17:57:33,493 - INFO - Using LoRA weights for ff layers!!\n",
      "2025-05-19 17:57:33,528 - INFO - Using LoRA weights for multi head layers!!\n",
      "2025-05-19 17:57:33,584 - INFO - Using LoRA weights for ff layers!!\n",
      "2025-05-19 17:57:33,619 - INFO - Using LoRA weights for multi head layers!!\n",
      "2025-05-19 17:57:33,676 - INFO - Using LoRA weights for ff layers!!\n",
      "2025-05-19 17:57:33,720 - INFO - Using LoRA weights for multi head layers!!\n",
      "2025-05-19 17:57:33,776 - INFO - Using LoRA weights for ff layers!!\n",
      "2025-05-19 17:57:33,810 - INFO - Using LoRA weights for multi head layers!!\n",
      "2025-05-19 17:57:33,866 - INFO - Using LoRA weights for ff layers!!\n",
      "2025-05-19 17:57:33,905 - INFO - Using LoRA weights for multi head layers!!\n",
      "2025-05-19 17:57:33,964 - INFO - Using LoRA weights for ff layers!!\n",
      "2025-05-19 17:57:33,998 - INFO - Using LoRA weights for multi head layers!!\n",
      "2025-05-19 17:57:34,060 - INFO - Using LoRA weights for ff layers!!\n",
      "2025-05-19 17:57:34,095 - INFO - Using LoRA weights for multi head layers!!\n",
      "2025-05-19 17:57:34,154 - INFO - Using LoRA weights for ff layers!!\n",
      "2025-05-19 17:57:34,189 - INFO - Using LoRA weights for multi head layers!!\n",
      "2025-05-19 17:57:34,246 - INFO - Using LoRA weights for ff layers!!\n",
      "2025-05-19 17:57:34,282 - INFO - Using LoRA weights for multi head layers!!\n",
      "2025-05-19 17:57:34,351 - INFO - Using LoRA weights for ff layers!!\n",
      "2025-05-19 17:57:34,394 - INFO - Using LoRA weights for multi head layers!!\n",
      "2025-05-19 17:57:34,451 - INFO - Using LoRA weights for ff layers!!\n",
      "2025-05-19 17:57:34,487 - INFO - Using LoRA weights for multi head layers!!\n",
      "2025-05-19 17:57:34,548 - INFO - Using LoRA weights for ff layers!!\n",
      "2025-05-19 17:57:34,584 - INFO - Using LoRA weights for multi head layers!!\n",
      "2025-05-19 17:57:34,641 - INFO - Using LoRA weights for ff layers!!\n",
      "2025-05-19 17:57:34,676 - INFO - Using LoRA weights for multi head layers!!\n",
      "2025-05-19 17:57:34,733 - INFO - Using LoRA weights for ff layers!!\n",
      "2025-05-19 17:57:34,773 - INFO - Using LoRA weights for multi head layers!!\n",
      "2025-05-19 17:57:34,830 - INFO - Using LoRA weights for ff layers!!\n",
      "2025-05-19 17:57:34,865 - INFO - Using LoRA weights for multi head layers!!\n",
      "2025-05-19 17:57:35,177 - INFO - Using Lora for final output layer!!\n",
      "2025-05-19 17:57:35,187 - INFO - Trained model exists on saved path /home/smathad/ai_capstone/chathist/models/finetuned/gpt2-medium_chat_title_finetuned\n",
      "\n"
     ]
    }
   ],
   "source": [
    "title_model = Model()"
   ]
  },
  {
   "cell_type": "code",
   "execution_count": null,
   "id": "ff490b99",
   "metadata": {},
   "outputs": [
    {
     "name": "stderr",
     "output_type": "stream",
     "text": [
      "2025-05-19 18:01:42,303 - INFO - Formatting prompt into phi3 style\n"
     ]
    },
    {
     "data": {
      "text/plain": [
       "'Fix OpenAI Access Issue'"
      ]
     },
     "execution_count": 6,
     "metadata": {},
     "output_type": "execute_result"
    }
   ],
   "source": [
    "title_model.generate('''\n",
    "\n",
    "''')  # type: ignore"
   ]
  },
  {
   "cell_type": "code",
   "execution_count": null,
   "id": "2d10e6e6",
   "metadata": {},
   "outputs": [],
   "source": []
  }
 ],
 "metadata": {
  "kernelspec": {
   "display_name": "venv",
   "language": "python",
   "name": "python3"
  },
  "language_info": {
   "codemirror_mode": {
    "name": "ipython",
    "version": 3
   },
   "file_extension": ".py",
   "mimetype": "text/x-python",
   "name": "python",
   "nbconvert_exporter": "python",
   "pygments_lexer": "ipython3",
   "version": "3.12.3"
  }
 },
 "nbformat": 4,
 "nbformat_minor": 5
}
