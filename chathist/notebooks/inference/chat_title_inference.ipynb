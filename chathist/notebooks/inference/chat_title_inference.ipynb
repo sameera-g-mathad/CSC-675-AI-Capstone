{
 "cells": [
  {
   "cell_type": "code",
   "execution_count": 1,
   "id": "d1b5c5d3",
   "metadata": {},
   "outputs": [],
   "source": [
    "import chathist\n",
    "from chathist import Model"
   ]
  },
  {
   "cell_type": "code",
   "execution_count": 2,
   "id": "83c8c25f",
   "metadata": {},
   "outputs": [
    {
     "name": "stderr",
     "output_type": "stream",
     "text": [
      "2025-06-01 20:04:52,903 - WARNING - train is not present in the config file, falling back to defaults!!!\n"
     ]
    }
   ],
   "source": [
    "chathist.config.load_config(config_path=\"conf/train\", config_name=\"chat_title\")"
   ]
  },
  {
   "cell_type": "code",
   "execution_count": 3,
   "id": "06564b1a",
   "metadata": {},
   "outputs": [
    {
     "name": "stderr",
     "output_type": "stream",
     "text": [
      "2025-06-01 20:04:52,907 - INFO - Setting tokenizer using tiktoken with encoding: gpt2\n",
      "2025-06-01 20:04:53,026 - INFO - Device Selected: cpu\n",
      "2025-06-01 20:04:53,026 - INFO - phi3 style chosen!!\n",
      "2025-06-01 20:04:53,571 - INFO - Using LoRA weights for ff layers!!\n",
      "2025-06-01 20:04:53,587 - INFO - Using LoRA weights for multi head layers!!\n",
      "2025-06-01 20:04:53,612 - INFO - Using LoRA weights for ff layers!!\n",
      "2025-06-01 20:04:53,626 - INFO - Using LoRA weights for multi head layers!!\n",
      "2025-06-01 20:04:53,652 - INFO - Using LoRA weights for ff layers!!\n",
      "2025-06-01 20:04:53,666 - INFO - Using LoRA weights for multi head layers!!\n",
      "2025-06-01 20:04:53,691 - INFO - Using LoRA weights for ff layers!!\n",
      "2025-06-01 20:04:53,705 - INFO - Using LoRA weights for multi head layers!!\n",
      "2025-06-01 20:04:53,732 - INFO - Using LoRA weights for ff layers!!\n",
      "2025-06-01 20:04:53,745 - INFO - Using LoRA weights for multi head layers!!\n",
      "2025-06-01 20:04:53,772 - INFO - Using LoRA weights for ff layers!!\n",
      "2025-06-01 20:04:53,786 - INFO - Using LoRA weights for multi head layers!!\n",
      "2025-06-01 20:04:53,812 - INFO - Using LoRA weights for ff layers!!\n",
      "2025-06-01 20:04:53,825 - INFO - Using LoRA weights for multi head layers!!\n",
      "2025-06-01 20:04:53,851 - INFO - Using LoRA weights for ff layers!!\n",
      "2025-06-01 20:04:53,864 - INFO - Using LoRA weights for multi head layers!!\n",
      "2025-06-01 20:04:53,890 - INFO - Using LoRA weights for ff layers!!\n",
      "2025-06-01 20:04:53,903 - INFO - Using LoRA weights for multi head layers!!\n",
      "2025-06-01 20:04:53,929 - INFO - Using LoRA weights for ff layers!!\n",
      "2025-06-01 20:04:53,942 - INFO - Using LoRA weights for multi head layers!!\n",
      "2025-06-01 20:04:53,967 - INFO - Using LoRA weights for ff layers!!\n",
      "2025-06-01 20:04:53,980 - INFO - Using LoRA weights for multi head layers!!\n",
      "2025-06-01 20:04:54,005 - INFO - Using LoRA weights for ff layers!!\n",
      "2025-06-01 20:04:54,047 - INFO - Using LoRA weights for multi head layers!!\n",
      "2025-06-01 20:04:54,079 - INFO - Using LoRA weights for ff layers!!\n",
      "2025-06-01 20:04:54,093 - INFO - Using LoRA weights for multi head layers!!\n",
      "2025-06-01 20:04:54,118 - INFO - Using LoRA weights for ff layers!!\n",
      "2025-06-01 20:04:54,132 - INFO - Using LoRA weights for multi head layers!!\n",
      "2025-06-01 20:04:54,157 - INFO - Using LoRA weights for ff layers!!\n",
      "2025-06-01 20:04:54,171 - INFO - Using LoRA weights for multi head layers!!\n",
      "2025-06-01 20:04:54,197 - INFO - Using LoRA weights for ff layers!!\n",
      "2025-06-01 20:04:54,211 - INFO - Using LoRA weights for multi head layers!!\n",
      "2025-06-01 20:04:54,236 - INFO - Using LoRA weights for ff layers!!\n",
      "2025-06-01 20:04:54,250 - INFO - Using LoRA weights for multi head layers!!\n",
      "2025-06-01 20:04:54,394 - INFO - Using LoRA weights for ff layers!!\n",
      "2025-06-01 20:04:54,430 - INFO - Using LoRA weights for multi head layers!!\n",
      "2025-06-01 20:04:54,727 - INFO - Using LoRA weights for ff layers!!\n",
      "2025-06-01 20:04:54,941 - INFO - Using LoRA weights for multi head layers!!\n",
      "2025-06-01 20:04:55,072 - INFO - Using LoRA weights for ff layers!!\n",
      "2025-06-01 20:04:55,088 - INFO - Using LoRA weights for multi head layers!!\n",
      "2025-06-01 20:04:55,114 - INFO - Using LoRA weights for ff layers!!\n",
      "2025-06-01 20:04:55,129 - INFO - Using LoRA weights for multi head layers!!\n",
      "2025-06-01 20:04:55,154 - INFO - Using LoRA weights for ff layers!!\n",
      "2025-06-01 20:04:55,168 - INFO - Using LoRA weights for multi head layers!!\n",
      "2025-06-01 20:04:55,193 - INFO - Using LoRA weights for ff layers!!\n",
      "2025-06-01 20:04:55,206 - INFO - Using LoRA weights for multi head layers!!\n",
      "2025-06-01 20:04:55,231 - INFO - Using LoRA weights for ff layers!!\n",
      "2025-06-01 20:04:55,244 - INFO - Using LoRA weights for multi head layers!!\n",
      "2025-06-01 20:04:55,379 - INFO - Using Lora for final output layer!!\n",
      "2025-06-01 20:04:55,382 - INFO - Loading saved model on path /Users/sameergururajmathad/Documents/CSC - 675/AI Capstone/chathist/models/finetuned/gpt2-medium_chat_title_finetuned\n",
      "\n"
     ]
    }
   ],
   "source": [
    "title_model = Model()"
   ]
  },
  {
   "cell_type": "code",
   "execution_count": 6,
   "id": "ff490b99",
   "metadata": {},
   "outputs": [
    {
     "name": "stderr",
     "output_type": "stream",
     "text": [
      "2025-06-01 20:05:32,760 - INFO - Formatting prompt into phi3 style\n"
     ]
    },
    {
     "name": "stdout",
     "output_type": "stream",
     "text": [
      "Chatbot Assistance Assistance<|endoftext|>"
     ]
    }
   ],
   "source": [
    "for token in title_model.generate('''\n",
    "  Hello, I am a chatbot designed to assist you with various tasks.\n",
    "  I can help you with information, answer questions, and provide support.\n",
    "  Please feel free to ask me anything, and I will do my best to assist you.\n",
    "  If you need help with a specific topic, just let me know!\n",
    "'''):\n",
    "    print(token, end='')"
   ]
  },
  {
   "cell_type": "code",
   "execution_count": null,
   "id": "2d10e6e6",
   "metadata": {},
   "outputs": [],
   "source": []
  }
 ],
 "metadata": {
  "kernelspec": {
   "display_name": "venv",
   "language": "python",
   "name": "python3"
  },
  "language_info": {
   "codemirror_mode": {
    "name": "ipython",
    "version": 3
   },
   "file_extension": ".py",
   "mimetype": "text/x-python",
   "name": "python",
   "nbconvert_exporter": "python",
   "pygments_lexer": "ipython3",
   "version": "3.12.0"
  }
 },
 "nbformat": 4,
 "nbformat_minor": 5
}
